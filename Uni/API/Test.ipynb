{
 "cells": [
  {
   "cell_type": "code",
   "execution_count": null,
   "metadata": {},
   "outputs": [],
   "source": [
    "import pandas as pd\n",
    "from pandas.errors import EmptyDataError\n",
    "pd.errors.EmptyDataError"
   ]
  },
  {
   "cell_type": "code",
   "execution_count": 8,
   "metadata": {},
   "outputs": [],
   "source": [
    "import os\n",
    "all_texts = ''\n",
    "\n",
    "for file in os.listdir(r'D:\\Coding\\Uni\\API\\Download\\natural language processing'):\n",
    "    with open(f'D:\\\\Coding\\\\Uni\\\\API\\\\Download\\\\natural language processing\\\\{file}', 'r', encoding='utf-8') as f:\n",
    "        all_texts += f.read()\n",
    "\n",
    "with open(r'D:\\Coding\\Uni\\API\\Download\\natural language processing\\NLP output.txt', 'x', encoding='utf-8') as f:\n",
    "    f.write(all_texts)\n"
   ]
  },
  {
   "cell_type": "code",
   "execution_count": 14,
   "metadata": {},
   "outputs": [
    {
     "data": {
      "text/plain": [
       "91.0"
      ]
     },
     "execution_count": 14,
     "metadata": {},
     "output_type": "execute_result"
    }
   ],
   "source": [
    "a = lambda x, y: x*.7 + y*.3\n",
    "a(100, 70)"
   ]
  },
  {
   "cell_type": "code",
   "execution_count": 19,
   "metadata": {},
   "outputs": [
    {
     "data": {
      "text/html": [
       "<div>\n",
       "<style scoped>\n",
       "    .dataframe tbody tr th:only-of-type {\n",
       "        vertical-align: middle;\n",
       "    }\n",
       "\n",
       "    .dataframe tbody tr th {\n",
       "        vertical-align: top;\n",
       "    }\n",
       "\n",
       "    .dataframe thead th {\n",
       "        text-align: right;\n",
       "    }\n",
       "</style>\n",
       "<table border=\"1\" class=\"dataframe\">\n",
       "  <thead>\n",
       "    <tr style=\"text-align: right;\">\n",
       "      <th></th>\n",
       "      <th>index</th>\n",
       "      <th>SID</th>\n",
       "      <th>Last Name</th>\n",
       "      <th>First Name</th>\n",
       "      <th>Persian</th>\n",
       "    </tr>\n",
       "  </thead>\n",
       "  <tbody>\n",
       "    <tr>\n",
       "      <th>0</th>\n",
       "      <td>0</td>\n",
       "      <td>40207494</td>\n",
       "      <td>Abbaspour</td>\n",
       "      <td>Azadah</td>\n",
       "      <td>عباس پور</td>\n",
       "    </tr>\n",
       "    <tr>\n",
       "      <th>1</th>\n",
       "      <td>18</td>\n",
       "      <td>40201614</td>\n",
       "      <td>Abdollahi</td>\n",
       "      <td>Maedeh</td>\n",
       "      <td>عبدالهی</td>\n",
       "    </tr>\n",
       "    <tr>\n",
       "      <th>2</th>\n",
       "      <td>1</td>\n",
       "      <td>40202254</td>\n",
       "      <td>Arjmand</td>\n",
       "      <td>Parsa</td>\n",
       "      <td>ارجمند</td>\n",
       "    </tr>\n",
       "    <tr>\n",
       "      <th>3</th>\n",
       "      <td>2</td>\n",
       "      <td>40203314</td>\n",
       "      <td>Bahrami</td>\n",
       "      <td>Mahsa</td>\n",
       "      <td>بهرامی</td>\n",
       "    </tr>\n",
       "    <tr>\n",
       "      <th>4</th>\n",
       "      <td>3</td>\n",
       "      <td>40200975</td>\n",
       "      <td>Gholami</td>\n",
       "      <td>Mostafa</td>\n",
       "      <td>غلامی</td>\n",
       "    </tr>\n",
       "    <tr>\n",
       "      <th>5</th>\n",
       "      <td>4</td>\n",
       "      <td>40200085</td>\n",
       "      <td>Hafezi</td>\n",
       "      <td>Fahime</td>\n",
       "      <td>حافظی</td>\n",
       "    </tr>\n",
       "    <tr>\n",
       "      <th>6</th>\n",
       "      <td>5</td>\n",
       "      <td>40204634</td>\n",
       "      <td>Hosseinpour</td>\n",
       "      <td>Mahdi</td>\n",
       "      <td>حسین پور</td>\n",
       "    </tr>\n",
       "    <tr>\n",
       "      <th>7</th>\n",
       "      <td>6</td>\n",
       "      <td>40204074</td>\n",
       "      <td>Jabbari</td>\n",
       "      <td>Kiana</td>\n",
       "      <td>جباری</td>\n",
       "    </tr>\n",
       "    <tr>\n",
       "      <th>8</th>\n",
       "      <td>7</td>\n",
       "      <td>40204204</td>\n",
       "      <td>Jalali</td>\n",
       "      <td>Saeedeh</td>\n",
       "      <td>جلالی</td>\n",
       "    </tr>\n",
       "    <tr>\n",
       "      <th>9</th>\n",
       "      <td>8</td>\n",
       "      <td>40205264</td>\n",
       "      <td>Kharazmi</td>\n",
       "      <td>Amirali</td>\n",
       "      <td>خوارزمی</td>\n",
       "    </tr>\n",
       "    <tr>\n",
       "      <th>10</th>\n",
       "      <td>9</td>\n",
       "      <td>40204924</td>\n",
       "      <td>Khatami</td>\n",
       "      <td>Alireza</td>\n",
       "      <td>خاتمی</td>\n",
       "    </tr>\n",
       "    <tr>\n",
       "      <th>11</th>\n",
       "      <td>10</td>\n",
       "      <td>40209584</td>\n",
       "      <td>Matvaee</td>\n",
       "      <td>Amir</td>\n",
       "      <td>مطواعی</td>\n",
       "    </tr>\n",
       "    <tr>\n",
       "      <th>12</th>\n",
       "      <td>11</td>\n",
       "      <td>40209914</td>\n",
       "      <td>Moayedi</td>\n",
       "      <td>Sara</td>\n",
       "      <td>مویدی</td>\n",
       "    </tr>\n",
       "    <tr>\n",
       "      <th>13</th>\n",
       "      <td>12</td>\n",
       "      <td>40111334</td>\n",
       "      <td>Montazeran</td>\n",
       "      <td>Mahdi</td>\n",
       "      <td>منتظران</td>\n",
       "    </tr>\n",
       "    <tr>\n",
       "      <th>14</th>\n",
       "      <td>13</td>\n",
       "      <td>40206024</td>\n",
       "      <td>Ranjbaran</td>\n",
       "      <td>Mohammad Amin</td>\n",
       "      <td>رنجبران</td>\n",
       "    </tr>\n",
       "    <tr>\n",
       "      <th>15</th>\n",
       "      <td>14</td>\n",
       "      <td>40205774</td>\n",
       "      <td>Rostami</td>\n",
       "      <td>Hosna</td>\n",
       "      <td>رستمی</td>\n",
       "    </tr>\n",
       "    <tr>\n",
       "      <th>16</th>\n",
       "      <td>15</td>\n",
       "      <td>40106774</td>\n",
       "      <td>Sarani</td>\n",
       "      <td>Arezoo</td>\n",
       "      <td>سارانی</td>\n",
       "    </tr>\n",
       "    <tr>\n",
       "      <th>17</th>\n",
       "      <td>16</td>\n",
       "      <td>40210614</td>\n",
       "      <td>Vahidi</td>\n",
       "      <td>Motahare</td>\n",
       "      <td>وحیدی</td>\n",
       "    </tr>\n",
       "    <tr>\n",
       "      <th>18</th>\n",
       "      <td>17</td>\n",
       "      <td>40201854</td>\n",
       "      <td>Yahyaee</td>\n",
       "      <td>Alireza</td>\n",
       "      <td>یحیایی</td>\n",
       "    </tr>\n",
       "  </tbody>\n",
       "</table>\n",
       "</div>"
      ],
      "text/plain": [
       "    index       SID    Last Name     First Name   Persian\n",
       "0       0  40207494    Abbaspour         Azadah  عباس پور\n",
       "1      18  40201614    Abdollahi         Maedeh   عبدالهی\n",
       "2       1  40202254      Arjmand          Parsa    ارجمند\n",
       "3       2  40203314      Bahrami          Mahsa    بهرامی\n",
       "4       3  40200975      Gholami        Mostafa     غلامی\n",
       "5       4  40200085       Hafezi         Fahime     حافظی\n",
       "6       5  40204634  Hosseinpour          Mahdi  حسین پور\n",
       "7       6  40204074      Jabbari          Kiana     جباری\n",
       "8       7  40204204       Jalali        Saeedeh     جلالی\n",
       "9       8  40205264     Kharazmi        Amirali   خوارزمی\n",
       "10      9  40204924      Khatami        Alireza     خاتمی\n",
       "11     10  40209584      Matvaee           Amir    مطواعی\n",
       "12     11  40209914      Moayedi           Sara     مویدی\n",
       "13     12  40111334   Montazeran          Mahdi   منتظران\n",
       "14     13  40206024    Ranjbaran  Mohammad Amin   رنجبران\n",
       "15     14  40205774      Rostami          Hosna     رستمی\n",
       "16     15  40106774       Sarani         Arezoo    سارانی\n",
       "17     16  40210614       Vahidi       Motahare     وحیدی\n",
       "18     17  40201854      Yahyaee        Alireza    یحیایی"
      ]
     },
     "execution_count": 19,
     "metadata": {},
     "output_type": "execute_result"
    }
   ],
   "source": [
    "import os\n",
    "import pandas as pd\n",
    "\n",
    "# Sample student data\n",
    "student_data = {\n",
    "    \"SID\": [40207494, 40202254, 40203314, 40200975, 40200085, 40204634, 40204074, 40204204, 40205264, 40204924, 40209584, 40209914, 40111334, 40206024, 40205774, 40106774, 40210614, 40201854, 40201614],\n",
    "    \"Last Name\": [\"Abbaspour\", \"Arjmand\", \"Bahrami\", \"Gholami\", \"Hafezi\", \"Hosseinpour\", \"Jabbari\", \"Jalali\", \"Kharazmi\", \"Khatami\", \"Matvaee\", \"Moayedi\", \"Montazeran\", \"Ranjbaran\", \"Rostami\", \"Sarani\", \"Vahidi\", \"Yahyaee\", \"Abdollahi\"],\n",
    "    \"First Name\": [\"Azadah\", \"Parsa\", \"Mahsa\", \"Mostafa\", \"Fahime\", \"Mahdi\", \"Kiana\", \"Saeedeh\", \"Amirali\", \"Alireza\", \"Amir\", \"Sara\", \"Mahdi\", \"Mohammad Amin\", \"Hosna\", \"Arezoo\", \"Motahare\", \"Alireza\", \"Maedeh\"],\n",
    "    \"Persian\": [\"عباس پور\", \"ارجمند\", \"بهرامی\", \"غلامی\", \"حافظی\", \"حسین پور\", \"جباری\", \"جلالی\", \"خوارزمی\", \"خاتمی\", \"مطواعی\", \"مویدی\", \"منتظران\", \"رنجبران\", \"رستمی\", \"سارانی\", \"وحیدی\", \"یحیایی\", \"عبدالهی\"]\n",
    "}\n",
    "# Create a DataFrame from the student data\n",
    "students_df = pd.DataFrame(student_data)\n",
    "\n",
    "# Sort the DataFrame by Last Name and First Name\n",
    "students_df.sort_values(by=['Last Name']).reset_index()\n"
   ]
  },
  {
   "cell_type": "code",
   "execution_count": 4,
   "metadata": {},
   "outputs": [
    {
     "data": {
      "text/plain": [
       "['10.1016_j.ejor.2023.02.033',\n",
       " '10.1016_j.enbenv.2022.09.005',\n",
       " '10.1016_j.eswa.2023.121288',\n",
       " '10.1016_j.eswa.2023.121361',\n",
       " '10.1016_j.jep.2023.117107',\n",
       " '10.1016_j.jes.2022.10.050',\n",
       " '10.1016_j.jes.2022.11.024',\n",
       " '10.1016_j.jes.2023.02.014',\n",
       " '10.1016_j.jes.2023.02.025',\n",
       " '10.1016_j.jes.2023.02.026',\n",
       " '10.1016_j.jes.2023.02.049',\n",
       " '10.1016_j.jes.2023.02.058',\n",
       " '10.1016_j.jes.2023.03.038',\n",
       " '10.1016_j.jes.2023.04.031',\n",
       " '10.1016_j.jmst.2023.07.012',\n",
       " '10.1016_j.partic.2023.04.002',\n",
       " '10.1016_j.partic.2023.04.005',\n",
       " '10.1016_j.rcim.2023.102610']"
      ]
     },
     "execution_count": 4,
     "metadata": {},
     "output_type": "execute_result"
    }
   ],
   "source": [
    "import os\n",
    "[\n",
    "    file\n",
    "    for file in os.listdir(r\"D:\\Coding\\Uni\\API\\Download\\attention\\Cited by\")\n",
    "    if os.path.isdir(r'D:\\Coding\\Uni\\API\\Download\\attention\\Cited by\\{}'.format(file))\n",
    "]\n"
   ]
  },
  {
   "cell_type": "code",
   "execution_count": null,
   "metadata": {},
   "outputs": [],
   "source": [
    "students_df[\"SID\"]"
   ]
  },
  {
   "cell_type": "code",
   "execution_count": 2,
   "metadata": {},
   "outputs": [
    {
     "name": "stdout",
     "output_type": "stream",
     "text": [
      " 40207494     Abbaspour        Azadah       عباس پور \n"
     ]
    }
   ],
   "source": [
    "# Read data from the Excel file\n",
    "# students_df = pd.read_excel(\"Students.xlsx\")\n",
    "\n",
    "# Ask for the column name\n",
    "column_name = input(\"Enter the name for the new column: \")\n",
    "\n",
    "# Dictionary to store attendance information\n",
    "attendance = {}\n",
    "\n",
    "# Iterate through each student's information\n",
    "for index, student in students_df.iterrows():\n",
    "    print(f\"{student['SID']: ^10} {student['Last Name']: ^15} {student['First Name']: ^15} {student['Persian']: ^10}\")\n",
    "\n",
    "    # Ask for attendance input\n",
    "    attendance_input = input(\"Was the student present? (y/n): \").lower()\n",
    "    if attendance_input == \"y\":\n",
    "        attendance[student['SID']] = True\n",
    "    else:\n",
    "        attendance[student['SID']] = False\n",
    "\n",
    "# Calculate the number of students present\n",
    "num_present = sum(attendance.values())\n",
    "\n",
    "# Print absent students' Persian names\n",
    "absent_students = [student['Persian'] for sid, present in attendance.items() if not present]\n",
    "print(\"\\nAbsent Students (Persian Names):\")\n",
    "print(\"\\n\".join(absent_students))\n",
    "\n",
    "# Add a new column with provided name and Boolean values for attendance\n",
    "students_df[column_name] = students_df['SID'].map(attendance)\n",
    "\n",
    "# Save the updated DataFrame to the Excel file\n",
    "# students_df.to_excel(\"Students_with_Attendance.xlsx\", index=False)\n",
    "\n",
    "# Print the number of students present\n",
    "print(f\"\\nNumber of Students Present: {num_present}\")\n",
    "students_df"
   ]
  },
  {
   "cell_type": "code",
   "execution_count": 117,
   "metadata": {},
   "outputs": [],
   "source": [
    "import pandas as pd\n",
    "import os\n",
    "import numpy\n",
    "\n",
    "# for file in os.listdir():\n",
    "#     pd.read_csv(file, low_memory=False)\n",
    "import importlib\n",
    "import scopusScrap.scopusUtils as mine\n",
    "importlib.reload(mine)\n",
    "\n",
    "pd.set_option('display.max_colwidth', None)\n",
    "yo2 = mine.get_country_city_org()\n"
   ]
  },
  {
   "cell_type": "code",
   "execution_count": 134,
   "metadata": {},
   "outputs": [
    {
     "data": {
      "text/html": [
       "<div>\n",
       "<style scoped>\n",
       "    .dataframe tbody tr th:only-of-type {\n",
       "        vertical-align: middle;\n",
       "    }\n",
       "\n",
       "    .dataframe tbody tr th {\n",
       "        vertical-align: top;\n",
       "    }\n",
       "\n",
       "    .dataframe thead th {\n",
       "        text-align: right;\n",
       "    }\n",
       "</style>\n",
       "<table border=\"1\" class=\"dataframe\">\n",
       "  <thead>\n",
       "    <tr style=\"text-align: right;\">\n",
       "      <th></th>\n",
       "      <th>Authors</th>\n",
       "      <th>Author full names</th>\n",
       "      <th>Author(s) ID</th>\n",
       "      <th>Title</th>\n",
       "      <th>Year</th>\n",
       "      <th>Source title</th>\n",
       "      <th>Volume</th>\n",
       "      <th>Issue</th>\n",
       "      <th>Art. No.</th>\n",
       "      <th>Page start</th>\n",
       "      <th>...</th>\n",
       "      <th>CODEN</th>\n",
       "      <th>PubMed ID</th>\n",
       "      <th>Language of Original Document</th>\n",
       "      <th>Abbreviated Source Title</th>\n",
       "      <th>Document Type</th>\n",
       "      <th>Publication Stage</th>\n",
       "      <th>Open Access</th>\n",
       "      <th>Source</th>\n",
       "      <th>EID</th>\n",
       "      <th>Tagged Affiliations</th>\n",
       "    </tr>\n",
       "  </thead>\n",
       "  <tbody>\n",
       "    <tr>\n",
       "      <th>0</th>\n",
       "      <td>Chen J.; Chen Q.; Jiang F....</td>\n",
       "      <td>Chen, Jing (58169440000); ...</td>\n",
       "      <td>58169440000; 58169620800; ...</td>\n",
       "      <td>SCN_GNN: A GNN-based fraud...</td>\n",
       "      <td>2024</td>\n",
       "      <td>Expert Systems with Applic...</td>\n",
       "      <td>237</td>\n",
       "      <td>NaN</td>\n",
       "      <td>121643</td>\n",
       "      <td>NaN</td>\n",
       "      <td>...</td>\n",
       "      <td>ESAPE</td>\n",
       "      <td>NaN</td>\n",
       "      <td>English</td>\n",
       "      <td>Expert Sys Appl</td>\n",
       "      <td>Article</td>\n",
       "      <td>Final</td>\n",
       "      <td>NaN</td>\n",
       "      <td>Scopus</td>\n",
       "      <td>2-s2.0-85172739299</td>\n",
       "      <td>[[(Central South Universit...</td>\n",
       "    </tr>\n",
       "    <tr>\n",
       "      <th>...</th>\n",
       "      <td>...</td>\n",
       "      <td>...</td>\n",
       "      <td>...</td>\n",
       "      <td>...</td>\n",
       "      <td>...</td>\n",
       "      <td>...</td>\n",
       "      <td>...</td>\n",
       "      <td>...</td>\n",
       "      <td>...</td>\n",
       "      <td>...</td>\n",
       "      <td>...</td>\n",
       "      <td>...</td>\n",
       "      <td>...</td>\n",
       "      <td>...</td>\n",
       "      <td>...</td>\n",
       "      <td>...</td>\n",
       "      <td>...</td>\n",
       "      <td>...</td>\n",
       "      <td>...</td>\n",
       "      <td>...</td>\n",
       "      <td>...</td>\n",
       "    </tr>\n",
       "    <tr>\n",
       "      <th>999</th>\n",
       "      <td>Luo H.; Birjandi A.A.; Ren...</td>\n",
       "      <td>Luo, Huanyu (58192325100);...</td>\n",
       "      <td>58192325100; 57119822900; ...</td>\n",
       "      <td>Advances in oral mesenchym...</td>\n",
       "      <td>2024</td>\n",
       "      <td>Genes and Diseases</td>\n",
       "      <td>11</td>\n",
       "      <td>1</td>\n",
       "      <td>NaN</td>\n",
       "      <td>346.0</td>\n",
       "      <td>...</td>\n",
       "      <td>NaN</td>\n",
       "      <td>NaN</td>\n",
       "      <td>English</td>\n",
       "      <td>Genes Dis.</td>\n",
       "      <td>Review</td>\n",
       "      <td>Final</td>\n",
       "      <td>All Open Access; Gold Open...</td>\n",
       "      <td>Scopus</td>\n",
       "      <td>2-s2.0-85159919195</td>\n",
       "      <td>[[(Department of Oral Biol...</td>\n",
       "    </tr>\n",
       "  </tbody>\n",
       "</table>\n",
       "<p>1000 rows × 47 columns</p>\n",
       "</div>"
      ],
      "text/plain": [
       "                           Authors              Author full names  \\\n",
       "0    Chen J.; Chen Q.; Jiang F....  Chen, Jing (58169440000); ...   \n",
       "..                             ...                            ...   \n",
       "999  Luo H.; Birjandi A.A.; Ren...  Luo, Huanyu (58192325100);...   \n",
       "\n",
       "                      Author(s) ID                          Title  Year  \\\n",
       "0    58169440000; 58169620800; ...  SCN_GNN: A GNN-based fraud...  2024   \n",
       "..                             ...                            ...   ...   \n",
       "999  58192325100; 57119822900; ...  Advances in oral mesenchym...  2024   \n",
       "\n",
       "                      Source title Volume Issue Art. No.  Page start  ...  \\\n",
       "0    Expert Systems with Applic...    237   NaN   121643         NaN  ...   \n",
       "..                             ...    ...   ...      ...         ...  ...   \n",
       "999             Genes and Diseases     11     1      NaN       346.0  ...   \n",
       "\n",
       "     CODEN  PubMed ID  Language of Original Document Abbreviated Source Title  \\\n",
       "0    ESAPE        NaN                        English          Expert Sys Appl   \n",
       "..     ...        ...                            ...                      ...   \n",
       "999    NaN        NaN                        English               Genes Dis.   \n",
       "\n",
       "    Document Type Publication Stage                    Open Access  Source  \\\n",
       "0         Article             Final                            NaN  Scopus   \n",
       "..            ...               ...                            ...     ...   \n",
       "999        Review             Final  All Open Access; Gold Open...  Scopus   \n",
       "\n",
       "                    EID            Tagged Affiliations  \n",
       "0    2-s2.0-85172739299  [[(Central South Universit...  \n",
       "..                  ...                            ...  \n",
       "999  2-s2.0-85159919195  [[(Department of Oral Biol...  \n",
       "\n",
       "[1000 rows x 47 columns]"
      ]
     },
     "execution_count": 134,
     "metadata": {},
     "output_type": "execute_result"
    }
   ],
   "source": [
    "pd.set_option('display.max_rows', 2)\n",
    "pd.set_option('display.max_colwidth', 30)\n",
    "yo2"
   ]
  },
  {
   "cell_type": "code",
   "execution_count": 140,
   "metadata": {},
   "outputs": [
    {
     "ename": "UnicodeEncodeError",
     "evalue": "'latin-1' codec can't encode character '\\u2019' in position 1774: ordinal not in range(256)",
     "output_type": "error",
     "traceback": [
      "\u001b[1;31m---------------------------------------------------------------------------\u001b[0m",
      "\u001b[1;31mUnicodeEncodeError\u001b[0m                        Traceback (most recent call last)",
      "\u001b[1;32md:\\Coding\\Uni\\API\\Test.ipynb Cell 3\u001b[0m line \u001b[0;36m4\n\u001b[0;32m      <a href='vscode-notebook-cell:/d%3A/Coding/Uni/API/Test.ipynb#Y103sZmlsZQ%3D%3D?line=0'>1</a>\u001b[0m \u001b[39mimport\u001b[39;00m \u001b[39mcsv\u001b[39;00m\n\u001b[0;32m      <a href='vscode-notebook-cell:/d%3A/Coding/Uni/API/Test.ipynb#Y103sZmlsZQ%3D%3D?line=1'>2</a>\u001b[0m \u001b[39m# yo2.reset_index(drop=True, inplace=True)\u001b[39;00m\n\u001b[0;32m      <a href='vscode-notebook-cell:/d%3A/Coding/Uni/API/Test.ipynb#Y103sZmlsZQ%3D%3D?line=2'>3</a>\u001b[0m \u001b[39m# yo2.to_csv('yo.csv', encoding='utf-8', index=False)\u001b[39;00m\n\u001b[1;32m----> <a href='vscode-notebook-cell:/d%3A/Coding/Uni/API/Test.ipynb#Y103sZmlsZQ%3D%3D?line=3'>4</a>\u001b[0m yo2\u001b[39m.\u001b[39;49mto_csv(\u001b[39m'\u001b[39;49m\u001b[39moutput.csv\u001b[39;49m\u001b[39m'\u001b[39;49m, sep\u001b[39m=\u001b[39;49m\u001b[39m'\u001b[39;49m\u001b[39m,\u001b[39;49m\u001b[39m'\u001b[39;49m, encoding\u001b[39m=\u001b[39;49m\u001b[39m'\u001b[39;49m\u001b[39mISO-8859-1\u001b[39;49m\u001b[39m'\u001b[39;49m, index\u001b[39m=\u001b[39;49m\u001b[39mFalse\u001b[39;49;00m)\n\u001b[0;32m      <a href='vscode-notebook-cell:/d%3A/Coding/Uni/API/Test.ipynb#Y103sZmlsZQ%3D%3D?line=5'>6</a>\u001b[0m \u001b[39m# yo2.to_excel('output.xlsx', index=False)\u001b[39;00m\n",
      "File \u001b[1;32mc:\\Users\\AliApg\\AppData\\Local\\Programs\\Python\\Python310\\lib\\site-packages\\pandas\\util\\_decorators.py:211\u001b[0m, in \u001b[0;36mdeprecate_kwarg.<locals>._deprecate_kwarg.<locals>.wrapper\u001b[1;34m(*args, **kwargs)\u001b[0m\n\u001b[0;32m    209\u001b[0m     \u001b[39melse\u001b[39;00m:\n\u001b[0;32m    210\u001b[0m         kwargs[new_arg_name] \u001b[39m=\u001b[39m new_arg_value\n\u001b[1;32m--> 211\u001b[0m \u001b[39mreturn\u001b[39;00m func(\u001b[39m*\u001b[39margs, \u001b[39m*\u001b[39m\u001b[39m*\u001b[39mkwargs)\n",
      "File \u001b[1;32mc:\\Users\\AliApg\\AppData\\Local\\Programs\\Python\\Python310\\lib\\site-packages\\pandas\\core\\generic.py:3721\u001b[0m, in \u001b[0;36mNDFrame.to_csv\u001b[1;34m(self, path_or_buf, sep, na_rep, float_format, columns, header, index, index_label, mode, encoding, compression, quoting, quotechar, lineterminator, chunksize, date_format, doublequote, escapechar, decimal, errors, storage_options)\u001b[0m\n\u001b[0;32m   3710\u001b[0m df \u001b[39m=\u001b[39m \u001b[39mself\u001b[39m \u001b[39mif\u001b[39;00m \u001b[39misinstance\u001b[39m(\u001b[39mself\u001b[39m, ABCDataFrame) \u001b[39melse\u001b[39;00m \u001b[39mself\u001b[39m\u001b[39m.\u001b[39mto_frame()\n\u001b[0;32m   3712\u001b[0m formatter \u001b[39m=\u001b[39m DataFrameFormatter(\n\u001b[0;32m   3713\u001b[0m     frame\u001b[39m=\u001b[39mdf,\n\u001b[0;32m   3714\u001b[0m     header\u001b[39m=\u001b[39mheader,\n\u001b[1;32m   (...)\u001b[0m\n\u001b[0;32m   3718\u001b[0m     decimal\u001b[39m=\u001b[39mdecimal,\n\u001b[0;32m   3719\u001b[0m )\n\u001b[1;32m-> 3721\u001b[0m \u001b[39mreturn\u001b[39;00m DataFrameRenderer(formatter)\u001b[39m.\u001b[39;49mto_csv(\n\u001b[0;32m   3722\u001b[0m     path_or_buf,\n\u001b[0;32m   3723\u001b[0m     lineterminator\u001b[39m=\u001b[39;49mlineterminator,\n\u001b[0;32m   3724\u001b[0m     sep\u001b[39m=\u001b[39;49msep,\n\u001b[0;32m   3725\u001b[0m     encoding\u001b[39m=\u001b[39;49mencoding,\n\u001b[0;32m   3726\u001b[0m     errors\u001b[39m=\u001b[39;49merrors,\n\u001b[0;32m   3727\u001b[0m     compression\u001b[39m=\u001b[39;49mcompression,\n\u001b[0;32m   3728\u001b[0m     quoting\u001b[39m=\u001b[39;49mquoting,\n\u001b[0;32m   3729\u001b[0m     columns\u001b[39m=\u001b[39;49mcolumns,\n\u001b[0;32m   3730\u001b[0m     index_label\u001b[39m=\u001b[39;49mindex_label,\n\u001b[0;32m   3731\u001b[0m     mode\u001b[39m=\u001b[39;49mmode,\n\u001b[0;32m   3732\u001b[0m     chunksize\u001b[39m=\u001b[39;49mchunksize,\n\u001b[0;32m   3733\u001b[0m     quotechar\u001b[39m=\u001b[39;49mquotechar,\n\u001b[0;32m   3734\u001b[0m     date_format\u001b[39m=\u001b[39;49mdate_format,\n\u001b[0;32m   3735\u001b[0m     doublequote\u001b[39m=\u001b[39;49mdoublequote,\n\u001b[0;32m   3736\u001b[0m     escapechar\u001b[39m=\u001b[39;49mescapechar,\n\u001b[0;32m   3737\u001b[0m     storage_options\u001b[39m=\u001b[39;49mstorage_options,\n\u001b[0;32m   3738\u001b[0m )\n",
      "File \u001b[1;32mc:\\Users\\AliApg\\AppData\\Local\\Programs\\Python\\Python310\\lib\\site-packages\\pandas\\util\\_decorators.py:211\u001b[0m, in \u001b[0;36mdeprecate_kwarg.<locals>._deprecate_kwarg.<locals>.wrapper\u001b[1;34m(*args, **kwargs)\u001b[0m\n\u001b[0;32m    209\u001b[0m     \u001b[39melse\u001b[39;00m:\n\u001b[0;32m    210\u001b[0m         kwargs[new_arg_name] \u001b[39m=\u001b[39m new_arg_value\n\u001b[1;32m--> 211\u001b[0m \u001b[39mreturn\u001b[39;00m func(\u001b[39m*\u001b[39margs, \u001b[39m*\u001b[39m\u001b[39m*\u001b[39mkwargs)\n",
      "File \u001b[1;32mc:\\Users\\AliApg\\AppData\\Local\\Programs\\Python\\Python310\\lib\\site-packages\\pandas\\io\\formats\\format.py:1189\u001b[0m, in \u001b[0;36mDataFrameRenderer.to_csv\u001b[1;34m(self, path_or_buf, encoding, sep, columns, index_label, mode, compression, quoting, quotechar, lineterminator, chunksize, date_format, doublequote, escapechar, errors, storage_options)\u001b[0m\n\u001b[0;32m   1168\u001b[0m     created_buffer \u001b[39m=\u001b[39m \u001b[39mFalse\u001b[39;00m\n\u001b[0;32m   1170\u001b[0m csv_formatter \u001b[39m=\u001b[39m CSVFormatter(\n\u001b[0;32m   1171\u001b[0m     path_or_buf\u001b[39m=\u001b[39mpath_or_buf,\n\u001b[0;32m   1172\u001b[0m     lineterminator\u001b[39m=\u001b[39mlineterminator,\n\u001b[1;32m   (...)\u001b[0m\n\u001b[0;32m   1187\u001b[0m     formatter\u001b[39m=\u001b[39m\u001b[39mself\u001b[39m\u001b[39m.\u001b[39mfmt,\n\u001b[0;32m   1188\u001b[0m )\n\u001b[1;32m-> 1189\u001b[0m csv_formatter\u001b[39m.\u001b[39;49msave()\n\u001b[0;32m   1191\u001b[0m \u001b[39mif\u001b[39;00m created_buffer:\n\u001b[0;32m   1192\u001b[0m     \u001b[39massert\u001b[39;00m \u001b[39misinstance\u001b[39m(path_or_buf, StringIO)\n",
      "File \u001b[1;32mc:\\Users\\AliApg\\AppData\\Local\\Programs\\Python\\Python310\\lib\\site-packages\\pandas\\io\\formats\\csvs.py:261\u001b[0m, in \u001b[0;36mCSVFormatter.save\u001b[1;34m(self)\u001b[0m\n\u001b[0;32m    241\u001b[0m \u001b[39mwith\u001b[39;00m get_handle(\n\u001b[0;32m    242\u001b[0m     \u001b[39mself\u001b[39m\u001b[39m.\u001b[39mfilepath_or_buffer,\n\u001b[0;32m    243\u001b[0m     \u001b[39mself\u001b[39m\u001b[39m.\u001b[39mmode,\n\u001b[1;32m   (...)\u001b[0m\n\u001b[0;32m    249\u001b[0m \n\u001b[0;32m    250\u001b[0m     \u001b[39m# Note: self.encoding is irrelevant here\u001b[39;00m\n\u001b[0;32m    251\u001b[0m     \u001b[39mself\u001b[39m\u001b[39m.\u001b[39mwriter \u001b[39m=\u001b[39m csvlib\u001b[39m.\u001b[39mwriter(\n\u001b[0;32m    252\u001b[0m         handles\u001b[39m.\u001b[39mhandle,\n\u001b[0;32m    253\u001b[0m         lineterminator\u001b[39m=\u001b[39m\u001b[39mself\u001b[39m\u001b[39m.\u001b[39mlineterminator,\n\u001b[1;32m   (...)\u001b[0m\n\u001b[0;32m    258\u001b[0m         quotechar\u001b[39m=\u001b[39m\u001b[39mself\u001b[39m\u001b[39m.\u001b[39mquotechar,\n\u001b[0;32m    259\u001b[0m     )\n\u001b[1;32m--> 261\u001b[0m     \u001b[39mself\u001b[39;49m\u001b[39m.\u001b[39;49m_save()\n",
      "File \u001b[1;32mc:\\Users\\AliApg\\AppData\\Local\\Programs\\Python\\Python310\\lib\\site-packages\\pandas\\io\\formats\\csvs.py:266\u001b[0m, in \u001b[0;36mCSVFormatter._save\u001b[1;34m(self)\u001b[0m\n\u001b[0;32m    264\u001b[0m \u001b[39mif\u001b[39;00m \u001b[39mself\u001b[39m\u001b[39m.\u001b[39m_need_to_save_header:\n\u001b[0;32m    265\u001b[0m     \u001b[39mself\u001b[39m\u001b[39m.\u001b[39m_save_header()\n\u001b[1;32m--> 266\u001b[0m \u001b[39mself\u001b[39;49m\u001b[39m.\u001b[39;49m_save_body()\n",
      "File \u001b[1;32mc:\\Users\\AliApg\\AppData\\Local\\Programs\\Python\\Python310\\lib\\site-packages\\pandas\\io\\formats\\csvs.py:304\u001b[0m, in \u001b[0;36mCSVFormatter._save_body\u001b[1;34m(self)\u001b[0m\n\u001b[0;32m    302\u001b[0m \u001b[39mif\u001b[39;00m start_i \u001b[39m>\u001b[39m\u001b[39m=\u001b[39m end_i:\n\u001b[0;32m    303\u001b[0m     \u001b[39mbreak\u001b[39;00m\n\u001b[1;32m--> 304\u001b[0m \u001b[39mself\u001b[39;49m\u001b[39m.\u001b[39;49m_save_chunk(start_i, end_i)\n",
      "File \u001b[1;32mc:\\Users\\AliApg\\AppData\\Local\\Programs\\Python\\Python310\\lib\\site-packages\\pandas\\io\\formats\\csvs.py:315\u001b[0m, in \u001b[0;36mCSVFormatter._save_chunk\u001b[1;34m(self, start_i, end_i)\u001b[0m\n\u001b[0;32m    312\u001b[0m data \u001b[39m=\u001b[39m [res\u001b[39m.\u001b[39miget_values(i) \u001b[39mfor\u001b[39;00m i \u001b[39min\u001b[39;00m \u001b[39mrange\u001b[39m(\u001b[39mlen\u001b[39m(res\u001b[39m.\u001b[39mitems))]\n\u001b[0;32m    314\u001b[0m ix \u001b[39m=\u001b[39m \u001b[39mself\u001b[39m\u001b[39m.\u001b[39mdata_index[slicer]\u001b[39m.\u001b[39m_format_native_types(\u001b[39m*\u001b[39m\u001b[39m*\u001b[39m\u001b[39mself\u001b[39m\u001b[39m.\u001b[39m_number_format)\n\u001b[1;32m--> 315\u001b[0m libwriters\u001b[39m.\u001b[39;49mwrite_csv_rows(\n\u001b[0;32m    316\u001b[0m     data,\n\u001b[0;32m    317\u001b[0m     ix,\n\u001b[0;32m    318\u001b[0m     \u001b[39mself\u001b[39;49m\u001b[39m.\u001b[39;49mnlevels,\n\u001b[0;32m    319\u001b[0m     \u001b[39mself\u001b[39;49m\u001b[39m.\u001b[39;49mcols,\n\u001b[0;32m    320\u001b[0m     \u001b[39mself\u001b[39;49m\u001b[39m.\u001b[39;49mwriter,\n\u001b[0;32m    321\u001b[0m )\n",
      "File \u001b[1;32mc:\\Users\\AliApg\\AppData\\Local\\Programs\\Python\\Python310\\lib\\site-packages\\pandas\\_libs\\writers.pyx:72\u001b[0m, in \u001b[0;36mpandas._libs.writers.write_csv_rows\u001b[1;34m()\u001b[0m\n",
      "\u001b[1;31mUnicodeEncodeError\u001b[0m: 'latin-1' codec can't encode character '\\u2019' in position 1774: ordinal not in range(256)"
     ]
    }
   ],
   "source": [
    "import csv\n",
    "# yo2.reset_index(drop=True, inplace=True)\n",
    "# yo2.to_csv('yo.csv', encoding='utf-8', index=False)\n",
    "yo2.to_csv('output.csv', sep=',', encoding='ISO-8859-1', index=False)\n",
    "# yo2.to_excel('output.xlsx', index=False)\n"
   ]
  },
  {
   "cell_type": "code",
   "execution_count": 138,
   "metadata": {},
   "outputs": [],
   "source": [
    "import csv\n",
    "\n",
    "def save_to_csv(dataframe, filename):\n",
    "    with open(filename, 'w', encoding='utf-8', newline='') as csvfile:\n",
    "        fieldnames = dataframe.columns.tolist()  # Get column names as a list\n",
    "        csv_writer = csv.DictWriter(csvfile, fieldnames=fieldnames)\n",
    "        csv_writer.writeheader()  # Write header\n",
    "        for index, row in dataframe.iterrows():\n",
    "            csv_writer.writerow(row.to_dict())  # Write rows\n",
    "\n",
    "# Example usage\n",
    "save_to_csv(yo2, 'output.csv')\n"
   ]
  },
  {
   "cell_type": "code",
   "execution_count": 1,
   "metadata": {},
   "outputs": [
    {
     "name": "stderr",
     "output_type": "stream",
     "text": [
      "Traceback (most recent call last):\n",
      "  File \"_pydevd_bundle/pydevd_cython.pyx\", line 1134, in _pydevd_bundle.pydevd_cython.PyDBFrame.trace_dispatch\n",
      "  File \"_pydevd_bundle/pydevd_cython.pyx\", line 311, in _pydevd_bundle.pydevd_cython.PyDBFrame.do_wait_suspend\n",
      "  File \"C:\\Users\\AliApg\\AppData\\Roaming\\Python\\Python310\\site-packages\\debugpy\\_vendored\\pydevd\\pydevd.py\", line 2062, in do_wait_suspend\n",
      "    keep_suspended = self._do_wait_suspend(thread, frame, event, arg, suspend_type, from_this_thread, frames_tracker)\n",
      "  File \"C:\\Users\\AliApg\\AppData\\Roaming\\Python\\Python310\\site-packages\\debugpy\\_vendored\\pydevd\\pydevd.py\", line 2098, in _do_wait_suspend\n",
      "    time.sleep(0.01)\n",
      "KeyboardInterrupt\n"
     ]
    },
    {
     "ename": "KeyboardInterrupt",
     "evalue": "",
     "output_type": "error",
     "traceback": [
      "\u001b[1;31m---------------------------------------------------------------------------\u001b[0m",
      "\u001b[1;31mKeyboardInterrupt\u001b[0m                         Traceback (most recent call last)",
      "\u001b[1;32md:\\Coding\\Uni\\API\\Test.ipynb Cell 5\u001b[0m line \u001b[0;36m1\n\u001b[1;32m----> <a href='vscode-notebook-cell:/d%3A/Coding/Uni/API/Test.ipynb#W4sZmlsZQ%3D%3D?line=0'>1</a>\u001b[0m yo1 \u001b[39m=\u001b[39m pd\u001b[39m.\u001b[39mread_csv(\u001b[39m'\u001b[39m\u001b[39mattention//attention_1-1000.csv\u001b[39m\u001b[39m'\u001b[39m, low_memory\u001b[39m=\u001b[39m\u001b[39mFalse\u001b[39;00m)\n\u001b[0;32m      <a href='vscode-notebook-cell:/d%3A/Coding/Uni/API/Test.ipynb#W4sZmlsZQ%3D%3D?line=2'>3</a>\u001b[0m pd\u001b[39m.\u001b[39mset_option(\u001b[39m'\u001b[39m\u001b[39mdisplay.max_rows\u001b[39m\u001b[39m'\u001b[39m, \u001b[39m2\u001b[39m)\n\u001b[0;32m      <a href='vscode-notebook-cell:/d%3A/Coding/Uni/API/Test.ipynb#W4sZmlsZQ%3D%3D?line=3'>4</a>\u001b[0m \u001b[39m# pd.set_option('display.max_colwidth', 30)\u001b[39;00m\n",
      "\u001b[1;32md:\\Coding\\Uni\\API\\Test.ipynb Cell 5\u001b[0m line \u001b[0;36m1\n\u001b[1;32m----> <a href='vscode-notebook-cell:/d%3A/Coding/Uni/API/Test.ipynb#W4sZmlsZQ%3D%3D?line=0'>1</a>\u001b[0m yo1 \u001b[39m=\u001b[39m pd\u001b[39m.\u001b[39mread_csv(\u001b[39m'\u001b[39m\u001b[39mattention//attention_1-1000.csv\u001b[39m\u001b[39m'\u001b[39m, low_memory\u001b[39m=\u001b[39m\u001b[39mFalse\u001b[39;00m)\n\u001b[0;32m      <a href='vscode-notebook-cell:/d%3A/Coding/Uni/API/Test.ipynb#W4sZmlsZQ%3D%3D?line=2'>3</a>\u001b[0m pd\u001b[39m.\u001b[39mset_option(\u001b[39m'\u001b[39m\u001b[39mdisplay.max_rows\u001b[39m\u001b[39m'\u001b[39m, \u001b[39m2\u001b[39m)\n\u001b[0;32m      <a href='vscode-notebook-cell:/d%3A/Coding/Uni/API/Test.ipynb#W4sZmlsZQ%3D%3D?line=3'>4</a>\u001b[0m \u001b[39m# pd.set_option('display.max_colwidth', 30)\u001b[39;00m\n",
      "File \u001b[1;32m_pydevd_bundle/pydevd_cython.pyx:1443\u001b[0m, in \u001b[0;36m_pydevd_bundle.pydevd_cython.SafeCallWrapper.__call__\u001b[1;34m()\u001b[0m\n",
      "File \u001b[1;32m_pydevd_bundle/pydevd_cython.pyx:700\u001b[0m, in \u001b[0;36m_pydevd_bundle.pydevd_cython.PyDBFrame.trace_dispatch\u001b[1;34m()\u001b[0m\n",
      "File \u001b[1;32m_pydevd_bundle/pydevd_cython.pyx:1143\u001b[0m, in \u001b[0;36m_pydevd_bundle.pydevd_cython.PyDBFrame.trace_dispatch\u001b[1;34m()\u001b[0m\n",
      "File \u001b[1;32m_pydevd_bundle/pydevd_cython.pyx:1134\u001b[0m, in \u001b[0;36m_pydevd_bundle.pydevd_cython.PyDBFrame.trace_dispatch\u001b[1;34m()\u001b[0m\n",
      "File \u001b[1;32m_pydevd_bundle/pydevd_cython.pyx:311\u001b[0m, in \u001b[0;36m_pydevd_bundle.pydevd_cython.PyDBFrame.do_wait_suspend\u001b[1;34m()\u001b[0m\n",
      "File \u001b[1;32m~\\AppData\\Roaming\\Python\\Python310\\site-packages\\debugpy\\_vendored\\pydevd\\pydevd.py:2062\u001b[0m, in \u001b[0;36mPyDB.do_wait_suspend\u001b[1;34m(self, thread, frame, event, arg, exception_type)\u001b[0m\n\u001b[0;32m   2059\u001b[0m             from_this_thread\u001b[39m.\u001b[39mappend(frame_custom_thread_id)\n\u001b[0;32m   2061\u001b[0m     \u001b[39mwith\u001b[39;00m \u001b[39mself\u001b[39m\u001b[39m.\u001b[39m_threads_suspended_single_notification\u001b[39m.\u001b[39mnotify_thread_suspended(thread_id, stop_reason):\n\u001b[1;32m-> 2062\u001b[0m         keep_suspended \u001b[39m=\u001b[39m \u001b[39mself\u001b[39;49m\u001b[39m.\u001b[39;49m_do_wait_suspend(thread, frame, event, arg, suspend_type, from_this_thread, frames_tracker)\n\u001b[0;32m   2064\u001b[0m frames_list \u001b[39m=\u001b[39m \u001b[39mNone\u001b[39;00m\n\u001b[0;32m   2066\u001b[0m \u001b[39mif\u001b[39;00m keep_suspended:\n\u001b[0;32m   2067\u001b[0m     \u001b[39m# This means that we should pause again after a set next statement.\u001b[39;00m\n",
      "File \u001b[1;32m~\\AppData\\Roaming\\Python\\Python310\\site-packages\\debugpy\\_vendored\\pydevd\\pydevd.py:2098\u001b[0m, in \u001b[0;36mPyDB._do_wait_suspend\u001b[1;34m(self, thread, frame, event, arg, suspend_type, from_this_thread, frames_tracker)\u001b[0m\n\u001b[0;32m   2095\u001b[0m         \u001b[39mself\u001b[39m\u001b[39m.\u001b[39m_call_input_hook()\n\u001b[0;32m   2097\u001b[0m     \u001b[39mself\u001b[39m\u001b[39m.\u001b[39mprocess_internal_commands()\n\u001b[1;32m-> 2098\u001b[0m     time\u001b[39m.\u001b[39;49msleep(\u001b[39m0.01\u001b[39;49m)\n\u001b[0;32m   2100\u001b[0m \u001b[39mself\u001b[39m\u001b[39m.\u001b[39mcancel_async_evaluation(get_current_thread_id(thread), \u001b[39mstr\u001b[39m(\u001b[39mid\u001b[39m(frame)))\n\u001b[0;32m   2102\u001b[0m \u001b[39m# process any stepping instructions\u001b[39;00m\n",
      "\u001b[1;31mKeyboardInterrupt\u001b[0m: "
     ]
    }
   ],
   "source": [
    "yo1 = pd.read_csv('attention//attention_1-1000.csv', low_memory=False)\n",
    "\n",
    "pd.set_option('display.max_rows', 2)\n",
    "# pd.set_option('display.max_colwidth', 30)\n",
    "\n",
    "res = pd.merge(yo1, yo2, how='left')\n",
    "# res = yo2[yo2['Tagged Affiliations'].isna()]\n",
    "# res[['Affiliations', 'Tagged Affiliations']]\n",
    "type(yo2)"
   ]
  },
  {
   "cell_type": "code",
   "execution_count": 89,
   "metadata": {},
   "outputs": [
    {
     "data": {
      "text/plain": [
       "(1000, 46)"
      ]
     },
     "execution_count": 89,
     "metadata": {},
     "output_type": "execute_result"
    }
   ],
   "source": [
    "yo.drop_duplicates(subset=['EID']).shape\n"
   ]
  },
  {
   "cell_type": "code",
   "execution_count": 75,
   "metadata": {},
   "outputs": [
    {
     "data": {
      "text/html": [
       "<div>\n",
       "<style scoped>\n",
       "    .dataframe tbody tr th:only-of-type {\n",
       "        vertical-align: middle;\n",
       "    }\n",
       "\n",
       "    .dataframe tbody tr th {\n",
       "        vertical-align: top;\n",
       "    }\n",
       "\n",
       "    .dataframe thead th {\n",
       "        text-align: right;\n",
       "    }\n",
       "</style>\n",
       "<table border=\"1\" class=\"dataframe\">\n",
       "  <thead>\n",
       "    <tr style=\"text-align: right;\">\n",
       "      <th></th>\n",
       "      <th>data</th>\n",
       "      <th>value</th>\n",
       "    </tr>\n",
       "  </thead>\n",
       "  <tbody>\n",
       "    <tr>\n",
       "      <th>0</th>\n",
       "      <td>2</td>\n",
       "      <td>5</td>\n",
       "    </tr>\n",
       "    <tr>\n",
       "      <th>1</th>\n",
       "      <td>7</td>\n",
       "      <td>6</td>\n",
       "    </tr>\n",
       "    <tr>\n",
       "      <th>2</th>\n",
       "      <td>3</td>\n",
       "      <td>6</td>\n",
       "    </tr>\n",
       "  </tbody>\n",
       "</table>\n",
       "</div>"
      ],
      "text/plain": [
       "   data  value\n",
       "0     2      5\n",
       "1     7      6\n",
       "2     3      6"
      ]
     },
     "execution_count": 75,
     "metadata": {},
     "output_type": "execute_result"
    }
   ],
   "source": [
    "df1 = pd.DataFrame({'data' : [2,7,3],\n",
    "                    'value' : [5,6,6]})\n",
    "df1\n"
   ]
  },
  {
   "cell_type": "code",
   "execution_count": 77,
   "metadata": {},
   "outputs": [
    {
     "data": {
      "text/html": [
       "<div>\n",
       "<style scoped>\n",
       "    .dataframe tbody tr th:only-of-type {\n",
       "        vertical-align: middle;\n",
       "    }\n",
       "\n",
       "    .dataframe tbody tr th {\n",
       "        vertical-align: top;\n",
       "    }\n",
       "\n",
       "    .dataframe thead th {\n",
       "        text-align: right;\n",
       "    }\n",
       "</style>\n",
       "<table border=\"1\" class=\"dataframe\">\n",
       "  <thead>\n",
       "    <tr style=\"text-align: right;\">\n",
       "      <th></th>\n",
       "      <th>some</th>\n",
       "      <th>value</th>\n",
       "    </tr>\n",
       "  </thead>\n",
       "  <tbody>\n",
       "    <tr>\n",
       "      <th>0</th>\n",
       "      <td>1</td>\n",
       "      <td>4</td>\n",
       "    </tr>\n",
       "    <tr>\n",
       "      <th>1</th>\n",
       "      <td>3</td>\n",
       "      <td>6</td>\n",
       "    </tr>\n",
       "    <tr>\n",
       "      <th>2</th>\n",
       "      <td>8</td>\n",
       "      <td>6</td>\n",
       "    </tr>\n",
       "  </tbody>\n",
       "</table>\n",
       "</div>"
      ],
      "text/plain": [
       "   some  value\n",
       "0     1      4\n",
       "1     3      6\n",
       "2     8      6"
      ]
     },
     "execution_count": 77,
     "metadata": {},
     "output_type": "execute_result"
    }
   ],
   "source": [
    "df2 = pd.DataFrame({'some' : [1,3,8],\n",
    "                    'value' : [4,6,6]})\n",
    "df2\n"
   ]
  },
  {
   "cell_type": "code",
   "execution_count": 78,
   "metadata": {},
   "outputs": [
    {
     "data": {
      "text/html": [
       "<div>\n",
       "<style scoped>\n",
       "    .dataframe tbody tr th:only-of-type {\n",
       "        vertical-align: middle;\n",
       "    }\n",
       "\n",
       "    .dataframe tbody tr th {\n",
       "        vertical-align: top;\n",
       "    }\n",
       "\n",
       "    .dataframe thead th {\n",
       "        text-align: right;\n",
       "    }\n",
       "</style>\n",
       "<table border=\"1\" class=\"dataframe\">\n",
       "  <thead>\n",
       "    <tr style=\"text-align: right;\">\n",
       "      <th></th>\n",
       "      <th>data</th>\n",
       "      <th>value</th>\n",
       "      <th>some</th>\n",
       "    </tr>\n",
       "  </thead>\n",
       "  <tbody>\n",
       "    <tr>\n",
       "      <th>0</th>\n",
       "      <td>2</td>\n",
       "      <td>5</td>\n",
       "      <td>NaN</td>\n",
       "    </tr>\n",
       "    <tr>\n",
       "      <th>1</th>\n",
       "      <td>7</td>\n",
       "      <td>6</td>\n",
       "      <td>3.0</td>\n",
       "    </tr>\n",
       "    <tr>\n",
       "      <th>2</th>\n",
       "      <td>7</td>\n",
       "      <td>6</td>\n",
       "      <td>8.0</td>\n",
       "    </tr>\n",
       "    <tr>\n",
       "      <th>3</th>\n",
       "      <td>3</td>\n",
       "      <td>6</td>\n",
       "      <td>3.0</td>\n",
       "    </tr>\n",
       "    <tr>\n",
       "      <th>4</th>\n",
       "      <td>3</td>\n",
       "      <td>6</td>\n",
       "      <td>8.0</td>\n",
       "    </tr>\n",
       "  </tbody>\n",
       "</table>\n",
       "</div>"
      ],
      "text/plain": [
       "   data  value  some\n",
       "0     2      5   NaN\n",
       "1     7      6   3.0\n",
       "2     7      6   8.0\n",
       "3     3      6   3.0\n",
       "4     3      6   8.0"
      ]
     },
     "execution_count": 78,
     "metadata": {},
     "output_type": "execute_result"
    }
   ],
   "source": [
    "pd.merge(df1,df2, how='left')\n"
   ]
  },
  {
   "cell_type": "code",
   "execution_count": 50,
   "metadata": {},
   "outputs": [
    {
     "ename": "Py4JJavaError",
     "evalue": "An error occurred while calling None.org.apache.spark.api.java.JavaSparkContext.\n: java.lang.RuntimeException: java.io.FileNotFoundException: java.io.FileNotFoundException: HADOOP_HOME and hadoop.home.dir are unset. -see https://wiki.apache.org/hadoop/WindowsProblems\r\n\tat org.apache.hadoop.util.Shell.getWinUtilsPath(Shell.java:735)\r\n\tat org.apache.hadoop.util.Shell.getSetPermissionCommand(Shell.java:270)\r\n\tat org.apache.hadoop.fs.FileUtil.chmod(FileUtil.java:1139)\r\n\tat org.apache.hadoop.fs.FileUtil.chmod(FileUtil.java:1125)\r\n\tat org.apache.spark.util.Utils$.fetchFile(Utils.scala:489)\r\n\tat org.apache.spark.SparkContext.addFile(SparkContext.scala:1795)\r\n\tat org.apache.spark.SparkContext.$anonfun$new$16(SparkContext.scala:533)\r\n\tat org.apache.spark.SparkContext.$anonfun$new$16$adapted(SparkContext.scala:533)\r\n\tat scala.collection.immutable.List.foreach(List.scala:431)\r\n\tat org.apache.spark.SparkContext.<init>(SparkContext.scala:533)\r\n\tat org.apache.spark.api.java.JavaSparkContext.<init>(JavaSparkContext.scala:58)\r\n\tat sun.reflect.NativeConstructorAccessorImpl.newInstance0(Native Method)\r\n\tat sun.reflect.NativeConstructorAccessorImpl.newInstance(Unknown Source)\r\n\tat sun.reflect.DelegatingConstructorAccessorImpl.newInstance(Unknown Source)\r\n\tat java.lang.reflect.Constructor.newInstance(Unknown Source)\r\n\tat py4j.reflection.MethodInvoker.invoke(MethodInvoker.java:247)\r\n\tat py4j.reflection.ReflectionEngine.invoke(ReflectionEngine.java:374)\r\n\tat py4j.Gateway.invoke(Gateway.java:238)\r\n\tat py4j.commands.ConstructorCommand.invokeConstructor(ConstructorCommand.java:80)\r\n\tat py4j.commands.ConstructorCommand.execute(ConstructorCommand.java:69)\r\n\tat py4j.ClientServerConnection.waitForCommands(ClientServerConnection.java:182)\r\n\tat py4j.ClientServerConnection.run(ClientServerConnection.java:106)\r\n\tat java.lang.Thread.run(Unknown Source)\r\nCaused by: java.io.FileNotFoundException: java.io.FileNotFoundException: HADOOP_HOME and hadoop.home.dir are unset. -see https://wiki.apache.org/hadoop/WindowsProblems\r\n\tat org.apache.hadoop.util.Shell.fileNotFoundException(Shell.java:547)\r\n\tat org.apache.hadoop.util.Shell.getHadoopHomeDir(Shell.java:568)\r\n\tat org.apache.hadoop.util.Shell.getQualifiedBin(Shell.java:591)\r\n\tat org.apache.hadoop.util.Shell.<clinit>(Shell.java:688)\r\n\tat org.apache.hadoop.util.StringUtils.<clinit>(StringUtils.java:79)\r\n\tat org.apache.hadoop.conf.Configuration.getTimeDurationHelper(Configuration.java:1907)\r\n\tat org.apache.hadoop.conf.Configuration.getTimeDuration(Configuration.java:1867)\r\n\tat org.apache.hadoop.conf.Configuration.getTimeDuration(Configuration.java:1840)\r\n\tat org.apache.hadoop.util.ShutdownHookManager.getShutdownTimeout(ShutdownHookManager.java:183)\r\n\tat org.apache.hadoop.util.ShutdownHookManager$HookEntry.<init>(ShutdownHookManager.java:207)\r\n\tat org.apache.hadoop.util.ShutdownHookManager.addShutdownHook(ShutdownHookManager.java:304)\r\n\tat org.apache.spark.util.SparkShutdownHookManager.install(ShutdownHookManager.scala:181)\r\n\tat org.apache.spark.util.ShutdownHookManager$.shutdownHooks$lzycompute(ShutdownHookManager.scala:50)\r\n\tat org.apache.spark.util.ShutdownHookManager$.shutdownHooks(ShutdownHookManager.scala:48)\r\n\tat org.apache.spark.util.ShutdownHookManager$.addShutdownHook(ShutdownHookManager.scala:153)\r\n\tat org.apache.spark.util.ShutdownHookManager$.<init>(ShutdownHookManager.scala:58)\r\n\tat org.apache.spark.util.ShutdownHookManager$.<clinit>(ShutdownHookManager.scala)\r\n\tat org.apache.spark.util.Utils$.createTempDir(Utils.scala:242)\r\n\tat org.apache.spark.util.SparkFileUtils.createTempDir(SparkFileUtils.scala:103)\r\n\tat org.apache.spark.util.SparkFileUtils.createTempDir$(SparkFileUtils.scala:102)\r\n\tat org.apache.spark.util.Utils$.createTempDir(Utils.scala:94)\r\n\tat org.apache.spark.deploy.SparkSubmit.prepareSubmitEnvironment(SparkSubmit.scala:372)\r\n\tat org.apache.spark.deploy.SparkSubmit.org$apache$spark$deploy$SparkSubmit$$runMain(SparkSubmit.scala:964)\r\n\tat org.apache.spark.deploy.SparkSubmit.doRunMain$1(SparkSubmit.scala:194)\r\n\tat org.apache.spark.deploy.SparkSubmit.submit(SparkSubmit.scala:217)\r\n\tat org.apache.spark.deploy.SparkSubmit.doSubmit(SparkSubmit.scala:91)\r\n\tat org.apache.spark.deploy.SparkSubmit$$anon$2.doSubmit(SparkSubmit.scala:1120)\r\n\tat org.apache.spark.deploy.SparkSubmit$.main(SparkSubmit.scala:1129)\r\n\tat org.apache.spark.deploy.SparkSubmit.main(SparkSubmit.scala)\r\nCaused by: java.io.FileNotFoundException: HADOOP_HOME and hadoop.home.dir are unset.\r\n\tat org.apache.hadoop.util.Shell.checkHadoopHomeInner(Shell.java:467)\r\n\tat org.apache.hadoop.util.Shell.checkHadoopHome(Shell.java:438)\r\n\tat org.apache.hadoop.util.Shell.<clinit>(Shell.java:515)\r\n\t... 25 more\r\n",
     "output_type": "error",
     "traceback": [
      "\u001b[1;31m---------------------------------------------------------------------------\u001b[0m",
      "\u001b[1;31mPy4JJavaError\u001b[0m                             Traceback (most recent call last)",
      "\u001b[1;32md:\\Coding\\Uni\\API\\Test.ipynb Cell 2\u001b[0m line \u001b[0;36m4\n\u001b[0;32m      <a href='vscode-notebook-cell:/d%3A/Coding/Uni/API/Test.ipynb#X61sZmlsZQ%3D%3D?line=0'>1</a>\u001b[0m \u001b[39mimport\u001b[39;00m \u001b[39msparknlp\u001b[39;00m\n\u001b[0;32m      <a href='vscode-notebook-cell:/d%3A/Coding/Uni/API/Test.ipynb#X61sZmlsZQ%3D%3D?line=2'>3</a>\u001b[0m \u001b[39m# Start Spark Session\u001b[39;00m\n\u001b[1;32m----> <a href='vscode-notebook-cell:/d%3A/Coding/Uni/API/Test.ipynb#X61sZmlsZQ%3D%3D?line=3'>4</a>\u001b[0m spark \u001b[39m=\u001b[39m sparknlp\u001b[39m.\u001b[39;49mstart()\n\u001b[0;32m      <a href='vscode-notebook-cell:/d%3A/Coding/Uni/API/Test.ipynb#X61sZmlsZQ%3D%3D?line=5'>6</a>\u001b[0m \u001b[39m# Import the required modules and classes\u001b[39;00m\n\u001b[0;32m      <a href='vscode-notebook-cell:/d%3A/Coding/Uni/API/Test.ipynb#X61sZmlsZQ%3D%3D?line=6'>7</a>\u001b[0m \u001b[39mfrom\u001b[39;00m \u001b[39msparknlp\u001b[39;00m\u001b[39m.\u001b[39;00m\u001b[39mbase\u001b[39;00m \u001b[39mimport\u001b[39;00m DocumentAssembler, Pipeline, LightPipeline\n",
      "File \u001b[1;32mc:\\Users\\AliApg\\AppData\\Local\\Programs\\Python\\Python310\\lib\\site-packages\\sparknlp\\__init__.py:300\u001b[0m, in \u001b[0;36mstart\u001b[1;34m(gpu, apple_silicon, aarch64, memory, cache_folder, log_folder, cluster_tmp_dir, params, real_time_output, output_level)\u001b[0m\n\u001b[0;32m    298\u001b[0m     \u001b[39mreturn\u001b[39;00m SparkRealTimeOutput()\u001b[39m.\u001b[39mspark_session\n\u001b[0;32m    299\u001b[0m \u001b[39melse\u001b[39;00m:\n\u001b[1;32m--> 300\u001b[0m     spark_session \u001b[39m=\u001b[39m start_without_realtime_output()\n\u001b[0;32m    301\u001b[0m     \u001b[39mreturn\u001b[39;00m spark_session\n",
      "File \u001b[1;32mc:\\Users\\AliApg\\AppData\\Local\\Programs\\Python\\Python310\\lib\\site-packages\\sparknlp\\__init__.py:198\u001b[0m, in \u001b[0;36mstart.<locals>.start_without_realtime_output\u001b[1;34m()\u001b[0m\n\u001b[0;32m    195\u001b[0m     \u001b[39melse\u001b[39;00m:\n\u001b[0;32m    196\u001b[0m         builder\u001b[39m.\u001b[39mconfig(key, value)\n\u001b[1;32m--> 198\u001b[0m \u001b[39mreturn\u001b[39;00m builder\u001b[39m.\u001b[39;49mgetOrCreate()\n",
      "File \u001b[1;32mc:\\Users\\AliApg\\AppData\\Local\\Programs\\Python\\Python310\\lib\\site-packages\\pyspark\\sql\\session.py:497\u001b[0m, in \u001b[0;36mSparkSession.Builder.getOrCreate\u001b[1;34m(self)\u001b[0m\n\u001b[0;32m    495\u001b[0m     sparkConf\u001b[39m.\u001b[39mset(key, value)\n\u001b[0;32m    496\u001b[0m \u001b[39m# This SparkContext may be an existing one.\u001b[39;00m\n\u001b[1;32m--> 497\u001b[0m sc \u001b[39m=\u001b[39m SparkContext\u001b[39m.\u001b[39;49mgetOrCreate(sparkConf)\n\u001b[0;32m    498\u001b[0m \u001b[39m# Do not update `SparkConf` for existing `SparkContext`, as it's shared\u001b[39;00m\n\u001b[0;32m    499\u001b[0m \u001b[39m# by all sessions.\u001b[39;00m\n\u001b[0;32m    500\u001b[0m session \u001b[39m=\u001b[39m SparkSession(sc, options\u001b[39m=\u001b[39m\u001b[39mself\u001b[39m\u001b[39m.\u001b[39m_options)\n",
      "File \u001b[1;32mc:\\Users\\AliApg\\AppData\\Local\\Programs\\Python\\Python310\\lib\\site-packages\\pyspark\\context.py:515\u001b[0m, in \u001b[0;36mSparkContext.getOrCreate\u001b[1;34m(cls, conf)\u001b[0m\n\u001b[0;32m    513\u001b[0m \u001b[39mwith\u001b[39;00m SparkContext\u001b[39m.\u001b[39m_lock:\n\u001b[0;32m    514\u001b[0m     \u001b[39mif\u001b[39;00m SparkContext\u001b[39m.\u001b[39m_active_spark_context \u001b[39mis\u001b[39;00m \u001b[39mNone\u001b[39;00m:\n\u001b[1;32m--> 515\u001b[0m         SparkContext(conf\u001b[39m=\u001b[39;49mconf \u001b[39mor\u001b[39;49;00m SparkConf())\n\u001b[0;32m    516\u001b[0m     \u001b[39massert\u001b[39;00m SparkContext\u001b[39m.\u001b[39m_active_spark_context \u001b[39mis\u001b[39;00m \u001b[39mnot\u001b[39;00m \u001b[39mNone\u001b[39;00m\n\u001b[0;32m    517\u001b[0m     \u001b[39mreturn\u001b[39;00m SparkContext\u001b[39m.\u001b[39m_active_spark_context\n",
      "File \u001b[1;32mc:\\Users\\AliApg\\AppData\\Local\\Programs\\Python\\Python310\\lib\\site-packages\\pyspark\\context.py:203\u001b[0m, in \u001b[0;36mSparkContext.__init__\u001b[1;34m(self, master, appName, sparkHome, pyFiles, environment, batchSize, serializer, conf, gateway, jsc, profiler_cls, udf_profiler_cls, memory_profiler_cls)\u001b[0m\n\u001b[0;32m    201\u001b[0m SparkContext\u001b[39m.\u001b[39m_ensure_initialized(\u001b[39mself\u001b[39m, gateway\u001b[39m=\u001b[39mgateway, conf\u001b[39m=\u001b[39mconf)\n\u001b[0;32m    202\u001b[0m \u001b[39mtry\u001b[39;00m:\n\u001b[1;32m--> 203\u001b[0m     \u001b[39mself\u001b[39;49m\u001b[39m.\u001b[39;49m_do_init(\n\u001b[0;32m    204\u001b[0m         master,\n\u001b[0;32m    205\u001b[0m         appName,\n\u001b[0;32m    206\u001b[0m         sparkHome,\n\u001b[0;32m    207\u001b[0m         pyFiles,\n\u001b[0;32m    208\u001b[0m         environment,\n\u001b[0;32m    209\u001b[0m         batchSize,\n\u001b[0;32m    210\u001b[0m         serializer,\n\u001b[0;32m    211\u001b[0m         conf,\n\u001b[0;32m    212\u001b[0m         jsc,\n\u001b[0;32m    213\u001b[0m         profiler_cls,\n\u001b[0;32m    214\u001b[0m         udf_profiler_cls,\n\u001b[0;32m    215\u001b[0m         memory_profiler_cls,\n\u001b[0;32m    216\u001b[0m     )\n\u001b[0;32m    217\u001b[0m \u001b[39mexcept\u001b[39;00m \u001b[39mBaseException\u001b[39;00m:\n\u001b[0;32m    218\u001b[0m     \u001b[39m# If an error occurs, clean up in order to allow future SparkContext creation:\u001b[39;00m\n\u001b[0;32m    219\u001b[0m     \u001b[39mself\u001b[39m\u001b[39m.\u001b[39mstop()\n",
      "File \u001b[1;32mc:\\Users\\AliApg\\AppData\\Local\\Programs\\Python\\Python310\\lib\\site-packages\\pyspark\\context.py:296\u001b[0m, in \u001b[0;36mSparkContext._do_init\u001b[1;34m(self, master, appName, sparkHome, pyFiles, environment, batchSize, serializer, conf, jsc, profiler_cls, udf_profiler_cls, memory_profiler_cls)\u001b[0m\n\u001b[0;32m    293\u001b[0m \u001b[39mself\u001b[39m\u001b[39m.\u001b[39menvironment[\u001b[39m\"\u001b[39m\u001b[39mPYTHONHASHSEED\u001b[39m\u001b[39m\"\u001b[39m] \u001b[39m=\u001b[39m os\u001b[39m.\u001b[39menviron\u001b[39m.\u001b[39mget(\u001b[39m\"\u001b[39m\u001b[39mPYTHONHASHSEED\u001b[39m\u001b[39m\"\u001b[39m, \u001b[39m\"\u001b[39m\u001b[39m0\u001b[39m\u001b[39m\"\u001b[39m)\n\u001b[0;32m    295\u001b[0m \u001b[39m# Create the Java SparkContext through Py4J\u001b[39;00m\n\u001b[1;32m--> 296\u001b[0m \u001b[39mself\u001b[39m\u001b[39m.\u001b[39m_jsc \u001b[39m=\u001b[39m jsc \u001b[39mor\u001b[39;00m \u001b[39mself\u001b[39;49m\u001b[39m.\u001b[39;49m_initialize_context(\u001b[39mself\u001b[39;49m\u001b[39m.\u001b[39;49m_conf\u001b[39m.\u001b[39;49m_jconf)\n\u001b[0;32m    297\u001b[0m \u001b[39m# Reset the SparkConf to the one actually used by the SparkContext in JVM.\u001b[39;00m\n\u001b[0;32m    298\u001b[0m \u001b[39mself\u001b[39m\u001b[39m.\u001b[39m_conf \u001b[39m=\u001b[39m SparkConf(_jconf\u001b[39m=\u001b[39m\u001b[39mself\u001b[39m\u001b[39m.\u001b[39m_jsc\u001b[39m.\u001b[39msc()\u001b[39m.\u001b[39mconf())\n",
      "File \u001b[1;32mc:\\Users\\AliApg\\AppData\\Local\\Programs\\Python\\Python310\\lib\\site-packages\\pyspark\\context.py:421\u001b[0m, in \u001b[0;36mSparkContext._initialize_context\u001b[1;34m(self, jconf)\u001b[0m\n\u001b[0;32m    417\u001b[0m \u001b[39m\u001b[39m\u001b[39m\"\"\"\u001b[39;00m\n\u001b[0;32m    418\u001b[0m \u001b[39mInitialize SparkContext in function to allow subclass specific initialization\u001b[39;00m\n\u001b[0;32m    419\u001b[0m \u001b[39m\"\"\"\u001b[39;00m\n\u001b[0;32m    420\u001b[0m \u001b[39massert\u001b[39;00m \u001b[39mself\u001b[39m\u001b[39m.\u001b[39m_jvm \u001b[39mis\u001b[39;00m \u001b[39mnot\u001b[39;00m \u001b[39mNone\u001b[39;00m\n\u001b[1;32m--> 421\u001b[0m \u001b[39mreturn\u001b[39;00m \u001b[39mself\u001b[39;49m\u001b[39m.\u001b[39;49m_jvm\u001b[39m.\u001b[39;49mJavaSparkContext(jconf)\n",
      "File \u001b[1;32mc:\\Users\\AliApg\\AppData\\Local\\Programs\\Python\\Python310\\lib\\site-packages\\py4j\\java_gateway.py:1587\u001b[0m, in \u001b[0;36m__call__\u001b[1;34m(self, *args)\u001b[0m\n\u001b[0;32m   1577\u001b[0m \u001b[39mclass\u001b[39;00m \u001b[39mUserHelpAutoCompletion\u001b[39;00m(\u001b[39mobject\u001b[39m):\n\u001b[0;32m   1578\u001b[0m \u001b[39m    \u001b[39m\u001b[39m\"\"\"\u001b[39;00m\n\u001b[0;32m   1579\u001b[0m \u001b[39m    Type a package name or a class name.\u001b[39;00m\n\u001b[0;32m   1580\u001b[0m \n\u001b[0;32m   1581\u001b[0m \u001b[39m    For example with a JVMView called view:\u001b[39;00m\n\u001b[0;32m   1582\u001b[0m \u001b[39m    >>> o = view.Object() # create a java.lang.Object\u001b[39;00m\n\u001b[0;32m   1583\u001b[0m \u001b[39m    >>> random = view.jvm.java.util.Random() # create a java.util.Random\u001b[39;00m\n\u001b[0;32m   1584\u001b[0m \n\u001b[0;32m   1585\u001b[0m \u001b[39m    The default JVMView is in the gateway and is called:\u001b[39;00m\n\u001b[0;32m   1586\u001b[0m \u001b[39m    >>> gateway.jvm\u001b[39;00m\n\u001b[1;32m-> 1587\u001b[0m \n\u001b[0;32m   1588\u001b[0m \u001b[39m    By default, java.lang.* is available in the view. To\u001b[39;00m\n\u001b[0;32m   1589\u001b[0m \u001b[39m    add additional Classes/Packages, do:\u001b[39;00m\n\u001b[0;32m   1590\u001b[0m \u001b[39m    >>> from py4j.java_gateway import java_import\u001b[39;00m\n\u001b[0;32m   1591\u001b[0m \u001b[39m    >>> java_import(gateway.jvm, \"com.example.Class1\")\u001b[39;00m\n\u001b[0;32m   1592\u001b[0m \u001b[39m    >>> instance = gateway.jvm.Class1()\u001b[39;00m\n\u001b[0;32m   1593\u001b[0m \n\u001b[0;32m   1594\u001b[0m \u001b[39m    Package and class completions are only available for\u001b[39;00m\n\u001b[0;32m   1595\u001b[0m \u001b[39m    explicitly imported Java classes. For example, if you\u001b[39;00m\n\u001b[0;32m   1596\u001b[0m \u001b[39m    java_import(gateway.jvm, \"com.example.Class1\")\u001b[39;00m\n\u001b[0;32m   1597\u001b[0m \u001b[39m    then Class1 will appear in the completions.\u001b[39;00m\n\u001b[0;32m   1598\u001b[0m \u001b[39m    \"\"\"\u001b[39;00m\n\u001b[0;32m   1599\u001b[0m     KEY \u001b[39m=\u001b[39m \u001b[39m\"\u001b[39m\u001b[39m<package or class name>\u001b[39m\u001b[39m\"\u001b[39m\n",
      "File \u001b[1;32mc:\\Users\\AliApg\\AppData\\Local\\Programs\\Python\\Python310\\lib\\site-packages\\py4j\\protocol.py:326\u001b[0m, in \u001b[0;36mget_return_value\u001b[1;34m(answer, gateway_client, target_id, name)\u001b[0m\n\u001b[0;32m    324\u001b[0m value \u001b[39m=\u001b[39m OUTPUT_CONVERTER[\u001b[39mtype\u001b[39m](answer[\u001b[39m2\u001b[39m:], gateway_client)\n\u001b[0;32m    325\u001b[0m \u001b[39mif\u001b[39;00m answer[\u001b[39m1\u001b[39m] \u001b[39m==\u001b[39m REFERENCE_TYPE:\n\u001b[1;32m--> 326\u001b[0m     \u001b[39mraise\u001b[39;00m Py4JJavaError(\n\u001b[0;32m    327\u001b[0m         \u001b[39m\"\u001b[39m\u001b[39mAn error occurred while calling \u001b[39m\u001b[39m{0}\u001b[39;00m\u001b[39m{1}\u001b[39;00m\u001b[39m{2}\u001b[39;00m\u001b[39m.\u001b[39m\u001b[39m\\n\u001b[39;00m\u001b[39m\"\u001b[39m\u001b[39m.\u001b[39m\n\u001b[0;32m    328\u001b[0m         \u001b[39mformat\u001b[39m(target_id, \u001b[39m\"\u001b[39m\u001b[39m.\u001b[39m\u001b[39m\"\u001b[39m, name), value)\n\u001b[0;32m    329\u001b[0m \u001b[39melse\u001b[39;00m:\n\u001b[0;32m    330\u001b[0m     \u001b[39mraise\u001b[39;00m Py4JError(\n\u001b[0;32m    331\u001b[0m         \u001b[39m\"\u001b[39m\u001b[39mAn error occurred while calling \u001b[39m\u001b[39m{0}\u001b[39;00m\u001b[39m{1}\u001b[39;00m\u001b[39m{2}\u001b[39;00m\u001b[39m. Trace:\u001b[39m\u001b[39m\\n\u001b[39;00m\u001b[39m{3}\u001b[39;00m\u001b[39m\\n\u001b[39;00m\u001b[39m\"\u001b[39m\u001b[39m.\u001b[39m\n\u001b[0;32m    332\u001b[0m         \u001b[39mformat\u001b[39m(target_id, \u001b[39m\"\u001b[39m\u001b[39m.\u001b[39m\u001b[39m\"\u001b[39m, name, value))\n",
      "\u001b[1;31mPy4JJavaError\u001b[0m: An error occurred while calling None.org.apache.spark.api.java.JavaSparkContext.\n: java.lang.RuntimeException: java.io.FileNotFoundException: java.io.FileNotFoundException: HADOOP_HOME and hadoop.home.dir are unset. -see https://wiki.apache.org/hadoop/WindowsProblems\r\n\tat org.apache.hadoop.util.Shell.getWinUtilsPath(Shell.java:735)\r\n\tat org.apache.hadoop.util.Shell.getSetPermissionCommand(Shell.java:270)\r\n\tat org.apache.hadoop.fs.FileUtil.chmod(FileUtil.java:1139)\r\n\tat org.apache.hadoop.fs.FileUtil.chmod(FileUtil.java:1125)\r\n\tat org.apache.spark.util.Utils$.fetchFile(Utils.scala:489)\r\n\tat org.apache.spark.SparkContext.addFile(SparkContext.scala:1795)\r\n\tat org.apache.spark.SparkContext.$anonfun$new$16(SparkContext.scala:533)\r\n\tat org.apache.spark.SparkContext.$anonfun$new$16$adapted(SparkContext.scala:533)\r\n\tat scala.collection.immutable.List.foreach(List.scala:431)\r\n\tat org.apache.spark.SparkContext.<init>(SparkContext.scala:533)\r\n\tat org.apache.spark.api.java.JavaSparkContext.<init>(JavaSparkContext.scala:58)\r\n\tat sun.reflect.NativeConstructorAccessorImpl.newInstance0(Native Method)\r\n\tat sun.reflect.NativeConstructorAccessorImpl.newInstance(Unknown Source)\r\n\tat sun.reflect.DelegatingConstructorAccessorImpl.newInstance(Unknown Source)\r\n\tat java.lang.reflect.Constructor.newInstance(Unknown Source)\r\n\tat py4j.reflection.MethodInvoker.invoke(MethodInvoker.java:247)\r\n\tat py4j.reflection.ReflectionEngine.invoke(ReflectionEngine.java:374)\r\n\tat py4j.Gateway.invoke(Gateway.java:238)\r\n\tat py4j.commands.ConstructorCommand.invokeConstructor(ConstructorCommand.java:80)\r\n\tat py4j.commands.ConstructorCommand.execute(ConstructorCommand.java:69)\r\n\tat py4j.ClientServerConnection.waitForCommands(ClientServerConnection.java:182)\r\n\tat py4j.ClientServerConnection.run(ClientServerConnection.java:106)\r\n\tat java.lang.Thread.run(Unknown Source)\r\nCaused by: java.io.FileNotFoundException: java.io.FileNotFoundException: HADOOP_HOME and hadoop.home.dir are unset. -see https://wiki.apache.org/hadoop/WindowsProblems\r\n\tat org.apache.hadoop.util.Shell.fileNotFoundException(Shell.java:547)\r\n\tat org.apache.hadoop.util.Shell.getHadoopHomeDir(Shell.java:568)\r\n\tat org.apache.hadoop.util.Shell.getQualifiedBin(Shell.java:591)\r\n\tat org.apache.hadoop.util.Shell.<clinit>(Shell.java:688)\r\n\tat org.apache.hadoop.util.StringUtils.<clinit>(StringUtils.java:79)\r\n\tat org.apache.hadoop.conf.Configuration.getTimeDurationHelper(Configuration.java:1907)\r\n\tat org.apache.hadoop.conf.Configuration.getTimeDuration(Configuration.java:1867)\r\n\tat org.apache.hadoop.conf.Configuration.getTimeDuration(Configuration.java:1840)\r\n\tat org.apache.hadoop.util.ShutdownHookManager.getShutdownTimeout(ShutdownHookManager.java:183)\r\n\tat org.apache.hadoop.util.ShutdownHookManager$HookEntry.<init>(ShutdownHookManager.java:207)\r\n\tat org.apache.hadoop.util.ShutdownHookManager.addShutdownHook(ShutdownHookManager.java:304)\r\n\tat org.apache.spark.util.SparkShutdownHookManager.install(ShutdownHookManager.scala:181)\r\n\tat org.apache.spark.util.ShutdownHookManager$.shutdownHooks$lzycompute(ShutdownHookManager.scala:50)\r\n\tat org.apache.spark.util.ShutdownHookManager$.shutdownHooks(ShutdownHookManager.scala:48)\r\n\tat org.apache.spark.util.ShutdownHookManager$.addShutdownHook(ShutdownHookManager.scala:153)\r\n\tat org.apache.spark.util.ShutdownHookManager$.<init>(ShutdownHookManager.scala:58)\r\n\tat org.apache.spark.util.ShutdownHookManager$.<clinit>(ShutdownHookManager.scala)\r\n\tat org.apache.spark.util.Utils$.createTempDir(Utils.scala:242)\r\n\tat org.apache.spark.util.SparkFileUtils.createTempDir(SparkFileUtils.scala:103)\r\n\tat org.apache.spark.util.SparkFileUtils.createTempDir$(SparkFileUtils.scala:102)\r\n\tat org.apache.spark.util.Utils$.createTempDir(Utils.scala:94)\r\n\tat org.apache.spark.deploy.SparkSubmit.prepareSubmitEnvironment(SparkSubmit.scala:372)\r\n\tat org.apache.spark.deploy.SparkSubmit.org$apache$spark$deploy$SparkSubmit$$runMain(SparkSubmit.scala:964)\r\n\tat org.apache.spark.deploy.SparkSubmit.doRunMain$1(SparkSubmit.scala:194)\r\n\tat org.apache.spark.deploy.SparkSubmit.submit(SparkSubmit.scala:217)\r\n\tat org.apache.spark.deploy.SparkSubmit.doSubmit(SparkSubmit.scala:91)\r\n\tat org.apache.spark.deploy.SparkSubmit$$anon$2.doSubmit(SparkSubmit.scala:1120)\r\n\tat org.apache.spark.deploy.SparkSubmit$.main(SparkSubmit.scala:1129)\r\n\tat org.apache.spark.deploy.SparkSubmit.main(SparkSubmit.scala)\r\nCaused by: java.io.FileNotFoundException: HADOOP_HOME and hadoop.home.dir are unset.\r\n\tat org.apache.hadoop.util.Shell.checkHadoopHomeInner(Shell.java:467)\r\n\tat org.apache.hadoop.util.Shell.checkHadoopHome(Shell.java:438)\r\n\tat org.apache.hadoop.util.Shell.<clinit>(Shell.java:515)\r\n\t... 25 more\r\n"
     ]
    }
   ],
   "source": [
    "import sparknlp\n",
    "\n",
    "# Start Spark Session\n",
    "spark = sparknlp.start()\n",
    "\n",
    "# Import the required modules and classes\n",
    "from sparknlp.base import DocumentAssembler, Pipeline, LightPipeline\n",
    "from sparknlp.annotator import (\n",
    "Tokenizer,\n",
    "DistilBertEmbeddings,\n",
    "NerDLModel,\n",
    ")\n",
    "\n",
    "import pyspark.sql.functions as F\n",
    "\n",
    "# Step 1: Transforms raw texts to `document` annotation\n",
    "document = DocumentAssembler().setInputCol(\"text\").setOutputCol(\"document\")\n",
    "\n",
    "# Step 2: Tokenization\n",
    "token = Tokenizer().setInputCols(\"document\").setOutputCol(\"token\")\n",
    "\n",
    "# Step 3: Bert Embeddings\n",
    "embeddings = DistilBertEmbeddings.pretrained('distilbert_base_cased', 'en').setInputCols([\"document\", \"token\"]).setOutputCol(\"embeddings\")\n",
    "\n",
    "# Step 4: Entity Extraction\n",
    "ner_model= NerDLModel.pretrained(\"ner_ontonotes_distilbert_base_cased\", 'en').setInputCols([\"document\", \"token\", \"embeddings\"]).setOutputCol(\"ner\")\n",
    "\n",
    "# Define the pipeline\n",
    "pipeline = Pipeline(stages=[document, token, embeddings, ner_model])\n",
    "\n",
    "# Create an empty dataframe\n",
    "empty_df = spark.createDataFrame([['']]).toDF(\"text\")\n",
    "\n",
    "# Fit the dataframe to the pipeline to get the model\n",
    "pipelineModel = pipeline.fit(empty_df)\n",
    "\n",
    "\n",
    "\n",
    "\n",
    "sample_text = \"\"\"Unions representing workers at Turner Newall say they are \n",
    "'disappointed' after talks with stricken parent firm Federal Mogul.\n",
    "TORONTO, Canada A second team of rocketeers competing for the  #36;10 million \n",
    "Ansari X Prize.\n",
    "A company founded by a chemistry researcher at the University of Louisville \n",
    "won a grant to develop a method of producing better peptides.\n",
    "It's barely dawn when Mike Fitzpatrick starts his shift with a blur of \n",
    "colorful maps, figures and endless charts, but already he knows what the day \n",
    "will bring.\n",
    "Southern California's smog fighting agency went after emissions of \n",
    "the bovine variety Friday.\"\"\"\n",
    "# Convert the text to Dataframe\n",
    "sample_data = spark.createDataFrame([[sample_text]]).toDF(\"text\")\n",
    "\n",
    "\n",
    "# light_model = LightPipeline(pipelineModel)\n",
    "# light_result = light_model.annotate(sample_text)\n",
    "# list(zip(light_result['token'], light_result['ner']))\n",
    "\n"
   ]
  },
  {
   "cell_type": "code",
   "execution_count": 29,
   "metadata": {},
   "outputs": [
    {
     "name": "stdout",
     "output_type": "stream",
     "text": [
      "Organization : Resilience Engineering Institute\n",
      "City : Tempe\n",
      "Other GPE : AZ\n",
      "Country : United States\n",
      "Organization : Naval Postgraduate School, Department of Operations Research\n",
      "City : Monterey\n",
      "Country : United States\n",
      "Organization : Arizona State University\n",
      "Organization : School of Sustainable Engineering\n",
      "Organization : the Built Environment\n",
      "City : Tempe\n",
      "Other GPE : AZ\n",
      "Country : United States\n",
      "Organization : Arizona State University\n",
      "Other GPE : Society\n",
      "City : Tempe\n",
      "Other GPE : AZ\n",
      "Country : United States\n"
     ]
    }
   ],
   "source": [
    "import spacy\n",
    "import geonamescache\n",
    "\n",
    "gc = geonamescache.GeonamesCache()\n",
    "countries = gc.get_countries()\n",
    "cities = gc.get_cities()\n",
    "\n",
    "def gen_dict_extract(var, key):\n",
    "    if isinstance(var, dict):\n",
    "        for k, v in var.items():\n",
    "            if k == key:\n",
    "                yield v\n",
    "            if isinstance(v, (dict, list)):\n",
    "                yield from gen_dict_extract(v, key)\n",
    "    elif isinstance(var, list):\n",
    "        for d in var:\n",
    "            yield from gen_dict_extract(d, key)\n",
    "\n",
    "\n",
    "cities = [*gen_dict_extract(cities, 'name')]\n",
    "countries = [*gen_dict_extract(countries, 'name')]\n",
    "\n",
    "nlp = spacy.load(\"en_core_web_sm\")\n",
    "\n",
    "doc= nlp('''Resilience Engineering Institute, Tempe, AZ, United States; \n",
    "Naval Postgraduate School, Department of Operations Research, Monterey, \n",
    "CA, United States; Arizona State University, School of Sustainable Engineering \n",
    "and the Built Environment, Tempe, AZ, United States; Arizona State University, \n",
    "School for the Future of Innovation in Society, Tempe, AZ, United States''')\n",
    "\n",
    "for ent in doc.ents:\n",
    "    if ent.label_ == 'GPE':\n",
    "        if ent.text in countries:\n",
    "            print(f\"Country : {ent.text}\")\n",
    "        elif ent.text in cities:\n",
    "            print(f\"City : {ent.text}\")\n",
    "        else:\n",
    "            print(f\"Other GPE : {ent.text}\")\n",
    "    elif ent.label_ == 'ORG':\n",
    "         print(f\"Organization : {ent.text}\")\n"
   ]
  },
  {
   "cell_type": "code",
   "execution_count": 35,
   "metadata": {},
   "outputs": [
    {
     "name": "stdout",
     "output_type": "stream",
     "text": [
      "35.1 µs ± 0 ns per loop (mean ± std. dev. of 1 run, 10 loops each)\n"
     ]
    }
   ],
   "source": [
    "%timeit -n 10 -r 1 'London' in cities"
   ]
  },
  {
   "cell_type": "code",
   "execution_count": 44,
   "metadata": {},
   "outputs": [
    {
     "data": {
      "text/plain": [
       "[('School of Information Science and Engineering', 'ORG'),\n",
       " ('Yanshan University', 'ORG'),\n",
       " ('Hebei', 'GPE'),\n",
       " ('Qinhuangdao', 'GPE'),\n",
       " ('066004', 'DATE'),\n",
       " ('China', 'GPE'),\n",
       " ('The Key Laboratory for Software Engineering', 'ORG'),\n",
       " ('Hebei Province', 'GPE'),\n",
       " ('Yanshan University', 'ORG'),\n",
       " ('Hebei', 'GPE'),\n",
       " ('Qinhuangdao', 'GPE'),\n",
       " ('066004', 'DATE'),\n",
       " ('China', 'GPE'),\n",
       " ('Research Center for Knowledge Engineering', 'ORG'),\n",
       " ('Zhejiang Lab', 'ORG'),\n",
       " ('Zhejiang', 'GPE'),\n",
       " ('Hangzhou', 'GPE'),\n",
       " ('311121', 'DATE'),\n",
       " ('China', 'GPE')]"
      ]
     },
     "execution_count": 44,
     "metadata": {},
     "output_type": "execute_result"
    }
   ],
   "source": [
    "import spacy\n",
    "\n",
    "nlp = spacy.load('en_core_web_sm')\n",
    "\n",
    "doc = nlp(\"School of Information Science and Engineering, Yanshan University, Hebei, Qinhuangdao, 066004, China; The Key Laboratory for Software Engineering of Hebei Province, Yanshan University, Hebei, Qinhuangdao, 066004, China; Research Center for Knowledge Engineering, Zhejiang Lab, Zhejiang, Hangzhou, 311121, China\")\n",
    "[(ent.text, ent.label_) for ent in doc.ents]\n"
   ]
  },
  {
   "cell_type": "code",
   "execution_count": 1,
   "metadata": {},
   "outputs": [
    {
     "data": {
      "text/plain": [
       "[None, 9]"
      ]
     },
     "execution_count": 1,
     "metadata": {},
     "output_type": "execute_result"
    }
   ],
   "source": [
    "'c'\n",
    "a = [None, None, 9]\n",
    "a.remove(None)\n",
    "a"
   ]
  },
  {
   "cell_type": "code",
   "execution_count": 49,
   "metadata": {},
   "outputs": [
    {
     "ename": "NameError",
     "evalue": "name 'df' is not defined",
     "output_type": "error",
     "traceback": [
      "\u001b[1;31m---------------------------------------------------------------------------\u001b[0m",
      "\u001b[1;31mNameError\u001b[0m                                 Traceback (most recent call last)",
      "\u001b[1;32md:\\Coding\\Uni\\API\\Test.ipynb Cell 5\u001b[0m line \u001b[0;36m1\n\u001b[1;32m----> <a href='vscode-notebook-cell:/d%3A/Coding/Uni/API/Test.ipynb#X60sZmlsZQ%3D%3D?line=0'>1</a>\u001b[0m df\n",
      "\u001b[1;31mNameError\u001b[0m: name 'df' is not defined"
     ]
    }
   ],
   "source": []
  },
  {
   "cell_type": "code",
   "execution_count": null,
   "metadata": {},
   "outputs": [],
   "source": [
    "bib_keys = [\"author\", \"title\", \"year\", \"journal\", \"volume\", \"number\", \"doi\",\n",
    "        \"url\", \"affiliations\", \"abstract\", \"author_keywords\",\n",
    "        \"correspondence_address\", \"publisher\", \"issn\", \"language\",\n",
    "        \"abbrev_source_title\", \"type\", \"publication_stage\", \"source\", \"note\"]\n",
    "\n",
    "csv_keys = ['Authors', 'Author full names', 'Author(s) ID', 'Title', 'Year',\n",
    "       'Source title', 'Volume', 'Issue', 'Art. No.', 'Page start', 'Page end',\n",
    "       'Page count', 'Cited by', 'DOI', 'Link', 'Affiliations',\n",
    "       'Authors with affiliations', 'Abstract', 'Author Keywords',\n",
    "       'Index Keywords', 'Molecular Sequence Numbers', 'Chemicals/CAS',\n",
    "       'Tradenames', 'Manufacturers', 'Funding Details', 'Funding Texts',\n",
    "       'References', 'Correspondence Address', 'Editors', 'Publisher',\n",
    "       'Sponsors', 'Conference name', 'Conference date', 'Conference location',\n",
    "       'Conference code', 'ISSN', 'ISBN', 'CODEN', 'PubMed ID',\n",
    "       'Language of Original Document', 'Abbreviated Source Title',\n",
    "       'Document Type', 'Publication Stage', 'Open Access', 'Source', 'EID']\n"
   ]
  },
  {
   "cell_type": "code",
   "execution_count": 52,
   "metadata": {},
   "outputs": [
    {
     "name": "stdout",
     "output_type": "stream",
     "text": [
      "name Alice\n",
      "age 31\n"
     ]
    }
   ],
   "source": [
    "my_dict = {\"name\": \"Alice\", \"age\": 30}\n",
    "my_dict[\"age\"] = 31\n",
    "my_dict[\"gender\"] = \"Female\"\n",
    "del my_dict[\"gender\"]\n",
    "\n",
    "for key, value in my_dict.items():\n",
    "    print(key, value)\n"
   ]
  },
  {
   "cell_type": "code",
   "execution_count": 8,
   "metadata": {},
   "outputs": [],
   "source": [
    "html = '''<div class=\"Stack-module__tT3r4 Stack-module___CTfk Menu-module___mnU3\" id=\"menu-kfl5xghbcbd\" role=\"menu\" tabindex=\"-1\" data-testid=\"export-dropdown\" style=\"--stack-vertical-spacing: var(--spacer-m); --stack-horizontal-spacing: var(--spacer-m); --stack-justify-content: start; --stack-align-items: start; transform: translate(-42px, 24px);\"><div class=\"Stack-module__tT3r4 Stack-module___CTfk\" role=\"group\" tabindex=\"-1\" style=\"--stack-vertical-spacing: var(--spacer-xs); --stack-horizontal-spacing: var(--spacer-xs); --stack-justify-content: start; --stack-align-items: start;\"><div><span id=\"menuGroup-Saved preferences-oaozkqoij4\" class=\"Typography-module__lVnit Typography-module__QVdoX Typography-module__Nfgvc\">Saved preferences</span></div><button type=\"button\" class=\"Button-module__nc6_8 Button-module__rphhF Button-module__VBKvn Button-module__uQJ9V Button-module__hK_LA Button-module__qDdAl\"><span class=\"Icon-module__p52B2 Icon-module__DWv45 Button-module__W3PoR\"><svg xmlns=\"http://www.w3.org/2000/svg\" viewBox=\"0 0 88 128\" height=\"24\" width=\"17\" role=\"img\" aria-hidden=\"true\"><path d=\"M48 9.5zM76 106.2L44 87.18 12 106.2V18h64v88.2zM2 8v115.8l42-24.98 42 24.98V8H2z\"></path></svg>\n",
    "</span><span class=\"Typography-module__lVnit Typography-module__Nfgvc Button-module__Imdmt\">My CSV settings</span></button></div><div class=\"Stack-module__tT3r4 Stack-module___CTfk\" role=\"group\" tabindex=\"-1\" style=\"--stack-vertical-spacing: var(--spacer-xs); --stack-horizontal-spacing: var(--spacer-xs); --stack-justify-content: start; --stack-align-items: start;\"><div><span id=\"menuGroup-File types-fa2ybjq5pug\" class=\"Typography-module__lVnit Typography-module__QVdoX Typography-module__Nfgvc\">File types</span></div><button type=\"button\" class=\"Button-module__nc6_8 Button-module__rphhF Button-module__VBKvn Button-module__MlsfC Button-module__hK_LA Button-module__qDdAl\" data-testid=\"export-to-csv\"><span class=\"Typography-module__lVnit Typography-module__Nfgvc Button-module__Imdmt\">CSV</span></button><button type=\"button\" class=\"Button-module__nc6_8 Button-module__rphhF Button-module__VBKvn Button-module__MlsfC Button-module__hK_LA Button-module__qDdAl\" data-testid=\"export-to-ris\"><span class=\"Typography-module__lVnit Typography-module__Nfgvc Button-module__Imdmt\">RIS</span></button><button type=\"button\" class=\"Button-module__nc6_8 Button-module__rphhF Button-module__VBKvn Button-module__MlsfC Button-module__hK_LA Button-module__qDdAl\" data-testid=\"export-to-bibTex\"><span class=\"Typography-module__lVnit Typography-module__Nfgvc Button-module__Imdmt\">BibTeX</span></button><button type=\"button\" class=\"Button-module__nc6_8 Button-module__rphhF Button-module__VBKvn Button-module__MlsfC Button-module__hK_LA Button-module__qDdAl\" data-testid=\"export-to-plainText\"><span class=\"Typography-module__lVnit Typography-module__Nfgvc Button-module__Imdmt\">Plain text</span></button></div><div class=\"Stack-module__tT3r4 Stack-module___CTfk\" role=\"group\" tabindex=\"-1\" style=\"--stack-vertical-spacing: var(--spacer-xs); --stack-horizontal-spacing: var(--spacer-xs); --stack-justify-content: start; --stack-align-items: start;\"><div><span id=\"menuGroup-Reference managers-pc1188yc63g\" class=\"Typography-module__lVnit Typography-module__QVdoX Typography-module__Nfgvc\">Reference managers</span></div><button type=\"button\" class=\"Button-module__nc6_8 Button-module__rphhF Button-module__VBKvn Button-module__MlsfC Button-module__hK_LA Button-module__qDdAl\" id=\"mendeley\"><span class=\"Typography-module__lVnit Typography-module__Nfgvc Button-module__Imdmt\">Mendeley</span></button><button type=\"button\" class=\"Button-module__nc6_8 Button-module__rphhF Button-module__VBKvn Button-module__MlsfC Button-module__hK_LA Button-module__qDdAl\" data-testid=\"export-to-zotero\"><span class=\"Typography-module__lVnit Typography-module__Nfgvc Button-module__Imdmt\">Zotero (RIS)</span></button><button type=\"button\" class=\"Button-module__nc6_8 Button-module__rphhF Button-module__VBKvn Button-module__MlsfC Button-module__hK_LA Button-module__qDdAl\" data-testid=\"export-to-endnote\"><span class=\"Typography-module__lVnit Typography-module__Nfgvc Button-module__Imdmt\">EndNote (RIS)</span></button></div><div class=\"Stack-module__tT3r4 Stack-module___CTfk\" role=\"group\" tabindex=\"-1\" style=\"--stack-vertical-spacing: var(--spacer-xs); --stack-horizontal-spacing: var(--spacer-xs); --stack-justify-content: start; --stack-align-items: start;\"><div><span id=\"menuGroup-Platforms-gelqiot1atn\" class=\"Typography-module__lVnit Typography-module__QVdoX Typography-module__Nfgvc\">Platforms</span></div><ul class=\"margin-size-0\"><div class=\"Stack-module__tT3r4 Stack-module___CTfk\" style=\"--stack-vertical-spacing: var(--spacer-xs); --stack-horizontal-spacing: var(--spacer-xs); --stack-justify-content: start; --stack-align-items: start;\"><li class=\"margin-size-0\"><button type=\"button\" class=\"Button-module__nc6_8 Button-module__rphhF Button-module__VBKvn Button-module__MlsfC Button-module__hK_LA Button-module__qDdAl\" id=\"scival\"><span class=\"Typography-module__lVnit Typography-module__Nfgvc Button-module__Imdmt\">SciVal</span></button></li></div></ul></div></div>'''\n"
   ]
  },
  {
   "cell_type": "code",
   "execution_count": 43,
   "metadata": {},
   "outputs": [
    {
     "data": {
      "text/plain": [
       "{19: 1,\n",
       " 14: 1,\n",
       " 23: 2,\n",
       " 17: 4,\n",
       " 16: 2,\n",
       " 21: 1,\n",
       " 24: 3,\n",
       " 27: 3,\n",
       " 26: 2,\n",
       " 25: 1,\n",
       " 30: 2,\n",
       " 29: 1,\n",
       " 20: 1,\n",
       " 18: 3}"
      ]
     },
     "execution_count": 43,
     "metadata": {},
     "output_type": "execute_result"
    }
   ],
   "source": [
    "from collections import Counter\n",
    "\n",
    "attendees = [40202254,\n",
    "40200035,\n",
    "40202654,\n",
    "40102604,\n",
    "40200325,\n",
    "40203314,\n",
    "40204074,\n",
    "40204204,\n",
    "40204464,\n",
    "40204494,\n",
    "40104944,\n",
    "40104954,\n",
    "40204924,\n",
    "40205264,\n",
    "40105794,\n",
    "40205774,\n",
    "40200635,\n",
    "40206024,\n",
    "40200675,\n",
    "40200785,\n",
    "40201604,\n",
    "40207494,\n",
    "40201614,\n",
    "40200975,\n",
    "40201155,\n",
    "40111334,\n",
    "40201854]\n",
    "\n",
    "all_ = []\n",
    "for i in attendees:\n",
    "    person = sum([int(j) for j in str(i)])\n",
    "    all_.append(person)\n",
    "    # print(sum(person))\n",
    "\n",
    "\n",
    "dict(Counter(all_), )\n"
   ]
  },
  {
   "cell_type": "code",
   "execution_count": 44,
   "metadata": {},
   "outputs": [
    {
     "name": "stdout",
     "output_type": "stream",
     "text": [
      "Section 1: {14: 1, 16: 2, 17: 4} sum = 7\n",
      "Section 2: {18: 3, 19: 1, 20: 1, 21: 1, 23: 2} sum = 8\n",
      "Section 3: {24: 3, 25: 1, 26: 2, 27: 3} sum = 9\n",
      "Section 4: {29: 1, 30: 2} sum = 3\n"
     ]
    }
   ],
   "source": [
    "# Given dictionary\n",
    "input_dict = {19: 1,\n",
    " 14: 1,\n",
    " 23: 2,\n",
    " 17: 4,\n",
    " 16: 2,\n",
    " 21: 1,\n",
    " 24: 3,\n",
    " 27: 3,\n",
    " 26: 2,\n",
    " 25: 1,\n",
    " 30: 2,\n",
    " 29: 1,\n",
    " 20: 1,\n",
    " 18: 3}\n",
    "# Sort the dictionary based on keys\n",
    "sorted_dict = dict(sorted(input_dict.items()))\n",
    "\n",
    "# Number of sections you want to divide the dictionary into\n",
    "num_sections = 4\n",
    "\n",
    "# Calculate the total sum of values in the dictionary\n",
    "total_sum = sum(sorted_dict.values())\n",
    "\n",
    "# Calculate the target sum for each section\n",
    "target_sum = total_sum / num_sections\n",
    "\n",
    "# Initialize variables\n",
    "current_sum = 0\n",
    "section = 1\n",
    "sections = {}\n",
    "\n",
    "# Iterate through the sorted dictionary and create sections\n",
    "for key, value in sorted_dict.items():\n",
    "    # Add the current key-value pair to the current section\n",
    "    sections.setdefault(section, {})[key] = value\n",
    "    current_sum += value\n",
    "    \n",
    "    # If the current sum exceeds the target sum, move to the next section\n",
    "    if current_sum >= target_sum:\n",
    "        current_sum = 0\n",
    "        section += 1\n",
    "\n",
    "# Print the sections\n",
    "for section, values in sections.items():\n",
    "    print(f\"Section {section}: {values} sum = {sum(values.values())}\")\n"
   ]
  },
  {
   "cell_type": "code",
   "execution_count": 45,
   "metadata": {},
   "outputs": [
    {
     "name": "stdout",
     "output_type": "stream",
     "text": [
      "Section 1: {14: 1, 16: 2, 17: 4} sum = 7\n",
      "Section 2: {18: 3, 19: 1, 20: 1, 21: 1, 23: 2} sum = 8\n",
      "Section 3: {24: 3, 25: 1, 26: 2} sum = 6\n",
      "Section 4: {29: 1, 30: 2, 27: 3} sum = 6\n"
     ]
    }
   ],
   "source": [
    "sections = {1 : {14: 1, 16: 2, 17: 4},\n",
    "2 : {18: 3, 19: 1, 20: 1, 21: 1, 23: 2},\n",
    "3 : {24: 3, 25: 1, 26: 2},\n",
    "4 : {29: 1, 30: 2, 27: 3}}\n",
    "for section, values in sections.items():\n",
    "    print(f\"Section {section}: {values} sum = {sum(values.values())}\")"
   ]
  },
  {
   "cell_type": "code",
   "execution_count": 85,
   "metadata": {},
   "outputs": [
    {
     "data": {
      "text/plain": [
       "{0: {0: 1, 1: 2}, 1: {0: 3, 1: 4}, 2: {0: 5, 1: 6}}"
      ]
     },
     "execution_count": 85,
     "metadata": {},
     "output_type": "execute_result"
    }
   ],
   "source": [
    "matrix = [[1, 2], [3, 4], [5, 6]]\n",
    "nested_dict = {row_index: {col_index: num for col_index, num in enumerate(row)} for row_index, row in enumerate(matrix)}\n",
    "nested_dict"
   ]
  },
  {
   "cell_type": "code",
   "execution_count": 55,
   "metadata": {},
   "outputs": [
    {
     "name": "stdout",
     "output_type": "stream",
     "text": [
      "1: 0.625\n",
      "2: 1.25\n",
      "3: 1.875\n",
      "4: 2.5\n",
      "5: 3.125\n",
      "6: 3.75\n",
      "7: 4.375\n",
      "8: 5.0\n",
      "9: 5.625\n",
      "10: 6.25\n",
      "11: 6.875\n",
      "12: 7.5\n",
      "13: 8.125\n",
      "14: 8.75\n",
      "15: 9.375\n",
      "16: 10.0\n"
     ]
    }
   ],
   "source": [
    "x = 0\n",
    "interval =  16\n",
    "\n",
    "for i in range(interval):\n",
    "    print(i+1, x:= x + 10 / interval, sep=': ')\n"
   ]
  },
  {
   "cell_type": "code",
   "execution_count": 25,
   "metadata": {},
   "outputs": [
    {
     "data": {
      "text/plain": [
       "[1, 2, 3, 'world', 4.5, 5, 6, 7]"
      ]
     },
     "execution_count": 25,
     "metadata": {},
     "output_type": "execute_result"
    }
   ],
   "source": [
    "my_list = [1, 2, 3, \"hello\", 4.5]\n",
    "# my_list[0]\n",
    "my_list[3] = \"world\"\n",
    "my_list.append(5)\n",
    "# del my_list[3]\n",
    "# my_list.remove(4.5)\n",
    "my_list.extend([6, 7])\n",
    "my_list"
   ]
  },
  {
   "cell_type": "code",
   "execution_count": 3,
   "metadata": {},
   "outputs": [],
   "source": [
    "import json\n",
    "\n",
    "import requests\n",
    "from bs4 import BeautifulSoup\n",
    "\n",
    "from selenium import webdriver\n",
    "from selenium.webdriver.common.by import By\n",
    "from selenium.webdriver.chrome.options import Options\n",
    "\n",
    "\n",
    "user_name = 'ljguguoi'  # Your username\n",
    "pass_word = 'ljguguoi'  # Your password\n",
    "\n",
    "# url = 'https://www.scopus.com/search/form.uri?display=basic&zone=header&origin=resultslist#basic'\n",
    "url_1 = 'https://id.elsevier.com/as/authorization.oauth2?platSite=SC%2Fscopus&ui_locales=en-US&scope=openid+profile+email+els_auth_info+els_analytics_info+urn%3Acom%3Aelsevier%3Aidp%3Apolicy%3Aproduct%3Aindv_identity&els_policy=idp_policy_indv_identity_plus&response_type=code&redirect_uri=https%3A%2F%2Fwww.scopus.com%2Fauthredirect.uri%3FtxGid%3D002b4d6258632f730c0ee9ae0e4408b2&state=userLogin%7CtxId%3D206BFF01A39904EE813CEEFF1248414C.i-0875a2a4ab917f47d%3A6&authType=SINGLE_SIGN_IN&prompt=login&client_id=SCOPUS'\n",
    "url_2 = 'https://id.elsevier.com/as/riuCVeQCt5/resume/as/authorization.ping?client_id=SCOPUS&state=userLogin%7CtxId%3D206BFF01A39904EE813CEEFF1248414C.i-0875a2a4ab917f47d%3A6'"
   ]
  },
  {
   "cell_type": "code",
   "execution_count": 3,
   "metadata": {},
   "outputs": [
    {
     "data": {
      "application/json": {
       "ascii": false,
       "bar_format": null,
       "colour": null,
       "elapsed": 0.015174388885498047,
       "initial": 0,
       "n": 0,
       "ncols": null,
       "nrows": null,
       "postfix": null,
       "prefix": "",
       "rate": null,
       "total": 100,
       "unit": "it",
       "unit_divisor": 1000,
       "unit_scale": false
      },
      "application/vnd.jupyter.widget-view+json": {
       "model_id": "6030f1052c8b4dc9b6e70dce205b32d0",
       "version_major": 2,
       "version_minor": 0
      },
      "text/plain": [
       "  0%|          | 0/100 [00:00<?, ?it/s]"
      ]
     },
     "metadata": {},
     "output_type": "display_data"
    }
   ],
   "source": [
    "from ipywidgets import FloatSlider\n",
    "from IPython.display import display\n",
    "import time\n",
    "\n",
    "from tqdm.notebook import tqdm_notebook\n",
    "\n",
    "f = tqdm_notebook(total=100)\n",
    "\n",
    "max_count = 100\n",
    "\n",
    "# f = FloatSlider(min=0, max=max_count) # instantiate the bar\n",
    "# display(f) # display the bar\n",
    "\n",
    "count = 0\n",
    "while count < max_count:\n",
    "    count += 1\n",
    "    # f.value = count # signal to increment the progress bar\n",
    "    f.update(1)\n",
    "    time.sleep(.1)"
   ]
  },
  {
   "cell_type": "code",
   "execution_count": 1,
   "metadata": {},
   "outputs": [
    {
     "data": {
      "text/plain": [
       "-2147483646"
      ]
     },
     "execution_count": 1,
     "metadata": {},
     "output_type": "execute_result"
    }
   ],
   "source": [
    "import ctypes\n",
    "import time\n",
    "\n",
    "ctypes.windll.kernel32.SetThreadExecutionState(0x80000002)\n",
    "time.sleep(100)\n",
    "ctypes.windll.kernel32.SetThreadExecutionState(0x80000000)\n"
   ]
  },
  {
   "cell_type": "code",
   "execution_count": 5,
   "metadata": {},
   "outputs": [],
   "source": [
    "from habanero import Crossref\n",
    "\n",
    "cr = Crossref()\n",
    "\n",
    "# result = cr.works(query = 'SCN_GNN: A GNN-based fraud detection algorithm combining strong node and graph topology information')\n",
    "\n",
    "# article_references = result['message']['items'][0]['reference']\n",
    "# result_LIST = [reference_doi['DOI'] for reference_doi in article_references if reference_doi.get('DOI')]\n",
    "# print(len(article_references), len(result_LIST))\n",
    "# # result\n",
    "\n",
    "cr.works(ids='10.1016/j.eswa.2023.121643')\n",
    "\n",
    "\n"
   ]
  },
  {
   "cell_type": "code",
   "execution_count": 7,
   "metadata": {},
   "outputs": [
    {
     "name": "stdout",
     "output_type": "stream",
     "text": [
      "Searching \"attention\" folder\n",
      "20\n",
      "Searching \"BERT\" folder\n",
      "21\n",
      "Searching \"chatbot\" folder\n",
      "21\n",
      "Searching \"deep learning\" folder\n",
      "2\n",
      "Searching \"evolutionary algorithm\" folder\n",
      "21\n",
      "Searching \"federated learning\" folder\n",
      "2\n",
      "Searching \"GPT\" folder\n",
      "21\n",
      "Searching \"image processing\" folder\n",
      "2\n",
      "Searching \"knowledge grounded dialog generation\" folder\n",
      "2\n",
      "Searching \"language modeling\" folder\n",
      "21\n",
      "Searching \"machine learning\" folder\n",
      "20\n",
      "Searching \"neural network\" folder\n",
      "19\n",
      "Searching \"pattern recognition\" folder\n",
      "21\n",
      "Searching \"reinforcement learning\" folder\n",
      "2\n",
      "Searching \"response generation\" folder\n",
      "21\n",
      "Searching \"sentement analysis\" folder\n",
      "2\n",
      "Searching \"text generation\" folder\n",
      "2\n",
      "Searching \"transformer\" folder\n",
      "21\n"
     ]
    }
   ],
   "source": [
    "import os\n",
    "os.chdir(r'D:\\Coding\\Uni\\API\\Download')\n",
    "searched_querys = [dr for dr in os.listdir() if os.path.isdir(dr)][:]\n",
    "\n",
    "# try:\n",
    "for csv_folder in searched_querys:\n",
    "    print(f'Searching \"{csv_folder}\" folder')\n",
    "    csv_files = os.listdir(csv_folder)\n",
    "    csv_files = [file for file in csv_files if f'DOI_search_{file}' not in csv_files and not file.startswith('DOI_search_')][:]\n",
    "    print(len(csv_files))"
   ]
  },
  {
   "cell_type": "code",
   "execution_count": 12,
   "metadata": {},
   "outputs": [
    {
     "data": {
      "text/plain": [
       "34"
      ]
     },
     "execution_count": 12,
     "metadata": {},
     "output_type": "execute_result"
    }
   ],
   "source": [
    "references = 'Ahmad H., Kasasbeh B., Aldabaybah B., Et al., Class balancing framework for credit card fraud detection based on clustering and similarity-based selection (SBS), International journal of information technology, 15, 1, pp. 325-333, (2023); Bian T., Xiao X., Xu T., Et al., (2020); Dou Y., Liu Z., Sun L., Et al., (2020); Gao Y., Wang X., He X., Et al., Rumor detection with self-supervised learning on texts and social graph, Frontiers of Computer Science, 17, 4, (2023); Hamilton W.L., Ying R., Leskovec J., (2017); Hu N., Liu L., Sambamurthy V., Fraud detection in online consumer reviews, Decision Support Systems, 50, 3, pp. 614-626, (2011); Huang M., Liu Y., Ao X., Et al., (2022); Jiang N., Duan F., Chen H., Et al., MAFI: GNN-based multiple aggregators and feature interactions network for fraud detection over heterogeneous graph, IEEE Transactions on Big Data, 8, 4, pp. 905-919, (2021); Kipf T.N., Welling M., (2017); Li A., Qin Z., Liu R., Et al., (2019); Li J., Li Z., Huang J., Et al., (2021); Li Q., He Y., Xu C., Et al., (2022); Liu Y., Ao X., Qin Z., Et al., (2021); Liu Y., Sun Z., Zhang W., Improving fraud detection via hierarchical attention-based Graph Neural Network, Journal of Information Security and Applications, 72, (2023); Liu Z., Dou Y., Yu P.S., Et al., (2020); Mcauley J.J., Leskovec J., (2013); Peng H., Zhang R., Dou Y., Et al., Reinforced neighborhood selection guided multi-relational graph neural networks, ACM Transactions on Information Systems (TOIS), 40, 4, pp. 1-46, (2021); Pourhabibi T., Ong K.L., Kam B.H., Boo Y.L., Fraud detection: A systematic literature review of graph-based anomaly detection approaches, Decision Support Systems, 133, (2020); Rahman M., Rahman M., Carbunar B., Et al., Search rank fraud and malware detection in Google Play, IEEE Transactions on Knowledge and Data Engineering, 29, 6, pp. 1329-1342, (2017); Rayana S., Akoglu L., (2015); Shi F.C.Y., Shang Y., Et al., (2022); Velikovi P., Cucurull G., Casanova A., Et al., (2018); Van Belle R., Baesens B., De Weerdt J., CATCHM: A novel network-based credit card fraud detection method using node representation learning, Decision Support Systems, 164, (2023); Wang D., Lin J., Cui P., Et al., (2019); Wang J., Wen R., Wu C., Et al., (2019); Wang K., Liu S., Yu H., Et al., (2019); Wang Y., Zhang J., Guo S., Et al., (2021); Wen R., Wang J., Wu C., Et al., (2020); Xu C., Zhang J., (2017); Xu K., Hu W., Leskovec J., Et al., (2019); Yang M.M., Wang H., Research on identification of network water army in China, Network Security Technology & Application, 2, pp. 152-154, (2021); Zeng Y., Tang J., RLC-GNN: An improved deep architecture for spatial-based graph neural network with application to fraud detection, Applied Sciences, 11, 12, (2021); Zhang G., (2021); Zhang Z., Wan J., Zhou M., Et al., (2023)'\n",
    "references_list = references.split('; ')\n",
    "\n",
    "print(len(references_list))\n",
    "for i in references.split('; '):print(i)\n"
   ]
  },
  {
   "cell_type": "code",
   "execution_count": 16,
   "metadata": {},
   "outputs": [
    {
     "data": {
      "text/plain": [
       "[1, 2, None]"
      ]
     },
     "execution_count": 16,
     "metadata": {},
     "output_type": "execute_result"
    }
   ],
   "source": [
    "a = [None, 1, 2, None]\n",
    "\n",
    "a"
   ]
  },
  {
   "cell_type": "code",
   "execution_count": 22,
   "metadata": {},
   "outputs": [
    {
     "name": "stdout",
     "output_type": "stream",
     "text": [
      "True\t10.1007/s41870-022-00987-w         \tClass balancing framework for credit card fraud detection based on clustering and similarity-based selection (SBS)\n"
     ]
    },
    {
     "ename": "KeyboardInterrupt",
     "evalue": "",
     "output_type": "error",
     "traceback": [
      "\u001b[1;31m---------------------------------------------------------------------------\u001b[0m",
      "\u001b[1;31mKeyboardInterrupt\u001b[0m                         Traceback (most recent call last)",
      "\u001b[1;32md:\\Coding\\Uni\\API\\Test.ipynb Cell 13\u001b[0m line \u001b[0;36m2\n\u001b[0;32m      <a href='vscode-notebook-cell:/d%3A/Coding/Uni/API/Test.ipynb#X43sZmlsZQ%3D%3D?line=0'>1</a>\u001b[0m \u001b[39mfor\u001b[39;00m ref \u001b[39min\u001b[39;00m references_list:\n\u001b[1;32m----> <a href='vscode-notebook-cell:/d%3A/Coding/Uni/API/Test.ipynb#X43sZmlsZQ%3D%3D?line=1'>2</a>\u001b[0m     one_by_one_results \u001b[39m=\u001b[39m cr\u001b[39m.\u001b[39;49mworks(query\u001b[39m=\u001b[39;49mref, limit\u001b[39m=\u001b[39;49m\u001b[39m1\u001b[39;49m, progress_bar\u001b[39m=\u001b[39;49m\u001b[39mTrue\u001b[39;49;00m)[\u001b[39m'\u001b[39m\u001b[39mmessage\u001b[39m\u001b[39m'\u001b[39m][\u001b[39m'\u001b[39m\u001b[39mitems\u001b[39m\u001b[39m'\u001b[39m][\u001b[39m0\u001b[39m]\n\u001b[0;32m      <a href='vscode-notebook-cell:/d%3A/Coding/Uni/API/Test.ipynb#X43sZmlsZQ%3D%3D?line=2'>3</a>\u001b[0m     \u001b[39mprint\u001b[39m(one_by_one_results[\u001b[39m'\u001b[39m\u001b[39mtitle\u001b[39m\u001b[39m'\u001b[39m][\u001b[39m0\u001b[39m] \u001b[39min\u001b[39;00m references, \u001b[39mf\u001b[39m\u001b[39m\"\u001b[39m\u001b[39m{\u001b[39;00mone_by_one_results[\u001b[39m'\u001b[39m\u001b[39mDOI\u001b[39m\u001b[39m'\u001b[39m]\u001b[39m:\u001b[39;00m\u001b[39m <35\u001b[39m\u001b[39m}\u001b[39;00m\u001b[39m\"\u001b[39m, one_by_one_results[\u001b[39m'\u001b[39m\u001b[39mtitle\u001b[39m\u001b[39m'\u001b[39m][\u001b[39m0\u001b[39m], sep\u001b[39m=\u001b[39m\u001b[39m'\u001b[39m\u001b[39m\\t\u001b[39;00m\u001b[39m'\u001b[39m)\n",
      "File \u001b[1;32mc:\\Users\\AliApg\\AppData\\Local\\Programs\\Python\\Python310\\lib\\site-packages\\habanero\\crossref\\crossref.py:375\u001b[0m, in \u001b[0;36mCrossref.works\u001b[1;34m(self, ids, query, filter, offset, limit, sample, sort, order, facet, select, cursor, cursor_max, progress_bar, warn, **kwargs)\u001b[0m\n\u001b[0;32m    351\u001b[0m     \u001b[39mreturn\u001b[39;00m request(\n\u001b[0;32m    352\u001b[0m         \u001b[39mself\u001b[39m\u001b[39m.\u001b[39mmailto,\n\u001b[0;32m    353\u001b[0m         \u001b[39mself\u001b[39m\u001b[39m.\u001b[39mua_string,\n\u001b[1;32m   (...)\u001b[0m\n\u001b[0;32m    372\u001b[0m         \u001b[39m*\u001b[39m\u001b[39m*\u001b[39mkwargs\n\u001b[0;32m    373\u001b[0m     )\n\u001b[0;32m    374\u001b[0m \u001b[39melse\u001b[39;00m:\n\u001b[1;32m--> 375\u001b[0m     \u001b[39mreturn\u001b[39;00m Request(\n\u001b[0;32m    376\u001b[0m         \u001b[39mself\u001b[39;49m\u001b[39m.\u001b[39;49mmailto,\n\u001b[0;32m    377\u001b[0m         \u001b[39mself\u001b[39;49m\u001b[39m.\u001b[39;49mua_string,\n\u001b[0;32m    378\u001b[0m         \u001b[39mself\u001b[39;49m\u001b[39m.\u001b[39;49mbase_url,\n\u001b[0;32m    379\u001b[0m         \u001b[39m\"\u001b[39;49m\u001b[39m/works/\u001b[39;49m\u001b[39m\"\u001b[39;49m,\n\u001b[0;32m    380\u001b[0m         query,\n\u001b[0;32m    381\u001b[0m         \u001b[39mfilter\u001b[39;49m,\n\u001b[0;32m    382\u001b[0m         offset,\n\u001b[0;32m    383\u001b[0m         limit,\n\u001b[0;32m    384\u001b[0m         sample,\n\u001b[0;32m    385\u001b[0m         sort,\n\u001b[0;32m    386\u001b[0m         order,\n\u001b[0;32m    387\u001b[0m         facet,\n\u001b[0;32m    388\u001b[0m         select,\n\u001b[0;32m    389\u001b[0m         cursor,\n\u001b[0;32m    390\u001b[0m         cursor_max,\n\u001b[0;32m    391\u001b[0m         \u001b[39mNone\u001b[39;49;00m,\n\u001b[0;32m    392\u001b[0m         progress_bar,\n\u001b[0;32m    393\u001b[0m         \u001b[39m*\u001b[39;49m\u001b[39m*\u001b[39;49mkwargs\n\u001b[0;32m    394\u001b[0m     )\u001b[39m.\u001b[39;49mdo_request(should_warn\u001b[39m=\u001b[39;49mwarn)\n",
      "File \u001b[1;32mc:\\Users\\AliApg\\AppData\\Local\\Programs\\Python\\Python310\\lib\\site-packages\\habanero\\request_class.py:100\u001b[0m, in \u001b[0;36mRequest.do_request\u001b[1;34m(self, should_warn)\u001b[0m\n\u001b[0;32m     97\u001b[0m \u001b[39m# rename query filters\u001b[39;00m\n\u001b[0;32m     98\u001b[0m payload \u001b[39m=\u001b[39m rename_query_filters(payload)\n\u001b[1;32m--> 100\u001b[0m js \u001b[39m=\u001b[39m \u001b[39mself\u001b[39;49m\u001b[39m.\u001b[39;49m_req(payload\u001b[39m=\u001b[39;49mpayload, should_warn\u001b[39m=\u001b[39;49mshould_warn)\n\u001b[0;32m    101\u001b[0m \u001b[39mif\u001b[39;00m js \u001b[39mis\u001b[39;00m \u001b[39mNone\u001b[39;00m:\n\u001b[0;32m    102\u001b[0m     \u001b[39mreturn\u001b[39;00m js\n",
      "File \u001b[1;32mc:\\Users\\AliApg\\AppData\\Local\\Programs\\Python\\Python310\\lib\\site-packages\\habanero\\request_class.py:145\u001b[0m, in \u001b[0;36mRequest._req\u001b[1;34m(self, payload, should_warn)\u001b[0m\n\u001b[0;32m    143\u001b[0m \u001b[39mdef\u001b[39;00m \u001b[39m_req\u001b[39m(\u001b[39mself\u001b[39m, payload, should_warn):\n\u001b[0;32m    144\u001b[0m     \u001b[39mtry\u001b[39;00m:\n\u001b[1;32m--> 145\u001b[0m         r \u001b[39m=\u001b[39m requests\u001b[39m.\u001b[39;49mget(\n\u001b[0;32m    146\u001b[0m             \u001b[39mself\u001b[39;49m\u001b[39m.\u001b[39;49m_url(),\n\u001b[0;32m    147\u001b[0m             params\u001b[39m=\u001b[39;49mpayload,\n\u001b[0;32m    148\u001b[0m             headers\u001b[39m=\u001b[39;49mmake_ua(\u001b[39mself\u001b[39;49m\u001b[39m.\u001b[39;49mmailto, \u001b[39mself\u001b[39;49m\u001b[39m.\u001b[39;49mua_string),\n\u001b[0;32m    149\u001b[0m         )\n\u001b[0;32m    150\u001b[0m         r\u001b[39m.\u001b[39mraise_for_status()\n\u001b[0;32m    151\u001b[0m     \u001b[39mexcept\u001b[39;00m requests\u001b[39m.\u001b[39mexceptions\u001b[39m.\u001b[39mHTTPError:\n",
      "File \u001b[1;32mc:\\Users\\AliApg\\AppData\\Local\\Programs\\Python\\Python310\\lib\\site-packages\\requests\\api.py:73\u001b[0m, in \u001b[0;36mget\u001b[1;34m(url, params, **kwargs)\u001b[0m\n\u001b[0;32m     62\u001b[0m \u001b[39mdef\u001b[39;00m \u001b[39mget\u001b[39m(url, params\u001b[39m=\u001b[39m\u001b[39mNone\u001b[39;00m, \u001b[39m*\u001b[39m\u001b[39m*\u001b[39mkwargs):\n\u001b[0;32m     63\u001b[0m     \u001b[39mr\u001b[39m\u001b[39m\"\"\"Sends a GET request.\u001b[39;00m\n\u001b[0;32m     64\u001b[0m \n\u001b[0;32m     65\u001b[0m \u001b[39m    :param url: URL for the new :class:`Request` object.\u001b[39;00m\n\u001b[1;32m   (...)\u001b[0m\n\u001b[0;32m     70\u001b[0m \u001b[39m    :rtype: requests.Response\u001b[39;00m\n\u001b[0;32m     71\u001b[0m \u001b[39m    \"\"\"\u001b[39;00m\n\u001b[1;32m---> 73\u001b[0m     \u001b[39mreturn\u001b[39;00m request(\u001b[39m\"\u001b[39m\u001b[39mget\u001b[39m\u001b[39m\"\u001b[39m, url, params\u001b[39m=\u001b[39mparams, \u001b[39m*\u001b[39m\u001b[39m*\u001b[39mkwargs)\n",
      "File \u001b[1;32mc:\\Users\\AliApg\\AppData\\Local\\Programs\\Python\\Python310\\lib\\site-packages\\requests\\api.py:59\u001b[0m, in \u001b[0;36mrequest\u001b[1;34m(method, url, **kwargs)\u001b[0m\n\u001b[0;32m     55\u001b[0m \u001b[39m# By using the 'with' statement we are sure the session is closed, thus we\u001b[39;00m\n\u001b[0;32m     56\u001b[0m \u001b[39m# avoid leaving sockets open which can trigger a ResourceWarning in some\u001b[39;00m\n\u001b[0;32m     57\u001b[0m \u001b[39m# cases, and look like a memory leak in others.\u001b[39;00m\n\u001b[0;32m     58\u001b[0m \u001b[39mwith\u001b[39;00m sessions\u001b[39m.\u001b[39mSession() \u001b[39mas\u001b[39;00m session:\n\u001b[1;32m---> 59\u001b[0m     \u001b[39mreturn\u001b[39;00m session\u001b[39m.\u001b[39mrequest(method\u001b[39m=\u001b[39mmethod, url\u001b[39m=\u001b[39murl, \u001b[39m*\u001b[39m\u001b[39m*\u001b[39mkwargs)\n",
      "File \u001b[1;32mc:\\Users\\AliApg\\AppData\\Local\\Programs\\Python\\Python310\\lib\\site-packages\\requests\\sessions.py:587\u001b[0m, in \u001b[0;36mSession.request\u001b[1;34m(self, method, url, params, data, headers, cookies, files, auth, timeout, allow_redirects, proxies, hooks, stream, verify, cert, json)\u001b[0m\n\u001b[0;32m    582\u001b[0m send_kwargs \u001b[39m=\u001b[39m {\n\u001b[0;32m    583\u001b[0m     \u001b[39m\"\u001b[39m\u001b[39mtimeout\u001b[39m\u001b[39m\"\u001b[39m: timeout,\n\u001b[0;32m    584\u001b[0m     \u001b[39m\"\u001b[39m\u001b[39mallow_redirects\u001b[39m\u001b[39m\"\u001b[39m: allow_redirects,\n\u001b[0;32m    585\u001b[0m }\n\u001b[0;32m    586\u001b[0m send_kwargs\u001b[39m.\u001b[39mupdate(settings)\n\u001b[1;32m--> 587\u001b[0m resp \u001b[39m=\u001b[39m \u001b[39mself\u001b[39m\u001b[39m.\u001b[39msend(prep, \u001b[39m*\u001b[39m\u001b[39m*\u001b[39msend_kwargs)\n\u001b[0;32m    589\u001b[0m \u001b[39mreturn\u001b[39;00m resp\n",
      "File \u001b[1;32mc:\\Users\\AliApg\\AppData\\Local\\Programs\\Python\\Python310\\lib\\site-packages\\requests\\sessions.py:701\u001b[0m, in \u001b[0;36mSession.send\u001b[1;34m(self, request, **kwargs)\u001b[0m\n\u001b[0;32m    698\u001b[0m start \u001b[39m=\u001b[39m preferred_clock()\n\u001b[0;32m    700\u001b[0m \u001b[39m# Send the request\u001b[39;00m\n\u001b[1;32m--> 701\u001b[0m r \u001b[39m=\u001b[39m adapter\u001b[39m.\u001b[39msend(request, \u001b[39m*\u001b[39m\u001b[39m*\u001b[39mkwargs)\n\u001b[0;32m    703\u001b[0m \u001b[39m# Total elapsed time of the request (approximately)\u001b[39;00m\n\u001b[0;32m    704\u001b[0m elapsed \u001b[39m=\u001b[39m preferred_clock() \u001b[39m-\u001b[39m start\n",
      "File \u001b[1;32mc:\\Users\\AliApg\\AppData\\Local\\Programs\\Python\\Python310\\lib\\site-packages\\requests\\adapters.py:489\u001b[0m, in \u001b[0;36mHTTPAdapter.send\u001b[1;34m(self, request, stream, timeout, verify, cert, proxies)\u001b[0m\n\u001b[0;32m    487\u001b[0m \u001b[39mtry\u001b[39;00m:\n\u001b[0;32m    488\u001b[0m     \u001b[39mif\u001b[39;00m \u001b[39mnot\u001b[39;00m chunked:\n\u001b[1;32m--> 489\u001b[0m         resp \u001b[39m=\u001b[39m conn\u001b[39m.\u001b[39;49murlopen(\n\u001b[0;32m    490\u001b[0m             method\u001b[39m=\u001b[39;49mrequest\u001b[39m.\u001b[39;49mmethod,\n\u001b[0;32m    491\u001b[0m             url\u001b[39m=\u001b[39;49murl,\n\u001b[0;32m    492\u001b[0m             body\u001b[39m=\u001b[39;49mrequest\u001b[39m.\u001b[39;49mbody,\n\u001b[0;32m    493\u001b[0m             headers\u001b[39m=\u001b[39;49mrequest\u001b[39m.\u001b[39;49mheaders,\n\u001b[0;32m    494\u001b[0m             redirect\u001b[39m=\u001b[39;49m\u001b[39mFalse\u001b[39;49;00m,\n\u001b[0;32m    495\u001b[0m             assert_same_host\u001b[39m=\u001b[39;49m\u001b[39mFalse\u001b[39;49;00m,\n\u001b[0;32m    496\u001b[0m             preload_content\u001b[39m=\u001b[39;49m\u001b[39mFalse\u001b[39;49;00m,\n\u001b[0;32m    497\u001b[0m             decode_content\u001b[39m=\u001b[39;49m\u001b[39mFalse\u001b[39;49;00m,\n\u001b[0;32m    498\u001b[0m             retries\u001b[39m=\u001b[39;49m\u001b[39mself\u001b[39;49m\u001b[39m.\u001b[39;49mmax_retries,\n\u001b[0;32m    499\u001b[0m             timeout\u001b[39m=\u001b[39;49mtimeout,\n\u001b[0;32m    500\u001b[0m         )\n\u001b[0;32m    502\u001b[0m     \u001b[39m# Send the request.\u001b[39;00m\n\u001b[0;32m    503\u001b[0m     \u001b[39melse\u001b[39;00m:\n\u001b[0;32m    504\u001b[0m         \u001b[39mif\u001b[39;00m \u001b[39mhasattr\u001b[39m(conn, \u001b[39m\"\u001b[39m\u001b[39mproxy_pool\u001b[39m\u001b[39m\"\u001b[39m):\n",
      "File \u001b[1;32mc:\\Users\\AliApg\\AppData\\Local\\Programs\\Python\\Python310\\lib\\site-packages\\urllib3\\connectionpool.py:703\u001b[0m, in \u001b[0;36mHTTPConnectionPool.urlopen\u001b[1;34m(self, method, url, body, headers, retries, redirect, assert_same_host, timeout, pool_timeout, release_conn, chunked, body_pos, **response_kw)\u001b[0m\n\u001b[0;32m    700\u001b[0m     \u001b[39mself\u001b[39m\u001b[39m.\u001b[39m_prepare_proxy(conn)\n\u001b[0;32m    702\u001b[0m \u001b[39m# Make the request on the httplib connection object.\u001b[39;00m\n\u001b[1;32m--> 703\u001b[0m httplib_response \u001b[39m=\u001b[39m \u001b[39mself\u001b[39;49m\u001b[39m.\u001b[39;49m_make_request(\n\u001b[0;32m    704\u001b[0m     conn,\n\u001b[0;32m    705\u001b[0m     method,\n\u001b[0;32m    706\u001b[0m     url,\n\u001b[0;32m    707\u001b[0m     timeout\u001b[39m=\u001b[39;49mtimeout_obj,\n\u001b[0;32m    708\u001b[0m     body\u001b[39m=\u001b[39;49mbody,\n\u001b[0;32m    709\u001b[0m     headers\u001b[39m=\u001b[39;49mheaders,\n\u001b[0;32m    710\u001b[0m     chunked\u001b[39m=\u001b[39;49mchunked,\n\u001b[0;32m    711\u001b[0m )\n\u001b[0;32m    713\u001b[0m \u001b[39m# If we're going to release the connection in ``finally:``, then\u001b[39;00m\n\u001b[0;32m    714\u001b[0m \u001b[39m# the response doesn't need to know about the connection. Otherwise\u001b[39;00m\n\u001b[0;32m    715\u001b[0m \u001b[39m# it will also try to release it and we'll have a double-release\u001b[39;00m\n\u001b[0;32m    716\u001b[0m \u001b[39m# mess.\u001b[39;00m\n\u001b[0;32m    717\u001b[0m response_conn \u001b[39m=\u001b[39m conn \u001b[39mif\u001b[39;00m \u001b[39mnot\u001b[39;00m release_conn \u001b[39melse\u001b[39;00m \u001b[39mNone\u001b[39;00m\n",
      "File \u001b[1;32mc:\\Users\\AliApg\\AppData\\Local\\Programs\\Python\\Python310\\lib\\site-packages\\urllib3\\connectionpool.py:449\u001b[0m, in \u001b[0;36mHTTPConnectionPool._make_request\u001b[1;34m(self, conn, method, url, timeout, chunked, **httplib_request_kw)\u001b[0m\n\u001b[0;32m    444\u001b[0m             httplib_response \u001b[39m=\u001b[39m conn\u001b[39m.\u001b[39mgetresponse()\n\u001b[0;32m    445\u001b[0m         \u001b[39mexcept\u001b[39;00m \u001b[39mBaseException\u001b[39;00m \u001b[39mas\u001b[39;00m e:\n\u001b[0;32m    446\u001b[0m             \u001b[39m# Remove the TypeError from the exception chain in\u001b[39;00m\n\u001b[0;32m    447\u001b[0m             \u001b[39m# Python 3 (including for exceptions like SystemExit).\u001b[39;00m\n\u001b[0;32m    448\u001b[0m             \u001b[39m# Otherwise it looks like a bug in the code.\u001b[39;00m\n\u001b[1;32m--> 449\u001b[0m             six\u001b[39m.\u001b[39;49mraise_from(e, \u001b[39mNone\u001b[39;49;00m)\n\u001b[0;32m    450\u001b[0m \u001b[39mexcept\u001b[39;00m (SocketTimeout, BaseSSLError, SocketError) \u001b[39mas\u001b[39;00m e:\n\u001b[0;32m    451\u001b[0m     \u001b[39mself\u001b[39m\u001b[39m.\u001b[39m_raise_timeout(err\u001b[39m=\u001b[39me, url\u001b[39m=\u001b[39murl, timeout_value\u001b[39m=\u001b[39mread_timeout)\n",
      "File \u001b[1;32m<string>:3\u001b[0m, in \u001b[0;36mraise_from\u001b[1;34m(value, from_value)\u001b[0m\n",
      "File \u001b[1;32mc:\\Users\\AliApg\\AppData\\Local\\Programs\\Python\\Python310\\lib\\site-packages\\urllib3\\connectionpool.py:444\u001b[0m, in \u001b[0;36mHTTPConnectionPool._make_request\u001b[1;34m(self, conn, method, url, timeout, chunked, **httplib_request_kw)\u001b[0m\n\u001b[0;32m    441\u001b[0m \u001b[39mexcept\u001b[39;00m \u001b[39mTypeError\u001b[39;00m:\n\u001b[0;32m    442\u001b[0m     \u001b[39m# Python 3\u001b[39;00m\n\u001b[0;32m    443\u001b[0m     \u001b[39mtry\u001b[39;00m:\n\u001b[1;32m--> 444\u001b[0m         httplib_response \u001b[39m=\u001b[39m conn\u001b[39m.\u001b[39;49mgetresponse()\n\u001b[0;32m    445\u001b[0m     \u001b[39mexcept\u001b[39;00m \u001b[39mBaseException\u001b[39;00m \u001b[39mas\u001b[39;00m e:\n\u001b[0;32m    446\u001b[0m         \u001b[39m# Remove the TypeError from the exception chain in\u001b[39;00m\n\u001b[0;32m    447\u001b[0m         \u001b[39m# Python 3 (including for exceptions like SystemExit).\u001b[39;00m\n\u001b[0;32m    448\u001b[0m         \u001b[39m# Otherwise it looks like a bug in the code.\u001b[39;00m\n\u001b[0;32m    449\u001b[0m         six\u001b[39m.\u001b[39mraise_from(e, \u001b[39mNone\u001b[39;00m)\n",
      "File \u001b[1;32mc:\\Users\\AliApg\\AppData\\Local\\Programs\\Python\\Python310\\lib\\http\\client.py:1374\u001b[0m, in \u001b[0;36mHTTPConnection.getresponse\u001b[1;34m(self)\u001b[0m\n\u001b[0;32m   1372\u001b[0m \u001b[39mtry\u001b[39;00m:\n\u001b[0;32m   1373\u001b[0m     \u001b[39mtry\u001b[39;00m:\n\u001b[1;32m-> 1374\u001b[0m         response\u001b[39m.\u001b[39;49mbegin()\n\u001b[0;32m   1375\u001b[0m     \u001b[39mexcept\u001b[39;00m \u001b[39mConnectionError\u001b[39;00m:\n\u001b[0;32m   1376\u001b[0m         \u001b[39mself\u001b[39m\u001b[39m.\u001b[39mclose()\n",
      "File \u001b[1;32mc:\\Users\\AliApg\\AppData\\Local\\Programs\\Python\\Python310\\lib\\http\\client.py:318\u001b[0m, in \u001b[0;36mHTTPResponse.begin\u001b[1;34m(self)\u001b[0m\n\u001b[0;32m    316\u001b[0m \u001b[39m# read until we get a non-100 response\u001b[39;00m\n\u001b[0;32m    317\u001b[0m \u001b[39mwhile\u001b[39;00m \u001b[39mTrue\u001b[39;00m:\n\u001b[1;32m--> 318\u001b[0m     version, status, reason \u001b[39m=\u001b[39m \u001b[39mself\u001b[39;49m\u001b[39m.\u001b[39;49m_read_status()\n\u001b[0;32m    319\u001b[0m     \u001b[39mif\u001b[39;00m status \u001b[39m!=\u001b[39m CONTINUE:\n\u001b[0;32m    320\u001b[0m         \u001b[39mbreak\u001b[39;00m\n",
      "File \u001b[1;32mc:\\Users\\AliApg\\AppData\\Local\\Programs\\Python\\Python310\\lib\\http\\client.py:279\u001b[0m, in \u001b[0;36mHTTPResponse._read_status\u001b[1;34m(self)\u001b[0m\n\u001b[0;32m    278\u001b[0m \u001b[39mdef\u001b[39;00m \u001b[39m_read_status\u001b[39m(\u001b[39mself\u001b[39m):\n\u001b[1;32m--> 279\u001b[0m     line \u001b[39m=\u001b[39m \u001b[39mstr\u001b[39m(\u001b[39mself\u001b[39;49m\u001b[39m.\u001b[39;49mfp\u001b[39m.\u001b[39;49mreadline(_MAXLINE \u001b[39m+\u001b[39;49m \u001b[39m1\u001b[39;49m), \u001b[39m\"\u001b[39m\u001b[39miso-8859-1\u001b[39m\u001b[39m\"\u001b[39m)\n\u001b[0;32m    280\u001b[0m     \u001b[39mif\u001b[39;00m \u001b[39mlen\u001b[39m(line) \u001b[39m>\u001b[39m _MAXLINE:\n\u001b[0;32m    281\u001b[0m         \u001b[39mraise\u001b[39;00m LineTooLong(\u001b[39m\"\u001b[39m\u001b[39mstatus line\u001b[39m\u001b[39m\"\u001b[39m)\n",
      "File \u001b[1;32mc:\\Users\\AliApg\\AppData\\Local\\Programs\\Python\\Python310\\lib\\socket.py:705\u001b[0m, in \u001b[0;36mSocketIO.readinto\u001b[1;34m(self, b)\u001b[0m\n\u001b[0;32m    703\u001b[0m \u001b[39mwhile\u001b[39;00m \u001b[39mTrue\u001b[39;00m:\n\u001b[0;32m    704\u001b[0m     \u001b[39mtry\u001b[39;00m:\n\u001b[1;32m--> 705\u001b[0m         \u001b[39mreturn\u001b[39;00m \u001b[39mself\u001b[39;49m\u001b[39m.\u001b[39;49m_sock\u001b[39m.\u001b[39;49mrecv_into(b)\n\u001b[0;32m    706\u001b[0m     \u001b[39mexcept\u001b[39;00m timeout:\n\u001b[0;32m    707\u001b[0m         \u001b[39mself\u001b[39m\u001b[39m.\u001b[39m_timeout_occurred \u001b[39m=\u001b[39m \u001b[39mTrue\u001b[39;00m\n",
      "File \u001b[1;32mc:\\Users\\AliApg\\AppData\\Local\\Programs\\Python\\Python310\\lib\\ssl.py:1274\u001b[0m, in \u001b[0;36mSSLSocket.recv_into\u001b[1;34m(self, buffer, nbytes, flags)\u001b[0m\n\u001b[0;32m   1270\u001b[0m     \u001b[39mif\u001b[39;00m flags \u001b[39m!=\u001b[39m \u001b[39m0\u001b[39m:\n\u001b[0;32m   1271\u001b[0m         \u001b[39mraise\u001b[39;00m \u001b[39mValueError\u001b[39;00m(\n\u001b[0;32m   1272\u001b[0m           \u001b[39m\"\u001b[39m\u001b[39mnon-zero flags not allowed in calls to recv_into() on \u001b[39m\u001b[39m%s\u001b[39;00m\u001b[39m\"\u001b[39m \u001b[39m%\u001b[39m\n\u001b[0;32m   1273\u001b[0m           \u001b[39mself\u001b[39m\u001b[39m.\u001b[39m\u001b[39m__class__\u001b[39m)\n\u001b[1;32m-> 1274\u001b[0m     \u001b[39mreturn\u001b[39;00m \u001b[39mself\u001b[39;49m\u001b[39m.\u001b[39;49mread(nbytes, buffer)\n\u001b[0;32m   1275\u001b[0m \u001b[39melse\u001b[39;00m:\n\u001b[0;32m   1276\u001b[0m     \u001b[39mreturn\u001b[39;00m \u001b[39msuper\u001b[39m()\u001b[39m.\u001b[39mrecv_into(buffer, nbytes, flags)\n",
      "File \u001b[1;32mc:\\Users\\AliApg\\AppData\\Local\\Programs\\Python\\Python310\\lib\\ssl.py:1130\u001b[0m, in \u001b[0;36mSSLSocket.read\u001b[1;34m(self, len, buffer)\u001b[0m\n\u001b[0;32m   1128\u001b[0m \u001b[39mtry\u001b[39;00m:\n\u001b[0;32m   1129\u001b[0m     \u001b[39mif\u001b[39;00m buffer \u001b[39mis\u001b[39;00m \u001b[39mnot\u001b[39;00m \u001b[39mNone\u001b[39;00m:\n\u001b[1;32m-> 1130\u001b[0m         \u001b[39mreturn\u001b[39;00m \u001b[39mself\u001b[39;49m\u001b[39m.\u001b[39;49m_sslobj\u001b[39m.\u001b[39;49mread(\u001b[39mlen\u001b[39;49m, buffer)\n\u001b[0;32m   1131\u001b[0m     \u001b[39melse\u001b[39;00m:\n\u001b[0;32m   1132\u001b[0m         \u001b[39mreturn\u001b[39;00m \u001b[39mself\u001b[39m\u001b[39m.\u001b[39m_sslobj\u001b[39m.\u001b[39mread(\u001b[39mlen\u001b[39m)\n",
      "\u001b[1;31mKeyboardInterrupt\u001b[0m: "
     ]
    }
   ],
   "source": [
    "for ref in references_list:\n",
    "    one_by_one_results = cr.works(query=ref, limit=1)['message']['items'][0]\n",
    "    print(one_by_one_results['title'][0] in references, f\"{one_by_one_results['DOI']: <35}\", one_by_one_results['title'][0], sep='\\t')\n"
   ]
  },
  {
   "cell_type": "code",
   "execution_count": 60,
   "metadata": {},
   "outputs": [
    {
     "data": {
      "text/plain": [
       "0"
      ]
     },
     "execution_count": 60,
     "metadata": {},
     "output_type": "execute_result"
    }
   ],
   "source": [
    "a = list(range(10))\n",
    "a.reverse()\n",
    "a.pop()"
   ]
  },
  {
   "cell_type": "code",
   "execution_count": 56,
   "metadata": {},
   "outputs": [
    {
     "name": "stdout",
     "output_type": "stream",
     "text": [
      "1-5001\n",
      "5002-10001\n",
      "10002-15001\n",
      "15002-19000\n"
     ]
    }
   ],
   "source": [
    "timeout_time = 45*60\n",
    "# export_interval = 2_000\n",
    "export_interval = 5\n",
    "number_of_allowed_retries = 0\n",
    "user_agent = login(user_data_dir=r'D:\\Coding\\Uni\\API\\selenium')[-1]\n",
    "number_of_all_results = 0\n",
    "os.chdir(r'D:\\Coding\\Uni\\API\\Download')\n",
    "\n",
    "querys_txt = open('Querys.txt', 'r+')\n",
    "querys = querys_txt.read().split('\\n')\n",
    "querys = [q for q in querys if q not in os.listdir()]\n",
    "querys_txt.close()\n",
    "\n",
    "url = 'https://www.scopus.com/search/form.uri'\n",
    "search_within = 'ALL'\n",
    "\n",
    "chrome_options = Options()\n",
    "chrome_options.add_argument(\"--disable-blink-features=AutomationControlled\")\n",
    "chrome_options.add_experimental_option(\"excludeSwitches\", [\"enable-automation\"])\n",
    "chrome_options.add_experimental_option(\"useAutomationExtension\", False)\n",
    "chrome_options.add_argument(\"--disable-extensions\");\n",
    "chrome_options.add_argument(r\"user-data-dir=D:\\Coding\\Uni\\API\\selenium\")\n",
    "chrome_options.add_argument(\"--start-maximized\")\n",
    "chrome_options.add_argument(\"--headless=new\")\n",
    "chrome_options.add_argument('--disable-gpu')\n",
    "chrome_options.add_argument('--no-sandbox')\n",
    "chrome_options.add_argument('--disable-dev-shm-usage')\n",
    "chrome_options.add_experimental_option('prefs', {\n",
    "    'download.default_directory': r'D:\\Coding\\Uni\\API\\Download',\n",
    "    'download.prompt_for_download': False,\n",
    "    'download.directory_upgrade': True,\n",
    "    'safebrowsing.enabled': True\n",
    "})\n",
    "\n",
    "ctypes.windll.kernel32.SetThreadExecutionState(0x80000002)\n",
    "\n",
    "try:\n",
    "    log('Search webdriver start')\n",
    "    print()\n",
    "    search_driver = webdriver.Chrome(options=chrome_options)\n",
    "    search_driver.execute_script(\"Object.defineProperty(navigator, 'webdriver', {get: () => undefined})\")\n",
    "    search_driver.execute_cdp_cmd(\"Network.setUserAgentOverride\", {\"userAgent\": user_agent}) \n",
    "    search_driver.get(url)\n",
    "\n",
    "    for input_query in querys:\n",
    "        flag = True\n",
    "        time_spent = retries = 0\n",
    "\n",
    "        start_time = time.time()\n",
    "        directory = r'D:\\Coding\\Uni\\API\\Download\\{}'.format(input_query)\n",
    "\n",
    "        log(f'Serching for \"{input_query}\"')\n",
    "        # print(search_driver.title)\n",
    "\n",
    "        search_within_selector = search_driver.find_element(By.CSS_SELECTOR, 'select[data-testid=\"select-field-select\"]')\n",
    "        search_within_selector.send_keys(search_within)\n",
    "\n",
    "        query_input = search_driver.find_element(By.CSS_SELECTOR, 'input[data-testid=\"search-field-input\"]')\n",
    "        query_input.clear()\n",
    "        query_input.send_keys(input_query)\n",
    "\n",
    "        search_button = search_driver.find_element(By.CSS_SELECTOR, 'button[type=\"submit\"]')\n",
    "        search_button.click()\n",
    "\n",
    "        row_element = WebDriverWait(search_driver, 7).until(EC.presence_of_element_located((By.CSS_SELECTOR,\n",
    "            'div[class=\"SearchResultsHeader-module__Qq2ZF\"]')),\n",
    "            'The number of results was not found!')\n",
    "        result_number_element = row_element.find_element(By.CSS_SELECTOR, 'h2')\n",
    "        number_of_results = result_number_element.text.split()[0].replace(',','')\n",
    "        number_of_results = min(int(number_of_results), 20_000)\n",
    "\n",
    "        list_of_range = list(range(1, number_of_results, export_interval))\n",
    "        list_of_range.append(number_of_results)\n",
    "        first, *interval_list = list_of_range\n",
    "        interval_list.reverse()\n",
    "        second = interval_list.pop()\n",
    "\n",
    "        while flag and retries <= number_of_allowed_retries:\n",
    "            flag = False\n",
    "            search_driver.implicitly_wait(0.5)\n",
    "\n",
    "            export_button = search_driver.find_element(By.CSS_SELECTOR, 'div[class=\"export-dropdown\"]')\n",
    "            export_button.click()\n",
    "\n",
    "            export_div = search_driver.find_element(By.CSS_SELECTOR, 'div[role=\"group\"]')\n",
    "            export_button = export_div.find_element(By.CSS_SELECTOR, 'button')\n",
    "            export_button.click()\n",
    "\n",
    "            all_result_radio_button = search_driver.find_elements(By.CSS_SELECTOR, 'input[id=\"select-current-page\"]')[1]\n",
    "            all_result_radio_button.click()\n",
    "\n",
    "            results_start = search_driver.find_element(By.CSS_SELECTOR, 'input[placeholder=\"From\"')\n",
    "            results_start.clear()\n",
    "            results_start.send_keys(first)\n",
    "\n",
    "            results_end = search_driver.find_element(By.CSS_SELECTOR, 'input[placeholder=\"To\"')\n",
    "            results_end.clear()\n",
    "            results_end.send_keys(second)\n",
    "\n",
    "            checkboxes = search_driver.find_elements(By.CSS_SELECTOR, 'span[class=\"Checkbox-module__SaBg7\"')[2:-1]\n",
    "            for check in checkboxes:\n",
    "                check.click()\n",
    "\n",
    "            all_result_radio_button = search_driver.find_element(By.CSS_SELECTOR, 'button[data-testid=\"submit-export-button\"')\n",
    "            all_result_radio_button.click()\n",
    "\n",
    "            # log(f'Exporting {number_of_results:,} results')\n",
    "            log(f'Exporting {first}-{second}')\n",
    "\n",
    "            last_export_percent = 0\n",
    "            export_progress = tqdm_notebook(total=100)\n",
    "\n",
    "            while True:\n",
    "                time.sleep(1)\n",
    "                if os.path.exists('scopus.csv'):\n",
    "                    number_of_results = pd.read_csv('scopus.csv', low_memory=False).shape[0]\n",
    "                    os.mkdir(directory)\n",
    "                    os.rename('scopus.csv', f'{input_query}\\\\{input_query}-{first}-{second}.csv')\n",
    "                    log(f'Download complete ({number_of_results:,} results)')\n",
    "                    number_of_all_results += number_of_results\n",
    "                    export_progress.close()\n",
    "                    first = second+1\n",
    "                    try:\n",
    "                        second = interval_list.pop()\n",
    "                    except:\n",
    "                        flag = False\n",
    "                        log(f'Exporting \"{input_query}\" has ended')\n",
    "                    print()\n",
    "                    break\n",
    "\n",
    "                try:\n",
    "                    time_spent = time.time() - start_time\n",
    "                    if time_spent > timeout_time or search_driver.find_element(By.CSS_SELECTOR,\n",
    "                            'div[role=\"alert\"]').text.strip().lower().split()[0] == 'unable':\n",
    "                        flag = True\n",
    "                        export_progress.close()\n",
    "                        if time_spent > timeout_time:\n",
    "                            log(f'Timeout ({timeout_time//60} minutes) reached')\n",
    "                        else:\n",
    "                            log('Error occured while exporting')\n",
    "                        retries += 1\n",
    "\n",
    "                        if retries < number_of_allowed_retries:\n",
    "                            log(f'Retrying... (retry number {retries})')\n",
    "                        else:\n",
    "                            log('Moving on to the next query')\n",
    "                        break\n",
    "\n",
    "                    export_percentage = int(search_driver.find_element(By.CSS_SELECTOR,\n",
    "                                                                        'progress').text.strip()[:-1])\n",
    "                    if export_percentage != last_export_percent:\n",
    "                        export_progress.update(export_percentage-last_export_percent)\n",
    "                        last_export_percent = export_percentage\n",
    "                except:pass\n",
    "except Exception  as e:\n",
    "    warnings.warn(str(e))\n",
    "\n",
    "search_driver.quit()\n",
    "ctypes.windll.kernel32.SetThreadExecutionState(0x80000000)\n"
   ]
  },
  {
   "cell_type": "code",
   "execution_count": 46,
   "metadata": {},
   "outputs": [
    {
     "name": "stdout",
     "output_type": "stream",
     "text": [
      "massage \t2023-10-07 16:17:49\n"
     ]
    }
   ],
   "source": [
    "from datetime import datetime\n",
    "def log(massage: str, length: int=5):\n",
    "    # if len(massage) < length:\n",
    "    massage += ' '*(length-len(massage))\n",
    "\n",
    "    print(f'{massage} \\t{datetime.now()}'.rsplit(\".\", 1)[0])\n",
    "\n",
    "log(\"massage\")\n"
   ]
  },
  {
   "cell_type": "code",
   "execution_count": 43,
   "metadata": {},
   "outputs": [
    {
     "name": "stdout",
     "output_type": "stream",
     "text": [
      "yo                                                 1\n"
     ]
    }
   ],
   "source": [
    "massage = 'yo'\n",
    "massage += ' '*(50-len(massage))\n",
    "print(massage, 1)"
   ]
  },
  {
   "cell_type": "code",
   "execution_count": 39,
   "metadata": {},
   "outputs": [
    {
     "name": "stdout",
     "output_type": "stream",
     "text": [
      "Login successful!\n",
      "<!--  Form Name: START -->\n"
     ]
    }
   ],
   "source": [
    "\n",
    "# Initialize a session and set user-agent headers\n",
    "session = requests.Session()\n",
    "headers = {\n",
    "    'User-Agent': 'Mozilla/5.0 (Windows NT 10.0; Win64; x64) AppleWebKit/537.36 '\n",
    "    '(KHTML, like Gecko) Chrome/58.0.3029.110 Safari/537.36'\n",
    "}\n",
    "\n",
    "# Perform a login request to the Scopus website\n",
    "response = session.get(url_1,\n",
    "                       auth=(username, password), headers=headers)\n",
    "\n",
    "# Check if the login was successful (HTTP status code 200)\n",
    "print('Login successful!' if response.status_code == 200 else 'Login failed!')\n",
    "soup = BeautifulSoup(response.text, \"html.parser\")\n",
    "print(soup.prettify().split('\\n')[1])\n"
   ]
  },
  {
   "cell_type": "code",
   "execution_count": null,
   "metadata": {},
   "outputs": [],
   "source": [
    "\n",
    "API_KEY = ''  # Your APIkey\n",
    "\n",
    "resp = session.get(\"https://api.elsevier.com/authenticate/\",\n",
    "                   headers={'Accept': 'application/json',\n",
    "                            'X-ELS-APIKey': API_KEY},\n",
    "                   timeout=60)\n",
    "\n",
    "print(json.dumps(resp.json(),\n",
    "                 sort_keys=True,\n",
    "                 indent=4, separators=(',', ': ')))\n",
    "\n",
    "\n"
   ]
  },
  {
   "cell_type": "code",
   "execution_count": 40,
   "metadata": {},
   "outputs": [
    {
     "name": "stdout",
     "output_type": "stream",
     "text": [
      "<!--  Form Name: START -->\n"
     ]
    }
   ],
   "source": [
    "session = requests.Session()\n",
    "headers = {\n",
    "    'User-Agent': 'Mozilla/5.0 (Windows NT 10.0; Win64; x64) AppleWebKit/537.36 '\n",
    "    '(KHTML, like Gecko) Chrome/58.0.3029.110 Safari/537.36'\n",
    "}\n",
    "\n",
    "values = {'username': username}\n",
    "\n",
    "r = session.post(url_1, data=values)\n",
    "\n",
    "soup = BeautifulSoup(r.text, \"html.parser\")\n",
    "# print(soup.prettify())\n",
    "print(soup.prettify().split('\\n')[1])\n",
    "\n"
   ]
  },
  {
   "cell_type": "code",
   "execution_count": 6,
   "metadata": {},
   "outputs": [
    {
     "name": "stdout",
     "output_type": "stream",
     "text": [
      "<!--[if lt IE 7]> <html class=\"no-js ie6 oldie\" lang=\"en-US\"> <![endif]-->\n"
     ]
    }
   ],
   "source": [
    "import requests\n",
    "from bs4 import BeautifulSoup\n",
    "\n",
    "# username = 'mr_ir26@exelica.com'\n",
    "# password = 'J!EyfYaNN23'\n",
    "\n",
    "username = 'aliapg7899@gmail.com'\n",
    "password = 'aa1aa2aa3'\n",
    "\n",
    "session = requests.Session()\n",
    "\n",
    "initial_url = 'https://www.scopus.com/#basic'\n",
    "\n",
    "headers = {\n",
    "    'User-Agent': 'Mozilla/5.0 (Windows NT 10.0; Win64; x64) AppleWebKit\\\n",
    "/537.36 (KHTML, like Gecko) Chrome/91.0.4472.124 Safari/537.36'\n",
    "}\n",
    "\n",
    "response = session.get(initial_url, headers=headers)\n",
    "\n",
    "login_data = {\n",
    "    'pf.username': username,\n",
    "    'action': 'emailContinue'\n",
    "}\n",
    "\n",
    "login_url = 'https://id.elsevier.com/as/hvHFUkUsxa/resume/as/authorization.ping'\n",
    "\n",
    "response1 = session.post(initial_url, data=login_data)\n",
    "\n",
    "\n",
    "password_data = {\n",
    "    'password': password,\n",
    "    'rememberme': 'on',\n",
    "    'action': 'signin'\n",
    "}\n",
    "\n",
    "response2 = session.post(response1.url, data=password_data)\n",
    "\n",
    "response3 = session.get(response2.url)\n",
    "soup = BeautifulSoup(response3.content, 'html.parser')\n",
    "\n",
    "print(soup.prettify().split('\\n')[1])\n",
    "# print(soup.prettify())\n",
    "\n",
    "with open('yo.html', 'w') as f :\n",
    "    f.write(response3.text)\n",
    "\n",
    "session.close()\n"
   ]
  },
  {
   "cell_type": "code",
   "execution_count": 9,
   "metadata": {},
   "outputs": [
    {
     "name": "stdout",
     "output_type": "stream",
     "text": [
      "<!DOCTYPE html>\n",
      "<!--[if lt IE 7]> <html class=\"no-js ie6 oldie\" lang=\"en-US\"> <![endif]-->\n",
      "<!--[if IE 7]>    <html class=\"no-js ie7 oldie\" lang=\"en-US\"> <![endif]-->\n",
      "<!--[if IE 8]>    <html class=\"no-js ie8 oldie\" lang=\"en-US\"> <![endif]-->\n",
      "<!--[if gt IE 8]><!-->\n",
      "<html class=\"no-js\" lang=\"en-US\">\n",
      " <!--<![endif]-->\n",
      " <head>\n",
      "  <title>\n",
      "   Attention Required! | Cloudflare\n",
      "  </title>\n",
      "  <meta charset=\"utf-8\"/>\n",
      "  <meta content=\"text/html; charset=utf-8\" http-equiv=\"Content-Type\"/>\n",
      "  <meta content=\"IE=Edge\" http-equiv=\"X-UA-Compatible\"/>\n",
      "  <meta content=\"noindex, nofollow\" name=\"robots\"/>\n",
      "  <meta content=\"width=device-width,initial-scale=1\" name=\"viewport\"/>\n",
      "  <link href=\"/cdn-cgi/styles/cf.errors.css\" id=\"cf_styles-css\" rel=\"stylesheet\"/>\n",
      "  <!--[if lt IE 9]><link rel=\"stylesheet\" id='cf_styles-ie-css' href=\"/cdn-cgi/styles/cf.errors.ie.css\" /><![endif]-->\n",
      "  <style>\n",
      "   body{margin:0;padding:0}\n",
      "  </style>\n",
      "  <!--[if gte IE 10]><!-->\n",
      "  <script>\n",
      "   if (!navigator.cookieEnabled) {\n",
      "    window.addEventListener('DOMContentLoaded', function () {\n",
      "      var cookieEl = document.getElementById('cookie-alert');\n",
      "      cookieEl.style.display = 'block';\n",
      "    })\n",
      "  }\n",
      "  </script>\n",
      "  <!--<![endif]-->\n",
      " </head>\n",
      " <body>\n",
      "  <div id=\"cf-wrapper\">\n",
      "   <div class=\"cf-alert cf-alert-error cf-cookie-error\" data-translate=\"enable_cookies\" id=\"cookie-alert\">\n",
      "    Please enable cookies.\n",
      "   </div>\n",
      "   <div class=\"cf-error-details-wrapper\" id=\"cf-error-details\">\n",
      "    <div class=\"cf-wrapper cf-header cf-error-overview\">\n",
      "     <h1 data-translate=\"block_headline\">\n",
      "      Sorry, you have been blocked\n",
      "     </h1>\n",
      "     <h2 class=\"cf-subheadline\">\n",
      "      <span data-translate=\"unable_to_access\">\n",
      "       You are unable to access\n",
      "      </span>\n",
      "      scopus.com\n",
      "     </h2>\n",
      "    </div>\n",
      "    <!-- /.header -->\n",
      "    <div class=\"cf-section cf-highlight\">\n",
      "     <div class=\"cf-wrapper\">\n",
      "      <div class=\"cf-screenshot-container cf-screenshot-full\">\n",
      "       <span class=\"cf-no-screenshot error\">\n",
      "       </span>\n",
      "      </div>\n",
      "     </div>\n",
      "    </div>\n",
      "    <!-- /.captcha-container -->\n",
      "    <div class=\"cf-section cf-wrapper\">\n",
      "     <div class=\"cf-columns two\">\n",
      "      <div class=\"cf-column\">\n",
      "       <h2 data-translate=\"blocked_why_headline\">\n",
      "        Why have I been blocked?\n",
      "       </h2>\n",
      "       <p data-translate=\"blocked_why_detail\">\n",
      "        This website is using a security service to protect itself from online attacks. The action you just performed triggered the security solution. There are several actions that could trigger this block including submitting a certain word or phrase, a SQL command or malformed data.\n",
      "       </p>\n",
      "      </div>\n",
      "      <div class=\"cf-column\">\n",
      "       <h2 data-translate=\"blocked_resolve_headline\">\n",
      "        What can I do to resolve this?\n",
      "       </h2>\n",
      "       <p data-translate=\"blocked_resolve_detail\">\n",
      "        You can email the site owner to let them know you were blocked. Please include what you were doing when this page came up and the Cloudflare Ray ID found at the bottom of this page.\n",
      "       </p>\n",
      "      </div>\n",
      "     </div>\n",
      "    </div>\n",
      "    <!-- /.section -->\n",
      "    <div class=\"cf-error-footer cf-wrapper w-240 lg:w-full py-10 sm:py-4 sm:px-8 mx-auto text-center sm:text-left border-solid border-0 border-t border-gray-300\">\n",
      "     <p class=\"text-13\">\n",
      "      <span class=\"cf-footer-item sm:block sm:mb-1\">\n",
      "       Cloudflare Ray ID:\n",
      "       <strong class=\"font-semibold\">\n",
      "        802fa6aeae8f381c\n",
      "       </strong>\n",
      "      </span>\n",
      "      <span class=\"cf-footer-separator sm:hidden\">\n",
      "       •\n",
      "      </span>\n",
      "      <span class=\"cf-footer-item hidden sm:block sm:mb-1\" id=\"cf-footer-item-ip\">\n",
      "       Your IP:\n",
      "       <button class=\"cf-footer-ip-reveal-btn\" id=\"cf-footer-ip-reveal\" type=\"button\">\n",
      "        Click to reveal\n",
      "       </button>\n",
      "       <span class=\"hidden\" id=\"cf-footer-ip\">\n",
      "        5.126.78.226\n",
      "       </span>\n",
      "       <span class=\"cf-footer-separator sm:hidden\">\n",
      "        •\n",
      "       </span>\n",
      "      </span>\n",
      "      <span class=\"cf-footer-item sm:block sm:mb-1\">\n",
      "       <span>\n",
      "        Performance &amp; security by\n",
      "       </span>\n",
      "       <a href=\"https://www.cloudflare.com/5xx-error-landing\" id=\"brand_link\" rel=\"noopener noreferrer\" target=\"_blank\">\n",
      "        Cloudflare\n",
      "       </a>\n",
      "      </span>\n",
      "     </p>\n",
      "     <script>\n",
      "      (function(){function d(){var b=a.getElementById(\"cf-footer-item-ip\"),c=a.getElementById(\"cf-footer-ip-reveal\");b&&\"classList\"in b&&(b.classList.remove(\"hidden\"),c.addEventListener(\"click\",function(){c.classList.add(\"hidden\");a.getElementById(\"cf-footer-ip\").classList.remove(\"hidden\")}))}var a=document;document.addEventListener&&a.addEventListener(\"DOMContentLoaded\",d)})();\n",
      "     </script>\n",
      "    </div>\n",
      "    <!-- /.error-footer -->\n",
      "   </div>\n",
      "   <!-- /#cf-error-details -->\n",
      "  </div>\n",
      "  <!-- /#cf-wrapper -->\n",
      "  <script>\n",
      "   window._cf_translation = {};\n",
      "  </script>\n",
      " </body>\n",
      "</html>\n",
      "\n"
     ]
    }
   ],
   "source": [
    "print(soup.prettify())\n"
   ]
  },
  {
   "cell_type": "code",
   "execution_count": 59,
   "metadata": {},
   "outputs": [
    {
     "name": "stdout",
     "output_type": "stream",
     "text": [
      "<!--  Form Name: START -->\n",
      "<!--  Form Name: SIGN_IN_ENTER_PASSWORD -->\n",
      "<!--  Form Name: SIGN_IN_ENTER_PASSWORD -->\n"
     ]
    }
   ],
   "source": [
    "soup = BeautifulSoup(response.content, 'html.parser')\n",
    "print(soup.prettify().split('\\n')[1])\n",
    "\n",
    "soup1 = BeautifulSoup(response1.content, 'html.parser')\n",
    "print(soup1.prettify().split('\\n')[1])\n",
    "\n",
    "soup2 = BeautifulSoup(response2.content, 'html.parser')\n",
    "print(soup2.prettify().split('\\n')[1])\n",
    "\n"
   ]
  },
  {
   "cell_type": "code",
   "execution_count": null,
   "metadata": {},
   "outputs": [],
   "source": [
    "from selenium import webdriver\n",
    "\n",
    "# Specify the path to the WebDriver (e.g., chromedriver.exe for Chrome)\n",
    "driver = webdriver.Chrome(executable_path='path_to_chromedriver.exe')\n",
    "\n",
    "# Open the website\n",
    "driver.get('https://example.com')\n",
    "\n",
    "# Find and interact with elements on the page (e.g., username and password fields)\n",
    "username_field = driver.find_element_by_id('username')\n",
    "password_field = driver.find_element_by_id('password')\n",
    "\n",
    "# Fill in login credentials\n",
    "username_field.send_keys('your_username')\n",
    "password_field.send_keys('your_password')\n",
    "\n",
    "# Submit the login form\n",
    "login_button = driver.find_element_by_id('login-button')\n",
    "login_button.click()\n"
   ]
  },
  {
   "cell_type": "code",
   "execution_count": 4,
   "metadata": {},
   "outputs": [],
   "source": [
    "# Create ChromeOptions object\n",
    "chrome_options = Options()\n",
    "\n",
    "# Set the window size to match the screen resolution\n",
    "chrome_options.add_argument(\"--start-maximized\")\n",
    "\n",
    "# Initialize the Chrome WebDriver with the options\n",
    "driver = webdriver.Chrome(options=chrome_options)\n",
    "\n",
    "# Navigate to the initial URL\n",
    "driver.get('https://www.scopus.com/')\n",
    "\n",
    "# Locate the button by its class attribute\n",
    "sign_in_button = driver.find_element(By.CSS_SELECTOR, 'button[data-testid=\"header-sign-in\"]')\n",
    "sign_in_button.click()\n",
    "\n",
    "# Find and interact with the email input field\n",
    "email_input = driver.find_element(By.CSS_SELECTOR, 'input[name=\"pf.username\"]')\n",
    "email_input.send_keys(user_name)\n",
    "\n",
    "# Find and click the \"Continue\" button\n",
    "continue_button = driver.find_element(By.CSS_SELECTOR, 'button[name=\"action\"]')\n",
    "continue_button.click()\n",
    "\n",
    "# Find and interact with the password input field\n",
    "password_input = driver.find_element(By.CSS_SELECTOR, 'input[name=\"password\"]')\n",
    "password_input.send_keys(pass_word)\n",
    "\n",
    "# Find and click the \"Sign In\" button\n",
    "signin_button = driver.find_element(By.CSS_SELECTOR, 'button[name=\"action\"]')\n",
    "signin_button.click()\n",
    "\n",
    "# Wait for the page to load (you may need to adjust the wait time)\n",
    "driver.implicitly_wait(10)\n",
    "\n",
    "# Extract session cookies from Selenium WebDriver\n",
    "selenium_cookies = driver.get_cookies()\n",
    "\n",
    "# Close the Selenium WebDriver\n",
    "driver.quit()\n",
    "\n",
    "headers = {\n",
    "\"User-Agent\":\n",
    "    \"Mozilla/5.0 (Windows NT 6.3; WOW64) AppleWebKit/537.36 (KHTML, like Gecko) Chrome/44.0.2403.157 Safari/537.36\"\n",
    "}\n",
    "\n",
    "# Create a new requests session\n",
    "session = requests.Session()\n",
    "session.headers.update(headers)\n",
    "\n",
    "for cookie in selenium_cookies:\n",
    "    c = {cookie['name']: cookie['value']}\n",
    "    session.cookies.update(c)\n",
    "\n",
    "# Use the requests session to scrape data from the authenticated page\n",
    "response = session.get('https://www.scopus.com/')\n",
    "\n",
    "# You can now parse the response content or perform further scraping with requests\n",
    "with open('yo.html', 'w') as f :\n",
    "    f.write(response.text)\n",
    "\n",
    "# Close the requests session when done\n",
    "# session.close()\n"
   ]
  },
  {
   "cell_type": "code",
   "execution_count": 35,
   "metadata": {},
   "outputs": [
    {
     "data": {
      "text/plain": [
       "'J!EyfYaNN23'"
      ]
     },
     "execution_count": 35,
     "metadata": {},
     "output_type": "execute_result"
    }
   ],
   "source": [
    "password"
   ]
  },
  {
   "cell_type": "code",
   "execution_count": 45,
   "metadata": {},
   "outputs": [
    {
     "name": "stdout",
     "output_type": "stream",
     "text": [
      "Resulting URL: https://id.elsevier.com/as/authorization.oauth2?platSite=SC%2Fscopus&ui_locales=en-US&scope=openid+profile+email+els_auth_info+els_analytics_info+urn%3Acom%3Aelsevier%3Aidp%3Apolicy%3Aproduct%3Aindv_identity&els_policy=idp_policy_indv_identity_plus&response_type=code&redirect_uri=https%3A%2F%2Fwww.scopus.com%2Fauthredirect.uri%3FtxGid%3Df544d05c4a337ef314bf76ef40d800f3&state=userLogin%7CtxId%3DF651EB1358279E9073FA45A6756801A2.i-0e84cca0da46d242b%3A5&authType=SINGLE_SIGN_IN&prompt=login&client_id=SCOPUS\n"
     ]
    }
   ],
   "source": [
    "import requests\n",
    "\n",
    "# Define the URL\n",
    "url = \"https://id.elsevier.com/as/authorization.oauth2?platSite=SC%2Fscopus&ui_locales=en-US&scope=openid+profile+email+els_auth_info+els_analytics_info+urn%3Acom%3Aelsevier%3Aidp%3Apolicy%3Aproduct%3Aindv_identity&els_policy=idp_policy_indv_identity_plus&response_type=code&redirect_uri=https%3A%2F%2Fwww.scopus.com%2Fauthredirect.uri%3FtxGid%3Df544d05c4a337ef314bf76ef40d800f3&state=userLogin%7CtxId%3DF651EB1358279E9073FA45A6756801A2.i-0e84cca0da46d242b%3A5&authType=SINGLE_SIGN_IN&prompt=login&client_id=SCOPUS\"\n",
    "session = requests.Session()\n",
    "# Define the email\n",
    "email = \"mr_ir26@exelica.com\"\n",
    "\n",
    "# Define the data to be sent in the POST request\n",
    "data = {\n",
    "    'pf.username': email,\n",
    "    'action': 'emailContinue',\n",
    "}\n",
    "\n",
    "# Define the headers to mimic a browser\n",
    "headers = {\n",
    "    'User-Agent': 'Mozilla/5.0 (Windows NT 10.0; Win64; x64) AppleWebKit/537.36 (KHTML, like Gecko) Chrome/91.0.4472.124 Safari/537.36',\n",
    "    'Referer': url,\n",
    "}\n",
    "\n",
    "# Make the POST request to the URL\n",
    "response = session.post(url, data=data, headers=headers)\n",
    "\n",
    "# Extract the resulting URL\n",
    "resulting_url = response.url\n",
    "\n",
    "# Print the resulting URL\n",
    "print(\"Resulting URL:\", resulting_url)\n"
   ]
  },
  {
   "cell_type": "code",
   "execution_count": 50,
   "metadata": {},
   "outputs": [
    {
     "name": "stdout",
     "output_type": "stream",
     "text": [
      "Resulting URL: https://id.elsevier.com/as/authorization.oauth2?platSite=SC%2Fscopus&ui_locales=en-US&scope=openid+profile+email+els_auth_info+els_analytics_info+urn%3Acom%3Aelsevier%3Aidp%3Apolicy%3Aproduct%3Aindv_identity&els_policy=idp_policy_indv_identity_plus&response_type=code&redirect_uri=https%3A%2F%2Fwww.scopus.com%2Fauthredirect.uri%3FtxGid%3Df544d05c4a337ef314bf76ef40d800f3&state=userLogin%7CtxId%3DF651EB1358279E9073FA45A6756801A2.i-0e84cca0da46d242b%3A5&authType=SINGLE_SIGN_IN&prompt=login&client_id=SCOPUS\n"
     ]
    }
   ],
   "source": [
    "# Define the URL\n",
    "url = resulting_url\n",
    "\n",
    "# Define the password and other form data\n",
    "password = \"J!EyfYaNN23\"\n",
    "\n",
    "data = {\n",
    "    'pf.username': email,\n",
    "    'password': password,\n",
    "    # 'rememberme': 'true',  # To check the \"Stay signed in\" checkbox\n",
    "    # 'action': 'signin',\n",
    "}\n",
    "\n",
    "# Define the headers to mimic a browser\n",
    "headers = {\n",
    "    'User-Agent': 'Mozilla/5.0 (Windows NT 10.0; Win64; x64) AppleWebKit/537.36 (KHTML, like Gecko) Chrome/91.0.4472.124 Safari/537.36',\n",
    "    'Referer': url,\n",
    "}\n",
    "\n",
    "# Make the POST request to the URL\n",
    "response = session.post(url, data=data, headers=headers)\n",
    "\n",
    "# Extract the resulting URL\n",
    "resulting_url = response.url\n",
    "\n",
    "# Print the resulting URL\n",
    "print(\"Resulting URL:\", resulting_url)\n"
   ]
  },
  {
   "cell_type": "code",
   "execution_count": 51,
   "metadata": {},
   "outputs": [
    {
     "name": "stdout",
     "output_type": "stream",
     "text": [
      "<!--  Form Name: START -->\n"
     ]
    }
   ],
   "source": [
    "response = session.get(resulting_url)\n",
    "soup = BeautifulSoup(response.content, 'html.parser')\n",
    "# print(soup.prettify())\n",
    "print(soup.prettify().split('\\n')[1])\n"
   ]
  },
  {
   "cell_type": "code",
   "execution_count": null,
   "metadata": {},
   "outputs": [],
   "source": [
    "def login(user_name: str = 'mr_ir26@exelica.com', pass_word: str = 'J!EyfYaNN23', keep_open: bool = False, headless: bool = True,\n",
    "          user_data_dir: str = r\"user-data-dir=C:\\Users\\AliApg\\AppData\\Local\\Google\\Chrome\\User Data\\Default\\selenium\") -> bool | tuple[\n",
    "              bool, str, list[dict[str , str | bool]], WebDriver | None, str]:\n",
    "    \"\"\"\n",
    "    This function logs in to the Scopus website using the provided username and password.\n",
    "\n",
    "    Args:\n",
    "        user_name (str): Your Scopus account username. Default is 'mr_ir26@exelica.com'.\n",
    "        pass_word (str): Your Scopus account password. Default is 'J!EyfYaNN23'.\n",
    "        keep_open (bool): If True, the browser window will remain open after login. Default is False.\n",
    "        headless (bool): If True, the browser will run in headless mode (without a graphical interface). Default is True.\n",
    "        user_data_dir (str): Path to the user data directory for the Chrome browser. Default is a specific directory path.\n",
    "\n",
    "    Returns:\n",
    "        Tuple[bool, str, list, Optional[webdriver.Chrome], str]:\n",
    "            - A tuple containing a boolean indicating whether the login was successful (True) or not (False).\n",
    "            - The page title after login.\n",
    "            - List of Selenium cookies.\n",
    "            - WebDriver instance (None if keep_open is True, otherwise a webdriver.Chrome instance).\n",
    "            - User data directory path used for the Chrome browser.\n",
    "\n",
    "    Raises:\n",
    "        TimeoutException: If certain elements on the Scopus website are not found within the specified time limit.\n",
    "\n",
    "    Usage:\n",
    "        Set your Scopus account username and password in the 'user_name' and 'pass_word' function arguments when calling this function, or use the default values.\n",
    "        After calling this function, check the return value to verify if the login was successful.\n",
    "\n",
    "    Example:\n",
    "        >>> login(keep_open=False)\n",
    "        (True, 'Scopus - Document search | Signed in', [<selenium cookie objects>], None,\n",
    "        \"user-data-dir=C:\\\\Users\\\\AliApg\\\\AppData\\\\Local\\\\Google\\\\Chrome\\\\User Data\\\\Default\\\\selenium\")\n",
    "    \"\"\"\n",
    "\n",
    "    # Configure Chrome options\n",
    "    chrome_options = Options()\n",
    "    chrome_options.add_argument(user_data_dir)\n",
    "    chrome_options.add_argument(\"--start-maximized\")\n",
    "    if headless:\n",
    "        chrome_options.add_argument(\"--headless=new\")\n",
    "\n",
    "    # Initialize Chrome driver\n",
    "    driver = webdriver.Chrome(options=chrome_options)\n",
    "    driver.get('https://www.scopus.com/')\n",
    "\n",
    "    titles = ['Scopus preview -  \\nScopus - Welcome to Scopus', 'Scopus - Document search | Signed in']\n",
    "    if driver.find_element(\n",
    "        By.CSS_SELECTOR, 'title').text.strip() in titles:\n",
    "        print('You are already signed in!')\n",
    "        return True\n",
    "\n",
    "    # Wait for the login popup or sign-in button to appear\n",
    "    WebDriverWait(driver, 15).until(\n",
    "        EC.any_of(\n",
    "            EC.presence_of_element_located(\n",
    "                (By.CSS_SELECTOR, 'button[aria-label=\"Close\"]')),\n",
    "            EC.presence_of_element_located(\n",
    "                (By.CSS_SELECTOR, 'button[data-testid=\"header-sign-in\"]'))\n",
    "        ), 'Close popup button or sign in button was not found!')\n",
    "\n",
    "    # Close the popup if it appears\n",
    "    try:\n",
    "        pop_up_close_button = driver.find_element(\n",
    "            By.CSS_SELECTOR, 'button[aria-label=\"Close\"]')\n",
    "        pop_up_close_button.click()\n",
    "    except NoSuchElementException:\n",
    "        pass\n",
    "\n",
    "    # Click on the sign-in button\n",
    "    sign_in_button = WebDriverWait(driver, 10).until(\n",
    "        EC.presence_of_element_located(\n",
    "            (By.CSS_SELECTOR, 'button[data-testid=\"header-sign-in\"]')),\n",
    "        'Sign-in button was not found!'\n",
    "    )\n",
    "    sign_in_button.click()\n",
    "\n",
    "    # Fill in the username and click continue\n",
    "    email_input = driver.find_element(\n",
    "        By.CSS_SELECTOR, 'input[name=\"pf.username\"]')\n",
    "    email_input.send_keys(user_name)\n",
    "\n",
    "    continue_button = driver.find_element(\n",
    "        By.CSS_SELECTOR, 'button[name=\"action\"]')\n",
    "    continue_button.click()\n",
    "\n",
    "    # Fill in the password and click sign in\n",
    "    password_input = driver.find_element(\n",
    "        By.CSS_SELECTOR, 'input[name=\"password\"]')\n",
    "    password_input.send_keys(pass_word)\n",
    "\n",
    "    signin_button = driver.find_element(\n",
    "        By.CSS_SELECTOR, 'button[name=\"action\"]')\n",
    "    signin_button.click()\n",
    "\n",
    "    # Get Selenium cookies\n",
    "    selenium_cookies = driver.get_cookies()\n",
    "\n",
    "    # If not keeping the browser open, quit the driver\n",
    "    if not keep_open:\n",
    "        driver.quit()\n",
    "        driver = None\n",
    "\n",
    "    # Set user-agent header for the session\n",
    "    headers = {\n",
    "        \"User-Agent\": \"Mozilla/5.0 (Windows NT 6.3; WOW64) AppleWebKit/537.36 (KHTML, like Gecko) Chrome/44.0.2403.157 Safari/537.36\"\n",
    "    }\n",
    "\n",
    "    # Initialize requests session and update cookies\n",
    "    session = requests.Session()\n",
    "    session.headers.update(headers)\n",
    "\n",
    "    for cookie in selenium_cookies:\n",
    "        c = {cookie['name']: cookie['value']}\n",
    "        session.cookies.update(c)\n",
    "\n",
    "    # Perform a request to the Scopus website to check if login was successful\n",
    "    response = session.get('https://www.scopus.com/', timeout=20)\n",
    "    soup = BeautifulSoup(response.text, 'html.parser')\n",
    "\n",
    "    title = soup.find('title').get_text().strip()\n",
    "    titles = ['Scopus preview -  \\nScopus - Welcome to Scopus', 'Scopus - Document search | Signed in']\n",
    "\n",
    "    # Return the result, page title, Selenium cookies, driver instance, and user data directory\n",
    "    return (\n",
    "                True if title in titles else False,\n",
    "                title,\n",
    "                selenium_cookies,\n",
    "                driver,\n",
    "                user_data_dir\n",
    "            )\n"
   ]
  }
 ],
 "metadata": {
  "kernelspec": {
   "display_name": "Python 3",
   "language": "python",
   "name": "python3"
  },
  "language_info": {
   "codemirror_mode": {
    "name": "ipython",
    "version": 3
   },
   "file_extension": ".py",
   "mimetype": "text/x-python",
   "name": "python",
   "nbconvert_exporter": "python",
   "pygments_lexer": "ipython3",
   "version": "3.10.7"
  },
  "orig_nbformat": 4
 },
 "nbformat": 4,
 "nbformat_minor": 2
}
