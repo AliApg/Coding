{
 "cells": [
  {
   "cell_type": "markdown",
   "metadata": {
    "slideshow": {
     "slide_type": "-"
    }
   },
   "source": [
    "# Libraries"
   ]
  },
  {
   "cell_type": "code",
   "execution_count": 1,
   "metadata": {
    "scrolled": true,
    "slideshow": {
     "slide_type": "-"
    }
   },
   "outputs": [
    {
     "name": "stderr",
     "output_type": "stream",
     "text": [
      "c:\\Users\\AliApg\\AppData\\Local\\Programs\\Python\\Python310\\lib\\site-packages\\fuzzywuzzy\\fuzz.py:11: UserWarning: Using slow pure-python SequenceMatcher. Install python-Levenshtein to remove this warning\n",
      "  warnings.warn('Using slow pure-python SequenceMatcher. Install python-Levenshtein to remove this warning')\n"
     ]
    }
   ],
   "source": [
    "import importlib\n",
    "import pandas as pd\n",
    "\n",
    "from scopusScrap.scopusUtils import (analyze_dataset,\n",
    "                                     merge_csv_to_bib_per_folder,\n",
    "                                     get_authors_name_id,\n",
    "                                     get_document_types,\n",
    "                                     get_country_city_org,\n",
    "                                     check_author_unique_id)\n",
    "\n",
    "from scopusScrap.scopusAPI import scopus_apis\n",
    "from scopusScrap.scopusSearch import scopus_search\n",
    "from scopusScrap.citedBySearch import search_cited_by\n",
    "from scopusScrap.referenceDOI import by_article_doi, by_reference_title\n"
   ]
  },
  {
   "cell_type": "code",
   "execution_count": null,
   "metadata": {
    "scrolled": false
   },
   "outputs": [
    {
     "name": "stdout",
     "output_type": "stream",
     "text": [
      "Login webdriver start                              \t2023-11-01 17:35:51\n",
      "Password entered                                   \t2023-11-01 17:35:59\n",
      "Scopus - Document search | Signed in\n",
      "\n",
      "Cited by Webdriver start                           \t2023-11-01 17:36:11\n",
      "\n",
      "\"attention\" folder                                 \t2023-11-01 17:36:11\n",
      "\"attention_1-1000.csv\" file                        \t2023-11-01 17:36:11\n"
     ]
    },
    {
     "data": {
      "application/json": {
       "ascii": false,
       "bar_format": null,
       "colour": null,
       "elapsed": 0.013004541397094727,
       "initial": 0,
       "n": 0,
       "ncols": null,
       "nrows": 43,
       "postfix": null,
       "prefix": "",
       "rate": null,
       "total": 49,
       "unit": "it",
       "unit_divisor": 1000,
       "unit_scale": false
      },
      "application/vnd.jupyter.widget-view+json": {
       "model_id": "6c4ac8903769415883dc83a491d1b9c9",
       "version_major": 2,
       "version_minor": 0
      },
      "text/plain": [
       "  0%|          | 0/49 [00:00<?, ?it/s]"
      ]
     },
     "metadata": {},
     "output_type": "display_data"
    },
    {
     "name": "stdout",
     "output_type": "stream",
     "text": [
      "Searching for DOI: 10.1016/j.jes.2023.02.028 cited by's \t2023-11-01 17:36:11\n",
      "Exporting 1 citation results                       \t2023-11-01 17:36:22\n",
      "Download complete                                  \t2023-11-01 17:36:23\n",
      "\n",
      "Searching for DOI: 10.1109/TIE.2023.3250767 cited by's \t2023-11-01 17:36:23\n",
      "Exporting 1 citation results                       \t2023-11-01 17:36:28\n",
      "Download complete                                  \t2023-11-01 17:36:29\n",
      "\n",
      "Searching for DOI: 10.1016/j.bspc.2023.105430 cited by's \t2023-11-01 17:36:29\n",
      "Exporting 1 citation results                       \t2023-11-01 17:36:35\n",
      "Download complete                                  \t2023-11-01 17:36:36\n",
      "\n",
      "Searching for DOI: 10.1016/j.patcog.2023.109886 cited by's \t2023-11-01 17:36:36\n",
      "Exporting 1 citation results                       \t2023-11-01 17:36:41\n",
      "Download complete                                  \t2023-11-01 17:36:42\n",
      "\n",
      "Searching for DOI: 10.1016/j.entcom.2023.100598 cited by's \t2023-11-01 17:36:42\n",
      "Exporting 1 citation results                       \t2023-11-01 17:36:47\n",
      "Download complete                                  \t2023-11-01 17:36:48\n",
      "\n",
      "Searching for DOI: 10.1016/j.jbspin.2023.105623 cited by's \t2023-11-01 17:36:48\n",
      "Exporting 1 citation results                       \t2023-11-01 17:36:53\n",
      "Download complete                                  \t2023-11-01 17:36:54\n",
      "\n",
      "Searching for DOI: 10.31893/multiscience.2024009 cited by's \t2023-11-01 17:36:54\n",
      "Exporting 2 citation results                       \t2023-11-01 17:36:58\n",
      "Download complete                                  \t2023-11-01 17:36:59\n",
      "\n",
      "Searching for DOI: 10.1016/j.patcog.2023.109842 cited by's \t2023-11-01 17:36:59\n",
      "Exporting 1 citation results                       \t2023-11-01 17:37:04\n",
      "Download complete                                  \t2023-11-01 17:37:05\n",
      "\n",
      "Searching for DOI: 10.26599/FSHW.2022.9250002 cited by's \t2023-11-01 17:37:05\n",
      "Exporting 1 citation results                       \t2023-11-01 17:37:09\n",
      "Download complete                                  \t2023-11-01 17:37:10\n",
      "\n",
      "Searching for DOI: 10.1016/j.jmst.2023.06.008 cited by's \t2023-11-01 17:37:10\n",
      "Exporting 1 citation results                       \t2023-11-01 17:37:15\n",
      "Download complete                                  \t2023-11-01 17:37:16\n",
      "\n",
      "Searching for DOI: 10.1016/j.eswa.2023.121099 cited by's \t2023-11-01 17:37:16\n",
      "Exporting 1 citation results                       \t2023-11-01 17:37:21\n",
      "Download complete                                  \t2023-11-01 17:37:22\n",
      "\n",
      "Searching for DOI: 10.1016/j.semcdb.2022.11.012 cited by's \t2023-11-01 17:37:22\n",
      "Exporting 3 citation results                       \t2023-11-01 17:37:26\n",
      "Download complete                                  \t2023-11-01 17:37:27\n",
      "\n",
      "Searching for DOI: 10.1016/j.jes.2022.11.007 cited by's \t2023-11-01 17:37:27\n",
      "Exporting 3 citation results                       \t2023-11-01 17:37:32\n",
      "Download complete                                  \t2023-11-01 17:37:33\n",
      "\n",
      "Searching for DOI: 10.2174/1573396318666220801093225 cited by's \t2023-11-01 17:37:33\n",
      "Exporting 3 citation results                       \t2023-11-01 17:37:38\n",
      "Download complete                                  \t2023-11-01 17:37:39\n",
      "\n",
      "Searching for DOI: 10.1016/j.csi.2023.103766 cited by's \t2023-11-01 17:37:39\n",
      "Exporting 2 citation results                       \t2023-11-01 17:37:44\n",
      "Download complete                                  \t2023-11-01 17:37:45\n",
      "\n",
      "Searching for DOI: 10.1109/TIE.2023.3243263 cited by's \t2023-11-01 17:37:45\n",
      "Exporting 1 citation results                       \t2023-11-01 17:37:49\n",
      "Download complete                                  \t2023-11-01 17:37:50\n",
      "\n",
      "Searching for DOI: 10.1016/j.jes.2022.08.009 cited by's \t2023-11-01 17:37:50\n",
      "Exporting 1 citation results                       \t2023-11-01 17:37:54\n",
      "Timeout (7 minutes) reached                        \t2023-11-01 17:44:55\n",
      "Retrying... (retry number 1)                       \t2023-11-01 17:44:55\n",
      "Searching for DOI: 10.1016/j.jes.2022.08.009 cited by's \t2023-11-01 17:44:55\n",
      "Exporting 1 citation results                       \t2023-11-01 17:45:02\n"
     ]
    }
   ],
   "source": [
    "import scopusScrap.citedBySearch as mine\n",
    "importlib.reload(mine)\n",
    "\n",
    "mine.search_cited_by()\n"
   ]
  },
  {
   "cell_type": "code",
   "execution_count": 3,
   "metadata": {
    "scrolled": false
   },
   "outputs": [
    {
     "data": {
      "text/html": [
       "<div>\n",
       "<style scoped>\n",
       "    .dataframe tbody tr th:only-of-type {\n",
       "        vertical-align: middle;\n",
       "    }\n",
       "\n",
       "    .dataframe tbody tr th {\n",
       "        vertical-align: top;\n",
       "    }\n",
       "\n",
       "    .dataframe thead th {\n",
       "        text-align: right;\n",
       "    }\n",
       "</style>\n",
       "<table border=\"1\" class=\"dataframe\">\n",
       "  <thead>\n",
       "    <tr style=\"text-align: right;\">\n",
       "      <th></th>\n",
       "      <th>Document Type</th>\n",
       "    </tr>\n",
       "  </thead>\n",
       "  <tbody>\n",
       "    <tr>\n",
       "      <th>0</th>\n",
       "      <td>Article</td>\n",
       "    </tr>\n",
       "    <tr>\n",
       "      <th>1</th>\n",
       "      <td>Book</td>\n",
       "    </tr>\n",
       "    <tr>\n",
       "      <th>2</th>\n",
       "      <td>Book chapter</td>\n",
       "    </tr>\n",
       "    <tr>\n",
       "      <th>3</th>\n",
       "      <td>Conference paper</td>\n",
       "    </tr>\n",
       "    <tr>\n",
       "      <th>4</th>\n",
       "      <td>Conference review</td>\n",
       "    </tr>\n",
       "    <tr>\n",
       "      <th>5</th>\n",
       "      <td>Data paper</td>\n",
       "    </tr>\n",
       "    <tr>\n",
       "      <th>6</th>\n",
       "      <td>Editorial</td>\n",
       "    </tr>\n",
       "    <tr>\n",
       "      <th>7</th>\n",
       "      <td>Erratum</td>\n",
       "    </tr>\n",
       "    <tr>\n",
       "      <th>8</th>\n",
       "      <td>Letter</td>\n",
       "    </tr>\n",
       "    <tr>\n",
       "      <th>9</th>\n",
       "      <td>Note</td>\n",
       "    </tr>\n",
       "    <tr>\n",
       "      <th>10</th>\n",
       "      <td>Report</td>\n",
       "    </tr>\n",
       "    <tr>\n",
       "      <th>11</th>\n",
       "      <td>Retracted</td>\n",
       "    </tr>\n",
       "    <tr>\n",
       "      <th>12</th>\n",
       "      <td>Review</td>\n",
       "    </tr>\n",
       "    <tr>\n",
       "      <th>13</th>\n",
       "      <td>Short survey</td>\n",
       "    </tr>\n",
       "  </tbody>\n",
       "</table>\n",
       "</div>"
      ],
      "text/plain": [
       "        Document Type\n",
       "0             Article\n",
       "1                Book\n",
       "2        Book chapter\n",
       "3    Conference paper\n",
       "4   Conference review\n",
       "5          Data paper\n",
       "6           Editorial\n",
       "7             Erratum\n",
       "8              Letter\n",
       "9                Note\n",
       "10             Report\n",
       "11          Retracted\n",
       "12             Review\n",
       "13       Short survey"
      ]
     },
     "execution_count": 3,
     "metadata": {},
     "output_type": "execute_result"
    }
   ],
   "source": [
    "pd.DataFrame({'Document Type': list(get_document_types())})\n"
   ]
  },
  {
   "cell_type": "markdown",
   "metadata": {},
   "source": [
    "# Search"
   ]
  },
  {
   "cell_type": "code",
   "execution_count": 3,
   "metadata": {
    "scrolled": true
   },
   "outputs": [
    {
     "name": "stdout",
     "output_type": "stream",
     "text": [
      "Login webdriver start                              \t2023-11-04 10:47:20\n",
      "Password entered                                   \t2023-11-04 10:47:26\n",
      "Scopus - Document search | Signed in\n",
      "\n",
      "Search webdriver start                             \t2023-11-04 10:47:39\n",
      "\n",
      "Searching for \"natural language processing\"        \t2023-11-04 10:47:45\n",
      "480,703 results were found                         \t2023-11-04 10:47:49\n",
      "Exporting 1-500 \"natural language processing\"      \t2023-11-04 10:47:50\n"
     ]
    },
    {
     "data": {
      "application/json": {
       "ascii": false,
       "bar_format": null,
       "colour": null,
       "elapsed": 0.018121004104614258,
       "initial": 0,
       "n": 0,
       "ncols": null,
       "nrows": 29,
       "postfix": null,
       "prefix": "",
       "rate": null,
       "total": 100,
       "unit": "it",
       "unit_divisor": 1000,
       "unit_scale": false
      },
      "application/vnd.jupyter.widget-view+json": {
       "model_id": "235103c98dc940448c752e095178e73f",
       "version_major": 2,
       "version_minor": 0
      },
      "text/plain": [
       "  0%|          | 0/100 [00:00<?, ?it/s]"
      ]
     },
     "metadata": {},
     "output_type": "display_data"
    },
    {
     "name": "stdout",
     "output_type": "stream",
     "text": [
      "The timeout is set to 1 minutes                    \t2023-11-04 10:48:12\n",
      "Download complete (txt file)                       \t2023-11-04 10:48:12\n",
      "\n",
      "Exporting 501-1,000 \"natural language processing\"  \t2023-11-04 10:48:13\n"
     ]
    },
    {
     "data": {
      "application/json": {
       "ascii": false,
       "bar_format": null,
       "colour": null,
       "elapsed": 0.011998891830444336,
       "initial": 0,
       "n": 0,
       "ncols": null,
       "nrows": 29,
       "postfix": null,
       "prefix": "",
       "rate": null,
       "total": 100,
       "unit": "it",
       "unit_divisor": 1000,
       "unit_scale": false
      },
      "application/vnd.jupyter.widget-view+json": {
       "model_id": "c005d8a4930946fe9cd41ca37b14dbe5",
       "version_major": 2,
       "version_minor": 0
      },
      "text/plain": [
       "  0%|          | 0/100 [00:00<?, ?it/s]"
      ]
     },
     "metadata": {},
     "output_type": "display_data"
    },
    {
     "name": "stdout",
     "output_type": "stream",
     "text": [
      "Download complete (txt file)                       \t2023-11-04 10:48:35\n",
      "\n",
      "Exporting 1,001-1,500 \"natural language processing\" \t2023-11-04 10:48:36\n"
     ]
    },
    {
     "data": {
      "application/json": {
       "ascii": false,
       "bar_format": null,
       "colour": null,
       "elapsed": 0.01613783836364746,
       "initial": 0,
       "n": 0,
       "ncols": null,
       "nrows": 29,
       "postfix": null,
       "prefix": "",
       "rate": null,
       "total": 100,
       "unit": "it",
       "unit_divisor": 1000,
       "unit_scale": false
      },
      "application/vnd.jupyter.widget-view+json": {
       "model_id": "7980162548884e7a9b46742d82f32bc1",
       "version_major": 2,
       "version_minor": 0
      },
      "text/plain": [
       "  0%|          | 0/100 [00:00<?, ?it/s]"
      ]
     },
     "metadata": {},
     "output_type": "display_data"
    },
    {
     "name": "stdout",
     "output_type": "stream",
     "text": [
      "Download complete (txt file)                       \t2023-11-04 10:48:56\n",
      "\n",
      "Exporting 1,501-2,000 \"natural language processing\" \t2023-11-04 10:48:56\n"
     ]
    },
    {
     "data": {
      "application/json": {
       "ascii": false,
       "bar_format": null,
       "colour": null,
       "elapsed": 0.02458810806274414,
       "initial": 0,
       "n": 0,
       "ncols": null,
       "nrows": 29,
       "postfix": null,
       "prefix": "",
       "rate": null,
       "total": 100,
       "unit": "it",
       "unit_divisor": 1000,
       "unit_scale": false
      },
      "application/vnd.jupyter.widget-view+json": {
       "model_id": "0f98eb08f327432fb0bb7390b6757d1c",
       "version_major": 2,
       "version_minor": 0
      },
      "text/plain": [
       "  0%|          | 0/100 [00:00<?, ?it/s]"
      ]
     },
     "metadata": {},
     "output_type": "display_data"
    },
    {
     "name": "stdout",
     "output_type": "stream",
     "text": [
      "Download complete (txt file)                       \t2023-11-04 10:49:19\n",
      "\n",
      "Exporting 2,001-2,500 \"natural language processing\" \t2023-11-04 10:49:20\n"
     ]
    },
    {
     "data": {
      "application/json": {
       "ascii": false,
       "bar_format": null,
       "colour": null,
       "elapsed": 0.016948223114013672,
       "initial": 0,
       "n": 0,
       "ncols": null,
       "nrows": 29,
       "postfix": null,
       "prefix": "",
       "rate": null,
       "total": 100,
       "unit": "it",
       "unit_divisor": 1000,
       "unit_scale": false
      },
      "application/vnd.jupyter.widget-view+json": {
       "model_id": "07fca9892201437184ef9a1a9c9f5078",
       "version_major": 2,
       "version_minor": 0
      },
      "text/plain": [
       "  0%|          | 0/100 [00:00<?, ?it/s]"
      ]
     },
     "metadata": {},
     "output_type": "display_data"
    },
    {
     "name": "stdout",
     "output_type": "stream",
     "text": [
      "Download complete (txt file)                       \t2023-11-04 10:49:45\n",
      "\n",
      "Exporting 2,501-3,000 \"natural language processing\" \t2023-11-04 10:49:46\n"
     ]
    },
    {
     "data": {
      "application/json": {
       "ascii": false,
       "bar_format": null,
       "colour": null,
       "elapsed": 0,
       "initial": 0,
       "n": 0,
       "ncols": null,
       "nrows": 29,
       "postfix": null,
       "prefix": "",
       "rate": null,
       "total": 100,
       "unit": "it",
       "unit_divisor": 1000,
       "unit_scale": false
      },
      "application/vnd.jupyter.widget-view+json": {
       "model_id": "f7f8d2f1c2c544e68f620d3ba896344a",
       "version_major": 2,
       "version_minor": 0
      },
      "text/plain": [
       "  0%|          | 0/100 [00:00<?, ?it/s]"
      ]
     },
     "metadata": {},
     "output_type": "display_data"
    },
    {
     "name": "stdout",
     "output_type": "stream",
     "text": [
      "Download complete (txt file)                       \t2023-11-04 10:50:11\n",
      "\n",
      "Exporting 3,001-3,500 \"natural language processing\" \t2023-11-04 10:50:12\n"
     ]
    },
    {
     "data": {
      "application/json": {
       "ascii": false,
       "bar_format": null,
       "colour": null,
       "elapsed": 0.015623331069946289,
       "initial": 0,
       "n": 0,
       "ncols": null,
       "nrows": 29,
       "postfix": null,
       "prefix": "",
       "rate": null,
       "total": 100,
       "unit": "it",
       "unit_divisor": 1000,
       "unit_scale": false
      },
      "application/vnd.jupyter.widget-view+json": {
       "model_id": "2ea806f7fbaa43449838acbdeff4cfa8",
       "version_major": 2,
       "version_minor": 0
      },
      "text/plain": [
       "  0%|          | 0/100 [00:00<?, ?it/s]"
      ]
     },
     "metadata": {},
     "output_type": "display_data"
    },
    {
     "name": "stdout",
     "output_type": "stream",
     "text": [
      "Download complete (txt file)                       \t2023-11-04 10:50:38\n",
      "\n",
      "Exporting 3,501-4,000 \"natural language processing\" \t2023-11-04 10:50:38\n"
     ]
    },
    {
     "data": {
      "application/json": {
       "ascii": false,
       "bar_format": null,
       "colour": null,
       "elapsed": 0.012510299682617188,
       "initial": 0,
       "n": 0,
       "ncols": null,
       "nrows": 29,
       "postfix": null,
       "prefix": "",
       "rate": null,
       "total": 100,
       "unit": "it",
       "unit_divisor": 1000,
       "unit_scale": false
      },
      "application/vnd.jupyter.widget-view+json": {
       "model_id": "e5243a77696e4c1d88c76fe3668942fb",
       "version_major": 2,
       "version_minor": 0
      },
      "text/plain": [
       "  0%|          | 0/100 [00:00<?, ?it/s]"
      ]
     },
     "metadata": {},
     "output_type": "display_data"
    },
    {
     "name": "stdout",
     "output_type": "stream",
     "text": [
      "Download complete (txt file)                       \t2023-11-04 10:51:02\n",
      "\n",
      "Exporting 4,001-4,500 \"natural language processing\" \t2023-11-04 10:51:02\n"
     ]
    },
    {
     "data": {
      "application/json": {
       "ascii": false,
       "bar_format": null,
       "colour": null,
       "elapsed": 0.015638113021850586,
       "initial": 0,
       "n": 0,
       "ncols": null,
       "nrows": 29,
       "postfix": null,
       "prefix": "",
       "rate": null,
       "total": 100,
       "unit": "it",
       "unit_divisor": 1000,
       "unit_scale": false
      },
      "application/vnd.jupyter.widget-view+json": {
       "model_id": "69939d309f4744119ba3077728100751",
       "version_major": 2,
       "version_minor": 0
      },
      "text/plain": [
       "  0%|          | 0/100 [00:00<?, ?it/s]"
      ]
     },
     "metadata": {},
     "output_type": "display_data"
    },
    {
     "name": "stdout",
     "output_type": "stream",
     "text": [
      "Download complete (txt file)                       \t2023-11-04 10:51:26\n",
      "\n",
      "Exporting 4,501-5,000 \"natural language processing\" \t2023-11-04 10:51:27\n"
     ]
    },
    {
     "data": {
      "application/json": {
       "ascii": false,
       "bar_format": null,
       "colour": null,
       "elapsed": 0.015554189682006836,
       "initial": 0,
       "n": 0,
       "ncols": null,
       "nrows": 29,
       "postfix": null,
       "prefix": "",
       "rate": null,
       "total": 100,
       "unit": "it",
       "unit_divisor": 1000,
       "unit_scale": false
      },
      "application/vnd.jupyter.widget-view+json": {
       "model_id": "f4ffba8cb91440218ba10aeed90b3134",
       "version_major": 2,
       "version_minor": 0
      },
      "text/plain": [
       "  0%|          | 0/100 [00:00<?, ?it/s]"
      ]
     },
     "metadata": {},
     "output_type": "display_data"
    },
    {
     "name": "stdout",
     "output_type": "stream",
     "text": [
      "Download complete (txt file)                       \t2023-11-04 10:51:50\n",
      "\n",
      "Exporting 5,001-5,500 \"natural language processing\" \t2023-11-04 10:51:51\n"
     ]
    },
    {
     "data": {
      "application/json": {
       "ascii": false,
       "bar_format": null,
       "colour": null,
       "elapsed": 0.01587820053100586,
       "initial": 0,
       "n": 0,
       "ncols": null,
       "nrows": 29,
       "postfix": null,
       "prefix": "",
       "rate": null,
       "total": 100,
       "unit": "it",
       "unit_divisor": 1000,
       "unit_scale": false
      },
      "application/vnd.jupyter.widget-view+json": {
       "model_id": "cb7d9670f0614c1aa37e777560e03c59",
       "version_major": 2,
       "version_minor": 0
      },
      "text/plain": [
       "  0%|          | 0/100 [00:00<?, ?it/s]"
      ]
     },
     "metadata": {},
     "output_type": "display_data"
    },
    {
     "name": "stdout",
     "output_type": "stream",
     "text": [
      "Download complete (txt file)                       \t2023-11-04 10:52:15\n",
      "\n",
      "Exporting 5,501-6,000 \"natural language processing\" \t2023-11-04 10:52:15\n"
     ]
    },
    {
     "data": {
      "application/json": {
       "ascii": false,
       "bar_format": null,
       "colour": null,
       "elapsed": 0.022614240646362305,
       "initial": 0,
       "n": 0,
       "ncols": null,
       "nrows": 29,
       "postfix": null,
       "prefix": "",
       "rate": null,
       "total": 100,
       "unit": "it",
       "unit_divisor": 1000,
       "unit_scale": false
      },
      "application/vnd.jupyter.widget-view+json": {
       "model_id": "f6288758a5614565bacd5d931fc67e96",
       "version_major": 2,
       "version_minor": 0
      },
      "text/plain": [
       "  0%|          | 0/100 [00:00<?, ?it/s]"
      ]
     },
     "metadata": {},
     "output_type": "display_data"
    },
    {
     "name": "stdout",
     "output_type": "stream",
     "text": [
      "Download complete (txt file)                       \t2023-11-04 10:52:50\n",
      "\n",
      "Exporting 6,001-6,500 \"natural language processing\" \t2023-11-04 10:52:51\n"
     ]
    },
    {
     "data": {
      "application/json": {
       "ascii": false,
       "bar_format": null,
       "colour": null,
       "elapsed": 0.016611099243164062,
       "initial": 0,
       "n": 0,
       "ncols": null,
       "nrows": 29,
       "postfix": null,
       "prefix": "",
       "rate": null,
       "total": 100,
       "unit": "it",
       "unit_divisor": 1000,
       "unit_scale": false
      },
      "application/vnd.jupyter.widget-view+json": {
       "model_id": "3320f9c28d2845f3bf4df21ab35523e2",
       "version_major": 2,
       "version_minor": 0
      },
      "text/plain": [
       "  0%|          | 0/100 [00:00<?, ?it/s]"
      ]
     },
     "metadata": {},
     "output_type": "display_data"
    },
    {
     "name": "stdout",
     "output_type": "stream",
     "text": [
      "Download complete (txt file)                       \t2023-11-04 10:53:20\n",
      "\n",
      "Exporting 6,501-7,000 \"natural language processing\" \t2023-11-04 10:53:20\n"
     ]
    },
    {
     "data": {
      "application/json": {
       "ascii": false,
       "bar_format": null,
       "colour": null,
       "elapsed": 0.01448822021484375,
       "initial": 0,
       "n": 0,
       "ncols": null,
       "nrows": 29,
       "postfix": null,
       "prefix": "",
       "rate": null,
       "total": 100,
       "unit": "it",
       "unit_divisor": 1000,
       "unit_scale": false
      },
      "application/vnd.jupyter.widget-view+json": {
       "model_id": "e94fe06898564d81950df170b708265c",
       "version_major": 2,
       "version_minor": 0
      },
      "text/plain": [
       "  0%|          | 0/100 [00:00<?, ?it/s]"
      ]
     },
     "metadata": {},
     "output_type": "display_data"
    },
    {
     "name": "stdout",
     "output_type": "stream",
     "text": [
      "Download complete (txt file)                       \t2023-11-04 10:53:50\n",
      "\n",
      "Exporting 7,001-7,500 \"natural language processing\" \t2023-11-04 10:53:51\n"
     ]
    },
    {
     "data": {
      "application/json": {
       "ascii": false,
       "bar_format": null,
       "colour": null,
       "elapsed": 0.015865325927734375,
       "initial": 0,
       "n": 0,
       "ncols": null,
       "nrows": 29,
       "postfix": null,
       "prefix": "",
       "rate": null,
       "total": 100,
       "unit": "it",
       "unit_divisor": 1000,
       "unit_scale": false
      },
      "application/vnd.jupyter.widget-view+json": {
       "model_id": "ac2f641d3c054cd7b456392b5e3165a3",
       "version_major": 2,
       "version_minor": 0
      },
      "text/plain": [
       "  0%|          | 0/100 [00:00<?, ?it/s]"
      ]
     },
     "metadata": {},
     "output_type": "display_data"
    },
    {
     "name": "stdout",
     "output_type": "stream",
     "text": [
      "Download complete (txt file)                       \t2023-11-04 10:54:21\n",
      "\n",
      "Exporting 7,501-8,000 \"natural language processing\" \t2023-11-04 10:54:22\n"
     ]
    },
    {
     "data": {
      "application/json": {
       "ascii": false,
       "bar_format": null,
       "colour": null,
       "elapsed": 0.015627622604370117,
       "initial": 0,
       "n": 0,
       "ncols": null,
       "nrows": 29,
       "postfix": null,
       "prefix": "",
       "rate": null,
       "total": 100,
       "unit": "it",
       "unit_divisor": 1000,
       "unit_scale": false
      },
      "application/vnd.jupyter.widget-view+json": {
       "model_id": "fbf04d8ab35e43b8856907eb8c4bd1b1",
       "version_major": 2,
       "version_minor": 0
      },
      "text/plain": [
       "  0%|          | 0/100 [00:00<?, ?it/s]"
      ]
     },
     "metadata": {},
     "output_type": "display_data"
    },
    {
     "name": "stdout",
     "output_type": "stream",
     "text": [
      "Download complete (txt file)                       \t2023-11-04 10:54:46\n",
      "\n",
      "Exporting 8,001-8,500 \"natural language processing\" \t2023-11-04 10:54:46\n"
     ]
    },
    {
     "data": {
      "application/json": {
       "ascii": false,
       "bar_format": null,
       "colour": null,
       "elapsed": 0.007295131683349609,
       "initial": 0,
       "n": 0,
       "ncols": null,
       "nrows": 29,
       "postfix": null,
       "prefix": "",
       "rate": null,
       "total": 100,
       "unit": "it",
       "unit_divisor": 1000,
       "unit_scale": false
      },
      "application/vnd.jupyter.widget-view+json": {
       "model_id": "dd898cdd69ac44f8a9796742483d3fae",
       "version_major": 2,
       "version_minor": 0
      },
      "text/plain": [
       "  0%|          | 0/100 [00:00<?, ?it/s]"
      ]
     },
     "metadata": {},
     "output_type": "display_data"
    },
    {
     "name": "stdout",
     "output_type": "stream",
     "text": [
      "Download complete (txt file)                       \t2023-11-04 10:55:18\n",
      "\n",
      "Exporting 8,501-9,000 \"natural language processing\" \t2023-11-04 10:55:18\n"
     ]
    },
    {
     "data": {
      "application/json": {
       "ascii": false,
       "bar_format": null,
       "colour": null,
       "elapsed": 0,
       "initial": 0,
       "n": 0,
       "ncols": null,
       "nrows": 29,
       "postfix": null,
       "prefix": "",
       "rate": null,
       "total": 100,
       "unit": "it",
       "unit_divisor": 1000,
       "unit_scale": false
      },
      "application/vnd.jupyter.widget-view+json": {
       "model_id": "cc4eff800fca4c658eafb33116d85fa6",
       "version_major": 2,
       "version_minor": 0
      },
      "text/plain": [
       "  0%|          | 0/100 [00:00<?, ?it/s]"
      ]
     },
     "metadata": {},
     "output_type": "display_data"
    },
    {
     "name": "stdout",
     "output_type": "stream",
     "text": [
      "Download complete (txt file)                       \t2023-11-04 10:55:46\n",
      "\n",
      "Exporting 9,001-9,500 \"natural language processing\" \t2023-11-04 10:55:46\n"
     ]
    },
    {
     "data": {
      "application/json": {
       "ascii": false,
       "bar_format": null,
       "colour": null,
       "elapsed": 0.015618324279785156,
       "initial": 0,
       "n": 0,
       "ncols": null,
       "nrows": 29,
       "postfix": null,
       "prefix": "",
       "rate": null,
       "total": 100,
       "unit": "it",
       "unit_divisor": 1000,
       "unit_scale": false
      },
      "application/vnd.jupyter.widget-view+json": {
       "model_id": "5a5fb87f5e3f4a85a0e72ad580e0e134",
       "version_major": 2,
       "version_minor": 0
      },
      "text/plain": [
       "  0%|          | 0/100 [00:00<?, ?it/s]"
      ]
     },
     "metadata": {},
     "output_type": "display_data"
    },
    {
     "name": "stdout",
     "output_type": "stream",
     "text": [
      "Download complete (txt file)                       \t2023-11-04 10:56:14\n",
      "\n",
      "Exporting 9,501-10,000 \"natural language processing\" \t2023-11-04 10:56:14\n"
     ]
    },
    {
     "data": {
      "application/json": {
       "ascii": false,
       "bar_format": null,
       "colour": null,
       "elapsed": 0.011001825332641602,
       "initial": 0,
       "n": 0,
       "ncols": null,
       "nrows": 29,
       "postfix": null,
       "prefix": "",
       "rate": null,
       "total": 100,
       "unit": "it",
       "unit_divisor": 1000,
       "unit_scale": false
      },
      "application/vnd.jupyter.widget-view+json": {
       "model_id": "4b376411738140abbf48a89a5b92f821",
       "version_major": 2,
       "version_minor": 0
      },
      "text/plain": [
       "  0%|          | 0/100 [00:00<?, ?it/s]"
      ]
     },
     "metadata": {},
     "output_type": "display_data"
    },
    {
     "name": "stdout",
     "output_type": "stream",
     "text": [
      "Download complete (txt file)                       \t2023-11-04 10:56:40\n",
      "\n",
      "Exporting 10,001-10,500 \"natural language processing\" \t2023-11-04 10:56:41\n"
     ]
    },
    {
     "data": {
      "application/json": {
       "ascii": false,
       "bar_format": null,
       "colour": null,
       "elapsed": 0,
       "initial": 0,
       "n": 0,
       "ncols": null,
       "nrows": 29,
       "postfix": null,
       "prefix": "",
       "rate": null,
       "total": 100,
       "unit": "it",
       "unit_divisor": 1000,
       "unit_scale": false
      },
      "application/vnd.jupyter.widget-view+json": {
       "model_id": "c70d2002d06f40459a6a14e183b0e79c",
       "version_major": 2,
       "version_minor": 0
      },
      "text/plain": [
       "  0%|          | 0/100 [00:00<?, ?it/s]"
      ]
     },
     "metadata": {},
     "output_type": "display_data"
    },
    {
     "name": "stdout",
     "output_type": "stream",
     "text": [
      "Download complete (txt file)                       \t2023-11-04 10:57:09\n",
      "\n",
      "Exporting 10,501-11,000 \"natural language processing\" \t2023-11-04 10:57:09\n"
     ]
    },
    {
     "data": {
      "application/json": {
       "ascii": false,
       "bar_format": null,
       "colour": null,
       "elapsed": 0.016345977783203125,
       "initial": 0,
       "n": 0,
       "ncols": null,
       "nrows": 29,
       "postfix": null,
       "prefix": "",
       "rate": null,
       "total": 100,
       "unit": "it",
       "unit_divisor": 1000,
       "unit_scale": false
      },
      "application/vnd.jupyter.widget-view+json": {
       "model_id": "2280bb9403ef4bf7b28814e348a5ec40",
       "version_major": 2,
       "version_minor": 0
      },
      "text/plain": [
       "  0%|          | 0/100 [00:00<?, ?it/s]"
      ]
     },
     "metadata": {},
     "output_type": "display_data"
    },
    {
     "name": "stdout",
     "output_type": "stream",
     "text": [
      "Download complete (txt file)                       \t2023-11-04 10:57:39\n",
      "\n",
      "Exporting 11,001-11,500 \"natural language processing\" \t2023-11-04 10:57:40\n"
     ]
    },
    {
     "data": {
      "application/json": {
       "ascii": false,
       "bar_format": null,
       "colour": null,
       "elapsed": 0.015786409378051758,
       "initial": 0,
       "n": 0,
       "ncols": null,
       "nrows": 29,
       "postfix": null,
       "prefix": "",
       "rate": null,
       "total": 100,
       "unit": "it",
       "unit_divisor": 1000,
       "unit_scale": false
      },
      "application/vnd.jupyter.widget-view+json": {
       "model_id": "e445d18cdeb043a29ba318c14a14a3db",
       "version_major": 2,
       "version_minor": 0
      },
      "text/plain": [
       "  0%|          | 0/100 [00:00<?, ?it/s]"
      ]
     },
     "metadata": {},
     "output_type": "display_data"
    },
    {
     "name": "stdout",
     "output_type": "stream",
     "text": [
      "Download complete (txt file)                       \t2023-11-04 10:58:10\n",
      "\n",
      "Exporting 11,501-12,000 \"natural language processing\" \t2023-11-04 10:58:11\n"
     ]
    },
    {
     "data": {
      "application/json": {
       "ascii": false,
       "bar_format": null,
       "colour": null,
       "elapsed": 0.00871133804321289,
       "initial": 0,
       "n": 0,
       "ncols": null,
       "nrows": 29,
       "postfix": null,
       "prefix": "",
       "rate": null,
       "total": 100,
       "unit": "it",
       "unit_divisor": 1000,
       "unit_scale": false
      },
      "application/vnd.jupyter.widget-view+json": {
       "model_id": "dd78613cfe5848728fab9e39eb5907e2",
       "version_major": 2,
       "version_minor": 0
      },
      "text/plain": [
       "  0%|          | 0/100 [00:00<?, ?it/s]"
      ]
     },
     "metadata": {},
     "output_type": "display_data"
    },
    {
     "name": "stdout",
     "output_type": "stream",
     "text": [
      "Download complete (txt file)                       \t2023-11-04 10:58:40\n",
      "\n",
      "Exporting 12,001-12,500 \"natural language processing\" \t2023-11-04 10:58:41\n"
     ]
    },
    {
     "data": {
      "application/json": {
       "ascii": false,
       "bar_format": null,
       "colour": null,
       "elapsed": 0.008923053741455078,
       "initial": 0,
       "n": 0,
       "ncols": null,
       "nrows": 29,
       "postfix": null,
       "prefix": "",
       "rate": null,
       "total": 100,
       "unit": "it",
       "unit_divisor": 1000,
       "unit_scale": false
      },
      "application/vnd.jupyter.widget-view+json": {
       "model_id": "35fec1101a0649b699d4dd0b5fd3e28d",
       "version_major": 2,
       "version_minor": 0
      },
      "text/plain": [
       "  0%|          | 0/100 [00:00<?, ?it/s]"
      ]
     },
     "metadata": {},
     "output_type": "display_data"
    },
    {
     "name": "stdout",
     "output_type": "stream",
     "text": [
      "Download complete (txt file)                       \t2023-11-04 10:59:07\n",
      "\n",
      "Exporting 12,501-13,000 \"natural language processing\" \t2023-11-04 10:59:08\n"
     ]
    },
    {
     "data": {
      "application/json": {
       "ascii": false,
       "bar_format": null,
       "colour": null,
       "elapsed": 0.0249481201171875,
       "initial": 0,
       "n": 0,
       "ncols": null,
       "nrows": 29,
       "postfix": null,
       "prefix": "",
       "rate": null,
       "total": 100,
       "unit": "it",
       "unit_divisor": 1000,
       "unit_scale": false
      },
      "application/vnd.jupyter.widget-view+json": {
       "model_id": "c4ffc9ee2b4840b68c1879136aa27cc2",
       "version_major": 2,
       "version_minor": 0
      },
      "text/plain": [
       "  0%|          | 0/100 [00:00<?, ?it/s]"
      ]
     },
     "metadata": {},
     "output_type": "display_data"
    },
    {
     "name": "stdout",
     "output_type": "stream",
     "text": [
      "Download complete (txt file)                       \t2023-11-04 10:59:38\n",
      "\n",
      "Exporting 13,001-13,500 \"natural language processing\" \t2023-11-04 10:59:39\n"
     ]
    },
    {
     "data": {
      "application/json": {
       "ascii": false,
       "bar_format": null,
       "colour": null,
       "elapsed": 0.009936094284057617,
       "initial": 0,
       "n": 0,
       "ncols": null,
       "nrows": 29,
       "postfix": null,
       "prefix": "",
       "rate": null,
       "total": 100,
       "unit": "it",
       "unit_divisor": 1000,
       "unit_scale": false
      },
      "application/vnd.jupyter.widget-view+json": {
       "model_id": "1b93b984a2a94adf8016fc9bc2ae0183",
       "version_major": 2,
       "version_minor": 0
      },
      "text/plain": [
       "  0%|          | 0/100 [00:00<?, ?it/s]"
      ]
     },
     "metadata": {},
     "output_type": "display_data"
    },
    {
     "name": "stdout",
     "output_type": "stream",
     "text": [
      "Download complete (txt file)                       \t2023-11-04 11:00:07\n",
      "\n",
      "Exporting 13,501-14,000 \"natural language processing\" \t2023-11-04 11:00:08\n"
     ]
    },
    {
     "data": {
      "application/json": {
       "ascii": false,
       "bar_format": null,
       "colour": null,
       "elapsed": 0.015623807907104492,
       "initial": 0,
       "n": 0,
       "ncols": null,
       "nrows": 29,
       "postfix": null,
       "prefix": "",
       "rate": null,
       "total": 100,
       "unit": "it",
       "unit_divisor": 1000,
       "unit_scale": false
      },
      "application/vnd.jupyter.widget-view+json": {
       "model_id": "42f74c5c0d464fee88f06321834de8cf",
       "version_major": 2,
       "version_minor": 0
      },
      "text/plain": [
       "  0%|          | 0/100 [00:00<?, ?it/s]"
      ]
     },
     "metadata": {},
     "output_type": "display_data"
    },
    {
     "name": "stdout",
     "output_type": "stream",
     "text": [
      "Download complete (txt file)                       \t2023-11-04 11:00:42\n",
      "\n",
      "Exporting 14,001-14,500 \"natural language processing\" \t2023-11-04 11:00:43\n"
     ]
    },
    {
     "data": {
      "application/json": {
       "ascii": false,
       "bar_format": null,
       "colour": null,
       "elapsed": 0.0156400203704834,
       "initial": 0,
       "n": 0,
       "ncols": null,
       "nrows": 29,
       "postfix": null,
       "prefix": "",
       "rate": null,
       "total": 100,
       "unit": "it",
       "unit_divisor": 1000,
       "unit_scale": false
      },
      "application/vnd.jupyter.widget-view+json": {
       "model_id": "4e33f62a5a85420ba6a69e9453b53f77",
       "version_major": 2,
       "version_minor": 0
      },
      "text/plain": [
       "  0%|          | 0/100 [00:00<?, ?it/s]"
      ]
     },
     "metadata": {},
     "output_type": "display_data"
    },
    {
     "name": "stdout",
     "output_type": "stream",
     "text": [
      "Download complete (txt file)                       \t2023-11-04 11:01:15\n",
      "\n",
      "Exporting 14,501-15,000 \"natural language processing\" \t2023-11-04 11:01:16\n"
     ]
    },
    {
     "data": {
      "application/json": {
       "ascii": false,
       "bar_format": null,
       "colour": null,
       "elapsed": 0,
       "initial": 0,
       "n": 0,
       "ncols": null,
       "nrows": 29,
       "postfix": null,
       "prefix": "",
       "rate": null,
       "total": 100,
       "unit": "it",
       "unit_divisor": 1000,
       "unit_scale": false
      },
      "application/vnd.jupyter.widget-view+json": {
       "model_id": "7ea26b4d3cb347c5b2e2439e05e4c8fc",
       "version_major": 2,
       "version_minor": 0
      },
      "text/plain": [
       "  0%|          | 0/100 [00:00<?, ?it/s]"
      ]
     },
     "metadata": {},
     "output_type": "display_data"
    },
    {
     "name": "stdout",
     "output_type": "stream",
     "text": [
      "Download complete (txt file)                       \t2023-11-04 11:01:44\n",
      "\n",
      "Exporting 15,001-15,500 \"natural language processing\" \t2023-11-04 11:01:45\n"
     ]
    },
    {
     "data": {
      "application/json": {
       "ascii": false,
       "bar_format": null,
       "colour": null,
       "elapsed": 0.01563429832458496,
       "initial": 0,
       "n": 0,
       "ncols": null,
       "nrows": 29,
       "postfix": null,
       "prefix": "",
       "rate": null,
       "total": 100,
       "unit": "it",
       "unit_divisor": 1000,
       "unit_scale": false
      },
      "application/vnd.jupyter.widget-view+json": {
       "model_id": "16ece8924b174e24a884829b8e85225d",
       "version_major": 2,
       "version_minor": 0
      },
      "text/plain": [
       "  0%|          | 0/100 [00:00<?, ?it/s]"
      ]
     },
     "metadata": {},
     "output_type": "display_data"
    },
    {
     "name": "stdout",
     "output_type": "stream",
     "text": [
      "Download complete (txt file)                       \t2023-11-04 11:02:17\n",
      "\n",
      "Exporting 15,501-16,000 \"natural language processing\" \t2023-11-04 11:02:17\n"
     ]
    },
    {
     "data": {
      "application/json": {
       "ascii": false,
       "bar_format": null,
       "colour": null,
       "elapsed": 0.014404773712158203,
       "initial": 0,
       "n": 0,
       "ncols": null,
       "nrows": 29,
       "postfix": null,
       "prefix": "",
       "rate": null,
       "total": 100,
       "unit": "it",
       "unit_divisor": 1000,
       "unit_scale": false
      },
      "application/vnd.jupyter.widget-view+json": {
       "model_id": "62fcc304944343f5a4816ba7ad108947",
       "version_major": 2,
       "version_minor": 0
      },
      "text/plain": [
       "  0%|          | 0/100 [00:00<?, ?it/s]"
      ]
     },
     "metadata": {},
     "output_type": "display_data"
    },
    {
     "name": "stdout",
     "output_type": "stream",
     "text": [
      "Download complete (txt file)                       \t2023-11-04 11:02:49\n",
      "\n",
      "Exporting 16,001-16,500 \"natural language processing\" \t2023-11-04 11:02:50\n"
     ]
    },
    {
     "data": {
      "application/json": {
       "ascii": false,
       "bar_format": null,
       "colour": null,
       "elapsed": 0.00835871696472168,
       "initial": 0,
       "n": 0,
       "ncols": null,
       "nrows": 29,
       "postfix": null,
       "prefix": "",
       "rate": null,
       "total": 100,
       "unit": "it",
       "unit_divisor": 1000,
       "unit_scale": false
      },
      "application/vnd.jupyter.widget-view+json": {
       "model_id": "cd3344d1754d4c36910d8dceb2731e04",
       "version_major": 2,
       "version_minor": 0
      },
      "text/plain": [
       "  0%|          | 0/100 [00:00<?, ?it/s]"
      ]
     },
     "metadata": {},
     "output_type": "display_data"
    },
    {
     "name": "stdout",
     "output_type": "stream",
     "text": [
      "Download complete (txt file)                       \t2023-11-04 11:03:22\n",
      "\n",
      "Exporting 16,501-17,000 \"natural language processing\" \t2023-11-04 11:03:23\n"
     ]
    },
    {
     "data": {
      "application/json": {
       "ascii": false,
       "bar_format": null,
       "colour": null,
       "elapsed": 0.012809038162231445,
       "initial": 0,
       "n": 0,
       "ncols": null,
       "nrows": 29,
       "postfix": null,
       "prefix": "",
       "rate": null,
       "total": 100,
       "unit": "it",
       "unit_divisor": 1000,
       "unit_scale": false
      },
      "application/vnd.jupyter.widget-view+json": {
       "model_id": "96e8d1b5cb484299936aa9cc67d88c67",
       "version_major": 2,
       "version_minor": 0
      },
      "text/plain": [
       "  0%|          | 0/100 [00:00<?, ?it/s]"
      ]
     },
     "metadata": {},
     "output_type": "display_data"
    },
    {
     "name": "stdout",
     "output_type": "stream",
     "text": [
      "Download complete (txt file)                       \t2023-11-04 11:03:52\n",
      "\n",
      "Exporting 17,001-17,500 \"natural language processing\" \t2023-11-04 11:03:53\n"
     ]
    },
    {
     "data": {
      "application/json": {
       "ascii": false,
       "bar_format": null,
       "colour": null,
       "elapsed": 0.0073850154876708984,
       "initial": 0,
       "n": 0,
       "ncols": null,
       "nrows": 29,
       "postfix": null,
       "prefix": "",
       "rate": null,
       "total": 100,
       "unit": "it",
       "unit_divisor": 1000,
       "unit_scale": false
      },
      "application/vnd.jupyter.widget-view+json": {
       "model_id": "cee939df4a9f4b33aae5acaeb5b27a03",
       "version_major": 2,
       "version_minor": 0
      },
      "text/plain": [
       "  0%|          | 0/100 [00:00<?, ?it/s]"
      ]
     },
     "metadata": {},
     "output_type": "display_data"
    },
    {
     "name": "stdout",
     "output_type": "stream",
     "text": [
      "Download complete (txt file)                       \t2023-11-04 11:04:30\n",
      "\n",
      "Exporting 17,501-18,000 \"natural language processing\" \t2023-11-04 11:04:30\n"
     ]
    },
    {
     "data": {
      "application/json": {
       "ascii": false,
       "bar_format": null,
       "colour": null,
       "elapsed": 0.015620231628417969,
       "initial": 0,
       "n": 0,
       "ncols": null,
       "nrows": 29,
       "postfix": null,
       "prefix": "",
       "rate": null,
       "total": 100,
       "unit": "it",
       "unit_divisor": 1000,
       "unit_scale": false
      },
      "application/vnd.jupyter.widget-view+json": {
       "model_id": "24dfe6ad7e034d8aa8ed7faf3d9ca94e",
       "version_major": 2,
       "version_minor": 0
      },
      "text/plain": [
       "  0%|          | 0/100 [00:00<?, ?it/s]"
      ]
     },
     "metadata": {},
     "output_type": "display_data"
    },
    {
     "name": "stdout",
     "output_type": "stream",
     "text": [
      "Download complete (txt file)                       \t2023-11-04 11:05:01\n",
      "\n",
      "Exporting 18,001-18,500 \"natural language processing\" \t2023-11-04 11:05:02\n"
     ]
    },
    {
     "data": {
      "application/json": {
       "ascii": false,
       "bar_format": null,
       "colour": null,
       "elapsed": 0.009274482727050781,
       "initial": 0,
       "n": 0,
       "ncols": null,
       "nrows": 29,
       "postfix": null,
       "prefix": "",
       "rate": null,
       "total": 100,
       "unit": "it",
       "unit_divisor": 1000,
       "unit_scale": false
      },
      "application/vnd.jupyter.widget-view+json": {
       "model_id": "ae63d7bc5a664c53bad31fb969325fa2",
       "version_major": 2,
       "version_minor": 0
      },
      "text/plain": [
       "  0%|          | 0/100 [00:00<?, ?it/s]"
      ]
     },
     "metadata": {},
     "output_type": "display_data"
    },
    {
     "name": "stdout",
     "output_type": "stream",
     "text": [
      "Download complete (txt file)                       \t2023-11-04 11:05:31\n",
      "\n",
      "Exporting 18,501-19,000 \"natural language processing\" \t2023-11-04 11:05:32\n"
     ]
    },
    {
     "data": {
      "application/json": {
       "ascii": false,
       "bar_format": null,
       "colour": null,
       "elapsed": 0.015611648559570312,
       "initial": 0,
       "n": 0,
       "ncols": null,
       "nrows": 29,
       "postfix": null,
       "prefix": "",
       "rate": null,
       "total": 100,
       "unit": "it",
       "unit_divisor": 1000,
       "unit_scale": false
      },
      "application/vnd.jupyter.widget-view+json": {
       "model_id": "14215d450981449e9b5f5bf7111a23d3",
       "version_major": 2,
       "version_minor": 0
      },
      "text/plain": [
       "  0%|          | 0/100 [00:00<?, ?it/s]"
      ]
     },
     "metadata": {},
     "output_type": "display_data"
    },
    {
     "name": "stdout",
     "output_type": "stream",
     "text": [
      "Download complete (txt file)                       \t2023-11-04 11:06:02\n",
      "\n",
      "Exporting 19,001-19,500 \"natural language processing\" \t2023-11-04 11:06:03\n"
     ]
    },
    {
     "data": {
      "application/json": {
       "ascii": false,
       "bar_format": null,
       "colour": null,
       "elapsed": 0.012376546859741211,
       "initial": 0,
       "n": 0,
       "ncols": null,
       "nrows": 29,
       "postfix": null,
       "prefix": "",
       "rate": null,
       "total": 100,
       "unit": "it",
       "unit_divisor": 1000,
       "unit_scale": false
      },
      "application/vnd.jupyter.widget-view+json": {
       "model_id": "0e69b2e6763e4290ada083c712d32476",
       "version_major": 2,
       "version_minor": 0
      },
      "text/plain": [
       "  0%|          | 0/100 [00:00<?, ?it/s]"
      ]
     },
     "metadata": {},
     "output_type": "display_data"
    },
    {
     "name": "stdout",
     "output_type": "stream",
     "text": [
      "Download complete (txt file)                       \t2023-11-04 11:06:33\n",
      "\n",
      "Exporting 19,501-20,000 \"natural language processing\" \t2023-11-04 11:06:34\n"
     ]
    },
    {
     "data": {
      "application/json": {
       "ascii": false,
       "bar_format": null,
       "colour": null,
       "elapsed": 0.022495508193969727,
       "initial": 0,
       "n": 0,
       "ncols": null,
       "nrows": 29,
       "postfix": null,
       "prefix": "",
       "rate": null,
       "total": 100,
       "unit": "it",
       "unit_divisor": 1000,
       "unit_scale": false
      },
      "application/vnd.jupyter.widget-view+json": {
       "model_id": "c8b1196801dc459e8d02d9a5708d87ed",
       "version_major": 2,
       "version_minor": 0
      },
      "text/plain": [
       "  0%|          | 0/100 [00:00<?, ?it/s]"
      ]
     },
     "metadata": {},
     "output_type": "display_data"
    },
    {
     "name": "stdout",
     "output_type": "stream",
     "text": [
      "Download complete (txt file)                       \t2023-11-04 11:07:03\n",
      "Exporting \"natural language processing\" has ended. 00h 19m 17s was spent \t2023-11-04 11:07:03\n",
      "\n",
      "\n",
      "Searching for all search queries has finished      \t2023-11-04 11:07:06\n"
     ]
    }
   ],
   "source": [
    "# stream lit **********************************\n",
    "\n",
    "scopus_search(file_format='Plain text')\n"
   ]
  },
  {
   "cell_type": "markdown",
   "metadata": {},
   "source": [
    "# Cited by"
   ]
  },
  {
   "cell_type": "code",
   "execution_count": null,
   "metadata": {},
   "outputs": [],
   "source": [
    "search_cited_by()"
   ]
  },
  {
   "cell_type": "markdown",
   "metadata": {},
   "source": [
    "# References one by one"
   ]
  },
  {
   "cell_type": "code",
   "execution_count": null,
   "metadata": {},
   "outputs": [],
   "source": [
    "by_reference_title()\n"
   ]
  },
  {
   "cell_type": "markdown",
   "metadata": {},
   "source": [
    "# References all at once"
   ]
  },
  {
   "cell_type": "code",
   "execution_count": null,
   "metadata": {},
   "outputs": [],
   "source": [
    "by_article_doi()\n"
   ]
  },
  {
   "cell_type": "code",
   "execution_count": 8,
   "metadata": {},
   "outputs": [
    {
     "data": {
      "text/html": [
       "<div>\n",
       "<style scoped>\n",
       "    .dataframe tbody tr th:only-of-type {\n",
       "        vertical-align: middle;\n",
       "    }\n",
       "\n",
       "    .dataframe tbody tr th {\n",
       "        vertical-align: top;\n",
       "    }\n",
       "\n",
       "    .dataframe thead th {\n",
       "        text-align: right;\n",
       "    }\n",
       "</style>\n",
       "<table border=\"1\" class=\"dataframe\">\n",
       "  <thead>\n",
       "    <tr style=\"text-align: right;\">\n",
       "      <th></th>\n",
       "      <th>Authors</th>\n",
       "      <th>Author full names</th>\n",
       "      <th>Author(s) ID</th>\n",
       "      <th>Title</th>\n",
       "      <th>Year</th>\n",
       "      <th>Source title</th>\n",
       "      <th>Volume</th>\n",
       "      <th>Issue</th>\n",
       "      <th>Art. No.</th>\n",
       "      <th>Page start</th>\n",
       "      <th>...</th>\n",
       "      <th>ISBN</th>\n",
       "      <th>CODEN</th>\n",
       "      <th>PubMed ID</th>\n",
       "      <th>Language of Original Document</th>\n",
       "      <th>Abbreviated Source Title</th>\n",
       "      <th>Document Type</th>\n",
       "      <th>Publication Stage</th>\n",
       "      <th>Open Access</th>\n",
       "      <th>Source</th>\n",
       "      <th>EID</th>\n",
       "    </tr>\n",
       "  </thead>\n",
       "  <tbody>\n",
       "    <tr>\n",
       "      <th>0</th>\n",
       "      <td>Bansal S.; Gowda K.; Kumar N.</td>\n",
       "      <td>Bansal, Shubhi (57733698000); Gowda, Kushaan (...</td>\n",
       "      <td>57733698000; 57789933000; 56982278900</td>\n",
       "      <td>Multilingual personalized hashtag recommendati...</td>\n",
       "      <td>2024</td>\n",
       "      <td>Expert Systems with Applications</td>\n",
       "      <td>236</td>\n",
       "      <td>NaN</td>\n",
       "      <td>121188</td>\n",
       "      <td>NaN</td>\n",
       "      <td>...</td>\n",
       "      <td>NaN</td>\n",
       "      <td>ESAPE</td>\n",
       "      <td>NaN</td>\n",
       "      <td>English</td>\n",
       "      <td>Expert Sys Appl</td>\n",
       "      <td>Article</td>\n",
       "      <td>Final</td>\n",
       "      <td>NaN</td>\n",
       "      <td>Scopus</td>\n",
       "      <td>2-s2.0-85169977021</td>\n",
       "    </tr>\n",
       "    <tr>\n",
       "      <th>1</th>\n",
       "      <td>Zaydi H.; Bakkoury Z.</td>\n",
       "      <td>Zaydi, Hayat (57346388400); Bakkoury, Zohra (3...</td>\n",
       "      <td>57346388400; 35092189900</td>\n",
       "      <td>Advancing Healthcare Data Management: IoT Edge...</td>\n",
       "      <td>2024</td>\n",
       "      <td>International Journal of Mathematics and Compu...</td>\n",
       "      <td>19</td>\n",
       "      <td>1</td>\n",
       "      <td>NaN</td>\n",
       "      <td>249.0</td>\n",
       "      <td>...</td>\n",
       "      <td>NaN</td>\n",
       "      <td>NaN</td>\n",
       "      <td>NaN</td>\n",
       "      <td>English</td>\n",
       "      <td>Int. J. Math. Comput. Sci.</td>\n",
       "      <td>Article</td>\n",
       "      <td>Final</td>\n",
       "      <td>NaN</td>\n",
       "      <td>Scopus</td>\n",
       "      <td>2-s2.0-85172355232</td>\n",
       "    </tr>\n",
       "    <tr>\n",
       "      <th>2</th>\n",
       "      <td>You D.; Wu H.; Liu J.; Yan H.; Ma C.; Chen Z.;...</td>\n",
       "      <td>You, Dianlong (36095414400); Wu, Hongtao (5856...</td>\n",
       "      <td>36095414400; 58567517800; 58568069200; 5805994...</td>\n",
       "      <td>Continuous causal structure learning from incr...</td>\n",
       "      <td>2024</td>\n",
       "      <td>Information Fusion</td>\n",
       "      <td>101</td>\n",
       "      <td>NaN</td>\n",
       "      <td>101975</td>\n",
       "      <td>NaN</td>\n",
       "      <td>...</td>\n",
       "      <td>NaN</td>\n",
       "      <td>NaN</td>\n",
       "      <td>NaN</td>\n",
       "      <td>English</td>\n",
       "      <td>Inf. Fusion</td>\n",
       "      <td>Article</td>\n",
       "      <td>Final</td>\n",
       "      <td>NaN</td>\n",
       "      <td>Scopus</td>\n",
       "      <td>2-s2.0-85170225909</td>\n",
       "    </tr>\n",
       "    <tr>\n",
       "      <th>3</th>\n",
       "      <td>Zhang K.; Chen J.; Lee C.-G.; He S.</td>\n",
       "      <td>Zhang, Kaiyu (57216702983); Chen, Jinglong (37...</td>\n",
       "      <td>57216702983; 37114113300; 57203055947; 5588623...</td>\n",
       "      <td>An unsupervised spatiotemporal fusion network ...</td>\n",
       "      <td>2024</td>\n",
       "      <td>Expert Systems with Applications</td>\n",
       "      <td>237</td>\n",
       "      <td>NaN</td>\n",
       "      <td>121506</td>\n",
       "      <td>NaN</td>\n",
       "      <td>...</td>\n",
       "      <td>NaN</td>\n",
       "      <td>ESAPE</td>\n",
       "      <td>NaN</td>\n",
       "      <td>English</td>\n",
       "      <td>Expert Sys Appl</td>\n",
       "      <td>Article</td>\n",
       "      <td>Final</td>\n",
       "      <td>NaN</td>\n",
       "      <td>Scopus</td>\n",
       "      <td>2-s2.0-85170642830</td>\n",
       "    </tr>\n",
       "    <tr>\n",
       "      <th>4</th>\n",
       "      <td>Alderotti F.; Sillo F.; Brilli L.; Bussotti F....</td>\n",
       "      <td>Alderotti, Francesca (57219979570); Sillo, Fab...</td>\n",
       "      <td>57219979570; 55163253900; 55323988100; 7003415...</td>\n",
       "      <td>Quercus ilex L. dieback is genetically determi...</td>\n",
       "      <td>2023</td>\n",
       "      <td>Science of the Total Environment</td>\n",
       "      <td>904</td>\n",
       "      <td>NaN</td>\n",
       "      <td>166809</td>\n",
       "      <td>NaN</td>\n",
       "      <td>...</td>\n",
       "      <td>NaN</td>\n",
       "      <td>STEVA</td>\n",
       "      <td>37690750.0</td>\n",
       "      <td>English</td>\n",
       "      <td>Sci. Total Environ.</td>\n",
       "      <td>Article</td>\n",
       "      <td>Final</td>\n",
       "      <td>NaN</td>\n",
       "      <td>Scopus</td>\n",
       "      <td>2-s2.0-85171143021</td>\n",
       "    </tr>\n",
       "    <tr>\n",
       "      <th>...</th>\n",
       "      <td>...</td>\n",
       "      <td>...</td>\n",
       "      <td>...</td>\n",
       "      <td>...</td>\n",
       "      <td>...</td>\n",
       "      <td>...</td>\n",
       "      <td>...</td>\n",
       "      <td>...</td>\n",
       "      <td>...</td>\n",
       "      <td>...</td>\n",
       "      <td>...</td>\n",
       "      <td>...</td>\n",
       "      <td>...</td>\n",
       "      <td>...</td>\n",
       "      <td>...</td>\n",
       "      <td>...</td>\n",
       "      <td>...</td>\n",
       "      <td>...</td>\n",
       "      <td>...</td>\n",
       "      <td>...</td>\n",
       "      <td>...</td>\n",
       "    </tr>\n",
       "    <tr>\n",
       "      <th>995</th>\n",
       "      <td>Nie J.; Huang X.; Liu Y.; Kong C.; Liu X.; Yan...</td>\n",
       "      <td>Nie, Jinran (57394017800); Huang, Xuancheng (5...</td>\n",
       "      <td>57394017800; 57209394586; 57196311263; 5720404...</td>\n",
       "      <td>End-to-end hard constrained text generation vi...</td>\n",
       "      <td>2023</td>\n",
       "      <td>Knowledge-Based Systems</td>\n",
       "      <td>278</td>\n",
       "      <td>NaN</td>\n",
       "      <td>110886</td>\n",
       "      <td>NaN</td>\n",
       "      <td>...</td>\n",
       "      <td>NaN</td>\n",
       "      <td>KNSYE</td>\n",
       "      <td>NaN</td>\n",
       "      <td>English</td>\n",
       "      <td>Knowl Based Syst</td>\n",
       "      <td>Article</td>\n",
       "      <td>Final</td>\n",
       "      <td>NaN</td>\n",
       "      <td>Scopus</td>\n",
       "      <td>2-s2.0-85170061111</td>\n",
       "    </tr>\n",
       "    <tr>\n",
       "      <th>996</th>\n",
       "      <td>Chen Y.; Yuan B.; Liao B.; Gabbay D.M.</td>\n",
       "      <td>Chen, Yulin (57434615000); Yuan, Bo (574346332...</td>\n",
       "      <td>57434615000; 57434633200; 7102656594; 7003522670</td>\n",
       "      <td>A self-explanatory contrastive logical knowled...</td>\n",
       "      <td>2023</td>\n",
       "      <td>Knowledge-Based Systems</td>\n",
       "      <td>278</td>\n",
       "      <td>NaN</td>\n",
       "      <td>110863</td>\n",
       "      <td>NaN</td>\n",
       "      <td>...</td>\n",
       "      <td>NaN</td>\n",
       "      <td>KNSYE</td>\n",
       "      <td>NaN</td>\n",
       "      <td>English</td>\n",
       "      <td>Knowl Based Syst</td>\n",
       "      <td>Article</td>\n",
       "      <td>Final</td>\n",
       "      <td>NaN</td>\n",
       "      <td>Scopus</td>\n",
       "      <td>2-s2.0-85168545278</td>\n",
       "    </tr>\n",
       "    <tr>\n",
       "      <th>997</th>\n",
       "      <td>Zhou M.; Jiang K.; Chen Z.</td>\n",
       "      <td>Zhou, Mengling (57211713118); Jiang, Kangqi (5...</td>\n",
       "      <td>57211713118; 57373799600; 44861086000</td>\n",
       "      <td>The side effects of local government debt: Evi...</td>\n",
       "      <td>2023</td>\n",
       "      <td>Journal of Environmental Management</td>\n",
       "      <td>344</td>\n",
       "      <td>NaN</td>\n",
       "      <td>118739</td>\n",
       "      <td>NaN</td>\n",
       "      <td>...</td>\n",
       "      <td>NaN</td>\n",
       "      <td>JEVMA</td>\n",
       "      <td>37562252.0</td>\n",
       "      <td>English</td>\n",
       "      <td>J. Environ. Manage.</td>\n",
       "      <td>Article</td>\n",
       "      <td>Final</td>\n",
       "      <td>NaN</td>\n",
       "      <td>Scopus</td>\n",
       "      <td>2-s2.0-85166928555</td>\n",
       "    </tr>\n",
       "    <tr>\n",
       "      <th>998</th>\n",
       "      <td>Ahmed S.F.; Alam M.S.B.; Hassan M.; Rozbu M.R....</td>\n",
       "      <td>Ahmed, Shams Forruque (56608467100); Alam, Md....</td>\n",
       "      <td>56608467100; 58190623000; 57209983039; 5724631...</td>\n",
       "      <td>Deep learning modelling techniques: current pr...</td>\n",
       "      <td>2023</td>\n",
       "      <td>Artificial Intelligence Review</td>\n",
       "      <td>56</td>\n",
       "      <td>11</td>\n",
       "      <td>NaN</td>\n",
       "      <td>13521.0</td>\n",
       "      <td>...</td>\n",
       "      <td>NaN</td>\n",
       "      <td>AIRVE</td>\n",
       "      <td>NaN</td>\n",
       "      <td>English</td>\n",
       "      <td>Artif Intell Rev</td>\n",
       "      <td>Article</td>\n",
       "      <td>Final</td>\n",
       "      <td>All Open Access; Hybrid Gold Open Access</td>\n",
       "      <td>Scopus</td>\n",
       "      <td>2-s2.0-85153079157</td>\n",
       "    </tr>\n",
       "    <tr>\n",
       "      <th>999</th>\n",
       "      <td>Chu Y.; Cao H.; Diao Y.; Lin H.</td>\n",
       "      <td>Chu, Yonghe (57191405659); Cao, Heling (559682...</td>\n",
       "      <td>57191405659; 55968249400; 57200411865; 2446857...</td>\n",
       "      <td>Refined SBERT: Representing sentence BERT in m...</td>\n",
       "      <td>2023</td>\n",
       "      <td>Neurocomputing</td>\n",
       "      <td>555</td>\n",
       "      <td>NaN</td>\n",
       "      <td>126453</td>\n",
       "      <td>NaN</td>\n",
       "      <td>...</td>\n",
       "      <td>NaN</td>\n",
       "      <td>NRCGE</td>\n",
       "      <td>NaN</td>\n",
       "      <td>English</td>\n",
       "      <td>Neurocomputing</td>\n",
       "      <td>Article</td>\n",
       "      <td>Final</td>\n",
       "      <td>NaN</td>\n",
       "      <td>Scopus</td>\n",
       "      <td>2-s2.0-85167788727</td>\n",
       "    </tr>\n",
       "  </tbody>\n",
       "</table>\n",
       "<p>1000 rows × 46 columns</p>\n",
       "</div>"
      ],
      "text/plain": [
       "                                               Authors  \\\n",
       "0                        Bansal S.; Gowda K.; Kumar N.   \n",
       "1                                Zaydi H.; Bakkoury Z.   \n",
       "2    You D.; Wu H.; Liu J.; Yan H.; Ma C.; Chen Z.;...   \n",
       "3                  Zhang K.; Chen J.; Lee C.-G.; He S.   \n",
       "4    Alderotti F.; Sillo F.; Brilli L.; Bussotti F....   \n",
       "..                                                 ...   \n",
       "995  Nie J.; Huang X.; Liu Y.; Kong C.; Liu X.; Yan...   \n",
       "996             Chen Y.; Yuan B.; Liao B.; Gabbay D.M.   \n",
       "997                         Zhou M.; Jiang K.; Chen Z.   \n",
       "998  Ahmed S.F.; Alam M.S.B.; Hassan M.; Rozbu M.R....   \n",
       "999                    Chu Y.; Cao H.; Diao Y.; Lin H.   \n",
       "\n",
       "                                     Author full names  \\\n",
       "0    Bansal, Shubhi (57733698000); Gowda, Kushaan (...   \n",
       "1    Zaydi, Hayat (57346388400); Bakkoury, Zohra (3...   \n",
       "2    You, Dianlong (36095414400); Wu, Hongtao (5856...   \n",
       "3    Zhang, Kaiyu (57216702983); Chen, Jinglong (37...   \n",
       "4    Alderotti, Francesca (57219979570); Sillo, Fab...   \n",
       "..                                                 ...   \n",
       "995  Nie, Jinran (57394017800); Huang, Xuancheng (5...   \n",
       "996  Chen, Yulin (57434615000); Yuan, Bo (574346332...   \n",
       "997  Zhou, Mengling (57211713118); Jiang, Kangqi (5...   \n",
       "998  Ahmed, Shams Forruque (56608467100); Alam, Md....   \n",
       "999  Chu, Yonghe (57191405659); Cao, Heling (559682...   \n",
       "\n",
       "                                          Author(s) ID  \\\n",
       "0                57733698000; 57789933000; 56982278900   \n",
       "1                             57346388400; 35092189900   \n",
       "2    36095414400; 58567517800; 58568069200; 5805994...   \n",
       "3    57216702983; 37114113300; 57203055947; 5588623...   \n",
       "4    57219979570; 55163253900; 55323988100; 7003415...   \n",
       "..                                                 ...   \n",
       "995  57394017800; 57209394586; 57196311263; 5720404...   \n",
       "996   57434615000; 57434633200; 7102656594; 7003522670   \n",
       "997              57211713118; 57373799600; 44861086000   \n",
       "998  56608467100; 58190623000; 57209983039; 5724631...   \n",
       "999  57191405659; 55968249400; 57200411865; 2446857...   \n",
       "\n",
       "                                                 Title  Year  \\\n",
       "0    Multilingual personalized hashtag recommendati...  2024   \n",
       "1    Advancing Healthcare Data Management: IoT Edge...  2024   \n",
       "2    Continuous causal structure learning from incr...  2024   \n",
       "3    An unsupervised spatiotemporal fusion network ...  2024   \n",
       "4    Quercus ilex L. dieback is genetically determi...  2023   \n",
       "..                                                 ...   ...   \n",
       "995  End-to-end hard constrained text generation vi...  2023   \n",
       "996  A self-explanatory contrastive logical knowled...  2023   \n",
       "997  The side effects of local government debt: Evi...  2023   \n",
       "998  Deep learning modelling techniques: current pr...  2023   \n",
       "999  Refined SBERT: Representing sentence BERT in m...  2023   \n",
       "\n",
       "                                          Source title Volume Issue Art. No.  \\\n",
       "0                     Expert Systems with Applications    236   NaN   121188   \n",
       "1    International Journal of Mathematics and Compu...     19     1      NaN   \n",
       "2                                   Information Fusion    101   NaN   101975   \n",
       "3                     Expert Systems with Applications    237   NaN   121506   \n",
       "4                     Science of the Total Environment    904   NaN   166809   \n",
       "..                                                 ...    ...   ...      ...   \n",
       "995                            Knowledge-Based Systems    278   NaN   110886   \n",
       "996                            Knowledge-Based Systems    278   NaN   110863   \n",
       "997                Journal of Environmental Management    344   NaN   118739   \n",
       "998                     Artificial Intelligence Review     56    11      NaN   \n",
       "999                                     Neurocomputing    555   NaN   126453   \n",
       "\n",
       "     Page start  ...  ISBN  CODEN   PubMed ID Language of Original Document  \\\n",
       "0           NaN  ...   NaN  ESAPE         NaN                       English   \n",
       "1         249.0  ...   NaN    NaN         NaN                       English   \n",
       "2           NaN  ...   NaN    NaN         NaN                       English   \n",
       "3           NaN  ...   NaN  ESAPE         NaN                       English   \n",
       "4           NaN  ...   NaN  STEVA  37690750.0                       English   \n",
       "..          ...  ...   ...    ...         ...                           ...   \n",
       "995         NaN  ...   NaN  KNSYE         NaN                       English   \n",
       "996         NaN  ...   NaN  KNSYE         NaN                       English   \n",
       "997         NaN  ...   NaN  JEVMA  37562252.0                       English   \n",
       "998     13521.0  ...   NaN  AIRVE         NaN                       English   \n",
       "999         NaN  ...   NaN  NRCGE         NaN                       English   \n",
       "\n",
       "       Abbreviated Source Title Document Type Publication Stage  \\\n",
       "0               Expert Sys Appl       Article             Final   \n",
       "1    Int. J. Math. Comput. Sci.       Article             Final   \n",
       "2                   Inf. Fusion       Article             Final   \n",
       "3               Expert Sys Appl       Article             Final   \n",
       "4           Sci. Total Environ.       Article             Final   \n",
       "..                          ...           ...               ...   \n",
       "995            Knowl Based Syst       Article             Final   \n",
       "996            Knowl Based Syst       Article             Final   \n",
       "997         J. Environ. Manage.       Article             Final   \n",
       "998            Artif Intell Rev       Article             Final   \n",
       "999              Neurocomputing       Article             Final   \n",
       "\n",
       "                                  Open Access  Source                 EID  \n",
       "0                                         NaN  Scopus  2-s2.0-85169977021  \n",
       "1                                         NaN  Scopus  2-s2.0-85172355232  \n",
       "2                                         NaN  Scopus  2-s2.0-85170225909  \n",
       "3                                         NaN  Scopus  2-s2.0-85170642830  \n",
       "4                                         NaN  Scopus  2-s2.0-85171143021  \n",
       "..                                        ...     ...                 ...  \n",
       "995                                       NaN  Scopus  2-s2.0-85170061111  \n",
       "996                                       NaN  Scopus  2-s2.0-85168545278  \n",
       "997                                       NaN  Scopus  2-s2.0-85166928555  \n",
       "998  All Open Access; Hybrid Gold Open Access  Scopus  2-s2.0-85153079157  \n",
       "999                                       NaN  Scopus  2-s2.0-85167788727  \n",
       "\n",
       "[1000 rows x 46 columns]"
      ]
     },
     "execution_count": 8,
     "metadata": {},
     "output_type": "execute_result"
    }
   ],
   "source": [
    "df = pd.read_csv('BERT/BERT_1-1000.csv')\n",
    "# for i in df.columns: print(i)\n",
    "# df.dropna(how='all', subset=['ISSN', 'ISBN']).shape\n",
    "df\n"
   ]
  },
  {
   "cell_type": "code",
   "execution_count": 32,
   "metadata": {},
   "outputs": [
    {
     "data": {
      "text/plain": [
       "100"
      ]
     },
     "execution_count": 32,
     "metadata": {},
     "output_type": "execute_result"
    }
   ],
   "source": [
    "a = 'Martínez Arbizu  Pedro'\n",
    "b = 'Arbizu  Pedro Martínez'\n",
    "\n",
    "from fuzzywuzzy import fuzz\n",
    "max(fuzz.WRatio(a, b), fuzz.token_set_ratio(a, b))\n"
   ]
  },
  {
   "cell_type": "code",
   "execution_count": 3,
   "metadata": {},
   "outputs": [
    {
     "data": {
      "text/html": [
       "<div>\n",
       "<style scoped>\n",
       "    .dataframe tbody tr th:only-of-type {\n",
       "        vertical-align: middle;\n",
       "    }\n",
       "\n",
       "    .dataframe tbody tr th {\n",
       "        vertical-align: top;\n",
       "    }\n",
       "\n",
       "    .dataframe thead th {\n",
       "        text-align: right;\n",
       "    }\n",
       "</style>\n",
       "<table border=\"1\" class=\"dataframe\">\n",
       "  <thead>\n",
       "    <tr style=\"text-align: right;\">\n",
       "      <th></th>\n",
       "      <th>Author</th>\n",
       "      <th>ID</th>\n",
       "    </tr>\n",
       "  </thead>\n",
       "  <tbody>\n",
       "    <tr>\n",
       "      <th>0</th>\n",
       "      <td>Chen, Jing</td>\n",
       "      <td>58169440000</td>\n",
       "    </tr>\n",
       "    <tr>\n",
       "      <th>1</th>\n",
       "      <td>Chen, Quanzhen</td>\n",
       "      <td>58169620800</td>\n",
       "    </tr>\n",
       "    <tr>\n",
       "      <th>2</th>\n",
       "      <td>Jiang, Feng</td>\n",
       "      <td>57031170300</td>\n",
       "    </tr>\n",
       "    <tr>\n",
       "      <th>3</th>\n",
       "      <td>Guo, Xuyao</td>\n",
       "      <td>58169066100</td>\n",
       "    </tr>\n",
       "    <tr>\n",
       "      <th>4</th>\n",
       "      <td>Sha, Kaiyue</td>\n",
       "      <td>58168881700</td>\n",
       "    </tr>\n",
       "    <tr>\n",
       "      <th>...</th>\n",
       "      <td>...</td>\n",
       "      <td>...</td>\n",
       "    </tr>\n",
       "    <tr>\n",
       "      <th>1636857</th>\n",
       "      <td>Piontkovskaya, Irina</td>\n",
       "      <td>57034191400</td>\n",
       "    </tr>\n",
       "    <tr>\n",
       "      <th>1636858</th>\n",
       "      <td>Liu, Jiongnan</td>\n",
       "      <td>57218710535</td>\n",
       "    </tr>\n",
       "    <tr>\n",
       "      <th>1636859</th>\n",
       "      <td>Dou, Zhicheng</td>\n",
       "      <td>24722777200</td>\n",
       "    </tr>\n",
       "    <tr>\n",
       "      <th>1636860</th>\n",
       "      <td>Tang, Guoyu</td>\n",
       "      <td>57211403658</td>\n",
       "    </tr>\n",
       "    <tr>\n",
       "      <th>1636861</th>\n",
       "      <td>Xu, Sulong</td>\n",
       "      <td>57218844776</td>\n",
       "    </tr>\n",
       "  </tbody>\n",
       "</table>\n",
       "<p>1636862 rows × 2 columns</p>\n",
       "</div>"
      ],
      "text/plain": [
       "                       Author           ID\n",
       "0                  Chen, Jing  58169440000\n",
       "1              Chen, Quanzhen  58169620800\n",
       "2                 Jiang, Feng  57031170300\n",
       "3                  Guo, Xuyao  58169066100\n",
       "4                 Sha, Kaiyue  58168881700\n",
       "...                       ...          ...\n",
       "1636857  Piontkovskaya, Irina  57034191400\n",
       "1636858         Liu, Jiongnan  57218710535\n",
       "1636859         Dou, Zhicheng  24722777200\n",
       "1636860           Tang, Guoyu  57211403658\n",
       "1636861            Xu, Sulong  57218844776\n",
       "\n",
       "[1636862 rows x 2 columns]"
      ]
     },
     "execution_count": 3,
     "metadata": {},
     "output_type": "execute_result"
    }
   ],
   "source": [
    "get_authors_name_id()"
   ]
  },
  {
   "cell_type": "code",
   "execution_count": null,
   "metadata": {
    "scrolled": false
   },
   "outputs": [],
   "source": [
    "authos_df = check_author_unique_id(73)\n"
   ]
  },
  {
   "cell_type": "code",
   "execution_count": 5,
   "metadata": {},
   "outputs": [
    {
     "data": {
      "text/plain": [
       "(139, 3)"
      ]
     },
     "execution_count": 5,
     "metadata": {},
     "output_type": "execute_result"
    }
   ],
   "source": [
    "authos_df.shape"
   ]
  },
  {
   "cell_type": "code",
   "execution_count": 4,
   "metadata": {
    "scrolled": true
   },
   "outputs": [
    {
     "data": {
      "text/html": [
       "<div>\n",
       "<style scoped>\n",
       "    .dataframe tbody tr th:only-of-type {\n",
       "        vertical-align: middle;\n",
       "    }\n",
       "\n",
       "    .dataframe tbody tr th {\n",
       "        vertical-align: top;\n",
       "    }\n",
       "\n",
       "    .dataframe thead th {\n",
       "        text-align: right;\n",
       "    }\n",
       "</style>\n",
       "<table border=\"1\" class=\"dataframe\">\n",
       "  <thead>\n",
       "    <tr style=\"text-align: right;\">\n",
       "      <th></th>\n",
       "      <th>Name 1</th>\n",
       "      <th>Name 2</th>\n",
       "      <th>Similarity</th>\n",
       "    </tr>\n",
       "  </thead>\n",
       "  <tbody>\n",
       "    <tr>\n",
       "      <th>0</th>\n",
       "      <td>Oyebamiji  Abel K</td>\n",
       "      <td>Kolawole  Oyebamiji A</td>\n",
       "      <td>72</td>\n",
       "    </tr>\n",
       "    <tr>\n",
       "      <th>130</th>\n",
       "      <td>Torre  Ana Isabel</td>\n",
       "      <td>Torre Bastida  Ana I</td>\n",
       "      <td>72</td>\n",
       "    </tr>\n",
       "    <tr>\n",
       "      <th>44</th>\n",
       "      <td>Spotar  G  Yu</td>\n",
       "      <td>Spotar  Gennady</td>\n",
       "      <td>72</td>\n",
       "    </tr>\n",
       "    <tr>\n",
       "      <th>60</th>\n",
       "      <td>Topić Popović  Natalija</td>\n",
       "      <td>Topicpopovic  N</td>\n",
       "      <td>72</td>\n",
       "    </tr>\n",
       "    <tr>\n",
       "      <th>29</th>\n",
       "      <td>Olšák  Miroslav</td>\n",
       "      <td>Olšák  Mirek</td>\n",
       "      <td>72</td>\n",
       "    </tr>\n",
       "    <tr>\n",
       "      <th>91</th>\n",
       "      <td>Dale  Daniel A</td>\n",
       "      <td>Dale  Danny</td>\n",
       "      <td>72</td>\n",
       "    </tr>\n",
       "    <tr>\n",
       "      <th>20</th>\n",
       "      <td>Huang  Gordon</td>\n",
       "      <td>Huang  Guohe</td>\n",
       "      <td>72</td>\n",
       "    </tr>\n",
       "    <tr>\n",
       "      <th>55</th>\n",
       "      <td>Amant  Frédéric</td>\n",
       "      <td>Amant  F C H</td>\n",
       "      <td>72</td>\n",
       "    </tr>\n",
       "    <tr>\n",
       "      <th>89</th>\n",
       "      <td>Faherty  Jacqueline K</td>\n",
       "      <td>Faherty  Jackie</td>\n",
       "      <td>72</td>\n",
       "    </tr>\n",
       "    <tr>\n",
       "      <th>8</th>\n",
       "      <td>Ma  Zhiwei</td>\n",
       "      <td>Ma  Z W</td>\n",
       "      <td>71</td>\n",
       "    </tr>\n",
       "    <tr>\n",
       "      <th>98</th>\n",
       "      <td>Huang  X  R</td>\n",
       "      <td>Huang  Xiaorong</td>\n",
       "      <td>71</td>\n",
       "    </tr>\n",
       "    <tr>\n",
       "      <th>63</th>\n",
       "      <td>Han  Xinyan</td>\n",
       "      <td>Han  X  Y</td>\n",
       "      <td>71</td>\n",
       "    </tr>\n",
       "    <tr>\n",
       "      <th>118</th>\n",
       "      <td>Miyazaki  Haruko</td>\n",
       "      <td>Matsuda  Haruko</td>\n",
       "      <td>71</td>\n",
       "    </tr>\n",
       "    <tr>\n",
       "      <th>117</th>\n",
       "      <td>Macen  Joanne</td>\n",
       "      <td>Macen  J L</td>\n",
       "      <td>71</td>\n",
       "    </tr>\n",
       "    <tr>\n",
       "      <th>115</th>\n",
       "      <td>Xu  Jiujin</td>\n",
       "      <td>Xu  J J</td>\n",
       "      <td>71</td>\n",
       "    </tr>\n",
       "    <tr>\n",
       "      <th>36</th>\n",
       "      <td>Bayer  Johanna</td>\n",
       "      <td>Bayer  J M M</td>\n",
       "      <td>71</td>\n",
       "    </tr>\n",
       "    <tr>\n",
       "      <th>78</th>\n",
       "      <td>Xu  Jinjun</td>\n",
       "      <td>Xu  J J</td>\n",
       "      <td>71</td>\n",
       "    </tr>\n",
       "    <tr>\n",
       "      <th>99</th>\n",
       "      <td>Zhang  L  Z</td>\n",
       "      <td>Zhang  Longzhen</td>\n",
       "      <td>71</td>\n",
       "    </tr>\n",
       "    <tr>\n",
       "      <th>100</th>\n",
       "      <td>Liu  J  Y</td>\n",
       "      <td>Liu  Jianyi</td>\n",
       "      <td>71</td>\n",
       "    </tr>\n",
       "    <tr>\n",
       "      <th>101</th>\n",
       "      <td>Li  R K</td>\n",
       "      <td>Li  Renkai</td>\n",
       "      <td>71</td>\n",
       "    </tr>\n",
       "    <tr>\n",
       "      <th>110</th>\n",
       "      <td>Jiang  S  Y</td>\n",
       "      <td>Jiang  Shaoyong</td>\n",
       "      <td>71</td>\n",
       "    </tr>\n",
       "    <tr>\n",
       "      <th>88</th>\n",
       "      <td>Merkel  A  Yu</td>\n",
       "      <td>Merkel  Alexander</td>\n",
       "      <td>71</td>\n",
       "    </tr>\n",
       "    <tr>\n",
       "      <th>45</th>\n",
       "      <td>Leach  M C</td>\n",
       "      <td>Leach  Matthew</td>\n",
       "      <td>71</td>\n",
       "    </tr>\n",
       "    <tr>\n",
       "      <th>46</th>\n",
       "      <td>Toral  S L</td>\n",
       "      <td>Toral  Sergio</td>\n",
       "      <td>71</td>\n",
       "    </tr>\n",
       "    <tr>\n",
       "      <th>108</th>\n",
       "      <td>Fu  L Q</td>\n",
       "      <td>Fu  Luoqin</td>\n",
       "      <td>71</td>\n",
       "    </tr>\n",
       "    <tr>\n",
       "      <th>48</th>\n",
       "      <td>Pikuz  S A</td>\n",
       "      <td>Pikuz  Sergey</td>\n",
       "      <td>71</td>\n",
       "    </tr>\n",
       "    <tr>\n",
       "      <th>49</th>\n",
       "      <td>Li  D L</td>\n",
       "      <td>Li  Danlei</td>\n",
       "      <td>71</td>\n",
       "    </tr>\n",
       "    <tr>\n",
       "      <th>106</th>\n",
       "      <td>Grüner  Florian</td>\n",
       "      <td>Grüner  F J</td>\n",
       "      <td>71</td>\n",
       "    </tr>\n",
       "    <tr>\n",
       "      <th>105</th>\n",
       "      <td>Xu  Zirong</td>\n",
       "      <td>Xu  Z R</td>\n",
       "      <td>71</td>\n",
       "    </tr>\n",
       "    <tr>\n",
       "      <th>9</th>\n",
       "      <td>Gorriz  Juan M</td>\n",
       "      <td>Gorriz  J  Manuel</td>\n",
       "      <td>71</td>\n",
       "    </tr>\n",
       "    <tr>\n",
       "      <th>121</th>\n",
       "      <td>Xu  Liqing</td>\n",
       "      <td>Xu  L Q</td>\n",
       "      <td>71</td>\n",
       "    </tr>\n",
       "    <tr>\n",
       "      <th>137</th>\n",
       "      <td>Sholl  L M</td>\n",
       "      <td>Sholl  Lynette</td>\n",
       "      <td>71</td>\n",
       "    </tr>\n",
       "    <tr>\n",
       "      <th>28</th>\n",
       "      <td>Vissers  Th  F  H</td>\n",
       "      <td>Vissers  Thomas</td>\n",
       "      <td>71</td>\n",
       "    </tr>\n",
       "    <tr>\n",
       "      <th>136</th>\n",
       "      <td>Bosov  A V</td>\n",
       "      <td>Bosov  Alexey</td>\n",
       "      <td>71</td>\n",
       "    </tr>\n",
       "    <tr>\n",
       "      <th>135</th>\n",
       "      <td>Reese  S R</td>\n",
       "      <td>Reese  Shannon</td>\n",
       "      <td>71</td>\n",
       "    </tr>\n",
       "    <tr>\n",
       "      <th>134</th>\n",
       "      <td>Ruzicka  Evzen</td>\n",
       "      <td>Růžička  Evžen</td>\n",
       "      <td>71</td>\n",
       "    </tr>\n",
       "    <tr>\n",
       "      <th>133</th>\n",
       "      <td>Li  Junmin</td>\n",
       "      <td>Li  J M</td>\n",
       "      <td>71</td>\n",
       "    </tr>\n",
       "    <tr>\n",
       "      <th>132</th>\n",
       "      <td>Xue  L  Y</td>\n",
       "      <td>Xue  Linyan</td>\n",
       "      <td>71</td>\n",
       "    </tr>\n",
       "    <tr>\n",
       "      <th>75</th>\n",
       "      <td>Nunes  Nelson</td>\n",
       "      <td>Nunes  N J</td>\n",
       "      <td>71</td>\n",
       "    </tr>\n",
       "    <tr>\n",
       "      <th>16</th>\n",
       "      <td>Popoola  A P I</td>\n",
       "      <td>Popoola  Patricia</td>\n",
       "      <td>71</td>\n",
       "    </tr>\n",
       "    <tr>\n",
       "      <th>17</th>\n",
       "      <td>Cabello  José Manuel</td>\n",
       "      <td>González  José Manuel</td>\n",
       "      <td>71</td>\n",
       "    </tr>\n",
       "    <tr>\n",
       "      <th>74</th>\n",
       "      <td>Baker  Patrick</td>\n",
       "      <td>Baker  P J</td>\n",
       "      <td>71</td>\n",
       "    </tr>\n",
       "    <tr>\n",
       "      <th>19</th>\n",
       "      <td>Qu  Zhiguo</td>\n",
       "      <td>Qu  Z G</td>\n",
       "      <td>71</td>\n",
       "    </tr>\n",
       "    <tr>\n",
       "      <th>6</th>\n",
       "      <td>Yu  Ermeng</td>\n",
       "      <td>Yu  E M</td>\n",
       "      <td>71</td>\n",
       "    </tr>\n",
       "    <tr>\n",
       "      <th>21</th>\n",
       "      <td>Huang  Gordon</td>\n",
       "      <td>Huang  G H</td>\n",
       "      <td>71</td>\n",
       "    </tr>\n",
       "    <tr>\n",
       "      <th>23</th>\n",
       "      <td>Castellanos  F  Xavier</td>\n",
       "      <td>Castellanos  Francisco X</td>\n",
       "      <td>71</td>\n",
       "    </tr>\n",
       "    <tr>\n",
       "      <th>71</th>\n",
       "      <td>Goetz  S M</td>\n",
       "      <td>Goetz  Stefan</td>\n",
       "      <td>71</td>\n",
       "    </tr>\n",
       "    <tr>\n",
       "      <th>25</th>\n",
       "      <td>Li  Zhihui</td>\n",
       "      <td>Li  Z H</td>\n",
       "      <td>71</td>\n",
       "    </tr>\n",
       "    <tr>\n",
       "      <th>70</th>\n",
       "      <td>Biray Avci  Cigir</td>\n",
       "      <td>Avcı  Çığır Biray</td>\n",
       "      <td>71</td>\n",
       "    </tr>\n",
       "    <tr>\n",
       "      <th>103</th>\n",
       "      <td>Doyle  E M</td>\n",
       "      <td>Doyle  Evelyn</td>\n",
       "      <td>71</td>\n",
       "    </tr>\n",
       "    <tr>\n",
       "      <th>123</th>\n",
       "      <td>Li  Lanlan</td>\n",
       "      <td>Li  L L</td>\n",
       "      <td>71</td>\n",
       "    </tr>\n",
       "    <tr>\n",
       "      <th>61</th>\n",
       "      <td>Ding  Guolian</td>\n",
       "      <td>Ding  G  L</td>\n",
       "      <td>70</td>\n",
       "    </tr>\n",
       "    <tr>\n",
       "      <th>62</th>\n",
       "      <td>Tabatabaei  S  Mostafa</td>\n",
       "      <td>Tabatabaei  Shayesteh</td>\n",
       "      <td>70</td>\n",
       "    </tr>\n",
       "    <tr>\n",
       "      <th>56</th>\n",
       "      <td>Maciel Filho  Rubens</td>\n",
       "      <td>Filho  Rubens Maciel</td>\n",
       "      <td>70</td>\n",
       "    </tr>\n",
       "    <tr>\n",
       "      <th>111</th>\n",
       "      <td>Ozturk  G</td>\n",
       "      <td>Öztürk  Gürkan</td>\n",
       "      <td>70</td>\n",
       "    </tr>\n",
       "    <tr>\n",
       "      <th>3</th>\n",
       "      <td>Zhou  Xiaoqiu</td>\n",
       "      <td>Zhou  X  Q</td>\n",
       "      <td>70</td>\n",
       "    </tr>\n",
       "    <tr>\n",
       "      <th>42</th>\n",
       "      <td>Ramírez Coronel  Andrés Alexis</td>\n",
       "      <td>Ramiz Cornell  A A</td>\n",
       "      <td>70</td>\n",
       "    </tr>\n",
       "    <tr>\n",
       "      <th>113</th>\n",
       "      <td>Foss  Jerry</td>\n",
       "      <td>Foss  J D</td>\n",
       "      <td>70</td>\n",
       "    </tr>\n",
       "    <tr>\n",
       "      <th>37</th>\n",
       "      <td>Kapłon  Łukasz</td>\n",
       "      <td>Kaplon  L</td>\n",
       "      <td>70</td>\n",
       "    </tr>\n",
       "    <tr>\n",
       "      <th>7</th>\n",
       "      <td>Wang  Shuihua</td>\n",
       "      <td>Wang  S  H</td>\n",
       "      <td>70</td>\n",
       "    </tr>\n",
       "    <tr>\n",
       "      <th>5</th>\n",
       "      <td>Patino  Luis R</td>\n",
       "      <td>Patino  L  Rodrigo</td>\n",
       "      <td>69</td>\n",
       "    </tr>\n",
       "    <tr>\n",
       "      <th>24</th>\n",
       "      <td>Edwards  Anthony D</td>\n",
       "      <td>Edwards  A  David</td>\n",
       "      <td>69</td>\n",
       "    </tr>\n",
       "    <tr>\n",
       "      <th>124</th>\n",
       "      <td>Martin  J M</td>\n",
       "      <td>Martín  Jose Manuel</td>\n",
       "      <td>69</td>\n",
       "    </tr>\n",
       "    <tr>\n",
       "      <th>50</th>\n",
       "      <td>Monclús  M A</td>\n",
       "      <td>Monclus  Miguel</td>\n",
       "      <td>69</td>\n",
       "    </tr>\n",
       "    <tr>\n",
       "      <th>90</th>\n",
       "      <td>Kırboğa  Kevser Kübra</td>\n",
       "      <td>Kirboğa  K K</td>\n",
       "      <td>69</td>\n",
       "    </tr>\n",
       "    <tr>\n",
       "      <th>125</th>\n",
       "      <td>Biró  László Péter</td>\n",
       "      <td>Biro  Laszlo</td>\n",
       "      <td>69</td>\n",
       "    </tr>\n",
       "    <tr>\n",
       "      <th>96</th>\n",
       "      <td>Urivskiy  Alexey</td>\n",
       "      <td>Ourivski  A V</td>\n",
       "      <td>69</td>\n",
       "    </tr>\n",
       "    <tr>\n",
       "      <th>2</th>\n",
       "      <td>Kumar  G V  Pradeep</td>\n",
       "      <td>Kumar  Gaurav</td>\n",
       "      <td>69</td>\n",
       "    </tr>\n",
       "    <tr>\n",
       "      <th>40</th>\n",
       "      <td>Abdullah  Rachmad</td>\n",
       "      <td>Abdullah  R S A  Raja</td>\n",
       "      <td>69</td>\n",
       "    </tr>\n",
       "    <tr>\n",
       "      <th>81</th>\n",
       "      <td>Farrar  G  Jane</td>\n",
       "      <td>Farrar  Gwyneth J</td>\n",
       "      <td>69</td>\n",
       "    </tr>\n",
       "    <tr>\n",
       "      <th>79</th>\n",
       "      <td>Alzoubi  Mohammed</td>\n",
       "      <td>Al Zoubi  Moh’D Belal</td>\n",
       "      <td>68</td>\n",
       "    </tr>\n",
       "    <tr>\n",
       "      <th>68</th>\n",
       "      <td>Moghaddam  M  J  Mehdipour</td>\n",
       "      <td>Mehdipoor  Mohammad</td>\n",
       "      <td>68</td>\n",
       "    </tr>\n",
       "    <tr>\n",
       "      <th>72</th>\n",
       "      <td>Böhm  Johannes</td>\n",
       "      <td>Boehm  J</td>\n",
       "      <td>68</td>\n",
       "    </tr>\n",
       "    <tr>\n",
       "      <th>104</th>\n",
       "      <td>Xu  Zirong</td>\n",
       "      <td>Xu  Z  R</td>\n",
       "      <td>67</td>\n",
       "    </tr>\n",
       "    <tr>\n",
       "      <th>92</th>\n",
       "      <td>Kane  S R</td>\n",
       "      <td>Kane  Stephen</td>\n",
       "      <td>67</td>\n",
       "    </tr>\n",
       "    <tr>\n",
       "      <th>127</th>\n",
       "      <td>Evans  Maldwyn J</td>\n",
       "      <td>Evans  M  John</td>\n",
       "      <td>67</td>\n",
       "    </tr>\n",
       "    <tr>\n",
       "      <th>93</th>\n",
       "      <td>More  Dagadu</td>\n",
       "      <td>More  D S</td>\n",
       "      <td>67</td>\n",
       "    </tr>\n",
       "    <tr>\n",
       "      <th>94</th>\n",
       "      <td>Wagh  Sushama</td>\n",
       "      <td>Wagh  S R</td>\n",
       "      <td>67</td>\n",
       "    </tr>\n",
       "    <tr>\n",
       "      <th>122</th>\n",
       "      <td>Su  Xiaolu</td>\n",
       "      <td>Su  X  L</td>\n",
       "      <td>67</td>\n",
       "    </tr>\n",
       "    <tr>\n",
       "      <th>120</th>\n",
       "      <td>Kökoǧlu  Emine</td>\n",
       "      <td>Kokoglu  E</td>\n",
       "      <td>67</td>\n",
       "    </tr>\n",
       "    <tr>\n",
       "      <th>112</th>\n",
       "      <td>Reche Estrada  J</td>\n",
       "      <td>Reche  Joan</td>\n",
       "      <td>67</td>\n",
       "    </tr>\n",
       "    <tr>\n",
       "      <th>84</th>\n",
       "      <td>Martínez Arbizu  Pedro</td>\n",
       "      <td>Arbizu  Pedro Martínez</td>\n",
       "      <td>67</td>\n",
       "    </tr>\n",
       "    <tr>\n",
       "      <th>86</th>\n",
       "      <td>Kumar  Sonu</td>\n",
       "      <td>Kumar  S  Ganesh</td>\n",
       "      <td>67</td>\n",
       "    </tr>\n",
       "    <tr>\n",
       "      <th>69</th>\n",
       "      <td>Veen  Ciska</td>\n",
       "      <td>Veen  G F</td>\n",
       "      <td>67</td>\n",
       "    </tr>\n",
       "    <tr>\n",
       "      <th>15</th>\n",
       "      <td>Lu  Siyuan</td>\n",
       "      <td>Lu  S  Y</td>\n",
       "      <td>67</td>\n",
       "    </tr>\n",
       "    <tr>\n",
       "      <th>66</th>\n",
       "      <td>Siena  S  Anthony</td>\n",
       "      <td>Siena  Salvatore</td>\n",
       "      <td>67</td>\n",
       "    </tr>\n",
       "    <tr>\n",
       "      <th>32</th>\n",
       "      <td>Klop  W  Martin C</td>\n",
       "      <td>Klop  Willem M  C</td>\n",
       "      <td>67</td>\n",
       "    </tr>\n",
       "    <tr>\n",
       "      <th>30</th>\n",
       "      <td>Mast  M E</td>\n",
       "      <td>Mast  Mirjam</td>\n",
       "      <td>67</td>\n",
       "    </tr>\n",
       "    <tr>\n",
       "      <th>33</th>\n",
       "      <td>Yurin  Aleksandr</td>\n",
       "      <td>Yurin  A  Yu</td>\n",
       "      <td>67</td>\n",
       "    </tr>\n",
       "    <tr>\n",
       "      <th>53</th>\n",
       "      <td>Ross  J S</td>\n",
       "      <td>Ross  Jeffrey</td>\n",
       "      <td>67</td>\n",
       "    </tr>\n",
       "    <tr>\n",
       "      <th>34</th>\n",
       "      <td>Jeynes  Jonathan C G</td>\n",
       "      <td>Jeynes  J Charles G</td>\n",
       "      <td>67</td>\n",
       "    </tr>\n",
       "    <tr>\n",
       "      <th>35</th>\n",
       "      <td>Park  R S</td>\n",
       "      <td>Park  Raymond</td>\n",
       "      <td>67</td>\n",
       "    </tr>\n",
       "    <tr>\n",
       "      <th>64</th>\n",
       "      <td>Chiu  Joanne</td>\n",
       "      <td>Chiu  J W</td>\n",
       "      <td>67</td>\n",
       "    </tr>\n",
       "    <tr>\n",
       "      <th>43</th>\n",
       "      <td>Guan  Steven</td>\n",
       "      <td>Guan  Sheng Uei</td>\n",
       "      <td>67</td>\n",
       "    </tr>\n",
       "    <tr>\n",
       "      <th>67</th>\n",
       "      <td>Wang  Yilong</td>\n",
       "      <td>Wang  Y B</td>\n",
       "      <td>67</td>\n",
       "    </tr>\n",
       "    <tr>\n",
       "      <th>11</th>\n",
       "      <td>Mukherjee  Jayanta</td>\n",
       "      <td>Mukhopadhyay  Jayanta</td>\n",
       "      <td>67</td>\n",
       "    </tr>\n",
       "    <tr>\n",
       "      <th>1</th>\n",
       "      <td>Zong  Zhiqiang</td>\n",
       "      <td>Zong  Z  Q</td>\n",
       "      <td>67</td>\n",
       "    </tr>\n",
       "    <tr>\n",
       "      <th>76</th>\n",
       "      <td>Wood  T J</td>\n",
       "      <td>Wood  Thomas</td>\n",
       "      <td>67</td>\n",
       "    </tr>\n",
       "    <tr>\n",
       "      <th>13</th>\n",
       "      <td>Dragoi  E N</td>\n",
       "      <td>Drăgoi  Elena Niculina</td>\n",
       "      <td>66</td>\n",
       "    </tr>\n",
       "    <tr>\n",
       "      <th>82</th>\n",
       "      <td>Kolijn  P  Martijn</td>\n",
       "      <td>Kolijn  Pieter M</td>\n",
       "      <td>65</td>\n",
       "    </tr>\n",
       "    <tr>\n",
       "      <th>38</th>\n",
       "      <td>Kumar  S Santhosh</td>\n",
       "      <td>Kumar  Sandeep</td>\n",
       "      <td>65</td>\n",
       "    </tr>\n",
       "    <tr>\n",
       "      <th>26</th>\n",
       "      <td>Poromaa  Inger Sundström</td>\n",
       "      <td>Sundström Poromaa  Inger</td>\n",
       "      <td>65</td>\n",
       "    </tr>\n",
       "    <tr>\n",
       "      <th>22</th>\n",
       "      <td>Morris  Herman D</td>\n",
       "      <td>Morris  H  Douglas</td>\n",
       "      <td>65</td>\n",
       "    </tr>\n",
       "    <tr>\n",
       "      <th>95</th>\n",
       "      <td>Anand  M  Dev</td>\n",
       "      <td>Anand  Mukul</td>\n",
       "      <td>64</td>\n",
       "    </tr>\n",
       "    <tr>\n",
       "      <th>27</th>\n",
       "      <td>Chen  Abel C  H</td>\n",
       "      <td>Chen  Chi Hua</td>\n",
       "      <td>64</td>\n",
       "    </tr>\n",
       "    <tr>\n",
       "      <th>12</th>\n",
       "      <td>Nielsen  Gunnlaugur P</td>\n",
       "      <td>Nielsen  G  Petur</td>\n",
       "      <td>64</td>\n",
       "    </tr>\n",
       "    <tr>\n",
       "      <th>52</th>\n",
       "      <td>Lacy  J  Matthew</td>\n",
       "      <td>Lacy  Joanne</td>\n",
       "      <td>64</td>\n",
       "    </tr>\n",
       "    <tr>\n",
       "      <th>87</th>\n",
       "      <td>AlSattar  H A</td>\n",
       "      <td>Abdulsattar Ibrahim  Hassan</td>\n",
       "      <td>64</td>\n",
       "    </tr>\n",
       "    <tr>\n",
       "      <th>39</th>\n",
       "      <td>Babu  Ch Madhu</td>\n",
       "      <td>MadhuBabu  Ch</td>\n",
       "      <td>64</td>\n",
       "    </tr>\n",
       "    <tr>\n",
       "      <th>131</th>\n",
       "      <td>Yin  X  P</td>\n",
       "      <td>Yin  Xiaoping</td>\n",
       "      <td>64</td>\n",
       "    </tr>\n",
       "    <tr>\n",
       "      <th>83</th>\n",
       "      <td>Pluim  Josien</td>\n",
       "      <td>Pluim  J P W</td>\n",
       "      <td>64</td>\n",
       "    </tr>\n",
       "    <tr>\n",
       "      <th>116</th>\n",
       "      <td>Savic  Cedo</td>\n",
       "      <td>Savić  Č</td>\n",
       "      <td>63</td>\n",
       "    </tr>\n",
       "    <tr>\n",
       "      <th>119</th>\n",
       "      <td>May  Bernie</td>\n",
       "      <td>May  B P</td>\n",
       "      <td>63</td>\n",
       "    </tr>\n",
       "    <tr>\n",
       "      <th>31</th>\n",
       "      <td>Ramesh  Naveen</td>\n",
       "      <td>Ramesh  N  Nishitha</td>\n",
       "      <td>63</td>\n",
       "    </tr>\n",
       "    <tr>\n",
       "      <th>51</th>\n",
       "      <td>Wu  Jia hui</td>\n",
       "      <td>jiahui  Wu</td>\n",
       "      <td>63</td>\n",
       "    </tr>\n",
       "    <tr>\n",
       "      <th>128</th>\n",
       "      <td>Ananth  Christo</td>\n",
       "      <td>Ananth  C  Anbu</td>\n",
       "      <td>63</td>\n",
       "    </tr>\n",
       "    <tr>\n",
       "      <th>126</th>\n",
       "      <td>Rettie  Fasil M</td>\n",
       "      <td>Mequanint  Fasil</td>\n",
       "      <td>62</td>\n",
       "    </tr>\n",
       "    <tr>\n",
       "      <th>41</th>\n",
       "      <td>Kumar  Abhishek</td>\n",
       "      <td>Kumar  A  Senthil</td>\n",
       "      <td>62</td>\n",
       "    </tr>\n",
       "    <tr>\n",
       "      <th>59</th>\n",
       "      <td>Evans  D Gareth R</td>\n",
       "      <td>Evans  David</td>\n",
       "      <td>62</td>\n",
       "    </tr>\n",
       "    <tr>\n",
       "      <th>80</th>\n",
       "      <td>Kumar  Ravinder</td>\n",
       "      <td>Kumar  R  Santosh</td>\n",
       "      <td>62</td>\n",
       "    </tr>\n",
       "    <tr>\n",
       "      <th>85</th>\n",
       "      <td>Martínez Arbizu  Pedro</td>\n",
       "      <td>Arbizu  Pedro Martinez</td>\n",
       "      <td>62</td>\n",
       "    </tr>\n",
       "    <tr>\n",
       "      <th>47</th>\n",
       "      <td>Murad  M  Hassan</td>\n",
       "      <td>Murad  Mohammad H</td>\n",
       "      <td>61</td>\n",
       "    </tr>\n",
       "    <tr>\n",
       "      <th>10</th>\n",
       "      <td>Olbert  Indiana A</td>\n",
       "      <td>Olbert  Agnieszka I</td>\n",
       "      <td>61</td>\n",
       "    </tr>\n",
       "    <tr>\n",
       "      <th>129</th>\n",
       "      <td>Kumar  Govind</td>\n",
       "      <td>Kumar  G  Senthil</td>\n",
       "      <td>60</td>\n",
       "    </tr>\n",
       "    <tr>\n",
       "      <th>54</th>\n",
       "      <td>Bennett  Frederick C</td>\n",
       "      <td>Bennett  F  Christian</td>\n",
       "      <td>59</td>\n",
       "    </tr>\n",
       "    <tr>\n",
       "      <th>77</th>\n",
       "      <td>Mamun  Md  Selim Al</td>\n",
       "      <td>Mamun  Mohammad</td>\n",
       "      <td>58</td>\n",
       "    </tr>\n",
       "    <tr>\n",
       "      <th>18</th>\n",
       "      <td>Ijaz Khan  M</td>\n",
       "      <td>Khan  Masood</td>\n",
       "      <td>58</td>\n",
       "    </tr>\n",
       "    <tr>\n",
       "      <th>109</th>\n",
       "      <td>Huang  Sarah X  L</td>\n",
       "      <td>Huang  Xuelian</td>\n",
       "      <td>57</td>\n",
       "    </tr>\n",
       "    <tr>\n",
       "      <th>65</th>\n",
       "      <td>Smith  J  Gustav</td>\n",
       "      <td>Smith  Jacqueline</td>\n",
       "      <td>55</td>\n",
       "    </tr>\n",
       "    <tr>\n",
       "      <th>114</th>\n",
       "      <td>Sukalovic  V H  T</td>\n",
       "      <td>Hadži Tašković Šukalović  Vesna</td>\n",
       "      <td>55</td>\n",
       "    </tr>\n",
       "    <tr>\n",
       "      <th>138</th>\n",
       "      <td>Kumar  Kuncham Sateesh</td>\n",
       "      <td>Kumar  K  S  S  R  V  C  D  Sai</td>\n",
       "      <td>48</td>\n",
       "    </tr>\n",
       "    <tr>\n",
       "      <th>14</th>\n",
       "      <td>Power  Emma</td>\n",
       "      <td>Bogner  Jennifer</td>\n",
       "      <td>44</td>\n",
       "    </tr>\n",
       "    <tr>\n",
       "      <th>57</th>\n",
       "      <td>Wambach  Jennifer</td>\n",
       "      <td>Walsh  Christopher T</td>\n",
       "      <td>43</td>\n",
       "    </tr>\n",
       "    <tr>\n",
       "      <th>73</th>\n",
       "      <td>Apsimon  Öznur</td>\n",
       "      <td>Mete  O</td>\n",
       "      <td>39</td>\n",
       "    </tr>\n",
       "    <tr>\n",
       "      <th>58</th>\n",
       "      <td>Rebelo  Hugo</td>\n",
       "      <td>Regala  Frederico Tátá</td>\n",
       "      <td>38</td>\n",
       "    </tr>\n",
       "    <tr>\n",
       "      <th>107</th>\n",
       "      <td>Kuwatsuru  R</td>\n",
       "      <td>Ichiki  R</td>\n",
       "      <td>38</td>\n",
       "    </tr>\n",
       "    <tr>\n",
       "      <th>102</th>\n",
       "      <td>Krásná  Hana</td>\n",
       "      <td>Spicakova  H</td>\n",
       "      <td>36</td>\n",
       "    </tr>\n",
       "    <tr>\n",
       "      <th>97</th>\n",
       "      <td>Kandil  Mahrousa</td>\n",
       "      <td>Hassanane  M M</td>\n",
       "      <td>33</td>\n",
       "    </tr>\n",
       "    <tr>\n",
       "      <th>4</th>\n",
       "      <td>El Kenawy  El Sayed M</td>\n",
       "      <td>Towfek  S K</td>\n",
       "      <td>32</td>\n",
       "    </tr>\n",
       "  </tbody>\n",
       "</table>\n",
       "</div>"
      ],
      "text/plain": [
       "                             Name 1                           Name 2  \\\n",
       "0                Oyebamiji  Abel K            Kolawole  Oyebamiji A    \n",
       "130               Torre  Ana Isabel            Torre Bastida  Ana I    \n",
       "44                   Spotar  G  Yu                   Spotar  Gennady   \n",
       "60          Topić Popović  Natalija                 Topicpopovic  N    \n",
       "29                  Olšák  Miroslav                     Olšák  Mirek   \n",
       "91                  Dale  Daniel A                       Dale  Danny   \n",
       "20                    Huang  Gordon                     Huang  Guohe   \n",
       "55                  Amant  Frédéric                    Amant  F C H    \n",
       "89           Faherty  Jacqueline K                   Faherty  Jackie   \n",
       "8                        Ma  Zhiwei                         Ma  Z W    \n",
       "98                     Huang  X  R                   Huang  Xiaorong   \n",
       "63                      Han  Xinyan                       Han  X  Y    \n",
       "118                Miyazaki  Haruko                  Matsuda  Haruko   \n",
       "117                   Macen  Joanne                      Macen  J L    \n",
       "115                      Xu  Jiujin                         Xu  J J    \n",
       "36                   Bayer  Johanna                    Bayer  J M M    \n",
       "78                       Xu  Jinjun                         Xu  J J    \n",
       "99                     Zhang  L  Z                   Zhang  Longzhen   \n",
       "100                      Liu  J  Y                       Liu  Jianyi   \n",
       "101                        Li  R K                        Li  Renkai   \n",
       "110                    Jiang  S  Y                   Jiang  Shaoyong   \n",
       "88                   Merkel  A  Yu                 Merkel  Alexander   \n",
       "45                      Leach  M C                    Leach  Matthew   \n",
       "46                      Toral  S L                     Toral  Sergio   \n",
       "108                        Fu  L Q                        Fu  Luoqin   \n",
       "48                      Pikuz  S A                     Pikuz  Sergey   \n",
       "49                         Li  D L                        Li  Danlei   \n",
       "106                 Grüner  Florian                     Grüner  F J    \n",
       "105                      Xu  Zirong                         Xu  Z R    \n",
       "9                   Gorriz  Juan M                 Gorriz  J  Manuel   \n",
       "121                      Xu  Liqing                         Xu  L Q    \n",
       "137                     Sholl  L M                    Sholl  Lynette   \n",
       "28               Vissers  Th  F  H                   Vissers  Thomas   \n",
       "136                     Bosov  A V                     Bosov  Alexey   \n",
       "135                     Reese  S R                    Reese  Shannon   \n",
       "134                  Ruzicka  Evzen                   Růžička  Evžen   \n",
       "133                      Li  Junmin                         Li  J M    \n",
       "132                      Xue  L  Y                       Xue  Linyan   \n",
       "75                    Nunes  Nelson                      Nunes  N J    \n",
       "16                  Popoola  A P I                 Popoola  Patricia   \n",
       "17             Cabello  José Manuel            González  José Manuel   \n",
       "74                   Baker  Patrick                      Baker  P J    \n",
       "19                       Qu  Zhiguo                         Qu  Z G    \n",
       "6                        Yu  Ermeng                         Yu  E M    \n",
       "21                    Huang  Gordon                      Huang  G H    \n",
       "23           Castellanos  F  Xavier        Castellanos  Francisco X    \n",
       "71                      Goetz  S M                     Goetz  Stefan   \n",
       "25                       Li  Zhihui                         Li  Z H    \n",
       "70                Biray Avci  Cigir                Avcı  Çığır Biray   \n",
       "103                     Doyle  E M                     Doyle  Evelyn   \n",
       "123                      Li  Lanlan                         Li  L L    \n",
       "61                    Ding  Guolian                      Ding  G  L    \n",
       "62           Tabatabaei  S  Mostafa            Tabatabaei  Shayesteh   \n",
       "56             Maciel Filho  Rubens             Filho  Rubens Maciel   \n",
       "111                      Ozturk  G                    Öztürk  Gürkan   \n",
       "3                     Zhou  Xiaoqiu                      Zhou  X  Q    \n",
       "42   Ramírez Coronel  Andrés Alexis              Ramiz Cornell  A A    \n",
       "113                     Foss  Jerry                       Foss  J D    \n",
       "37                   Kapłon  Łukasz                       Kaplon  L    \n",
       "7                     Wang  Shuihua                      Wang  S  H    \n",
       "5                   Patino  Luis R                Patino  L  Rodrigo   \n",
       "24              Edwards  Anthony D                 Edwards  A  David   \n",
       "124                    Martin  J M               Martín  Jose Manuel   \n",
       "50                    Monclús  M A                   Monclus  Miguel   \n",
       "90            Kırboğa  Kevser Kübra                    Kirboğa  K K    \n",
       "125              Biró  László Péter                     Biro  Laszlo   \n",
       "96                 Urivskiy  Alexey                   Ourivski  A V    \n",
       "2               Kumar  G V  Pradeep                    Kumar  Gaurav   \n",
       "40                Abdullah  Rachmad            Abdullah  R S A  Raja   \n",
       "81                  Farrar  G  Jane               Farrar  Gwyneth J    \n",
       "79                Alzoubi  Mohammed            Al Zoubi  Moh’D Belal   \n",
       "68       Moghaddam  M  J  Mehdipour              Mehdipoor  Mohammad   \n",
       "72                   Böhm  Johannes                        Boehm  J    \n",
       "104                      Xu  Zirong                        Xu  Z  R    \n",
       "92                       Kane  S R                     Kane  Stephen   \n",
       "127               Evans  Maldwyn J                    Evans  M  John   \n",
       "93                     More  Dagadu                       More  D S    \n",
       "94                    Wagh  Sushama                       Wagh  S R    \n",
       "122                      Su  Xiaolu                        Su  X  L    \n",
       "120                  Kökoǧlu  Emine                      Kokoglu  E    \n",
       "112               Reche Estrada  J                       Reche  Joan   \n",
       "84           Martínez Arbizu  Pedro           Arbizu  Pedro Martínez   \n",
       "86                      Kumar  Sonu                 Kumar  S  Ganesh   \n",
       "69                      Veen  Ciska                       Veen  G F    \n",
       "15                       Lu  Siyuan                        Lu  S  Y    \n",
       "66                Siena  S  Anthony                 Siena  Salvatore   \n",
       "32               Klop  W  Martin C                Klop  Willem M  C    \n",
       "30                       Mast  M E                      Mast  Mirjam   \n",
       "33                 Yurin  Aleksandr                    Yurin  A  Yu    \n",
       "53                       Ross  J S                     Ross  Jeffrey   \n",
       "34            Jeynes  Jonathan C G               Jeynes  J Charles G   \n",
       "35                       Park  R S                     Park  Raymond   \n",
       "64                     Chiu  Joanne                       Chiu  J W    \n",
       "43                     Guan  Steven                  Guan  Sheng Uei   \n",
       "67                     Wang  Yilong                       Wang  Y B    \n",
       "11               Mukherjee  Jayanta            Mukhopadhyay  Jayanta   \n",
       "1                    Zong  Zhiqiang                      Zong  Z  Q    \n",
       "76                       Wood  T J                      Wood  Thomas   \n",
       "13                     Dragoi  E N            Drăgoi  Elena Niculina   \n",
       "82               Kolijn  P  Martijn                Kolijn  Pieter M    \n",
       "38                Kumar  S Santhosh                   Kumar  Sandeep   \n",
       "26         Poromaa  Inger Sundström         Sundström Poromaa  Inger   \n",
       "22                Morris  Herman D                Morris  H  Douglas   \n",
       "95                    Anand  M  Dev                     Anand  Mukul   \n",
       "27                 Chen  Abel C  H                     Chen  Chi Hua   \n",
       "12           Nielsen  Gunnlaugur P                 Nielsen  G  Petur   \n",
       "52                 Lacy  J  Matthew                     Lacy  Joanne   \n",
       "87                   AlSattar  H A       Abdulsattar Ibrahim  Hassan   \n",
       "39                   Babu  Ch Madhu                   MadhuBabu  Ch    \n",
       "131                      Yin  X  P                     Yin  Xiaoping   \n",
       "83                    Pluim  Josien                    Pluim  J P W    \n",
       "116                     Savic  Cedo                        Savić  Č    \n",
       "119                     May  Bernie                        May  B P    \n",
       "31                   Ramesh  Naveen              Ramesh  N  Nishitha   \n",
       "51                      Wu  Jia hui                       jiahui  Wu   \n",
       "128                 Ananth  Christo                  Ananth  C  Anbu   \n",
       "126                Rettie  Fasil M                  Mequanint  Fasil   \n",
       "41                  Kumar  Abhishek                Kumar  A  Senthil   \n",
       "59               Evans  D Gareth R                      Evans  David   \n",
       "80                  Kumar  Ravinder                Kumar  R  Santosh   \n",
       "85           Martínez Arbizu  Pedro           Arbizu  Pedro Martinez   \n",
       "47                 Murad  M  Hassan               Murad  Mohammad H    \n",
       "10               Olbert  Indiana A              Olbert  Agnieszka I    \n",
       "129                   Kumar  Govind                Kumar  G  Senthil   \n",
       "54            Bennett  Frederick C             Bennett  F  Christian   \n",
       "77              Mamun  Md  Selim Al                  Mamun  Mohammad   \n",
       "18                    Ijaz Khan  M                      Khan  Masood   \n",
       "109              Huang  Sarah X  L                    Huang  Xuelian   \n",
       "65                 Smith  J  Gustav                Smith  Jacqueline   \n",
       "114              Sukalovic  V H  T   Hadži Tašković Šukalović  Vesna   \n",
       "138          Kumar  Kuncham Sateesh  Kumar  K  S  S  R  V  C  D  Sai   \n",
       "14                      Power  Emma                 Bogner  Jennifer   \n",
       "57                Wambach  Jennifer            Walsh  Christopher T    \n",
       "73                   Apsimon  Öznur                         Mete  O    \n",
       "58                     Rebelo  Hugo           Regala  Frederico Tátá   \n",
       "107                   Kuwatsuru  R                        Ichiki  R    \n",
       "102                    Krásná  Hana                    Spicakova  H    \n",
       "97                 Kandil  Mahrousa                  Hassanane  M M    \n",
       "4            El Kenawy  El Sayed M                      Towfek  S K    \n",
       "\n",
       "     Similarity  \n",
       "0            72  \n",
       "130          72  \n",
       "44           72  \n",
       "60           72  \n",
       "29           72  \n",
       "91           72  \n",
       "20           72  \n",
       "55           72  \n",
       "89           72  \n",
       "8            71  \n",
       "98           71  \n",
       "63           71  \n",
       "118          71  \n",
       "117          71  \n",
       "115          71  \n",
       "36           71  \n",
       "78           71  \n",
       "99           71  \n",
       "100          71  \n",
       "101          71  \n",
       "110          71  \n",
       "88           71  \n",
       "45           71  \n",
       "46           71  \n",
       "108          71  \n",
       "48           71  \n",
       "49           71  \n",
       "106          71  \n",
       "105          71  \n",
       "9            71  \n",
       "121          71  \n",
       "137          71  \n",
       "28           71  \n",
       "136          71  \n",
       "135          71  \n",
       "134          71  \n",
       "133          71  \n",
       "132          71  \n",
       "75           71  \n",
       "16           71  \n",
       "17           71  \n",
       "74           71  \n",
       "19           71  \n",
       "6            71  \n",
       "21           71  \n",
       "23           71  \n",
       "71           71  \n",
       "25           71  \n",
       "70           71  \n",
       "103          71  \n",
       "123          71  \n",
       "61           70  \n",
       "62           70  \n",
       "56           70  \n",
       "111          70  \n",
       "3            70  \n",
       "42           70  \n",
       "113          70  \n",
       "37           70  \n",
       "7            70  \n",
       "5            69  \n",
       "24           69  \n",
       "124          69  \n",
       "50           69  \n",
       "90           69  \n",
       "125          69  \n",
       "96           69  \n",
       "2            69  \n",
       "40           69  \n",
       "81           69  \n",
       "79           68  \n",
       "68           68  \n",
       "72           68  \n",
       "104          67  \n",
       "92           67  \n",
       "127          67  \n",
       "93           67  \n",
       "94           67  \n",
       "122          67  \n",
       "120          67  \n",
       "112          67  \n",
       "84           67  \n",
       "86           67  \n",
       "69           67  \n",
       "15           67  \n",
       "66           67  \n",
       "32           67  \n",
       "30           67  \n",
       "33           67  \n",
       "53           67  \n",
       "34           67  \n",
       "35           67  \n",
       "64           67  \n",
       "43           67  \n",
       "67           67  \n",
       "11           67  \n",
       "1            67  \n",
       "76           67  \n",
       "13           66  \n",
       "82           65  \n",
       "38           65  \n",
       "26           65  \n",
       "22           65  \n",
       "95           64  \n",
       "27           64  \n",
       "12           64  \n",
       "52           64  \n",
       "87           64  \n",
       "39           64  \n",
       "131          64  \n",
       "83           64  \n",
       "116          63  \n",
       "119          63  \n",
       "31           63  \n",
       "51           63  \n",
       "128          63  \n",
       "126          62  \n",
       "41           62  \n",
       "59           62  \n",
       "80           62  \n",
       "85           62  \n",
       "47           61  \n",
       "10           61  \n",
       "129          60  \n",
       "54           59  \n",
       "77           58  \n",
       "18           58  \n",
       "109          57  \n",
       "65           55  \n",
       "114          55  \n",
       "138          48  \n",
       "14           44  \n",
       "57           43  \n",
       "73           39  \n",
       "58           38  \n",
       "107          38  \n",
       "102          36  \n",
       "97           33  \n",
       "4            32  "
      ]
     },
     "execution_count": 4,
     "metadata": {},
     "output_type": "execute_result"
    }
   ],
   "source": [
    "pd.set_option('display.max_rows', 250)\n",
    "authos_df.sort_values('Similarity', ascending=False)\n"
   ]
  },
  {
   "cell_type": "code",
   "execution_count": 30,
   "metadata": {},
   "outputs": [],
   "source": [
    "for a, b , v in authos_df.values:\n",
    "    if v != max(fuzz.WRatio(a.strip(), b.strip()), fuzz.token_set_ratio(a, b)):\n",
    "        print(a,b,v, sep='\\t\\t')\n"
   ]
  },
  {
   "cell_type": "markdown",
   "metadata": {},
   "source": [
    "# ISSN & ISBN"
   ]
  },
  {
   "cell_type": "code",
   "execution_count": 10,
   "metadata": {
    "scrolled": false
   },
   "outputs": [
    {
     "name": "stdout",
     "output_type": "stream",
     "text": [
      "Out of 289,557 rows, 10,211 of them have missing values in at least one of the specified columns. 3.5264%\n"
     ]
    },
    {
     "data": {
      "text/plain": [
       "3.5264213954420023"
      ]
     },
     "execution_count": 10,
     "metadata": {},
     "output_type": "execute_result"
    }
   ],
   "source": [
    "analyze_dataset(subset_columns=['DOI', 'Affiliations', 'Authors'], missing_values_handling='any')"
   ]
  },
  {
   "cell_type": "markdown",
   "metadata": {},
   "source": [
    "# EID"
   ]
  },
  {
   "cell_type": "code",
   "execution_count": 2,
   "metadata": {
    "scrolled": true
   },
   "outputs": [
    {
     "name": "stdout",
     "output_type": "stream",
     "text": [
      "Out of 307,557 rows, 67 of them have missing values in at least one of the specified columns. 0.0218%\n"
     ]
    },
    {
     "data": {
      "text/plain": [
       "0.021784579768953396"
      ]
     },
     "execution_count": 2,
     "metadata": {},
     "output_type": "execute_result"
    }
   ],
   "source": [
    "analyze_dataset(subset_columns=['Cited by'])\n"
   ]
  },
  {
   "cell_type": "markdown",
   "metadata": {},
   "source": [
    "# DOI"
   ]
  },
  {
   "cell_type": "code",
   "execution_count": 2,
   "metadata": {
    "scrolled": true
   },
   "outputs": [
    {
     "data": {
      "text/html": [
       "<div style=\"color: red; font-weight: bold;\">\"                    attention_1-1000.csv\" Total Rows: 1000, \tRows with Missing Values: 10</div>"
      ],
      "text/plain": [
       "<IPython.core.display.HTML object>"
      ]
     },
     "metadata": {},
     "output_type": "display_data"
    },
    {
     "data": {
      "text/html": [
       "<div style=\"color: green; font-weight: bold;\">\"               attention_10001-11000.csv\" Total Rows: 1000, \tRows with Missing Values: 0</div>"
      ],
      "text/plain": [
       "<IPython.core.display.HTML object>"
      ]
     },
     "metadata": {},
     "output_type": "display_data"
    },
    {
     "data": {
      "text/html": [
       "<div style=\"color: red; font-weight: bold;\">\"                 attention_1001-2000.csv\" Total Rows: 1000, \tRows with Missing Values: 1</div>"
      ],
      "text/plain": [
       "<IPython.core.display.HTML object>"
      ]
     },
     "metadata": {},
     "output_type": "display_data"
    },
    {
     "data": {
      "text/html": [
       "<div style=\"color: red; font-weight: bold;\">\"               attention_11001-12000.csv\" Total Rows: 1000, \tRows with Missing Values: 2</div>"
      ],
      "text/plain": [
       "<IPython.core.display.HTML object>"
      ]
     },
     "metadata": {},
     "output_type": "display_data"
    },
    {
     "data": {
      "text/html": [
       "<div style=\"color: red; font-weight: bold;\">\"               attention_12001-13000.csv\" Total Rows: 1000, \tRows with Missing Values: 9</div>"
      ],
      "text/plain": [
       "<IPython.core.display.HTML object>"
      ]
     },
     "metadata": {},
     "output_type": "display_data"
    },
    {
     "data": {
      "text/html": [
       "<div style=\"color: green; font-weight: bold;\">\"               attention_13001-14000.csv\" Total Rows: 1000, \tRows with Missing Values: 0</div>"
      ],
      "text/plain": [
       "<IPython.core.display.HTML object>"
      ]
     },
     "metadata": {},
     "output_type": "display_data"
    },
    {
     "data": {
      "text/html": [
       "<div style=\"color: green; font-weight: bold;\">\"               attention_14001-15000.csv\" Total Rows: 1000, \tRows with Missing Values: 0</div>"
      ],
      "text/plain": [
       "<IPython.core.display.HTML object>"
      ]
     },
     "metadata": {},
     "output_type": "display_data"
    },
    {
     "data": {
      "text/html": [
       "<div style=\"color: green; font-weight: bold;\">\"               attention_15001-16000.csv\" Total Rows: 1000, \tRows with Missing Values: 0</div>"
      ],
      "text/plain": [
       "<IPython.core.display.HTML object>"
      ]
     },
     "metadata": {},
     "output_type": "display_data"
    },
    {
     "data": {
      "text/html": [
       "<div style=\"color: green; font-weight: bold;\">\"               attention_16001-17000.csv\" Total Rows: 1000, \tRows with Missing Values: 0</div>"
      ],
      "text/plain": [
       "<IPython.core.display.HTML object>"
      ]
     },
     "metadata": {},
     "output_type": "display_data"
    },
    {
     "data": {
      "text/html": [
       "<div style=\"color: red; font-weight: bold;\">\"               attention_17001-18000.csv\" Total Rows: 1000, \tRows with Missing Values: 3</div>"
      ],
      "text/plain": [
       "<IPython.core.display.HTML object>"
      ]
     },
     "metadata": {},
     "output_type": "display_data"
    },
    {
     "data": {
      "text/html": [
       "<div style=\"color: red; font-weight: bold;\">\"               attention_18001-19000.csv\" Total Rows: 1000, \tRows with Missing Values: 14</div>"
      ],
      "text/plain": [
       "<IPython.core.display.HTML object>"
      ]
     },
     "metadata": {},
     "output_type": "display_data"
    },
    {
     "data": {
      "text/html": [
       "<div style=\"color: red; font-weight: bold;\">\"               attention_19001-20000.csv\" Total Rows: 1000, \tRows with Missing Values: 9</div>"
      ],
      "text/plain": [
       "<IPython.core.display.HTML object>"
      ]
     },
     "metadata": {},
     "output_type": "display_data"
    },
    {
     "data": {
      "text/html": [
       "<div style=\"color: red; font-weight: bold;\">\"                 attention_2001-3000.csv\" Total Rows: 1000, \tRows with Missing Values: 2</div>"
      ],
      "text/plain": [
       "<IPython.core.display.HTML object>"
      ]
     },
     "metadata": {},
     "output_type": "display_data"
    },
    {
     "data": {
      "text/html": [
       "<div style=\"color: green; font-weight: bold;\">\"                 attention_3001-4000.csv\" Total Rows: 1000, \tRows with Missing Values: 0</div>"
      ],
      "text/plain": [
       "<IPython.core.display.HTML object>"
      ]
     },
     "metadata": {},
     "output_type": "display_data"
    },
    {
     "data": {
      "text/html": [
       "<div style=\"color: red; font-weight: bold;\">\"                 attention_4001-5000.csv\" Total Rows: 1000, \tRows with Missing Values: 2</div>"
      ],
      "text/plain": [
       "<IPython.core.display.HTML object>"
      ]
     },
     "metadata": {},
     "output_type": "display_data"
    },
    {
     "data": {
      "text/html": [
       "<div style=\"color: red; font-weight: bold;\">\"                 attention_5001-6000.csv\" Total Rows: 1000, \tRows with Missing Values: 3</div>"
      ],
      "text/plain": [
       "<IPython.core.display.HTML object>"
      ]
     },
     "metadata": {},
     "output_type": "display_data"
    },
    {
     "data": {
      "text/html": [
       "<div style=\"color: red; font-weight: bold;\">\"                 attention_6001-7000.csv\" Total Rows: 1000, \tRows with Missing Values: 1</div>"
      ],
      "text/plain": [
       "<IPython.core.display.HTML object>"
      ]
     },
     "metadata": {},
     "output_type": "display_data"
    },
    {
     "data": {
      "text/html": [
       "<div style=\"color: red; font-weight: bold;\">\"                 attention_8001-9000.csv\" Total Rows: 1000, \tRows with Missing Values: 2</div>"
      ],
      "text/plain": [
       "<IPython.core.display.HTML object>"
      ]
     },
     "metadata": {},
     "output_type": "display_data"
    },
    {
     "data": {
      "text/html": [
       "<div style=\"color: green; font-weight: bold;\">\"                attention_9001-10000.csv\" Total Rows: 1000, \tRows with Missing Values: 0</div>"
      ],
      "text/plain": [
       "<IPython.core.display.HTML object>"
      ]
     },
     "metadata": {},
     "output_type": "display_data"
    },
    {
     "data": {
      "text/html": [
       "<div style=\"color: red; font-weight: bold;\">\"                         BERT_1-1000.csv\" Total Rows: 1000, \tRows with Missing Values: 4</div>"
      ],
      "text/plain": [
       "<IPython.core.display.HTML object>"
      ]
     },
     "metadata": {},
     "output_type": "display_data"
    },
    {
     "data": {
      "text/html": [
       "<div style=\"color: red; font-weight: bold;\">\"                    BERT_10001-11000.csv\" Total Rows: 1000, \tRows with Missing Values: 120</div>"
      ],
      "text/plain": [
       "<IPython.core.display.HTML object>"
      ]
     },
     "metadata": {},
     "output_type": "display_data"
    },
    {
     "data": {
      "text/html": [
       "<div style=\"color: red; font-weight: bold;\">\"                      BERT_1001-2000.csv\" Total Rows: 1000, \tRows with Missing Values: 7</div>"
      ],
      "text/plain": [
       "<IPython.core.display.HTML object>"
      ]
     },
     "metadata": {},
     "output_type": "display_data"
    },
    {
     "data": {
      "text/html": [
       "<div style=\"color: red; font-weight: bold;\">\"                    BERT_11001-12000.csv\" Total Rows: 1000, \tRows with Missing Values: 173</div>"
      ],
      "text/plain": [
       "<IPython.core.display.HTML object>"
      ]
     },
     "metadata": {},
     "output_type": "display_data"
    },
    {
     "data": {
      "text/html": [
       "<div style=\"color: red; font-weight: bold;\">\"                    BERT_12001-13000.csv\" Total Rows: 1000, \tRows with Missing Values: 56</div>"
      ],
      "text/plain": [
       "<IPython.core.display.HTML object>"
      ]
     },
     "metadata": {},
     "output_type": "display_data"
    },
    {
     "data": {
      "text/html": [
       "<div style=\"color: red; font-weight: bold;\">\"                    BERT_13001-14000.csv\" Total Rows: 1000, \tRows with Missing Values: 75</div>"
      ],
      "text/plain": [
       "<IPython.core.display.HTML object>"
      ]
     },
     "metadata": {},
     "output_type": "display_data"
    },
    {
     "data": {
      "text/html": [
       "<div style=\"color: red; font-weight: bold;\">\"                    BERT_14001-15000.csv\" Total Rows: 1000, \tRows with Missing Values: 56</div>"
      ],
      "text/plain": [
       "<IPython.core.display.HTML object>"
      ]
     },
     "metadata": {},
     "output_type": "display_data"
    },
    {
     "data": {
      "text/html": [
       "<div style=\"color: red; font-weight: bold;\">\"                    BERT_15001-16000.csv\" Total Rows: 1000, \tRows with Missing Values: 401</div>"
      ],
      "text/plain": [
       "<IPython.core.display.HTML object>"
      ]
     },
     "metadata": {},
     "output_type": "display_data"
    },
    {
     "data": {
      "text/html": [
       "<div style=\"color: red; font-weight: bold;\">\"                    BERT_16001-17000.csv\" Total Rows: 1000, \tRows with Missing Values: 100</div>"
      ],
      "text/plain": [
       "<IPython.core.display.HTML object>"
      ]
     },
     "metadata": {},
     "output_type": "display_data"
    },
    {
     "data": {
      "text/html": [
       "<div style=\"color: red; font-weight: bold;\">\"                    BERT_17001-18000.csv\" Total Rows: 1000, \tRows with Missing Values: 40</div>"
      ],
      "text/plain": [
       "<IPython.core.display.HTML object>"
      ]
     },
     "metadata": {},
     "output_type": "display_data"
    },
    {
     "data": {
      "text/html": [
       "<div style=\"color: red; font-weight: bold;\">\"                    BERT_18001-19000.csv\" Total Rows: 1000, \tRows with Missing Values: 12</div>"
      ],
      "text/plain": [
       "<IPython.core.display.HTML object>"
      ]
     },
     "metadata": {},
     "output_type": "display_data"
    },
    {
     "data": {
      "text/html": [
       "<div style=\"color: red; font-weight: bold;\">\"                    BERT_19001-20000.csv\" Total Rows: 1000, \tRows with Missing Values: 23</div>"
      ],
      "text/plain": [
       "<IPython.core.display.HTML object>"
      ]
     },
     "metadata": {},
     "output_type": "display_data"
    },
    {
     "data": {
      "text/html": [
       "<div style=\"color: red; font-weight: bold;\">\"                      BERT_2001-3000.csv\" Total Rows: 1000, \tRows with Missing Values: 15</div>"
      ],
      "text/plain": [
       "<IPython.core.display.HTML object>"
      ]
     },
     "metadata": {},
     "output_type": "display_data"
    },
    {
     "data": {
      "text/html": [
       "<div style=\"color: red; font-weight: bold;\">\"                      BERT_3001-4000.csv\" Total Rows: 1000, \tRows with Missing Values: 4</div>"
      ],
      "text/plain": [
       "<IPython.core.display.HTML object>"
      ]
     },
     "metadata": {},
     "output_type": "display_data"
    },
    {
     "data": {
      "text/html": [
       "<div style=\"color: red; font-weight: bold;\">\"                      BERT_4001-5000.csv\" Total Rows: 1000, \tRows with Missing Values: 361</div>"
      ],
      "text/plain": [
       "<IPython.core.display.HTML object>"
      ]
     },
     "metadata": {},
     "output_type": "display_data"
    },
    {
     "data": {
      "text/html": [
       "<div style=\"color: red; font-weight: bold;\">\"                      BERT_5001-6000.csv\" Total Rows: 1000, \tRows with Missing Values: 10</div>"
      ],
      "text/plain": [
       "<IPython.core.display.HTML object>"
      ]
     },
     "metadata": {},
     "output_type": "display_data"
    },
    {
     "data": {
      "text/html": [
       "<div style=\"color: red; font-weight: bold;\">\"                      BERT_6001-7000.csv\" Total Rows: 1000, \tRows with Missing Values: 5</div>"
      ],
      "text/plain": [
       "<IPython.core.display.HTML object>"
      ]
     },
     "metadata": {},
     "output_type": "display_data"
    },
    {
     "data": {
      "text/html": [
       "<div style=\"color: red; font-weight: bold;\">\"                      BERT_7001-8000.csv\" Total Rows: 1000, \tRows with Missing Values: 13</div>"
      ],
      "text/plain": [
       "<IPython.core.display.HTML object>"
      ]
     },
     "metadata": {},
     "output_type": "display_data"
    },
    {
     "data": {
      "text/html": [
       "<div style=\"color: red; font-weight: bold;\">\"                      BERT_8001-9000.csv\" Total Rows: 1000, \tRows with Missing Values: 6</div>"
      ],
      "text/plain": [
       "<IPython.core.display.HTML object>"
      ]
     },
     "metadata": {},
     "output_type": "display_data"
    },
    {
     "data": {
      "text/html": [
       "<div style=\"color: red; font-weight: bold;\">\"                     BERT_9001-10000.csv\" Total Rows: 1000, \tRows with Missing Values: 7</div>"
      ],
      "text/plain": [
       "<IPython.core.display.HTML object>"
      ]
     },
     "metadata": {},
     "output_type": "display_data"
    },
    {
     "data": {
      "text/html": [
       "<div style=\"color: red; font-weight: bold;\">\"                      chatbot_1-1000.csv\" Total Rows: 1000, \tRows with Missing Values: 7</div>"
      ],
      "text/plain": [
       "<IPython.core.display.HTML object>"
      ]
     },
     "metadata": {},
     "output_type": "display_data"
    },
    {
     "data": {
      "text/html": [
       "<div style=\"color: green; font-weight: bold;\">\"                 chatbot_10001-11000.csv\" Total Rows: 1000, \tRows with Missing Values: 0</div>"
      ],
      "text/plain": [
       "<IPython.core.display.HTML object>"
      ]
     },
     "metadata": {},
     "output_type": "display_data"
    },
    {
     "data": {
      "text/html": [
       "<div style=\"color: green; font-weight: bold;\">\"                   chatbot_1001-2000.csv\" Total Rows: 1000, \tRows with Missing Values: 0</div>"
      ],
      "text/plain": [
       "<IPython.core.display.HTML object>"
      ]
     },
     "metadata": {},
     "output_type": "display_data"
    },
    {
     "data": {
      "text/html": [
       "<div style=\"color: green; font-weight: bold;\">\"                 chatbot_11001-12000.csv\" Total Rows: 1000, \tRows with Missing Values: 0</div>"
      ],
      "text/plain": [
       "<IPython.core.display.HTML object>"
      ]
     },
     "metadata": {},
     "output_type": "display_data"
    },
    {
     "data": {
      "text/html": [
       "<div style=\"color: red; font-weight: bold;\">\"                 chatbot_12001-13000.csv\" Total Rows: 1000, \tRows with Missing Values: 3</div>"
      ],
      "text/plain": [
       "<IPython.core.display.HTML object>"
      ]
     },
     "metadata": {},
     "output_type": "display_data"
    },
    {
     "data": {
      "text/html": [
       "<div style=\"color: red; font-weight: bold;\">\"                 chatbot_13001-14000.csv\" Total Rows: 1000, \tRows with Missing Values: 4</div>"
      ],
      "text/plain": [
       "<IPython.core.display.HTML object>"
      ]
     },
     "metadata": {},
     "output_type": "display_data"
    },
    {
     "data": {
      "text/html": [
       "<div style=\"color: green; font-weight: bold;\">\"                 chatbot_14001-15000.csv\" Total Rows: 1000, \tRows with Missing Values: 0</div>"
      ],
      "text/plain": [
       "<IPython.core.display.HTML object>"
      ]
     },
     "metadata": {},
     "output_type": "display_data"
    },
    {
     "data": {
      "text/html": [
       "<div style=\"color: green; font-weight: bold;\">\"                 chatbot_15001-16000.csv\" Total Rows: 1000, \tRows with Missing Values: 0</div>"
      ],
      "text/plain": [
       "<IPython.core.display.HTML object>"
      ]
     },
     "metadata": {},
     "output_type": "display_data"
    },
    {
     "data": {
      "text/html": [
       "<div style=\"color: green; font-weight: bold;\">\"                 chatbot_16001-17000.csv\" Total Rows: 1000, \tRows with Missing Values: 0</div>"
      ],
      "text/plain": [
       "<IPython.core.display.HTML object>"
      ]
     },
     "metadata": {},
     "output_type": "display_data"
    },
    {
     "data": {
      "text/html": [
       "<div style=\"color: green; font-weight: bold;\">\"                 chatbot_17001-18000.csv\" Total Rows: 1000, \tRows with Missing Values: 0</div>"
      ],
      "text/plain": [
       "<IPython.core.display.HTML object>"
      ]
     },
     "metadata": {},
     "output_type": "display_data"
    },
    {
     "data": {
      "text/html": [
       "<div style=\"color: red; font-weight: bold;\">\"                 chatbot_18001-19000.csv\" Total Rows: 1000, \tRows with Missing Values: 8</div>"
      ],
      "text/plain": [
       "<IPython.core.display.HTML object>"
      ]
     },
     "metadata": {},
     "output_type": "display_data"
    },
    {
     "data": {
      "text/html": [
       "<div style=\"color: red; font-weight: bold;\">\"                 chatbot_19001-20000.csv\" Total Rows: 1000, \tRows with Missing Values: 14</div>"
      ],
      "text/plain": [
       "<IPython.core.display.HTML object>"
      ]
     },
     "metadata": {},
     "output_type": "display_data"
    },
    {
     "data": {
      "text/html": [
       "<div style=\"color: green; font-weight: bold;\">\"                   chatbot_2001-3000.csv\" Total Rows: 1000, \tRows with Missing Values: 0</div>"
      ],
      "text/plain": [
       "<IPython.core.display.HTML object>"
      ]
     },
     "metadata": {},
     "output_type": "display_data"
    },
    {
     "data": {
      "text/html": [
       "<div style=\"color: red; font-weight: bold;\">\"                   chatbot_3001-4000.csv\" Total Rows: 1000, \tRows with Missing Values: 1</div>"
      ],
      "text/plain": [
       "<IPython.core.display.HTML object>"
      ]
     },
     "metadata": {},
     "output_type": "display_data"
    },
    {
     "data": {
      "text/html": [
       "<div style=\"color: red; font-weight: bold;\">\"                   chatbot_4001-5000.csv\" Total Rows: 1000, \tRows with Missing Values: 1</div>"
      ],
      "text/plain": [
       "<IPython.core.display.HTML object>"
      ]
     },
     "metadata": {},
     "output_type": "display_data"
    },
    {
     "data": {
      "text/html": [
       "<div style=\"color: green; font-weight: bold;\">\"                   chatbot_5001-6000.csv\" Total Rows: 1000, \tRows with Missing Values: 0</div>"
      ],
      "text/plain": [
       "<IPython.core.display.HTML object>"
      ]
     },
     "metadata": {},
     "output_type": "display_data"
    },
    {
     "data": {
      "text/html": [
       "<div style=\"color: green; font-weight: bold;\">\"                   chatbot_6001-7000.csv\" Total Rows: 1000, \tRows with Missing Values: 0</div>"
      ],
      "text/plain": [
       "<IPython.core.display.HTML object>"
      ]
     },
     "metadata": {},
     "output_type": "display_data"
    },
    {
     "data": {
      "text/html": [
       "<div style=\"color: green; font-weight: bold;\">\"                   chatbot_7001-8000.csv\" Total Rows: 1000, \tRows with Missing Values: 0</div>"
      ],
      "text/plain": [
       "<IPython.core.display.HTML object>"
      ]
     },
     "metadata": {},
     "output_type": "display_data"
    },
    {
     "data": {
      "text/html": [
       "<div style=\"color: green; font-weight: bold;\">\"                   chatbot_8001-9000.csv\" Total Rows: 1000, \tRows with Missing Values: 0</div>"
      ],
      "text/plain": [
       "<IPython.core.display.HTML object>"
      ]
     },
     "metadata": {},
     "output_type": "display_data"
    },
    {
     "data": {
      "text/html": [
       "<div style=\"color: red; font-weight: bold;\">\"                  chatbot_9001-10000.csv\" Total Rows: 1000, \tRows with Missing Values: 1</div>"
      ],
      "text/plain": [
       "<IPython.core.display.HTML object>"
      ]
     },
     "metadata": {},
     "output_type": "display_data"
    },
    {
     "data": {
      "text/html": [
       "<div style=\"color: red; font-weight: bold;\">\"                       deep learning.csv\" Total Rows: 17960, \tRows with Missing Values: 52</div>"
      ],
      "text/plain": [
       "<IPython.core.display.HTML object>"
      ]
     },
     "metadata": {},
     "output_type": "display_data"
    },
    {
     "data": {
      "text/html": [
       "<div style=\"color: red; font-weight: bold;\">\"       evolutionary algorithm_1-1000.csv\" Total Rows: 1000, \tRows with Missing Values: 5</div>"
      ],
      "text/plain": [
       "<IPython.core.display.HTML object>"
      ]
     },
     "metadata": {},
     "output_type": "display_data"
    },
    {
     "data": {
      "text/html": [
       "<div style=\"color: green; font-weight: bold;\">\"  evolutionary algorithm_10001-11000.csv\" Total Rows: 1000, \tRows with Missing Values: 0</div>"
      ],
      "text/plain": [
       "<IPython.core.display.HTML object>"
      ]
     },
     "metadata": {},
     "output_type": "display_data"
    },
    {
     "data": {
      "text/html": [
       "<div style=\"color: green; font-weight: bold;\">\"    evolutionary algorithm_1001-2000.csv\" Total Rows: 1000, \tRows with Missing Values: 0</div>"
      ],
      "text/plain": [
       "<IPython.core.display.HTML object>"
      ]
     },
     "metadata": {},
     "output_type": "display_data"
    },
    {
     "data": {
      "text/html": [
       "<div style=\"color: red; font-weight: bold;\">\"  evolutionary algorithm_11001-12000.csv\" Total Rows: 1000, \tRows with Missing Values: 35</div>"
      ],
      "text/plain": [
       "<IPython.core.display.HTML object>"
      ]
     },
     "metadata": {},
     "output_type": "display_data"
    },
    {
     "data": {
      "text/html": [
       "<div style=\"color: red; font-weight: bold;\">\"  evolutionary algorithm_12001-13000.csv\" Total Rows: 1000, \tRows with Missing Values: 5</div>"
      ],
      "text/plain": [
       "<IPython.core.display.HTML object>"
      ]
     },
     "metadata": {},
     "output_type": "display_data"
    },
    {
     "data": {
      "text/html": [
       "<div style=\"color: red; font-weight: bold;\">\"  evolutionary algorithm_13001-14000.csv\" Total Rows: 1000, \tRows with Missing Values: 4</div>"
      ],
      "text/plain": [
       "<IPython.core.display.HTML object>"
      ]
     },
     "metadata": {},
     "output_type": "display_data"
    },
    {
     "data": {
      "text/html": [
       "<div style=\"color: red; font-weight: bold;\">\"  evolutionary algorithm_14001-15000.csv\" Total Rows: 1000, \tRows with Missing Values: 72</div>"
      ],
      "text/plain": [
       "<IPython.core.display.HTML object>"
      ]
     },
     "metadata": {},
     "output_type": "display_data"
    },
    {
     "data": {
      "text/html": [
       "<div style=\"color: red; font-weight: bold;\">\"  evolutionary algorithm_15001-16000.csv\" Total Rows: 1000, \tRows with Missing Values: 7</div>"
      ],
      "text/plain": [
       "<IPython.core.display.HTML object>"
      ]
     },
     "metadata": {},
     "output_type": "display_data"
    },
    {
     "data": {
      "text/html": [
       "<div style=\"color: red; font-weight: bold;\">\"  evolutionary algorithm_16001-17000.csv\" Total Rows: 1000, \tRows with Missing Values: 5</div>"
      ],
      "text/plain": [
       "<IPython.core.display.HTML object>"
      ]
     },
     "metadata": {},
     "output_type": "display_data"
    },
    {
     "data": {
      "text/html": [
       "<div style=\"color: green; font-weight: bold;\">\"  evolutionary algorithm_17001-18000.csv\" Total Rows: 1000, \tRows with Missing Values: 0</div>"
      ],
      "text/plain": [
       "<IPython.core.display.HTML object>"
      ]
     },
     "metadata": {},
     "output_type": "display_data"
    },
    {
     "data": {
      "text/html": [
       "<div style=\"color: red; font-weight: bold;\">\"  evolutionary algorithm_18001-19000.csv\" Total Rows: 1000, \tRows with Missing Values: 12</div>"
      ],
      "text/plain": [
       "<IPython.core.display.HTML object>"
      ]
     },
     "metadata": {},
     "output_type": "display_data"
    },
    {
     "data": {
      "text/html": [
       "<div style=\"color: red; font-weight: bold;\">\"  evolutionary algorithm_19001-20000.csv\" Total Rows: 1000, \tRows with Missing Values: 1</div>"
      ],
      "text/plain": [
       "<IPython.core.display.HTML object>"
      ]
     },
     "metadata": {},
     "output_type": "display_data"
    },
    {
     "data": {
      "text/html": [
       "<div style=\"color: green; font-weight: bold;\">\"    evolutionary algorithm_2001-3000.csv\" Total Rows: 1000, \tRows with Missing Values: 0</div>"
      ],
      "text/plain": [
       "<IPython.core.display.HTML object>"
      ]
     },
     "metadata": {},
     "output_type": "display_data"
    },
    {
     "data": {
      "text/html": [
       "<div style=\"color: red; font-weight: bold;\">\"    evolutionary algorithm_3001-4000.csv\" Total Rows: 1000, \tRows with Missing Values: 1</div>"
      ],
      "text/plain": [
       "<IPython.core.display.HTML object>"
      ]
     },
     "metadata": {},
     "output_type": "display_data"
    },
    {
     "data": {
      "text/html": [
       "<div style=\"color: green; font-weight: bold;\">\"    evolutionary algorithm_4001-5000.csv\" Total Rows: 1000, \tRows with Missing Values: 0</div>"
      ],
      "text/plain": [
       "<IPython.core.display.HTML object>"
      ]
     },
     "metadata": {},
     "output_type": "display_data"
    },
    {
     "data": {
      "text/html": [
       "<div style=\"color: red; font-weight: bold;\">\"    evolutionary algorithm_5001-6000.csv\" Total Rows: 1000, \tRows with Missing Values: 3</div>"
      ],
      "text/plain": [
       "<IPython.core.display.HTML object>"
      ]
     },
     "metadata": {},
     "output_type": "display_data"
    },
    {
     "data": {
      "text/html": [
       "<div style=\"color: green; font-weight: bold;\">\"    evolutionary algorithm_6001-7000.csv\" Total Rows: 1000, \tRows with Missing Values: 0</div>"
      ],
      "text/plain": [
       "<IPython.core.display.HTML object>"
      ]
     },
     "metadata": {},
     "output_type": "display_data"
    },
    {
     "data": {
      "text/html": [
       "<div style=\"color: red; font-weight: bold;\">\"    evolutionary algorithm_7001-8000.csv\" Total Rows: 1000, \tRows with Missing Values: 2</div>"
      ],
      "text/plain": [
       "<IPython.core.display.HTML object>"
      ]
     },
     "metadata": {},
     "output_type": "display_data"
    },
    {
     "data": {
      "text/html": [
       "<div style=\"color: red; font-weight: bold;\">\"    evolutionary algorithm_8001-9000.csv\" Total Rows: 1000, \tRows with Missing Values: 17</div>"
      ],
      "text/plain": [
       "<IPython.core.display.HTML object>"
      ]
     },
     "metadata": {},
     "output_type": "display_data"
    },
    {
     "data": {
      "text/html": [
       "<div style=\"color: green; font-weight: bold;\">\"   evolutionary algorithm_9001-10000.csv\" Total Rows: 1000, \tRows with Missing Values: 0</div>"
      ],
      "text/plain": [
       "<IPython.core.display.HTML object>"
      ]
     },
     "metadata": {},
     "output_type": "display_data"
    },
    {
     "data": {
      "text/html": [
       "<div style=\"color: red; font-weight: bold;\">\"                  federated learning.csv\" Total Rows: 1807, \tRows with Missing Values: 15</div>"
      ],
      "text/plain": [
       "<IPython.core.display.HTML object>"
      ]
     },
     "metadata": {},
     "output_type": "display_data"
    },
    {
     "data": {
      "text/html": [
       "<div style=\"color: red; font-weight: bold;\">\"                          GPT_1-1000.csv\" Total Rows: 1000, \tRows with Missing Values: 13</div>"
      ],
      "text/plain": [
       "<IPython.core.display.HTML object>"
      ]
     },
     "metadata": {},
     "output_type": "display_data"
    },
    {
     "data": {
      "text/html": [
       "<div style=\"color: red; font-weight: bold;\">\"                     GPT_10001-11000.csv\" Total Rows: 1000, \tRows with Missing Values: 177</div>"
      ],
      "text/plain": [
       "<IPython.core.display.HTML object>"
      ]
     },
     "metadata": {},
     "output_type": "display_data"
    },
    {
     "data": {
      "text/html": [
       "<div style=\"color: red; font-weight: bold;\">\"                       GPT_1001-2000.csv\" Total Rows: 1000, \tRows with Missing Values: 83</div>"
      ],
      "text/plain": [
       "<IPython.core.display.HTML object>"
      ]
     },
     "metadata": {},
     "output_type": "display_data"
    },
    {
     "data": {
      "text/html": [
       "<div style=\"color: red; font-weight: bold;\">\"                     GPT_11001-12000.csv\" Total Rows: 1000, \tRows with Missing Values: 227</div>"
      ],
      "text/plain": [
       "<IPython.core.display.HTML object>"
      ]
     },
     "metadata": {},
     "output_type": "display_data"
    },
    {
     "data": {
      "text/html": [
       "<div style=\"color: red; font-weight: bold;\">\"                     GPT_12001-13000.csv\" Total Rows: 1000, \tRows with Missing Values: 217</div>"
      ],
      "text/plain": [
       "<IPython.core.display.HTML object>"
      ]
     },
     "metadata": {},
     "output_type": "display_data"
    },
    {
     "data": {
      "text/html": [
       "<div style=\"color: red; font-weight: bold;\">\"                     GPT_13001-14000.csv\" Total Rows: 1000, \tRows with Missing Values: 260</div>"
      ],
      "text/plain": [
       "<IPython.core.display.HTML object>"
      ]
     },
     "metadata": {},
     "output_type": "display_data"
    },
    {
     "data": {
      "text/html": [
       "<div style=\"color: red; font-weight: bold;\">\"                     GPT_14001-15000.csv\" Total Rows: 1000, \tRows with Missing Values: 298</div>"
      ],
      "text/plain": [
       "<IPython.core.display.HTML object>"
      ]
     },
     "metadata": {},
     "output_type": "display_data"
    },
    {
     "data": {
      "text/html": [
       "<div style=\"color: red; font-weight: bold;\">\"                     GPT_15001-16000.csv\" Total Rows: 1000, \tRows with Missing Values: 369</div>"
      ],
      "text/plain": [
       "<IPython.core.display.HTML object>"
      ]
     },
     "metadata": {},
     "output_type": "display_data"
    },
    {
     "data": {
      "text/html": [
       "<div style=\"color: red; font-weight: bold;\">\"                     GPT_16001-17000.csv\" Total Rows: 1000, \tRows with Missing Values: 268</div>"
      ],
      "text/plain": [
       "<IPython.core.display.HTML object>"
      ]
     },
     "metadata": {},
     "output_type": "display_data"
    },
    {
     "data": {
      "text/html": [
       "<div style=\"color: red; font-weight: bold;\">\"                     GPT_17001-18000.csv\" Total Rows: 1000, \tRows with Missing Values: 201</div>"
      ],
      "text/plain": [
       "<IPython.core.display.HTML object>"
      ]
     },
     "metadata": {},
     "output_type": "display_data"
    },
    {
     "data": {
      "text/html": [
       "<div style=\"color: red; font-weight: bold;\">\"                     GPT_18001-19000.csv\" Total Rows: 1000, \tRows with Missing Values: 147</div>"
      ],
      "text/plain": [
       "<IPython.core.display.HTML object>"
      ]
     },
     "metadata": {},
     "output_type": "display_data"
    },
    {
     "data": {
      "text/html": [
       "<div style=\"color: red; font-weight: bold;\">\"                     GPT_19001-20000.csv\" Total Rows: 1000, \tRows with Missing Values: 132</div>"
      ],
      "text/plain": [
       "<IPython.core.display.HTML object>"
      ]
     },
     "metadata": {},
     "output_type": "display_data"
    },
    {
     "data": {
      "text/html": [
       "<div style=\"color: red; font-weight: bold;\">\"                       GPT_2001-3000.csv\" Total Rows: 1000, \tRows with Missing Values: 128</div>"
      ],
      "text/plain": [
       "<IPython.core.display.HTML object>"
      ]
     },
     "metadata": {},
     "output_type": "display_data"
    },
    {
     "data": {
      "text/html": [
       "<div style=\"color: red; font-weight: bold;\">\"                       GPT_3001-4000.csv\" Total Rows: 1000, \tRows with Missing Values: 87</div>"
      ],
      "text/plain": [
       "<IPython.core.display.HTML object>"
      ]
     },
     "metadata": {},
     "output_type": "display_data"
    },
    {
     "data": {
      "text/html": [
       "<div style=\"color: red; font-weight: bold;\">\"                       GPT_4001-5000.csv\" Total Rows: 1000, \tRows with Missing Values: 522</div>"
      ],
      "text/plain": [
       "<IPython.core.display.HTML object>"
      ]
     },
     "metadata": {},
     "output_type": "display_data"
    },
    {
     "data": {
      "text/html": [
       "<div style=\"color: red; font-weight: bold;\">\"                       GPT_5001-6000.csv\" Total Rows: 1000, \tRows with Missing Values: 293</div>"
      ],
      "text/plain": [
       "<IPython.core.display.HTML object>"
      ]
     },
     "metadata": {},
     "output_type": "display_data"
    },
    {
     "data": {
      "text/html": [
       "<div style=\"color: red; font-weight: bold;\">\"                       GPT_6001-7000.csv\" Total Rows: 1000, \tRows with Missing Values: 335</div>"
      ],
      "text/plain": [
       "<IPython.core.display.HTML object>"
      ]
     },
     "metadata": {},
     "output_type": "display_data"
    },
    {
     "data": {
      "text/html": [
       "<div style=\"color: red; font-weight: bold;\">\"                       GPT_7001-8000.csv\" Total Rows: 1000, \tRows with Missing Values: 210</div>"
      ],
      "text/plain": [
       "<IPython.core.display.HTML object>"
      ]
     },
     "metadata": {},
     "output_type": "display_data"
    },
    {
     "data": {
      "text/html": [
       "<div style=\"color: red; font-weight: bold;\">\"                       GPT_8001-9000.csv\" Total Rows: 1000, \tRows with Missing Values: 98</div>"
      ],
      "text/plain": [
       "<IPython.core.display.HTML object>"
      ]
     },
     "metadata": {},
     "output_type": "display_data"
    },
    {
     "data": {
      "text/html": [
       "<div style=\"color: red; font-weight: bold;\">\"                      GPT_9001-10000.csv\" Total Rows: 1000, \tRows with Missing Values: 122</div>"
      ],
      "text/plain": [
       "<IPython.core.display.HTML object>"
      ]
     },
     "metadata": {},
     "output_type": "display_data"
    },
    {
     "data": {
      "text/html": [
       "<div style=\"color: red; font-weight: bold;\">\"                    image processing.csv\" Total Rows: 12000, \tRows with Missing Values: 33</div>"
      ],
      "text/plain": [
       "<IPython.core.display.HTML object>"
      ]
     },
     "metadata": {},
     "output_type": "display_data"
    },
    {
     "data": {
      "text/html": [
       "<div style=\"color: red; font-weight: bold;\">\"knowledge grounded dialog generation.csv\" Total Rows: 1807, \tRows with Missing Values: 665</div>"
      ],
      "text/plain": [
       "<IPython.core.display.HTML object>"
      ]
     },
     "metadata": {},
     "output_type": "display_data"
    },
    {
     "data": {
      "text/html": [
       "<div style=\"color: red; font-weight: bold;\">\"            language modeling_1-1000.csv\" Total Rows: 1000, \tRows with Missing Values: 4</div>"
      ],
      "text/plain": [
       "<IPython.core.display.HTML object>"
      ]
     },
     "metadata": {},
     "output_type": "display_data"
    },
    {
     "data": {
      "text/html": [
       "<div style=\"color: red; font-weight: bold;\">\"       language modeling_10001-11000.csv\" Total Rows: 1000, \tRows with Missing Values: 22</div>"
      ],
      "text/plain": [
       "<IPython.core.display.HTML object>"
      ]
     },
     "metadata": {},
     "output_type": "display_data"
    },
    {
     "data": {
      "text/html": [
       "<div style=\"color: green; font-weight: bold;\">\"         language modeling_1001-2000.csv\" Total Rows: 1000, \tRows with Missing Values: 0</div>"
      ],
      "text/plain": [
       "<IPython.core.display.HTML object>"
      ]
     },
     "metadata": {},
     "output_type": "display_data"
    },
    {
     "data": {
      "text/html": [
       "<div style=\"color: red; font-weight: bold;\">\"       language modeling_11001-12000.csv\" Total Rows: 1000, \tRows with Missing Values: 1</div>"
      ],
      "text/plain": [
       "<IPython.core.display.HTML object>"
      ]
     },
     "metadata": {},
     "output_type": "display_data"
    },
    {
     "data": {
      "text/html": [
       "<div style=\"color: green; font-weight: bold;\">\"       language modeling_12001-13000.csv\" Total Rows: 1000, \tRows with Missing Values: 0</div>"
      ],
      "text/plain": [
       "<IPython.core.display.HTML object>"
      ]
     },
     "metadata": {},
     "output_type": "display_data"
    },
    {
     "data": {
      "text/html": [
       "<div style=\"color: red; font-weight: bold;\">\"       language modeling_13001-14000.csv\" Total Rows: 1000, \tRows with Missing Values: 5</div>"
      ],
      "text/plain": [
       "<IPython.core.display.HTML object>"
      ]
     },
     "metadata": {},
     "output_type": "display_data"
    },
    {
     "data": {
      "text/html": [
       "<div style=\"color: red; font-weight: bold;\">\"       language modeling_14001-15000.csv\" Total Rows: 1000, \tRows with Missing Values: 32</div>"
      ],
      "text/plain": [
       "<IPython.core.display.HTML object>"
      ]
     },
     "metadata": {},
     "output_type": "display_data"
    },
    {
     "data": {
      "text/html": [
       "<div style=\"color: red; font-weight: bold;\">\"       language modeling_15001-16000.csv\" Total Rows: 1000, \tRows with Missing Values: 8</div>"
      ],
      "text/plain": [
       "<IPython.core.display.HTML object>"
      ]
     },
     "metadata": {},
     "output_type": "display_data"
    },
    {
     "data": {
      "text/html": [
       "<div style=\"color: red; font-weight: bold;\">\"       language modeling_16001-17000.csv\" Total Rows: 1000, \tRows with Missing Values: 3</div>"
      ],
      "text/plain": [
       "<IPython.core.display.HTML object>"
      ]
     },
     "metadata": {},
     "output_type": "display_data"
    },
    {
     "data": {
      "text/html": [
       "<div style=\"color: green; font-weight: bold;\">\"       language modeling_17001-18000.csv\" Total Rows: 1000, \tRows with Missing Values: 0</div>"
      ],
      "text/plain": [
       "<IPython.core.display.HTML object>"
      ]
     },
     "metadata": {},
     "output_type": "display_data"
    },
    {
     "data": {
      "text/html": [
       "<div style=\"color: red; font-weight: bold;\">\"       language modeling_18001-19000.csv\" Total Rows: 1000, \tRows with Missing Values: 414</div>"
      ],
      "text/plain": [
       "<IPython.core.display.HTML object>"
      ]
     },
     "metadata": {},
     "output_type": "display_data"
    },
    {
     "data": {
      "text/html": [
       "<div style=\"color: red; font-weight: bold;\">\"       language modeling_19001-20000.csv\" Total Rows: 1000, \tRows with Missing Values: 73</div>"
      ],
      "text/plain": [
       "<IPython.core.display.HTML object>"
      ]
     },
     "metadata": {},
     "output_type": "display_data"
    },
    {
     "data": {
      "text/html": [
       "<div style=\"color: green; font-weight: bold;\">\"         language modeling_2001-3000.csv\" Total Rows: 1000, \tRows with Missing Values: 0</div>"
      ],
      "text/plain": [
       "<IPython.core.display.HTML object>"
      ]
     },
     "metadata": {},
     "output_type": "display_data"
    },
    {
     "data": {
      "text/html": [
       "<div style=\"color: red; font-weight: bold;\">\"         language modeling_3001-4000.csv\" Total Rows: 1000, \tRows with Missing Values: 2</div>"
      ],
      "text/plain": [
       "<IPython.core.display.HTML object>"
      ]
     },
     "metadata": {},
     "output_type": "display_data"
    },
    {
     "data": {
      "text/html": [
       "<div style=\"color: red; font-weight: bold;\">\"         language modeling_4001-5000.csv\" Total Rows: 1000, \tRows with Missing Values: 1</div>"
      ],
      "text/plain": [
       "<IPython.core.display.HTML object>"
      ]
     },
     "metadata": {},
     "output_type": "display_data"
    },
    {
     "data": {
      "text/html": [
       "<div style=\"color: red; font-weight: bold;\">\"         language modeling_5001-6000.csv\" Total Rows: 1000, \tRows with Missing Values: 2</div>"
      ],
      "text/plain": [
       "<IPython.core.display.HTML object>"
      ]
     },
     "metadata": {},
     "output_type": "display_data"
    },
    {
     "data": {
      "text/html": [
       "<div style=\"color: red; font-weight: bold;\">\"         language modeling_6001-7000.csv\" Total Rows: 1000, \tRows with Missing Values: 10</div>"
      ],
      "text/plain": [
       "<IPython.core.display.HTML object>"
      ]
     },
     "metadata": {},
     "output_type": "display_data"
    },
    {
     "data": {
      "text/html": [
       "<div style=\"color: red; font-weight: bold;\">\"         language modeling_7001-8000.csv\" Total Rows: 1000, \tRows with Missing Values: 1</div>"
      ],
      "text/plain": [
       "<IPython.core.display.HTML object>"
      ]
     },
     "metadata": {},
     "output_type": "display_data"
    },
    {
     "data": {
      "text/html": [
       "<div style=\"color: green; font-weight: bold;\">\"         language modeling_8001-9000.csv\" Total Rows: 1000, \tRows with Missing Values: 0</div>"
      ],
      "text/plain": [
       "<IPython.core.display.HTML object>"
      ]
     },
     "metadata": {},
     "output_type": "display_data"
    },
    {
     "data": {
      "text/html": [
       "<div style=\"color: red; font-weight: bold;\">\"        language modeling_9001-10000.csv\" Total Rows: 1000, \tRows with Missing Values: 24</div>"
      ],
      "text/plain": [
       "<IPython.core.display.HTML object>"
      ]
     },
     "metadata": {},
     "output_type": "display_data"
    },
    {
     "data": {
      "text/html": [
       "<div style=\"color: red; font-weight: bold;\">\"             machine learning_1-1000.csv\" Total Rows: 1000, \tRows with Missing Values: 23</div>"
      ],
      "text/plain": [
       "<IPython.core.display.HTML object>"
      ]
     },
     "metadata": {},
     "output_type": "display_data"
    },
    {
     "data": {
      "text/html": [
       "<div style=\"color: red; font-weight: bold;\">\"        machine learning_10001-11000.csv\" Total Rows: 1000, \tRows with Missing Values: 1</div>"
      ],
      "text/plain": [
       "<IPython.core.display.HTML object>"
      ]
     },
     "metadata": {},
     "output_type": "display_data"
    },
    {
     "data": {
      "text/html": [
       "<div style=\"color: red; font-weight: bold;\">\"          machine learning_1001-2000.csv\" Total Rows: 1000, \tRows with Missing Values: 6</div>"
      ],
      "text/plain": [
       "<IPython.core.display.HTML object>"
      ]
     },
     "metadata": {},
     "output_type": "display_data"
    },
    {
     "data": {
      "text/html": [
       "<div style=\"color: green; font-weight: bold;\">\"        machine learning_12001-13000.csv\" Total Rows: 1000, \tRows with Missing Values: 0</div>"
      ],
      "text/plain": [
       "<IPython.core.display.HTML object>"
      ]
     },
     "metadata": {},
     "output_type": "display_data"
    },
    {
     "data": {
      "text/html": [
       "<div style=\"color: red; font-weight: bold;\">\"        machine learning_13001-14000.csv\" Total Rows: 1000, \tRows with Missing Values: 1</div>"
      ],
      "text/plain": [
       "<IPython.core.display.HTML object>"
      ]
     },
     "metadata": {},
     "output_type": "display_data"
    },
    {
     "data": {
      "text/html": [
       "<div style=\"color: green; font-weight: bold;\">\"        machine learning_14001-15000.csv\" Total Rows: 1000, \tRows with Missing Values: 0</div>"
      ],
      "text/plain": [
       "<IPython.core.display.HTML object>"
      ]
     },
     "metadata": {},
     "output_type": "display_data"
    },
    {
     "data": {
      "text/html": [
       "<div style=\"color: green; font-weight: bold;\">\"        machine learning_15001-16000.csv\" Total Rows: 1000, \tRows with Missing Values: 0</div>"
      ],
      "text/plain": [
       "<IPython.core.display.HTML object>"
      ]
     },
     "metadata": {},
     "output_type": "display_data"
    },
    {
     "data": {
      "text/html": [
       "<div style=\"color: green; font-weight: bold;\">\"        machine learning_16001-17000.csv\" Total Rows: 1000, \tRows with Missing Values: 0</div>"
      ],
      "text/plain": [
       "<IPython.core.display.HTML object>"
      ]
     },
     "metadata": {},
     "output_type": "display_data"
    },
    {
     "data": {
      "text/html": [
       "<div style=\"color: green; font-weight: bold;\">\"        machine learning_17001-18000.csv\" Total Rows: 1000, \tRows with Missing Values: 0</div>"
      ],
      "text/plain": [
       "<IPython.core.display.HTML object>"
      ]
     },
     "metadata": {},
     "output_type": "display_data"
    },
    {
     "data": {
      "text/html": [
       "<div style=\"color: red; font-weight: bold;\">\"        machine learning_18001-19000.csv\" Total Rows: 1000, \tRows with Missing Values: 3</div>"
      ],
      "text/plain": [
       "<IPython.core.display.HTML object>"
      ]
     },
     "metadata": {},
     "output_type": "display_data"
    },
    {
     "data": {
      "text/html": [
       "<div style=\"color: red; font-weight: bold;\">\"        machine learning_19001-20000.csv\" Total Rows: 1000, \tRows with Missing Values: 23</div>"
      ],
      "text/plain": [
       "<IPython.core.display.HTML object>"
      ]
     },
     "metadata": {},
     "output_type": "display_data"
    },
    {
     "data": {
      "text/html": [
       "<div style=\"color: green; font-weight: bold;\">\"          machine learning_2001-3000.csv\" Total Rows: 1000, \tRows with Missing Values: 0</div>"
      ],
      "text/plain": [
       "<IPython.core.display.HTML object>"
      ]
     },
     "metadata": {},
     "output_type": "display_data"
    },
    {
     "data": {
      "text/html": [
       "<div style=\"color: green; font-weight: bold;\">\"          machine learning_3001-4000.csv\" Total Rows: 1000, \tRows with Missing Values: 0</div>"
      ],
      "text/plain": [
       "<IPython.core.display.HTML object>"
      ]
     },
     "metadata": {},
     "output_type": "display_data"
    },
    {
     "data": {
      "text/html": [
       "<div style=\"color: green; font-weight: bold;\">\"          machine learning_4001-5000.csv\" Total Rows: 1000, \tRows with Missing Values: 0</div>"
      ],
      "text/plain": [
       "<IPython.core.display.HTML object>"
      ]
     },
     "metadata": {},
     "output_type": "display_data"
    },
    {
     "data": {
      "text/html": [
       "<div style=\"color: green; font-weight: bold;\">\"          machine learning_5001-6000.csv\" Total Rows: 1000, \tRows with Missing Values: 0</div>"
      ],
      "text/plain": [
       "<IPython.core.display.HTML object>"
      ]
     },
     "metadata": {},
     "output_type": "display_data"
    },
    {
     "data": {
      "text/html": [
       "<div style=\"color: red; font-weight: bold;\">\"          machine learning_6001-7000.csv\" Total Rows: 1000, \tRows with Missing Values: 1</div>"
      ],
      "text/plain": [
       "<IPython.core.display.HTML object>"
      ]
     },
     "metadata": {},
     "output_type": "display_data"
    },
    {
     "data": {
      "text/html": [
       "<div style=\"color: green; font-weight: bold;\">\"          machine learning_7001-8000.csv\" Total Rows: 1000, \tRows with Missing Values: 0</div>"
      ],
      "text/plain": [
       "<IPython.core.display.HTML object>"
      ]
     },
     "metadata": {},
     "output_type": "display_data"
    },
    {
     "data": {
      "text/html": [
       "<div style=\"color: green; font-weight: bold;\">\"          machine learning_8001-9000.csv\" Total Rows: 1000, \tRows with Missing Values: 0</div>"
      ],
      "text/plain": [
       "<IPython.core.display.HTML object>"
      ]
     },
     "metadata": {},
     "output_type": "display_data"
    },
    {
     "data": {
      "text/html": [
       "<div style=\"color: green; font-weight: bold;\">\"         machine learning_9001-10000.csv\" Total Rows: 1000, \tRows with Missing Values: 0</div>"
      ],
      "text/plain": [
       "<IPython.core.display.HTML object>"
      ]
     },
     "metadata": {},
     "output_type": "display_data"
    },
    {
     "data": {
      "text/html": [
       "<div style=\"color: red; font-weight: bold;\">\"               neural network_1-1000.csv\" Total Rows: 1000, \tRows with Missing Values: 21</div>"
      ],
      "text/plain": [
       "<IPython.core.display.HTML object>"
      ]
     },
     "metadata": {},
     "output_type": "display_data"
    },
    {
     "data": {
      "text/html": [
       "<div style=\"color: red; font-weight: bold;\">\"            neural network_1001-2000.csv\" Total Rows: 1000, \tRows with Missing Values: 9</div>"
      ],
      "text/plain": [
       "<IPython.core.display.HTML object>"
      ]
     },
     "metadata": {},
     "output_type": "display_data"
    },
    {
     "data": {
      "text/html": [
       "<div style=\"color: green; font-weight: bold;\">\"          neural network_11001-12000.csv\" Total Rows: 1000, \tRows with Missing Values: 0</div>"
      ],
      "text/plain": [
       "<IPython.core.display.HTML object>"
      ]
     },
     "metadata": {},
     "output_type": "display_data"
    },
    {
     "data": {
      "text/html": [
       "<div style=\"color: green; font-weight: bold;\">\"          neural network_12001-13000.csv\" Total Rows: 1000, \tRows with Missing Values: 0</div>"
      ],
      "text/plain": [
       "<IPython.core.display.HTML object>"
      ]
     },
     "metadata": {},
     "output_type": "display_data"
    },
    {
     "data": {
      "text/html": [
       "<div style=\"color: green; font-weight: bold;\">\"          neural network_13001-14000.csv\" Total Rows: 1000, \tRows with Missing Values: 0</div>"
      ],
      "text/plain": [
       "<IPython.core.display.HTML object>"
      ]
     },
     "metadata": {},
     "output_type": "display_data"
    },
    {
     "data": {
      "text/html": [
       "<div style=\"color: green; font-weight: bold;\">\"          neural network_14001-15000.csv\" Total Rows: 1000, \tRows with Missing Values: 0</div>"
      ],
      "text/plain": [
       "<IPython.core.display.HTML object>"
      ]
     },
     "metadata": {},
     "output_type": "display_data"
    },
    {
     "data": {
      "text/html": [
       "<div style=\"color: green; font-weight: bold;\">\"          neural network_15001-16000.csv\" Total Rows: 1000, \tRows with Missing Values: 0</div>"
      ],
      "text/plain": [
       "<IPython.core.display.HTML object>"
      ]
     },
     "metadata": {},
     "output_type": "display_data"
    },
    {
     "data": {
      "text/html": [
       "<div style=\"color: green; font-weight: bold;\">\"          neural network_16001-17000.csv\" Total Rows: 1000, \tRows with Missing Values: 0</div>"
      ],
      "text/plain": [
       "<IPython.core.display.HTML object>"
      ]
     },
     "metadata": {},
     "output_type": "display_data"
    },
    {
     "data": {
      "text/html": [
       "<div style=\"color: red; font-weight: bold;\">\"          neural network_17001-18000.csv\" Total Rows: 1000, \tRows with Missing Values: 2</div>"
      ],
      "text/plain": [
       "<IPython.core.display.HTML object>"
      ]
     },
     "metadata": {},
     "output_type": "display_data"
    },
    {
     "data": {
      "text/html": [
       "<div style=\"color: red; font-weight: bold;\">\"          neural network_18001-19000.csv\" Total Rows: 1000, \tRows with Missing Values: 12</div>"
      ],
      "text/plain": [
       "<IPython.core.display.HTML object>"
      ]
     },
     "metadata": {},
     "output_type": "display_data"
    },
    {
     "data": {
      "text/html": [
       "<div style=\"color: green; font-weight: bold;\">\"          neural network_19001-20000.csv\" Total Rows: 1000, \tRows with Missing Values: 0</div>"
      ],
      "text/plain": [
       "<IPython.core.display.HTML object>"
      ]
     },
     "metadata": {},
     "output_type": "display_data"
    },
    {
     "data": {
      "text/html": [
       "<div style=\"color: red; font-weight: bold;\">\"            neural network_2001-3000.csv\" Total Rows: 1000, \tRows with Missing Values: 1</div>"
      ],
      "text/plain": [
       "<IPython.core.display.HTML object>"
      ]
     },
     "metadata": {},
     "output_type": "display_data"
    },
    {
     "data": {
      "text/html": [
       "<div style=\"color: green; font-weight: bold;\">\"            neural network_3001-4000.csv\" Total Rows: 1000, \tRows with Missing Values: 0</div>"
      ],
      "text/plain": [
       "<IPython.core.display.HTML object>"
      ]
     },
     "metadata": {},
     "output_type": "display_data"
    },
    {
     "data": {
      "text/html": [
       "<div style=\"color: green; font-weight: bold;\">\"            neural network_5001-6000.csv\" Total Rows: 1000, \tRows with Missing Values: 0</div>"
      ],
      "text/plain": [
       "<IPython.core.display.HTML object>"
      ]
     },
     "metadata": {},
     "output_type": "display_data"
    },
    {
     "data": {
      "text/html": [
       "<div style=\"color: green; font-weight: bold;\">\"            neural network_6001-7000.csv\" Total Rows: 1000, \tRows with Missing Values: 0</div>"
      ],
      "text/plain": [
       "<IPython.core.display.HTML object>"
      ]
     },
     "metadata": {},
     "output_type": "display_data"
    },
    {
     "data": {
      "text/html": [
       "<div style=\"color: green; font-weight: bold;\">\"            neural network_7001-8000.csv\" Total Rows: 1000, \tRows with Missing Values: 0</div>"
      ],
      "text/plain": [
       "<IPython.core.display.HTML object>"
      ]
     },
     "metadata": {},
     "output_type": "display_data"
    },
    {
     "data": {
      "text/html": [
       "<div style=\"color: green; font-weight: bold;\">\"            neural network_8001-9000.csv\" Total Rows: 1000, \tRows with Missing Values: 0</div>"
      ],
      "text/plain": [
       "<IPython.core.display.HTML object>"
      ]
     },
     "metadata": {},
     "output_type": "display_data"
    },
    {
     "data": {
      "text/html": [
       "<div style=\"color: green; font-weight: bold;\">\"           neural network_9001-10000.csv\" Total Rows: 1000, \tRows with Missing Values: 0</div>"
      ],
      "text/plain": [
       "<IPython.core.display.HTML object>"
      ]
     },
     "metadata": {},
     "output_type": "display_data"
    },
    {
     "data": {
      "text/html": [
       "<div style=\"color: red; font-weight: bold;\">\"          pattern recognition_1-1000.csv\" Total Rows: 1000, \tRows with Missing Values: 5</div>"
      ],
      "text/plain": [
       "<IPython.core.display.HTML object>"
      ]
     },
     "metadata": {},
     "output_type": "display_data"
    },
    {
     "data": {
      "text/html": [
       "<div style=\"color: green; font-weight: bold;\">\"     pattern recognition_10001-11000.csv\" Total Rows: 1000, \tRows with Missing Values: 0</div>"
      ],
      "text/plain": [
       "<IPython.core.display.HTML object>"
      ]
     },
     "metadata": {},
     "output_type": "display_data"
    },
    {
     "data": {
      "text/html": [
       "<div style=\"color: green; font-weight: bold;\">\"       pattern recognition_1001-2000.csv\" Total Rows: 1000, \tRows with Missing Values: 0</div>"
      ],
      "text/plain": [
       "<IPython.core.display.HTML object>"
      ]
     },
     "metadata": {},
     "output_type": "display_data"
    },
    {
     "data": {
      "text/html": [
       "<div style=\"color: red; font-weight: bold;\">\"     pattern recognition_11001-12000.csv\" Total Rows: 1000, \tRows with Missing Values: 35</div>"
      ],
      "text/plain": [
       "<IPython.core.display.HTML object>"
      ]
     },
     "metadata": {},
     "output_type": "display_data"
    },
    {
     "data": {
      "text/html": [
       "<div style=\"color: red; font-weight: bold;\">\"     pattern recognition_12001-13000.csv\" Total Rows: 1000, \tRows with Missing Values: 5</div>"
      ],
      "text/plain": [
       "<IPython.core.display.HTML object>"
      ]
     },
     "metadata": {},
     "output_type": "display_data"
    },
    {
     "data": {
      "text/html": [
       "<div style=\"color: red; font-weight: bold;\">\"     pattern recognition_13001-14000.csv\" Total Rows: 1000, \tRows with Missing Values: 4</div>"
      ],
      "text/plain": [
       "<IPython.core.display.HTML object>"
      ]
     },
     "metadata": {},
     "output_type": "display_data"
    },
    {
     "data": {
      "text/html": [
       "<div style=\"color: red; font-weight: bold;\">\"     pattern recognition_14001-15000.csv\" Total Rows: 1000, \tRows with Missing Values: 72</div>"
      ],
      "text/plain": [
       "<IPython.core.display.HTML object>"
      ]
     },
     "metadata": {},
     "output_type": "display_data"
    },
    {
     "data": {
      "text/html": [
       "<div style=\"color: red; font-weight: bold;\">\"     pattern recognition_15001-16000.csv\" Total Rows: 1000, \tRows with Missing Values: 7</div>"
      ],
      "text/plain": [
       "<IPython.core.display.HTML object>"
      ]
     },
     "metadata": {},
     "output_type": "display_data"
    },
    {
     "data": {
      "text/html": [
       "<div style=\"color: red; font-weight: bold;\">\"     pattern recognition_16001-17000.csv\" Total Rows: 1000, \tRows with Missing Values: 5</div>"
      ],
      "text/plain": [
       "<IPython.core.display.HTML object>"
      ]
     },
     "metadata": {},
     "output_type": "display_data"
    },
    {
     "data": {
      "text/html": [
       "<div style=\"color: green; font-weight: bold;\">\"     pattern recognition_17001-18000.csv\" Total Rows: 1000, \tRows with Missing Values: 0</div>"
      ],
      "text/plain": [
       "<IPython.core.display.HTML object>"
      ]
     },
     "metadata": {},
     "output_type": "display_data"
    },
    {
     "data": {
      "text/html": [
       "<div style=\"color: red; font-weight: bold;\">\"     pattern recognition_18001-19000.csv\" Total Rows: 1000, \tRows with Missing Values: 12</div>"
      ],
      "text/plain": [
       "<IPython.core.display.HTML object>"
      ]
     },
     "metadata": {},
     "output_type": "display_data"
    },
    {
     "data": {
      "text/html": [
       "<div style=\"color: red; font-weight: bold;\">\"     pattern recognition_19001-20000.csv\" Total Rows: 1000, \tRows with Missing Values: 1</div>"
      ],
      "text/plain": [
       "<IPython.core.display.HTML object>"
      ]
     },
     "metadata": {},
     "output_type": "display_data"
    },
    {
     "data": {
      "text/html": [
       "<div style=\"color: green; font-weight: bold;\">\"       pattern recognition_2001-3000.csv\" Total Rows: 1000, \tRows with Missing Values: 0</div>"
      ],
      "text/plain": [
       "<IPython.core.display.HTML object>"
      ]
     },
     "metadata": {},
     "output_type": "display_data"
    },
    {
     "data": {
      "text/html": [
       "<div style=\"color: red; font-weight: bold;\">\"       pattern recognition_3001-4000.csv\" Total Rows: 1000, \tRows with Missing Values: 1</div>"
      ],
      "text/plain": [
       "<IPython.core.display.HTML object>"
      ]
     },
     "metadata": {},
     "output_type": "display_data"
    },
    {
     "data": {
      "text/html": [
       "<div style=\"color: green; font-weight: bold;\">\"       pattern recognition_4001-5000.csv\" Total Rows: 1000, \tRows with Missing Values: 0</div>"
      ],
      "text/plain": [
       "<IPython.core.display.HTML object>"
      ]
     },
     "metadata": {},
     "output_type": "display_data"
    },
    {
     "data": {
      "text/html": [
       "<div style=\"color: red; font-weight: bold;\">\"       pattern recognition_5001-6000.csv\" Total Rows: 1000, \tRows with Missing Values: 3</div>"
      ],
      "text/plain": [
       "<IPython.core.display.HTML object>"
      ]
     },
     "metadata": {},
     "output_type": "display_data"
    },
    {
     "data": {
      "text/html": [
       "<div style=\"color: green; font-weight: bold;\">\"       pattern recognition_6001-7000.csv\" Total Rows: 1000, \tRows with Missing Values: 0</div>"
      ],
      "text/plain": [
       "<IPython.core.display.HTML object>"
      ]
     },
     "metadata": {},
     "output_type": "display_data"
    },
    {
     "data": {
      "text/html": [
       "<div style=\"color: red; font-weight: bold;\">\"       pattern recognition_7001-8000.csv\" Total Rows: 1000, \tRows with Missing Values: 2</div>"
      ],
      "text/plain": [
       "<IPython.core.display.HTML object>"
      ]
     },
     "metadata": {},
     "output_type": "display_data"
    },
    {
     "data": {
      "text/html": [
       "<div style=\"color: red; font-weight: bold;\">\"       pattern recognition_8001-9000.csv\" Total Rows: 1000, \tRows with Missing Values: 17</div>"
      ],
      "text/plain": [
       "<IPython.core.display.HTML object>"
      ]
     },
     "metadata": {},
     "output_type": "display_data"
    },
    {
     "data": {
      "text/html": [
       "<div style=\"color: green; font-weight: bold;\">\"      pattern recognition_9001-10000.csv\" Total Rows: 1000, \tRows with Missing Values: 0</div>"
      ],
      "text/plain": [
       "<IPython.core.display.HTML object>"
      ]
     },
     "metadata": {},
     "output_type": "display_data"
    },
    {
     "data": {
      "text/html": [
       "<div style=\"color: red; font-weight: bold;\">\"              reinforcement learning.csv\" Total Rows: 20000, \tRows with Missing Values: 545</div>"
      ],
      "text/plain": [
       "<IPython.core.display.HTML object>"
      ]
     },
     "metadata": {},
     "output_type": "display_data"
    },
    {
     "data": {
      "text/html": [
       "<div style=\"color: red; font-weight: bold;\">\"          response generation_1-1000.csv\" Total Rows: 1000, \tRows with Missing Values: 7</div>"
      ],
      "text/plain": [
       "<IPython.core.display.HTML object>"
      ]
     },
     "metadata": {},
     "output_type": "display_data"
    },
    {
     "data": {
      "text/html": [
       "<div style=\"color: green; font-weight: bold;\">\"     response generation_10001-11000.csv\" Total Rows: 1000, \tRows with Missing Values: 0</div>"
      ],
      "text/plain": [
       "<IPython.core.display.HTML object>"
      ]
     },
     "metadata": {},
     "output_type": "display_data"
    },
    {
     "data": {
      "text/html": [
       "<div style=\"color: green; font-weight: bold;\">\"       response generation_1001-2000.csv\" Total Rows: 1000, \tRows with Missing Values: 0</div>"
      ],
      "text/plain": [
       "<IPython.core.display.HTML object>"
      ]
     },
     "metadata": {},
     "output_type": "display_data"
    },
    {
     "data": {
      "text/html": [
       "<div style=\"color: green; font-weight: bold;\">\"     response generation_11001-12000.csv\" Total Rows: 1000, \tRows with Missing Values: 0</div>"
      ],
      "text/plain": [
       "<IPython.core.display.HTML object>"
      ]
     },
     "metadata": {},
     "output_type": "display_data"
    },
    {
     "data": {
      "text/html": [
       "<div style=\"color: red; font-weight: bold;\">\"     response generation_12001-13000.csv\" Total Rows: 1000, \tRows with Missing Values: 3</div>"
      ],
      "text/plain": [
       "<IPython.core.display.HTML object>"
      ]
     },
     "metadata": {},
     "output_type": "display_data"
    },
    {
     "data": {
      "text/html": [
       "<div style=\"color: red; font-weight: bold;\">\"     response generation_13001-14000.csv\" Total Rows: 1000, \tRows with Missing Values: 4</div>"
      ],
      "text/plain": [
       "<IPython.core.display.HTML object>"
      ]
     },
     "metadata": {},
     "output_type": "display_data"
    },
    {
     "data": {
      "text/html": [
       "<div style=\"color: green; font-weight: bold;\">\"     response generation_14001-15000.csv\" Total Rows: 1000, \tRows with Missing Values: 0</div>"
      ],
      "text/plain": [
       "<IPython.core.display.HTML object>"
      ]
     },
     "metadata": {},
     "output_type": "display_data"
    },
    {
     "data": {
      "text/html": [
       "<div style=\"color: green; font-weight: bold;\">\"     response generation_15001-16000.csv\" Total Rows: 1000, \tRows with Missing Values: 0</div>"
      ],
      "text/plain": [
       "<IPython.core.display.HTML object>"
      ]
     },
     "metadata": {},
     "output_type": "display_data"
    },
    {
     "data": {
      "text/html": [
       "<div style=\"color: green; font-weight: bold;\">\"     response generation_16001-17000.csv\" Total Rows: 1000, \tRows with Missing Values: 0</div>"
      ],
      "text/plain": [
       "<IPython.core.display.HTML object>"
      ]
     },
     "metadata": {},
     "output_type": "display_data"
    },
    {
     "data": {
      "text/html": [
       "<div style=\"color: green; font-weight: bold;\">\"     response generation_17001-18000.csv\" Total Rows: 1000, \tRows with Missing Values: 0</div>"
      ],
      "text/plain": [
       "<IPython.core.display.HTML object>"
      ]
     },
     "metadata": {},
     "output_type": "display_data"
    },
    {
     "data": {
      "text/html": [
       "<div style=\"color: red; font-weight: bold;\">\"     response generation_18001-19000.csv\" Total Rows: 1000, \tRows with Missing Values: 8</div>"
      ],
      "text/plain": [
       "<IPython.core.display.HTML object>"
      ]
     },
     "metadata": {},
     "output_type": "display_data"
    },
    {
     "data": {
      "text/html": [
       "<div style=\"color: red; font-weight: bold;\">\"     response generation_19001-20000.csv\" Total Rows: 1000, \tRows with Missing Values: 14</div>"
      ],
      "text/plain": [
       "<IPython.core.display.HTML object>"
      ]
     },
     "metadata": {},
     "output_type": "display_data"
    },
    {
     "data": {
      "text/html": [
       "<div style=\"color: green; font-weight: bold;\">\"       response generation_2001-3000.csv\" Total Rows: 1000, \tRows with Missing Values: 0</div>"
      ],
      "text/plain": [
       "<IPython.core.display.HTML object>"
      ]
     },
     "metadata": {},
     "output_type": "display_data"
    },
    {
     "data": {
      "text/html": [
       "<div style=\"color: red; font-weight: bold;\">\"       response generation_3001-4000.csv\" Total Rows: 1000, \tRows with Missing Values: 1</div>"
      ],
      "text/plain": [
       "<IPython.core.display.HTML object>"
      ]
     },
     "metadata": {},
     "output_type": "display_data"
    },
    {
     "data": {
      "text/html": [
       "<div style=\"color: red; font-weight: bold;\">\"       response generation_4001-5000.csv\" Total Rows: 1000, \tRows with Missing Values: 1</div>"
      ],
      "text/plain": [
       "<IPython.core.display.HTML object>"
      ]
     },
     "metadata": {},
     "output_type": "display_data"
    },
    {
     "data": {
      "text/html": [
       "<div style=\"color: green; font-weight: bold;\">\"       response generation_5001-6000.csv\" Total Rows: 1000, \tRows with Missing Values: 0</div>"
      ],
      "text/plain": [
       "<IPython.core.display.HTML object>"
      ]
     },
     "metadata": {},
     "output_type": "display_data"
    },
    {
     "data": {
      "text/html": [
       "<div style=\"color: green; font-weight: bold;\">\"       response generation_6001-7000.csv\" Total Rows: 1000, \tRows with Missing Values: 0</div>"
      ],
      "text/plain": [
       "<IPython.core.display.HTML object>"
      ]
     },
     "metadata": {},
     "output_type": "display_data"
    },
    {
     "data": {
      "text/html": [
       "<div style=\"color: green; font-weight: bold;\">\"       response generation_7001-8000.csv\" Total Rows: 1000, \tRows with Missing Values: 0</div>"
      ],
      "text/plain": [
       "<IPython.core.display.HTML object>"
      ]
     },
     "metadata": {},
     "output_type": "display_data"
    },
    {
     "data": {
      "text/html": [
       "<div style=\"color: green; font-weight: bold;\">\"       response generation_8001-9000.csv\" Total Rows: 1000, \tRows with Missing Values: 0</div>"
      ],
      "text/plain": [
       "<IPython.core.display.HTML object>"
      ]
     },
     "metadata": {},
     "output_type": "display_data"
    },
    {
     "data": {
      "text/html": [
       "<div style=\"color: red; font-weight: bold;\">\"      response generation_9001-10000.csv\" Total Rows: 1000, \tRows with Missing Values: 1</div>"
      ],
      "text/plain": [
       "<IPython.core.display.HTML object>"
      ]
     },
     "metadata": {},
     "output_type": "display_data"
    },
    {
     "data": {
      "text/html": [
       "<div style=\"color: green; font-weight: bold;\">\"           sentement analysis_1-1000.csv\" Total Rows: 3, \tRows with Missing Values: 0</div>"
      ],
      "text/plain": [
       "<IPython.core.display.HTML object>"
      ]
     },
     "metadata": {},
     "output_type": "display_data"
    },
    {
     "data": {
      "text/html": [
       "<div style=\"color: red; font-weight: bold;\">\"                     text generation.csv\" Total Rows: 19980, \tRows with Missing Values: 572</div>"
      ],
      "text/plain": [
       "<IPython.core.display.HTML object>"
      ]
     },
     "metadata": {},
     "output_type": "display_data"
    },
    {
     "data": {
      "text/html": [
       "<div style=\"color: red; font-weight: bold;\">\"                  transformer_1-1000.csv\" Total Rows: 1000, \tRows with Missing Values: 7</div>"
      ],
      "text/plain": [
       "<IPython.core.display.HTML object>"
      ]
     },
     "metadata": {},
     "output_type": "display_data"
    },
    {
     "data": {
      "text/html": [
       "<div style=\"color: red; font-weight: bold;\">\"             transformer_10001-11000.csv\" Total Rows: 1000, \tRows with Missing Values: 9</div>"
      ],
      "text/plain": [
       "<IPython.core.display.HTML object>"
      ]
     },
     "metadata": {},
     "output_type": "display_data"
    },
    {
     "data": {
      "text/html": [
       "<div style=\"color: green; font-weight: bold;\">\"               transformer_1001-2000.csv\" Total Rows: 1000, \tRows with Missing Values: 0</div>"
      ],
      "text/plain": [
       "<IPython.core.display.HTML object>"
      ]
     },
     "metadata": {},
     "output_type": "display_data"
    },
    {
     "data": {
      "text/html": [
       "<div style=\"color: red; font-weight: bold;\">\"             transformer_11001-12000.csv\" Total Rows: 1000, \tRows with Missing Values: 8</div>"
      ],
      "text/plain": [
       "<IPython.core.display.HTML object>"
      ]
     },
     "metadata": {},
     "output_type": "display_data"
    },
    {
     "data": {
      "text/html": [
       "<div style=\"color: red; font-weight: bold;\">\"             transformer_12001-13000.csv\" Total Rows: 1000, \tRows with Missing Values: 263</div>"
      ],
      "text/plain": [
       "<IPython.core.display.HTML object>"
      ]
     },
     "metadata": {},
     "output_type": "display_data"
    },
    {
     "data": {
      "text/html": [
       "<div style=\"color: red; font-weight: bold;\">\"             transformer_13001-14000.csv\" Total Rows: 1000, \tRows with Missing Values: 523</div>"
      ],
      "text/plain": [
       "<IPython.core.display.HTML object>"
      ]
     },
     "metadata": {},
     "output_type": "display_data"
    },
    {
     "data": {
      "text/html": [
       "<div style=\"color: red; font-weight: bold;\">\"             transformer_14001-15000.csv\" Total Rows: 1000, \tRows with Missing Values: 11</div>"
      ],
      "text/plain": [
       "<IPython.core.display.HTML object>"
      ]
     },
     "metadata": {},
     "output_type": "display_data"
    },
    {
     "data": {
      "text/html": [
       "<div style=\"color: red; font-weight: bold;\">\"             transformer_15001-16000.csv\" Total Rows: 1000, \tRows with Missing Values: 1</div>"
      ],
      "text/plain": [
       "<IPython.core.display.HTML object>"
      ]
     },
     "metadata": {},
     "output_type": "display_data"
    },
    {
     "data": {
      "text/html": [
       "<div style=\"color: red; font-weight: bold;\">\"             transformer_16001-17000.csv\" Total Rows: 1000, \tRows with Missing Values: 10</div>"
      ],
      "text/plain": [
       "<IPython.core.display.HTML object>"
      ]
     },
     "metadata": {},
     "output_type": "display_data"
    },
    {
     "data": {
      "text/html": [
       "<div style=\"color: red; font-weight: bold;\">\"             transformer_17001-18000.csv\" Total Rows: 1000, \tRows with Missing Values: 2</div>"
      ],
      "text/plain": [
       "<IPython.core.display.HTML object>"
      ]
     },
     "metadata": {},
     "output_type": "display_data"
    },
    {
     "data": {
      "text/html": [
       "<div style=\"color: green; font-weight: bold;\">\"             transformer_18001-19000.csv\" Total Rows: 1000, \tRows with Missing Values: 0</div>"
      ],
      "text/plain": [
       "<IPython.core.display.HTML object>"
      ]
     },
     "metadata": {},
     "output_type": "display_data"
    },
    {
     "data": {
      "text/html": [
       "<div style=\"color: red; font-weight: bold;\">\"             transformer_19001-20000.csv\" Total Rows: 1000, \tRows with Missing Values: 16</div>"
      ],
      "text/plain": [
       "<IPython.core.display.HTML object>"
      ]
     },
     "metadata": {},
     "output_type": "display_data"
    },
    {
     "data": {
      "text/html": [
       "<div style=\"color: red; font-weight: bold;\">\"               transformer_2001-3000.csv\" Total Rows: 1000, \tRows with Missing Values: 3</div>"
      ],
      "text/plain": [
       "<IPython.core.display.HTML object>"
      ]
     },
     "metadata": {},
     "output_type": "display_data"
    },
    {
     "data": {
      "text/html": [
       "<div style=\"color: red; font-weight: bold;\">\"               transformer_3001-4000.csv\" Total Rows: 1000, \tRows with Missing Values: 1</div>"
      ],
      "text/plain": [
       "<IPython.core.display.HTML object>"
      ]
     },
     "metadata": {},
     "output_type": "display_data"
    },
    {
     "data": {
      "text/html": [
       "<div style=\"color: red; font-weight: bold;\">\"               transformer_4001-5000.csv\" Total Rows: 1000, \tRows with Missing Values: 4</div>"
      ],
      "text/plain": [
       "<IPython.core.display.HTML object>"
      ]
     },
     "metadata": {},
     "output_type": "display_data"
    },
    {
     "data": {
      "text/html": [
       "<div style=\"color: green; font-weight: bold;\">\"               transformer_5001-6000.csv\" Total Rows: 1000, \tRows with Missing Values: 0</div>"
      ],
      "text/plain": [
       "<IPython.core.display.HTML object>"
      ]
     },
     "metadata": {},
     "output_type": "display_data"
    },
    {
     "data": {
      "text/html": [
       "<div style=\"color: red; font-weight: bold;\">\"               transformer_6001-7000.csv\" Total Rows: 1000, \tRows with Missing Values: 24</div>"
      ],
      "text/plain": [
       "<IPython.core.display.HTML object>"
      ]
     },
     "metadata": {},
     "output_type": "display_data"
    },
    {
     "data": {
      "text/html": [
       "<div style=\"color: red; font-weight: bold;\">\"               transformer_7001-8000.csv\" Total Rows: 1000, \tRows with Missing Values: 5</div>"
      ],
      "text/plain": [
       "<IPython.core.display.HTML object>"
      ]
     },
     "metadata": {},
     "output_type": "display_data"
    },
    {
     "data": {
      "text/html": [
       "<div style=\"color: green; font-weight: bold;\">\"               transformer_8001-9000.csv\" Total Rows: 1000, \tRows with Missing Values: 0</div>"
      ],
      "text/plain": [
       "<IPython.core.display.HTML object>"
      ]
     },
     "metadata": {},
     "output_type": "display_data"
    },
    {
     "data": {
      "text/html": [
       "<div style=\"color: red; font-weight: bold;\">\"              transformer_9001-10000.csv\" Total Rows: 1000, \tRows with Missing Values: 4</div>"
      ],
      "text/plain": [
       "<IPython.core.display.HTML object>"
      ]
     },
     "metadata": {},
     "output_type": "display_data"
    },
    {
     "name": "stdout",
     "output_type": "stream",
     "text": [
      "Out of 289,557 rows, 9,627 of them have missing values in at least one of the specified columns. 3.3247%\n"
     ]
    },
    {
     "data": {
      "text/plain": [
       "3.324733990198821"
      ]
     },
     "execution_count": 2,
     "metadata": {},
     "output_type": "execute_result"
    }
   ],
   "source": [
    "analyze_dataset(subset_columns=['DOI'], verbose=True)\n"
   ]
  },
  {
   "cell_type": "code",
   "execution_count": 2,
   "metadata": {},
   "outputs": [],
   "source": [
    "country_data = get_authors_country()\n"
   ]
  },
  {
   "cell_type": "code",
   "execution_count": 8,
   "metadata": {
    "scrolled": true
   },
   "outputs": [
    {
     "data": {
      "text/html": [
       "<div>\n",
       "<style scoped>\n",
       "    .dataframe tbody tr th:only-of-type {\n",
       "        vertical-align: middle;\n",
       "    }\n",
       "\n",
       "    .dataframe tbody tr th {\n",
       "        vertical-align: top;\n",
       "    }\n",
       "\n",
       "    .dataframe thead th {\n",
       "        text-align: right;\n",
       "    }\n",
       "</style>\n",
       "<table border=\"1\" class=\"dataframe\">\n",
       "  <thead>\n",
       "    <tr style=\"text-align: right;\">\n",
       "      <th></th>\n",
       "      <th>Country</th>\n",
       "      <th>EID</th>\n",
       "    </tr>\n",
       "  </thead>\n",
       "  <tbody>\n",
       "    <tr>\n",
       "      <th>0</th>\n",
       "      <td>China</td>\n",
       "      <td>2-s2.0-85172739299</td>\n",
       "    </tr>\n",
       "    <tr>\n",
       "      <th>6</th>\n",
       "      <td>Netherlands</td>\n",
       "      <td>2-s2.0-85171763233</td>\n",
       "    </tr>\n",
       "    <tr>\n",
       "      <th>11</th>\n",
       "      <td>Sweden</td>\n",
       "      <td>2-s2.0-85172413842</td>\n",
       "    </tr>\n",
       "    <tr>\n",
       "      <th>14</th>\n",
       "      <td>Taiwan</td>\n",
       "      <td>2-s2.0-85172655376</td>\n",
       "    </tr>\n",
       "    <tr>\n",
       "      <th>17</th>\n",
       "      <td>India</td>\n",
       "      <td>2-s2.0-85172397277</td>\n",
       "    </tr>\n",
       "    <tr>\n",
       "      <th>19</th>\n",
       "      <td>Spain</td>\n",
       "      <td>2-s2.0-85163622664</td>\n",
       "    </tr>\n",
       "    <tr>\n",
       "      <th>20</th>\n",
       "      <td>France</td>\n",
       "      <td>2-s2.0-85172179425</td>\n",
       "    </tr>\n",
       "    <tr>\n",
       "      <th>24</th>\n",
       "      <td>United States</td>\n",
       "      <td>2-s2.0-85050365864</td>\n",
       "    </tr>\n",
       "    <tr>\n",
       "      <th>36</th>\n",
       "      <td>Egypt</td>\n",
       "      <td>2-s2.0-85172718100</td>\n",
       "    </tr>\n",
       "    <tr>\n",
       "      <th>40</th>\n",
       "      <td>Malaysia</td>\n",
       "      <td>2-s2.0-85172312111</td>\n",
       "    </tr>\n",
       "    <tr>\n",
       "      <th>67</th>\n",
       "      <td>United Kingdom</td>\n",
       "      <td>2-s2.0-85172410618</td>\n",
       "    </tr>\n",
       "    <tr>\n",
       "      <th>71</th>\n",
       "      <td>Japan</td>\n",
       "      <td>2-s2.0-85171628178</td>\n",
       "    </tr>\n",
       "    <tr>\n",
       "      <th>77</th>\n",
       "      <td>Singapore</td>\n",
       "      <td>2-s2.0-85172298630</td>\n",
       "    </tr>\n",
       "    <tr>\n",
       "      <th>84</th>\n",
       "      <td>South Korea</td>\n",
       "      <td>2-s2.0-85171834377</td>\n",
       "    </tr>\n",
       "    <tr>\n",
       "      <th>95</th>\n",
       "      <td>Canada</td>\n",
       "      <td>2-s2.0-85172724069</td>\n",
       "    </tr>\n",
       "    <tr>\n",
       "      <th>109</th>\n",
       "      <td>Hong Kong</td>\n",
       "      <td>2-s2.0-85171873674</td>\n",
       "    </tr>\n",
       "    <tr>\n",
       "      <th>122</th>\n",
       "      <td>Poland</td>\n",
       "      <td>2-s2.0-85170026584</td>\n",
       "    </tr>\n",
       "    <tr>\n",
       "      <th>125</th>\n",
       "      <td>Uganda</td>\n",
       "      <td>2-s2.0-85166074535</td>\n",
       "    </tr>\n",
       "    <tr>\n",
       "      <th>136</th>\n",
       "      <td>Brazil</td>\n",
       "      <td>2-s2.0-85171735645</td>\n",
       "    </tr>\n",
       "    <tr>\n",
       "      <th>158</th>\n",
       "      <td>Australia</td>\n",
       "      <td>2-s2.0-85172707701</td>\n",
       "    </tr>\n",
       "    <tr>\n",
       "      <th>163</th>\n",
       "      <td>Croatia</td>\n",
       "      <td>2-s2.0-85172275966</td>\n",
       "    </tr>\n",
       "    <tr>\n",
       "      <th>170</th>\n",
       "      <td>Portugal</td>\n",
       "      <td>2-s2.0-85165022314</td>\n",
       "    </tr>\n",
       "    <tr>\n",
       "      <th>178</th>\n",
       "      <td>Iran</td>\n",
       "      <td>2-s2.0-85172372313</td>\n",
       "    </tr>\n",
       "    <tr>\n",
       "      <th>223</th>\n",
       "      <td>Colombia</td>\n",
       "      <td>2-s2.0-85172292861</td>\n",
       "    </tr>\n",
       "    <tr>\n",
       "      <th>258</th>\n",
       "      <td>Bangladesh</td>\n",
       "      <td>2-s2.0-85172223715</td>\n",
       "    </tr>\n",
       "    <tr>\n",
       "      <th>302</th>\n",
       "      <td>South Africa</td>\n",
       "      <td>2-s2.0-85169935222</td>\n",
       "    </tr>\n",
       "    <tr>\n",
       "      <th>320</th>\n",
       "      <td>Macao</td>\n",
       "      <td>2-s2.0-85170638833</td>\n",
       "    </tr>\n",
       "    <tr>\n",
       "      <th>325</th>\n",
       "      <td>Czech Republic</td>\n",
       "      <td>2-s2.0-85172661918</td>\n",
       "    </tr>\n",
       "    <tr>\n",
       "      <th>327</th>\n",
       "      <td>Chile</td>\n",
       "      <td>2-s2.0-85172661918</td>\n",
       "    </tr>\n",
       "    <tr>\n",
       "      <th>328</th>\n",
       "      <td>Greece</td>\n",
       "      <td>2-s2.0-85172661918</td>\n",
       "    </tr>\n",
       "    <tr>\n",
       "      <th>365</th>\n",
       "      <td>Turkey</td>\n",
       "      <td>2-s2.0-85169924757</td>\n",
       "    </tr>\n",
       "    <tr>\n",
       "      <th>366</th>\n",
       "      <td>Pakistan</td>\n",
       "      <td>2-s2.0-85170650397</td>\n",
       "    </tr>\n",
       "    <tr>\n",
       "      <th>368</th>\n",
       "      <td>Saudi Arabia</td>\n",
       "      <td>2-s2.0-85170650397</td>\n",
       "    </tr>\n",
       "    <tr>\n",
       "      <th>380</th>\n",
       "      <td>Germany</td>\n",
       "      <td>2-s2.0-85171184287</td>\n",
       "    </tr>\n",
       "    <tr>\n",
       "      <th>390</th>\n",
       "      <td>United Arab Emirates</td>\n",
       "      <td>2-s2.0-85170644941</td>\n",
       "    </tr>\n",
       "    <tr>\n",
       "      <th>396</th>\n",
       "      <td>New Zealand</td>\n",
       "      <td>2-s2.0-85171618506</td>\n",
       "    </tr>\n",
       "    <tr>\n",
       "      <th>470</th>\n",
       "      <td>Morocco</td>\n",
       "      <td>2-s2.0-85170641137</td>\n",
       "    </tr>\n",
       "    <tr>\n",
       "      <th>508</th>\n",
       "      <td>Belgium</td>\n",
       "      <td>2-s2.0-85170433306</td>\n",
       "    </tr>\n",
       "    <tr>\n",
       "      <th>521</th>\n",
       "      <td>Denmark</td>\n",
       "      <td>2-s2.0-85170419921</td>\n",
       "    </tr>\n",
       "    <tr>\n",
       "      <th>523</th>\n",
       "      <td>Norway</td>\n",
       "      <td>2-s2.0-85170419921</td>\n",
       "    </tr>\n",
       "    <tr>\n",
       "      <th>607</th>\n",
       "      <td>Estonia</td>\n",
       "      <td>2-s2.0-85170565821</td>\n",
       "    </tr>\n",
       "    <tr>\n",
       "      <th>608</th>\n",
       "      <td>Tunisia</td>\n",
       "      <td>2-s2.0-85170565821</td>\n",
       "    </tr>\n",
       "    <tr>\n",
       "      <th>622</th>\n",
       "      <td>Italy</td>\n",
       "      <td>2-s2.0-85170662083</td>\n",
       "    </tr>\n",
       "    <tr>\n",
       "      <th>670</th>\n",
       "      <td>Philippines</td>\n",
       "      <td>2-s2.0-85169501575</td>\n",
       "    </tr>\n",
       "    <tr>\n",
       "      <th>680</th>\n",
       "      <td>Lebanon</td>\n",
       "      <td>2-s2.0-85171841878</td>\n",
       "    </tr>\n",
       "    <tr>\n",
       "      <th>682</th>\n",
       "      <td>Kuwait</td>\n",
       "      <td>2-s2.0-85171651604</td>\n",
       "    </tr>\n",
       "    <tr>\n",
       "      <th>691</th>\n",
       "      <td>Hungary</td>\n",
       "      <td>2-s2.0-85171776188</td>\n",
       "    </tr>\n",
       "    <tr>\n",
       "      <th>742</th>\n",
       "      <td>Finland</td>\n",
       "      <td>2-s2.0-85170570242</td>\n",
       "    </tr>\n",
       "    <tr>\n",
       "      <th>817</th>\n",
       "      <td>Mexico</td>\n",
       "      <td>2-s2.0-85169021514</td>\n",
       "    </tr>\n",
       "    <tr>\n",
       "      <th>834</th>\n",
       "      <td>Latvia</td>\n",
       "      <td>2-s2.0-85171432833</td>\n",
       "    </tr>\n",
       "    <tr>\n",
       "      <th>843</th>\n",
       "      <td>Argentina</td>\n",
       "      <td>2-s2.0-85164476126</td>\n",
       "    </tr>\n",
       "    <tr>\n",
       "      <th>845</th>\n",
       "      <td>Thailand</td>\n",
       "      <td>2-s2.0-85166630968</td>\n",
       "    </tr>\n",
       "    <tr>\n",
       "      <th>872</th>\n",
       "      <td>Kazakhstan</td>\n",
       "      <td>2-s2.0-85168853499</td>\n",
       "    </tr>\n",
       "    <tr>\n",
       "      <th>880</th>\n",
       "      <td>China. Electronic address: Tcmcyx@tjutcm.edu.cn</td>\n",
       "      <td>2-s2.0-85171599755</td>\n",
       "    </tr>\n",
       "    <tr>\n",
       "      <th>881</th>\n",
       "      <td>Austria</td>\n",
       "      <td>2-s2.0-85172673584</td>\n",
       "    </tr>\n",
       "    <tr>\n",
       "      <th>953</th>\n",
       "      <td>Ireland</td>\n",
       "      <td>2-s2.0-85166924545</td>\n",
       "    </tr>\n",
       "    <tr>\n",
       "      <th>1003</th>\n",
       "      <td>Israel</td>\n",
       "      <td>2-s2.0-85172005290</td>\n",
       "    </tr>\n",
       "    <tr>\n",
       "      <th>1108</th>\n",
       "      <td>Azerbaijan</td>\n",
       "      <td>2-s2.0-85172404175</td>\n",
       "    </tr>\n",
       "    <tr>\n",
       "      <th>1112</th>\n",
       "      <td>Cyprus</td>\n",
       "      <td>2-s2.0-85172404175</td>\n",
       "    </tr>\n",
       "    <tr>\n",
       "      <th>1149</th>\n",
       "      <td>Moldova</td>\n",
       "      <td>2-s2.0-85172414818</td>\n",
       "    </tr>\n",
       "    <tr>\n",
       "      <th>1150</th>\n",
       "      <td>Romania</td>\n",
       "      <td>2-s2.0-85172414818</td>\n",
       "    </tr>\n",
       "    <tr>\n",
       "      <th>1155</th>\n",
       "      <td>Iraq</td>\n",
       "      <td>2-s2.0-85172310567</td>\n",
       "    </tr>\n",
       "    <tr>\n",
       "      <th>1212</th>\n",
       "      <td>Armenia</td>\n",
       "      <td>2-s2.0-85172422514</td>\n",
       "    </tr>\n",
       "    <tr>\n",
       "      <th>1253</th>\n",
       "      <td>Democratic Republic Congo</td>\n",
       "      <td>2-s2.0-85172802782</td>\n",
       "    </tr>\n",
       "    <tr>\n",
       "      <th>1346</th>\n",
       "      <td>Ecuador</td>\n",
       "      <td>2-s2.0-85171846462</td>\n",
       "    </tr>\n",
       "    <tr>\n",
       "      <th>1348</th>\n",
       "      <td>Indonesia</td>\n",
       "      <td>2-s2.0-85171876045</td>\n",
       "    </tr>\n",
       "    <tr>\n",
       "      <th>1362</th>\n",
       "      <td>Viet Nam</td>\n",
       "      <td>2-s2.0-85172018163</td>\n",
       "    </tr>\n",
       "    <tr>\n",
       "      <th>1414</th>\n",
       "      <td>Palestine</td>\n",
       "      <td>2-s2.0-85171785274</td>\n",
       "    </tr>\n",
       "    <tr>\n",
       "      <th>1417</th>\n",
       "      <td>Jordan</td>\n",
       "      <td>2-s2.0-85171785274</td>\n",
       "    </tr>\n",
       "    <tr>\n",
       "      <th>1420</th>\n",
       "      <td>Qatar</td>\n",
       "      <td>2-s2.0-85171729028</td>\n",
       "    </tr>\n",
       "    <tr>\n",
       "      <th>1530</th>\n",
       "      <td>Chang Gung Memorial Hospital</td>\n",
       "      <td>2-s2.0-85171733448</td>\n",
       "    </tr>\n",
       "    <tr>\n",
       "      <th>1599</th>\n",
       "      <td>Cote d'Ivoire</td>\n",
       "      <td>2-s2.0-85171485510</td>\n",
       "    </tr>\n",
       "    <tr>\n",
       "      <th>1602</th>\n",
       "      <td>Ukraine</td>\n",
       "      <td>2-s2.0-85171598711</td>\n",
       "    </tr>\n",
       "    <tr>\n",
       "      <th>1603</th>\n",
       "      <td>Bulgaria</td>\n",
       "      <td>2-s2.0-85171598711</td>\n",
       "    </tr>\n",
       "    <tr>\n",
       "      <th>1663</th>\n",
       "      <td>Sri Lanka</td>\n",
       "      <td>2-s2.0-85171329949</td>\n",
       "    </tr>\n",
       "    <tr>\n",
       "      <th>1671</th>\n",
       "      <td>Sudan</td>\n",
       "      <td>2-s2.0-85171566474</td>\n",
       "    </tr>\n",
       "    <tr>\n",
       "      <th>1855</th>\n",
       "      <td>Peru</td>\n",
       "      <td>2-s2.0-85170401785</td>\n",
       "    </tr>\n",
       "    <tr>\n",
       "      <th>1951</th>\n",
       "      <td>Luxembourg</td>\n",
       "      <td>2-s2.0-85170517670</td>\n",
       "    </tr>\n",
       "    <tr>\n",
       "      <th>1979</th>\n",
       "      <td>Uzbekistan</td>\n",
       "      <td>2-s2.0-85170362061</td>\n",
       "    </tr>\n",
       "    <tr>\n",
       "      <th>2070</th>\n",
       "      <td>Switzerland</td>\n",
       "      <td>2-s2.0-85170409536</td>\n",
       "    </tr>\n",
       "    <tr>\n",
       "      <th>2160</th>\n",
       "      <td>Nigeria</td>\n",
       "      <td>2-s2.0-85169046410</td>\n",
       "    </tr>\n",
       "    <tr>\n",
       "      <th>2180</th>\n",
       "      <td>Trinity Long Room Hub Arts &amp; Humanities Resear...</td>\n",
       "      <td>2-s2.0-85168555886</td>\n",
       "    </tr>\n",
       "    <tr>\n",
       "      <th>2245</th>\n",
       "      <td>Bahrain</td>\n",
       "      <td>2-s2.0-85169025176</td>\n",
       "    </tr>\n",
       "    <tr>\n",
       "      <th>2339</th>\n",
       "      <td>Oman</td>\n",
       "      <td>2-s2.0-85168751596</td>\n",
       "    </tr>\n",
       "    <tr>\n",
       "      <th>2356</th>\n",
       "      <td>Serbia</td>\n",
       "      <td>2-s2.0-85169295020</td>\n",
       "    </tr>\n",
       "    <tr>\n",
       "      <th>2419</th>\n",
       "      <td>City University of Hong Kong</td>\n",
       "      <td>2-s2.0-85168804809</td>\n",
       "    </tr>\n",
       "    <tr>\n",
       "      <th>2489</th>\n",
       "      <td>Kenya</td>\n",
       "      <td>2-s2.0-85164685782</td>\n",
       "    </tr>\n",
       "    <tr>\n",
       "      <th>2542</th>\n",
       "      <td>North Korea</td>\n",
       "      <td>2-s2.0-85166740705</td>\n",
       "    </tr>\n",
       "    <tr>\n",
       "      <th>2685</th>\n",
       "      <td>Algeria</td>\n",
       "      <td>2-s2.0-85149375620</td>\n",
       "    </tr>\n",
       "    <tr>\n",
       "      <th>2813</th>\n",
       "      <td>Russian Federation</td>\n",
       "      <td>2-s2.0-85169825400</td>\n",
       "    </tr>\n",
       "    <tr>\n",
       "      <th>2868</th>\n",
       "      <td>Uruguay</td>\n",
       "      <td>2-s2.0-85169839582</td>\n",
       "    </tr>\n",
       "    <tr>\n",
       "      <th>2880</th>\n",
       "      <td>Slovakia</td>\n",
       "      <td>2-s2.0-85169920052</td>\n",
       "    </tr>\n",
       "    <tr>\n",
       "      <th>2900</th>\n",
       "      <td>Ethiopia</td>\n",
       "      <td>2-s2.0-85169897991</td>\n",
       "    </tr>\n",
       "    <tr>\n",
       "      <th>3096</th>\n",
       "      <td>Belarus</td>\n",
       "      <td>2-s2.0-85169476637</td>\n",
       "    </tr>\n",
       "    <tr>\n",
       "      <th>3103</th>\n",
       "      <td>Lithuania</td>\n",
       "      <td>2-s2.0-85169780071</td>\n",
       "    </tr>\n",
       "    <tr>\n",
       "      <th>3106</th>\n",
       "      <td>Fondation Fondamental</td>\n",
       "      <td>2-s2.0-85169780071</td>\n",
       "    </tr>\n",
       "    <tr>\n",
       "      <th>3120</th>\n",
       "      <td>NC</td>\n",
       "      <td>2-s2.0-85169420087</td>\n",
       "    </tr>\n",
       "    <tr>\n",
       "      <th>3207</th>\n",
       "      <td>NY</td>\n",
       "      <td>2-s2.0-85169798442</td>\n",
       "    </tr>\n",
       "    <tr>\n",
       "      <th>3208</th>\n",
       "      <td>IN</td>\n",
       "      <td>2-s2.0-85169798442</td>\n",
       "    </tr>\n",
       "    <tr>\n",
       "      <th>3349</th>\n",
       "      <td>CEO of the Company of “Editory” LLC</td>\n",
       "      <td>2-s2.0-85169801484</td>\n",
       "    </tr>\n",
       "  </tbody>\n",
       "</table>\n",
       "</div>"
      ],
      "text/plain": [
       "                                                Country                 EID\n",
       "0                                                 China  2-s2.0-85172739299\n",
       "6                                           Netherlands  2-s2.0-85171763233\n",
       "11                                               Sweden  2-s2.0-85172413842\n",
       "14                                               Taiwan  2-s2.0-85172655376\n",
       "17                                                India  2-s2.0-85172397277\n",
       "19                                                Spain  2-s2.0-85163622664\n",
       "20                                               France  2-s2.0-85172179425\n",
       "24                                        United States  2-s2.0-85050365864\n",
       "36                                                Egypt  2-s2.0-85172718100\n",
       "40                                             Malaysia  2-s2.0-85172312111\n",
       "67                                       United Kingdom  2-s2.0-85172410618\n",
       "71                                                Japan  2-s2.0-85171628178\n",
       "77                                            Singapore  2-s2.0-85172298630\n",
       "84                                          South Korea  2-s2.0-85171834377\n",
       "95                                               Canada  2-s2.0-85172724069\n",
       "109                                           Hong Kong  2-s2.0-85171873674\n",
       "122                                              Poland  2-s2.0-85170026584\n",
       "125                                              Uganda  2-s2.0-85166074535\n",
       "136                                              Brazil  2-s2.0-85171735645\n",
       "158                                           Australia  2-s2.0-85172707701\n",
       "163                                             Croatia  2-s2.0-85172275966\n",
       "170                                            Portugal  2-s2.0-85165022314\n",
       "178                                                Iran  2-s2.0-85172372313\n",
       "223                                            Colombia  2-s2.0-85172292861\n",
       "258                                          Bangladesh  2-s2.0-85172223715\n",
       "302                                        South Africa  2-s2.0-85169935222\n",
       "320                                               Macao  2-s2.0-85170638833\n",
       "325                                      Czech Republic  2-s2.0-85172661918\n",
       "327                                               Chile  2-s2.0-85172661918\n",
       "328                                              Greece  2-s2.0-85172661918\n",
       "365                                              Turkey  2-s2.0-85169924757\n",
       "366                                            Pakistan  2-s2.0-85170650397\n",
       "368                                        Saudi Arabia  2-s2.0-85170650397\n",
       "380                                             Germany  2-s2.0-85171184287\n",
       "390                                United Arab Emirates  2-s2.0-85170644941\n",
       "396                                         New Zealand  2-s2.0-85171618506\n",
       "470                                             Morocco  2-s2.0-85170641137\n",
       "508                                             Belgium  2-s2.0-85170433306\n",
       "521                                             Denmark  2-s2.0-85170419921\n",
       "523                                              Norway  2-s2.0-85170419921\n",
       "607                                             Estonia  2-s2.0-85170565821\n",
       "608                                             Tunisia  2-s2.0-85170565821\n",
       "622                                               Italy  2-s2.0-85170662083\n",
       "670                                         Philippines  2-s2.0-85169501575\n",
       "680                                             Lebanon  2-s2.0-85171841878\n",
       "682                                              Kuwait  2-s2.0-85171651604\n",
       "691                                             Hungary  2-s2.0-85171776188\n",
       "742                                             Finland  2-s2.0-85170570242\n",
       "817                                              Mexico  2-s2.0-85169021514\n",
       "834                                              Latvia  2-s2.0-85171432833\n",
       "843                                           Argentina  2-s2.0-85164476126\n",
       "845                                            Thailand  2-s2.0-85166630968\n",
       "872                                          Kazakhstan  2-s2.0-85168853499\n",
       "880     China. Electronic address: Tcmcyx@tjutcm.edu.cn  2-s2.0-85171599755\n",
       "881                                             Austria  2-s2.0-85172673584\n",
       "953                                             Ireland  2-s2.0-85166924545\n",
       "1003                                             Israel  2-s2.0-85172005290\n",
       "1108                                         Azerbaijan  2-s2.0-85172404175\n",
       "1112                                             Cyprus  2-s2.0-85172404175\n",
       "1149                                            Moldova  2-s2.0-85172414818\n",
       "1150                                            Romania  2-s2.0-85172414818\n",
       "1155                                               Iraq  2-s2.0-85172310567\n",
       "1212                                            Armenia  2-s2.0-85172422514\n",
       "1253                          Democratic Republic Congo  2-s2.0-85172802782\n",
       "1346                                            Ecuador  2-s2.0-85171846462\n",
       "1348                                          Indonesia  2-s2.0-85171876045\n",
       "1362                                           Viet Nam  2-s2.0-85172018163\n",
       "1414                                          Palestine  2-s2.0-85171785274\n",
       "1417                                             Jordan  2-s2.0-85171785274\n",
       "1420                                              Qatar  2-s2.0-85171729028\n",
       "1530                       Chang Gung Memorial Hospital  2-s2.0-85171733448\n",
       "1599                                      Cote d'Ivoire  2-s2.0-85171485510\n",
       "1602                                            Ukraine  2-s2.0-85171598711\n",
       "1603                                           Bulgaria  2-s2.0-85171598711\n",
       "1663                                          Sri Lanka  2-s2.0-85171329949\n",
       "1671                                              Sudan  2-s2.0-85171566474\n",
       "1855                                               Peru  2-s2.0-85170401785\n",
       "1951                                         Luxembourg  2-s2.0-85170517670\n",
       "1979                                         Uzbekistan  2-s2.0-85170362061\n",
       "2070                                        Switzerland  2-s2.0-85170409536\n",
       "2160                                            Nigeria  2-s2.0-85169046410\n",
       "2180  Trinity Long Room Hub Arts & Humanities Resear...  2-s2.0-85168555886\n",
       "2245                                            Bahrain  2-s2.0-85169025176\n",
       "2339                                               Oman  2-s2.0-85168751596\n",
       "2356                                             Serbia  2-s2.0-85169295020\n",
       "2419                       City University of Hong Kong  2-s2.0-85168804809\n",
       "2489                                              Kenya  2-s2.0-85164685782\n",
       "2542                                        North Korea  2-s2.0-85166740705\n",
       "2685                                            Algeria  2-s2.0-85149375620\n",
       "2813                                 Russian Federation  2-s2.0-85169825400\n",
       "2868                                            Uruguay  2-s2.0-85169839582\n",
       "2880                                           Slovakia  2-s2.0-85169920052\n",
       "2900                                           Ethiopia  2-s2.0-85169897991\n",
       "3096                                            Belarus  2-s2.0-85169476637\n",
       "3103                                          Lithuania  2-s2.0-85169780071\n",
       "3106                              Fondation Fondamental  2-s2.0-85169780071\n",
       "3120                                                 NC  2-s2.0-85169420087\n",
       "3207                                                 NY  2-s2.0-85169798442\n",
       "3208                                                 IN  2-s2.0-85169798442\n",
       "3349                CEO of the Company of “Editory” LLC  2-s2.0-85169801484"
      ]
     },
     "execution_count": 8,
     "metadata": {},
     "output_type": "execute_result"
    }
   ],
   "source": [
    "pd.options.display.max_rows = 9999\n",
    "country_data.drop_duplicates(subset=[\"Country\"]).head(100)\n"
   ]
  },
  {
   "cell_type": "code",
   "execution_count": 2,
   "metadata": {
    "scrolled": true
   },
   "outputs": [],
   "source": [
    "data = get_authors_name_id()\n"
   ]
  },
  {
   "cell_type": "code",
   "execution_count": 22,
   "metadata": {},
   "outputs": [
    {
     "data": {
      "text/plain": [
       "(1636862, 2)"
      ]
     },
     "execution_count": 22,
     "metadata": {},
     "output_type": "execute_result"
    }
   ],
   "source": [
    "data.shape"
   ]
  },
  {
   "cell_type": "code",
   "execution_count": 23,
   "metadata": {},
   "outputs": [
    {
     "data": {
      "text/plain": [
       "(783615, 2)"
      ]
     },
     "execution_count": 23,
     "metadata": {},
     "output_type": "execute_result"
    }
   ],
   "source": [
    "no_dup = data.drop_duplicates()\n",
    "no_dup.shape\n"
   ]
  },
  {
   "cell_type": "code",
   "execution_count": 21,
   "metadata": {},
   "outputs": [
    {
     "data": {
      "text/plain": [
       "(762615, 2)"
      ]
     },
     "execution_count": 21,
     "metadata": {},
     "output_type": "execute_result"
    }
   ],
   "source": [
    "no_dup.drop_duplicates(subset=[\"ID\"]).shape"
   ]
  },
  {
   "cell_type": "code",
   "execution_count": 11,
   "metadata": {
    "scrolled": false
   },
   "outputs": [
    {
     "data": {
      "text/plain": [
       "(657166, 2)"
      ]
     },
     "execution_count": 11,
     "metadata": {},
     "output_type": "execute_result"
    }
   ],
   "source": [
    "no_dup.drop_duplicates(subset=[\"Author\"]).shape"
   ]
  },
  {
   "cell_type": "code",
   "execution_count": 29,
   "metadata": {
    "scrolled": true
   },
   "outputs": [
    {
     "data": {
      "text/html": [
       "<div>\n",
       "<style scoped>\n",
       "    .dataframe tbody tr th:only-of-type {\n",
       "        vertical-align: middle;\n",
       "    }\n",
       "\n",
       "    .dataframe tbody tr th {\n",
       "        vertical-align: top;\n",
       "    }\n",
       "\n",
       "    .dataframe thead th {\n",
       "        text-align: right;\n",
       "    }\n",
       "</style>\n",
       "<table border=\"1\" class=\"dataframe\">\n",
       "  <thead>\n",
       "    <tr style=\"text-align: right;\">\n",
       "      <th></th>\n",
       "      <th>Author</th>\n",
       "      <th>ID</th>\n",
       "    </tr>\n",
       "  </thead>\n",
       "  <tbody>\n",
       "    <tr>\n",
       "      <th>644151</th>\n",
       "      <td>Anonymous</td>\n",
       "      <td>1</td>\n",
       "    </tr>\n",
       "    <tr>\n",
       "      <th>611556</th>\n",
       "      <td>Anon</td>\n",
       "      <td>1</td>\n",
       "    </tr>\n",
       "    <tr>\n",
       "      <th>133656</th>\n",
       "      <td>Boyd, Andrew</td>\n",
       "      <td>10038853600</td>\n",
       "    </tr>\n",
       "    <tr>\n",
       "      <th>125827</th>\n",
       "      <td>Boyd, Andrew D.</td>\n",
       "      <td>10038853600</td>\n",
       "    </tr>\n",
       "    <tr>\n",
       "      <th>1446129</th>\n",
       "      <td>Boyd, Andrew D</td>\n",
       "      <td>10038853600</td>\n",
       "    </tr>\n",
       "    <tr>\n",
       "      <th>1625809</th>\n",
       "      <td>Kurien, Anish</td>\n",
       "      <td>10039742500</td>\n",
       "    </tr>\n",
       "    <tr>\n",
       "      <th>1535528</th>\n",
       "      <td>Kurien, Anish Matthew</td>\n",
       "      <td>10039742500</td>\n",
       "    </tr>\n",
       "    <tr>\n",
       "      <th>748149</th>\n",
       "      <td>Hoysniemi, Johanna</td>\n",
       "      <td>10040550500</td>\n",
       "    </tr>\n",
       "    <tr>\n",
       "      <th>748164</th>\n",
       "      <td>Höysniemi, Johanna</td>\n",
       "      <td>10040550500</td>\n",
       "    </tr>\n",
       "    <tr>\n",
       "      <th>573815</th>\n",
       "      <td>Wood, Angela M</td>\n",
       "      <td>10040876400</td>\n",
       "    </tr>\n",
       "    <tr>\n",
       "      <th>563576</th>\n",
       "      <td>Wood, Angela</td>\n",
       "      <td>10040876400</td>\n",
       "    </tr>\n",
       "    <tr>\n",
       "      <th>582691</th>\n",
       "      <td>Hämäläinen, Perttu</td>\n",
       "      <td>10040911400</td>\n",
       "    </tr>\n",
       "    <tr>\n",
       "      <th>645507</th>\n",
       "      <td>Hamalainen, Perttu</td>\n",
       "      <td>10040911400</td>\n",
       "    </tr>\n",
       "    <tr>\n",
       "      <th>43607</th>\n",
       "      <td>Liao, Shaoming</td>\n",
       "      <td>10041092300</td>\n",
       "    </tr>\n",
       "    <tr>\n",
       "      <th>787160</th>\n",
       "      <td>Liao, Shao-Ming</td>\n",
       "      <td>10041092300</td>\n",
       "    </tr>\n",
       "    <tr>\n",
       "      <th>462013</th>\n",
       "      <td>Fleischmann, Charles M.</td>\n",
       "      <td>10041423300</td>\n",
       "    </tr>\n",
       "    <tr>\n",
       "      <th>254637</th>\n",
       "      <td>Fleischmann, Charles</td>\n",
       "      <td>10041423300</td>\n",
       "    </tr>\n",
       "    <tr>\n",
       "      <th>732526</th>\n",
       "      <td>Naito, Clay</td>\n",
       "      <td>10041961000</td>\n",
       "    </tr>\n",
       "    <tr>\n",
       "      <th>1196259</th>\n",
       "      <td>Naito, Clay J.</td>\n",
       "      <td>10041961000</td>\n",
       "    </tr>\n",
       "    <tr>\n",
       "      <th>584402</th>\n",
       "      <td>Adderley, P.A.</td>\n",
       "      <td>10041999100</td>\n",
       "    </tr>\n",
       "    <tr>\n",
       "      <th>581714</th>\n",
       "      <td>Adderley, P.</td>\n",
       "      <td>10041999100</td>\n",
       "    </tr>\n",
       "    <tr>\n",
       "      <th>1508673</th>\n",
       "      <td>Ha, Ji-Hee</td>\n",
       "      <td>10042094700</td>\n",
       "    </tr>\n",
       "    <tr>\n",
       "      <th>1516433</th>\n",
       "      <td>Ha, Ji Hee</td>\n",
       "      <td>10042094700</td>\n",
       "    </tr>\n",
       "    <tr>\n",
       "      <th>539485</th>\n",
       "      <td>Thompson, S.J.</td>\n",
       "      <td>10042560200</td>\n",
       "    </tr>\n",
       "    <tr>\n",
       "      <th>733021</th>\n",
       "      <td>Thompson, Samantha</td>\n",
       "      <td>10042560200</td>\n",
       "    </tr>\n",
       "    <tr>\n",
       "      <th>480798</th>\n",
       "      <td>Tsoulos, Ioannis G.</td>\n",
       "      <td>10042633500</td>\n",
       "    </tr>\n",
       "    <tr>\n",
       "      <th>499550</th>\n",
       "      <td>Tsoulos, Ioannis</td>\n",
       "      <td>10042633500</td>\n",
       "    </tr>\n",
       "    <tr>\n",
       "      <th>576595</th>\n",
       "      <td>Dušek, Petr</td>\n",
       "      <td>10042636600</td>\n",
       "    </tr>\n",
       "    <tr>\n",
       "      <th>1042107</th>\n",
       "      <td>Dusek, Petr</td>\n",
       "      <td>10042636600</td>\n",
       "    </tr>\n",
       "    <tr>\n",
       "      <th>541364</th>\n",
       "      <td>Zhang, Jing-zhou</td>\n",
       "      <td>10043147000</td>\n",
       "    </tr>\n",
       "    <tr>\n",
       "      <th>546103</th>\n",
       "      <td>Zhang, Jingzhou</td>\n",
       "      <td>10043147000</td>\n",
       "    </tr>\n",
       "    <tr>\n",
       "      <th>632899</th>\n",
       "      <td>Naik, Shalin H</td>\n",
       "      <td>10044003500</td>\n",
       "    </tr>\n",
       "    <tr>\n",
       "      <th>1429489</th>\n",
       "      <td>Naik, S.H.</td>\n",
       "      <td>10044003500</td>\n",
       "    </tr>\n",
       "    <tr>\n",
       "      <th>114294</th>\n",
       "      <td>Bingham, P.A.</td>\n",
       "      <td>10044102600</td>\n",
       "    </tr>\n",
       "    <tr>\n",
       "      <th>941384</th>\n",
       "      <td>Bingham, Paul A.</td>\n",
       "      <td>10044102600</td>\n",
       "    </tr>\n",
       "    <tr>\n",
       "      <th>669981</th>\n",
       "      <td>Kan, K.</td>\n",
       "      <td>10044845800</td>\n",
       "    </tr>\n",
       "    <tr>\n",
       "      <th>591488</th>\n",
       "      <td>Kan, Koichi</td>\n",
       "      <td>10044845800</td>\n",
       "    </tr>\n",
       "    <tr>\n",
       "      <th>1239320</th>\n",
       "      <td>Stahl, Bernd</td>\n",
       "      <td>10045088600</td>\n",
       "    </tr>\n",
       "    <tr>\n",
       "      <th>1152</th>\n",
       "      <td>Stahl, Bernd Carsten</td>\n",
       "      <td>10045088600</td>\n",
       "    </tr>\n",
       "    <tr>\n",
       "      <th>521761</th>\n",
       "      <td>Nabieva, Elena R.</td>\n",
       "      <td>10045123000</td>\n",
       "    </tr>\n",
       "    <tr>\n",
       "      <th>789275</th>\n",
       "      <td>Nabieva, Elena</td>\n",
       "      <td>10045123000</td>\n",
       "    </tr>\n",
       "    <tr>\n",
       "      <th>516143</th>\n",
       "      <td>Marin, Ivan N.</td>\n",
       "      <td>10045487300</td>\n",
       "    </tr>\n",
       "    <tr>\n",
       "      <th>484499</th>\n",
       "      <td>Marin, Ivan</td>\n",
       "      <td>10045487300</td>\n",
       "    </tr>\n",
       "    <tr>\n",
       "      <th>18530</th>\n",
       "      <td>Zheng, LiHua</td>\n",
       "      <td>10139458500</td>\n",
       "    </tr>\n",
       "    <tr>\n",
       "      <th>12097</th>\n",
       "      <td>Zheng, Lihua</td>\n",
       "      <td>10139458500</td>\n",
       "    </tr>\n",
       "    <tr>\n",
       "      <th>221623</th>\n",
       "      <td>Wood, Katherine C.</td>\n",
       "      <td>10139883500</td>\n",
       "    </tr>\n",
       "    <tr>\n",
       "      <th>252148</th>\n",
       "      <td>Wood, Katherine</td>\n",
       "      <td>10139883500</td>\n",
       "    </tr>\n",
       "    <tr>\n",
       "      <th>197269</th>\n",
       "      <td>Aguet, François</td>\n",
       "      <td>10142752100</td>\n",
       "    </tr>\n",
       "    <tr>\n",
       "      <th>181154</th>\n",
       "      <td>Aguet, Francois</td>\n",
       "      <td>10142752100</td>\n",
       "    </tr>\n",
       "    <tr>\n",
       "      <th>348553</th>\n",
       "      <td>Szemes, Tomas</td>\n",
       "      <td>10142970100</td>\n",
       "    </tr>\n",
       "    <tr>\n",
       "      <th>946512</th>\n",
       "      <td>Szemes, Tomáš</td>\n",
       "      <td>10142970100</td>\n",
       "    </tr>\n",
       "    <tr>\n",
       "      <th>832480</th>\n",
       "      <td>Kebreab, Ermias</td>\n",
       "      <td>10239902300</td>\n",
       "    </tr>\n",
       "    <tr>\n",
       "      <th>596536</th>\n",
       "      <td>Kebreab, E.</td>\n",
       "      <td>10239902300</td>\n",
       "    </tr>\n",
       "    <tr>\n",
       "      <th>397594</th>\n",
       "      <td>Carman, Mark James</td>\n",
       "      <td>10240340400</td>\n",
       "    </tr>\n",
       "    <tr>\n",
       "      <th>647806</th>\n",
       "      <td>Carman, Mark J.</td>\n",
       "      <td>10240340400</td>\n",
       "    </tr>\n",
       "    <tr>\n",
       "      <th>142016</th>\n",
       "      <td>Atzmueller, Martin</td>\n",
       "      <td>10240403500</td>\n",
       "    </tr>\n",
       "    <tr>\n",
       "      <th>73563</th>\n",
       "      <td>Atzmueller, M.</td>\n",
       "      <td>10240403500</td>\n",
       "    </tr>\n",
       "    <tr>\n",
       "      <th>461875</th>\n",
       "      <td>Andújar, J.M.</td>\n",
       "      <td>10241452600</td>\n",
       "    </tr>\n",
       "    <tr>\n",
       "      <th>1193704</th>\n",
       "      <td>Andújar, José Manuel</td>\n",
       "      <td>10241452600</td>\n",
       "    </tr>\n",
       "    <tr>\n",
       "      <th>799489</th>\n",
       "      <td>Nieslony, P.</td>\n",
       "      <td>10241717200</td>\n",
       "    </tr>\n",
       "    <tr>\n",
       "      <th>711221</th>\n",
       "      <td>Niesłony, Piotr</td>\n",
       "      <td>10241717200</td>\n",
       "    </tr>\n",
       "    <tr>\n",
       "      <th>1499130</th>\n",
       "      <td>Goad, M.R.</td>\n",
       "      <td>10241897600</td>\n",
       "    </tr>\n",
       "    <tr>\n",
       "      <th>515518</th>\n",
       "      <td>Goad, Michael R.</td>\n",
       "      <td>10241897600</td>\n",
       "    </tr>\n",
       "    <tr>\n",
       "      <th>605944</th>\n",
       "      <td>Ichikawa, Y.</td>\n",
       "      <td>10243947400</td>\n",
       "    </tr>\n",
       "    <tr>\n",
       "      <th>610569</th>\n",
       "      <td>Ichikawa, Yoichiro</td>\n",
       "      <td>10243947400</td>\n",
       "    </tr>\n",
       "    <tr>\n",
       "      <th>605906</th>\n",
       "      <td>Suzuki, Y.</td>\n",
       "      <td>10244287800</td>\n",
       "    </tr>\n",
       "    <tr>\n",
       "      <th>606024</th>\n",
       "      <td>Suzuki, Yasutoshi</td>\n",
       "      <td>10244287800</td>\n",
       "    </tr>\n",
       "    <tr>\n",
       "      <th>227725</th>\n",
       "      <td>Ibnaouf, Khalid Hassan</td>\n",
       "      <td>10440671600</td>\n",
       "    </tr>\n",
       "    <tr>\n",
       "      <th>368463</th>\n",
       "      <td>Ibnaouf, Khalid H.</td>\n",
       "      <td>10440671600</td>\n",
       "    </tr>\n",
       "    <tr>\n",
       "      <th>201935</th>\n",
       "      <td>Haungs, Andreas</td>\n",
       "      <td>10538884100</td>\n",
       "    </tr>\n",
       "    <tr>\n",
       "      <th>868962</th>\n",
       "      <td>Haungs, A.</td>\n",
       "      <td>10538884100</td>\n",
       "    </tr>\n",
       "    <tr>\n",
       "      <th>1238251</th>\n",
       "      <td>Hayward, Thomas J</td>\n",
       "      <td>10539333300</td>\n",
       "    </tr>\n",
       "    <tr>\n",
       "      <th>372214</th>\n",
       "      <td>Hayward, T.J.</td>\n",
       "      <td>10539333300</td>\n",
       "    </tr>\n",
       "    <tr>\n",
       "      <th>383729</th>\n",
       "      <td>Ferreira, Luís A. F. M.</td>\n",
       "      <td>10540723400</td>\n",
       "    </tr>\n",
       "    <tr>\n",
       "      <th>548921</th>\n",
       "      <td>Ferreira, Luis A. F. M.</td>\n",
       "      <td>10540723400</td>\n",
       "    </tr>\n",
       "    <tr>\n",
       "      <th>98432</th>\n",
       "      <td>Razfar, Mohammadreza</td>\n",
       "      <td>10540841700</td>\n",
       "    </tr>\n",
       "    <tr>\n",
       "      <th>733745</th>\n",
       "      <td>Razfar, Mohammad Reza</td>\n",
       "      <td>10540841700</td>\n",
       "    </tr>\n",
       "    <tr>\n",
       "      <th>946624</th>\n",
       "      <td>Marwaha, Steven</td>\n",
       "      <td>10540959100</td>\n",
       "    </tr>\n",
       "    <tr>\n",
       "      <th>349372</th>\n",
       "      <td>Marwaha, S.</td>\n",
       "      <td>10540959100</td>\n",
       "    </tr>\n",
       "    <tr>\n",
       "      <th>162046</th>\n",
       "      <td>Krizan, P.</td>\n",
       "      <td>10639485800</td>\n",
       "    </tr>\n",
       "    <tr>\n",
       "      <th>997227</th>\n",
       "      <td>Križan, Peter</td>\n",
       "      <td>10639485800</td>\n",
       "    </tr>\n",
       "    <tr>\n",
       "      <th>499115</th>\n",
       "      <td>Belczynski, Krzysztof</td>\n",
       "      <td>10639720200</td>\n",
       "    </tr>\n",
       "    <tr>\n",
       "      <th>444431</th>\n",
       "      <td>Belczynski, K.</td>\n",
       "      <td>10639720200</td>\n",
       "    </tr>\n",
       "    <tr>\n",
       "      <th>1587559</th>\n",
       "      <td>Hoogendoorn, M.</td>\n",
       "      <td>10640498300</td>\n",
       "    </tr>\n",
       "    <tr>\n",
       "      <th>418192</th>\n",
       "      <td>Hoogendoorn, Mark</td>\n",
       "      <td>10640498300</td>\n",
       "    </tr>\n",
       "    <tr>\n",
       "      <th>128341</th>\n",
       "      <td>Zeng, Musheng</td>\n",
       "      <td>10642267400</td>\n",
       "    </tr>\n",
       "    <tr>\n",
       "      <th>1516972</th>\n",
       "      <td>Zeng, Mu-Sheng</td>\n",
       "      <td>10642267400</td>\n",
       "    </tr>\n",
       "    <tr>\n",
       "      <th>642917</th>\n",
       "      <td>Ré, Christopher</td>\n",
       "      <td>10739281400</td>\n",
       "    </tr>\n",
       "    <tr>\n",
       "      <th>645488</th>\n",
       "      <td>Re, Christopher</td>\n",
       "      <td>10739281400</td>\n",
       "    </tr>\n",
       "    <tr>\n",
       "      <th>429093</th>\n",
       "      <td>Christopher, R.</td>\n",
       "      <td>10739281400</td>\n",
       "    </tr>\n",
       "    <tr>\n",
       "      <th>4674</th>\n",
       "      <td>Dong, Liquan</td>\n",
       "      <td>10739346400</td>\n",
       "    </tr>\n",
       "    <tr>\n",
       "      <th>56181</th>\n",
       "      <td>Dong, Li-Quan</td>\n",
       "      <td>10739346400</td>\n",
       "    </tr>\n",
       "    <tr>\n",
       "      <th>1499129</th>\n",
       "      <td>Casewell, S.L.</td>\n",
       "      <td>10739483100</td>\n",
       "    </tr>\n",
       "    <tr>\n",
       "      <th>515516</th>\n",
       "      <td>Casewell, Sarah L.</td>\n",
       "      <td>10739483100</td>\n",
       "    </tr>\n",
       "    <tr>\n",
       "      <th>543381</th>\n",
       "      <td>Dentinger, Bryn T. M.</td>\n",
       "      <td>10840585300</td>\n",
       "    </tr>\n",
       "    <tr>\n",
       "      <th>382839</th>\n",
       "      <td>Dentinger, B.T.M.</td>\n",
       "      <td>10840585300</td>\n",
       "    </tr>\n",
       "    <tr>\n",
       "      <th>598730</th>\n",
       "      <td>Konetschny, Christian</td>\n",
       "      <td>10939455000</td>\n",
       "    </tr>\n",
       "    <tr>\n",
       "      <th>600136</th>\n",
       "      <td>Konetschny, C.</td>\n",
       "      <td>10939455000</td>\n",
       "    </tr>\n",
       "    <tr>\n",
       "      <th>583723</th>\n",
       "      <td>Wilson, Rob</td>\n",
       "      <td>11038770400</td>\n",
       "    </tr>\n",
       "    <tr>\n",
       "      <th>801291</th>\n",
       "      <td>Wilson, R.J.</td>\n",
       "      <td>11038770400</td>\n",
       "    </tr>\n",
       "  </tbody>\n",
       "</table>\n",
       "</div>"
      ],
      "text/plain": [
       "                          Author           ID\n",
       "644151                 Anonymous            1\n",
       "611556                      Anon            1\n",
       "133656              Boyd, Andrew  10038853600\n",
       "125827           Boyd, Andrew D.  10038853600\n",
       "1446129           Boyd, Andrew D  10038853600\n",
       "1625809            Kurien, Anish  10039742500\n",
       "1535528    Kurien, Anish Matthew  10039742500\n",
       "748149        Hoysniemi, Johanna  10040550500\n",
       "748164        Höysniemi, Johanna  10040550500\n",
       "573815            Wood, Angela M  10040876400\n",
       "563576              Wood, Angela  10040876400\n",
       "582691        Hämäläinen, Perttu  10040911400\n",
       "645507        Hamalainen, Perttu  10040911400\n",
       "43607             Liao, Shaoming  10041092300\n",
       "787160           Liao, Shao-Ming  10041092300\n",
       "462013   Fleischmann, Charles M.  10041423300\n",
       "254637      Fleischmann, Charles  10041423300\n",
       "732526               Naito, Clay  10041961000\n",
       "1196259           Naito, Clay J.  10041961000\n",
       "584402            Adderley, P.A.  10041999100\n",
       "581714              Adderley, P.  10041999100\n",
       "1508673               Ha, Ji-Hee  10042094700\n",
       "1516433               Ha, Ji Hee  10042094700\n",
       "539485            Thompson, S.J.  10042560200\n",
       "733021        Thompson, Samantha  10042560200\n",
       "480798       Tsoulos, Ioannis G.  10042633500\n",
       "499550          Tsoulos, Ioannis  10042633500\n",
       "576595               Dušek, Petr  10042636600\n",
       "1042107              Dusek, Petr  10042636600\n",
       "541364          Zhang, Jing-zhou  10043147000\n",
       "546103           Zhang, Jingzhou  10043147000\n",
       "632899            Naik, Shalin H  10044003500\n",
       "1429489               Naik, S.H.  10044003500\n",
       "114294             Bingham, P.A.  10044102600\n",
       "941384          Bingham, Paul A.  10044102600\n",
       "669981                   Kan, K.  10044845800\n",
       "591488               Kan, Koichi  10044845800\n",
       "1239320             Stahl, Bernd  10045088600\n",
       "1152        Stahl, Bernd Carsten  10045088600\n",
       "521761         Nabieva, Elena R.  10045123000\n",
       "789275            Nabieva, Elena  10045123000\n",
       "516143            Marin, Ivan N.  10045487300\n",
       "484499               Marin, Ivan  10045487300\n",
       "18530               Zheng, LiHua  10139458500\n",
       "12097               Zheng, Lihua  10139458500\n",
       "221623        Wood, Katherine C.  10139883500\n",
       "252148           Wood, Katherine  10139883500\n",
       "197269           Aguet, François  10142752100\n",
       "181154           Aguet, Francois  10142752100\n",
       "348553             Szemes, Tomas  10142970100\n",
       "946512             Szemes, Tomáš  10142970100\n",
       "832480           Kebreab, Ermias  10239902300\n",
       "596536               Kebreab, E.  10239902300\n",
       "397594        Carman, Mark James  10240340400\n",
       "647806           Carman, Mark J.  10240340400\n",
       "142016        Atzmueller, Martin  10240403500\n",
       "73563             Atzmueller, M.  10240403500\n",
       "461875             Andújar, J.M.  10241452600\n",
       "1193704     Andújar, José Manuel  10241452600\n",
       "799489              Nieslony, P.  10241717200\n",
       "711221           Niesłony, Piotr  10241717200\n",
       "1499130               Goad, M.R.  10241897600\n",
       "515518          Goad, Michael R.  10241897600\n",
       "605944              Ichikawa, Y.  10243947400\n",
       "610569        Ichikawa, Yoichiro  10243947400\n",
       "605906                Suzuki, Y.  10244287800\n",
       "606024         Suzuki, Yasutoshi  10244287800\n",
       "227725    Ibnaouf, Khalid Hassan  10440671600\n",
       "368463        Ibnaouf, Khalid H.  10440671600\n",
       "201935           Haungs, Andreas  10538884100\n",
       "868962                Haungs, A.  10538884100\n",
       "1238251        Hayward, Thomas J  10539333300\n",
       "372214             Hayward, T.J.  10539333300\n",
       "383729   Ferreira, Luís A. F. M.  10540723400\n",
       "548921   Ferreira, Luis A. F. M.  10540723400\n",
       "98432       Razfar, Mohammadreza  10540841700\n",
       "733745     Razfar, Mohammad Reza  10540841700\n",
       "946624           Marwaha, Steven  10540959100\n",
       "349372               Marwaha, S.  10540959100\n",
       "162046                Krizan, P.  10639485800\n",
       "997227             Križan, Peter  10639485800\n",
       "499115     Belczynski, Krzysztof  10639720200\n",
       "444431            Belczynski, K.  10639720200\n",
       "1587559          Hoogendoorn, M.  10640498300\n",
       "418192         Hoogendoorn, Mark  10640498300\n",
       "128341             Zeng, Musheng  10642267400\n",
       "1516972           Zeng, Mu-Sheng  10642267400\n",
       "642917           Ré, Christopher  10739281400\n",
       "645488           Re, Christopher  10739281400\n",
       "429093           Christopher, R.  10739281400\n",
       "4674                Dong, Liquan  10739346400\n",
       "56181              Dong, Li-Quan  10739346400\n",
       "1499129           Casewell, S.L.  10739483100\n",
       "515516        Casewell, Sarah L.  10739483100\n",
       "543381     Dentinger, Bryn T. M.  10840585300\n",
       "382839         Dentinger, B.T.M.  10840585300\n",
       "598730     Konetschny, Christian  10939455000\n",
       "600136            Konetschny, C.  10939455000\n",
       "583723               Wilson, Rob  11038770400\n",
       "801291              Wilson, R.J.  11038770400"
      ]
     },
     "execution_count": 29,
     "metadata": {},
     "output_type": "execute_result"
    }
   ],
   "source": [
    "# no_dup[no_dup.duplicated(subset=[\"ID\"])].sort_values([\"ID\"]).head(100)\n",
    "no_dup.groupby('ID').filter(lambda x: x['Author'].nunique()>1 ).sort_values('ID').head(100)\n"
   ]
  },
  {
   "cell_type": "code",
   "execution_count": 2,
   "metadata": {
    "scrolled": true
   },
   "outputs": [
    {
     "name": "stdout",
     "output_type": "stream",
     "text": [
      "Existing \"Download\\attention\\attention.bib\" deleted                                                  \t2023-10-21 09:51:14\n",
      "Merged CSV files from \"Download\\attention\" to BibTeX (Download\\attention\\attention.bib)              \t2023-10-21 09:51:15\n",
      "\n",
      "Existing \"Download\\BERT\\BERT.bib\" deleted                                                            \t2023-10-21 09:51:18\n",
      "Merged CSV files from \"Download\\BERT\" to BibTeX (Download\\BERT\\BERT.bib)                             \t2023-10-21 09:51:19\n",
      "\n",
      "Existing \"Download\\chatbot\\chatbot.bib\" deleted                                                      \t2023-10-21 09:51:23\n",
      "Merged CSV files from \"Download\\chatbot\" to BibTeX (Download\\chatbot\\chatbot.bib)                    \t2023-10-21 09:51:25\n",
      "\n",
      "Existing \"Download\\deep learning\\deep learning.bib\" deleted                                          \t2023-10-21 09:51:28\n",
      "Merged CSV files from \"Download\\deep learning\" to BibTeX (Download\\deep learning\\deep learning.bib)  \t2023-10-21 09:51:29\n",
      "\n",
      "Existing \"Download\\evolutionary algorithm\\evolutionary algorithm.bib\" deleted                        \t2023-10-21 09:51:32\n",
      "Merged CSV files from \"Download\\evolutionary algorithm\" to BibTeX (Download\\evolutionary algorithm\\evolutionary algorithm.bib) \t2023-10-21 09:51:33\n",
      "\n",
      "Existing \"Download\\federated learning\\federated learning.bib\" deleted                                \t2023-10-21 09:51:33\n",
      "Merged CSV files from \"Download\\federated learning\" to BibTeX (Download\\federated learning\\federated learning.bib) \t2023-10-21 09:51:33\n",
      "\n",
      "Existing \"Download\\GPT\\GPT.bib\" deleted                                                              \t2023-10-21 09:51:36\n",
      "Merged CSV files from \"Download\\GPT\" to BibTeX (Download\\GPT\\GPT.bib)                                \t2023-10-21 09:51:37\n",
      "\n",
      "Existing \"Download\\image processing\\image processing.bib\" deleted                                    \t2023-10-21 09:51:39\n",
      "Merged CSV files from \"Download\\image processing\" to BibTeX (Download\\image processing\\image processing.bib) \t2023-10-21 09:51:40\n",
      "\n",
      "Existing \"Download\\knowledge grounded dialog generation\\knowledge grounded dialog generation.bib\" deleted \t2023-10-21 09:51:40\n",
      "Merged CSV files from \"Download\\knowledge grounded dialog generation\" to BibTeX (Download\\knowledge grounded dialog generation\\knowledge grounded dialog generation.bib) \t2023-10-21 09:51:40\n",
      "\n",
      "Existing \"Download\\language modeling\\language modeling.bib\" deleted                                  \t2023-10-21 09:51:44\n",
      "Merged CSV files from \"Download\\language modeling\" to BibTeX (Download\\language modeling\\language modeling.bib) \t2023-10-21 09:51:45\n",
      "\n",
      "Existing \"Download\\machine learning\\machine learning.bib\" deleted                                    \t2023-10-21 09:51:48\n",
      "Merged CSV files from \"Download\\machine learning\" to BibTeX (Download\\machine learning\\machine learning.bib) \t2023-10-21 09:51:49\n",
      "\n",
      "Existing \"Download\\neural network\\neural network.bib\" deleted                                        \t2023-10-21 09:51:52\n",
      "Merged CSV files from \"Download\\neural network\" to BibTeX (Download\\neural network\\neural network.bib) \t2023-10-21 09:51:53\n",
      "\n",
      "Existing \"Download\\pattern recognition\\pattern recognition.bib\" deleted                              \t2023-10-21 09:51:57\n",
      "Merged CSV files from \"Download\\pattern recognition\" to BibTeX (Download\\pattern recognition\\pattern recognition.bib) \t2023-10-21 09:51:57\n",
      "\n",
      "Existing \"Download\\reinforcement learning\\reinforcement learning.bib\" deleted                        \t2023-10-21 09:52:01\n",
      "Merged CSV files from \"Download\\reinforcement learning\" to BibTeX (Download\\reinforcement learning\\reinforcement learning.bib) \t2023-10-21 09:52:02\n",
      "\n",
      "Existing \"Download\\response generation\\response generation.bib\" deleted                              \t2023-10-21 09:52:06\n",
      "Merged CSV files from \"Download\\response generation\" to BibTeX (Download\\response generation\\response generation.bib) \t2023-10-21 09:52:07\n",
      "\n",
      "Existing \"Download\\sentement analysis\\sentement analysis.bib\" deleted                                \t2023-10-21 09:52:07\n",
      "Merged CSV files from \"Download\\sentement analysis\" to BibTeX (Download\\sentement analysis\\sentement analysis.bib) \t2023-10-21 09:52:07\n",
      "\n",
      "Existing \"Download\\text generation\\text generation.bib\" deleted                                      \t2023-10-21 09:52:12\n",
      "Merged CSV files from \"Download\\text generation\" to BibTeX (Download\\text generation\\text generation.bib) \t2023-10-21 09:52:13\n",
      "\n",
      "Existing \"Download\\transformer\\transformer.bib\" deleted                                              \t2023-10-21 09:52:16\n",
      "Merged CSV files from \"Download\\transformer\" to BibTeX (Download\\transformer\\transformer.bib)        \t2023-10-21 09:52:17\n",
      "\n"
     ]
    }
   ],
   "source": [
    "merge_csv_to_bib_per_folder('Download')\n"
   ]
  },
  {
   "cell_type": "markdown",
   "metadata": {},
   "source": [
    "# Testing all APIs"
   ]
  },
  {
   "cell_type": "code",
   "execution_count": null,
   "metadata": {},
   "outputs": [],
   "source": [
    "print(scopus_apis('10.1016/S0014-5793(01)03313-0', 'abstract_citation_count', show_result=False))                                         # AUTHENTICATION_ERROR\n",
    "print(scopus_apis('10.1016/S0014-5793(01)03313-0', 'citation_overview', show_result=False))                                               # AUTHENTICATION_ERROR\n",
    "print(scopus_apis('gene', 'serial_title', show_result=False))\n",
    "print(scopus_apis(requirement='03781119', api_link='serial_title_issn', show_result=False))\n",
    "print(scopus_apis(api_link= 'subject_classifications_scidir', show_result=False))\n",
    "print(scopus_apis(api_link= 'subject_classifications_scopus', show_result=False))\n",
    "print(scopus_apis(requirement='0037070197',  api_link='abstract_retrieval_scopus_id', show_result=False))\n",
    "print(scopus_apis(requirement='2-s2.0-0037070197', api_link='abstract_retrieval_eid', show_result=False))\n",
    "print(scopus_apis(requirement='10.1016/S0014-5793(01)03313-0', api_link='abstract_retrieval_doi', show_result=False))\n",
    "print(scopus_apis(requirement='S0014579301033130', api_link='abstract_retrieval_pii', show_result=False))\n",
    "print(scopus_apis(requirement='11852050', api_link='abstract_retrieval_pubmed_id', show_result=False))\n",
    "print(scopus_apis(requirement='34164449', api_link='abstract_retrieval_pui', show_result=False))\n",
    "print(scopus_apis(requirement='60016849', api_link='affiliation_retrieval_affiliation_id', show_result=False))                            # AUTHORIZATION_ERROR\n",
    "print(scopus_apis(requirement='10-s2.0-60016849', api_link='affiliation_retrieval_eid', show_result=False))                               # AUTHORIZATION_ERROR\n",
    "print(scopus_apis('22988279600', 'author_retrieval', show_result=False))                                                                  # AUTHORIZATION_ERROR\n",
    "print(scopus_apis(requirement='22988279600', api_link='author_retrieval_author_id', show_result=False))                                   # AUTHORIZATION_ERROR\n",
    "print(scopus_apis(requirement='9-s2.0-22988279600', api_link='author_retrieval_eid', show_result=False))                                  # AUTHORIZATION_ERROR\n",
    "print(scopus_apis(requirement='0000-0003-4700-6699', api_link='author_retrieval_orcid', show_result=False))                               # AUTHORIZATION_ERROR\n",
    "print(scopus_apis('affil(Broad Institute)', 'affiliation_search', show_result=False))                                                     # AUTHORIZATION_ERROR\n",
    "print(scopus_apis('authlast(Einstein) + authfirst(Albert) + affil(Princeton)', 'author_search', reformat_query=True, show_result=False))  # AUTHORIZATION_ERROR\n",
    "print(scopus_apis('all(gene)', show_result=False))\n",
    "print(scopus_apis(requirement='doi/10.1016/S0014-5793(01)03313-0', api_link='plumx_metrics', show_result=False))                          # AUTHENTICATION_ERROR\n"
   ]
  },
  {
   "cell_type": "code",
   "execution_count": 29,
   "metadata": {},
   "outputs": [
    {
     "name": "stdout",
     "output_type": "stream",
     "text": [
      "===============\n",
      " SCOPUS_SEARCH \n",
      "===============\n",
      "\n",
      "{\n",
      "    \"search-results\": {\n",
      "        \"entry\": [\n",
      "            {\n",
      "                \"@_fa\": \"true\",\n",
      "                \"affiliation\": [\n",
      "                    {\n",
      "                        \"@_fa\": \"true\",\n",
      "                        \"affiliation-city\": \"Qinhuangdao\",\n",
      "                        \"affiliation-country\": \"China\",\n",
      "                        \"affilname\": \"Yanshan University\"\n",
      "                    }\n",
      "                ],\n",
      "                \"article-number\": \"101975\",\n",
      "                \"citedby-count\": \"0\",\n",
      "                \"dc:creator\": \"You D.\",\n",
      "                \"dc:identifier\": \"SCOPUS_ID:85170225909\",\n",
      "                \"dc:title\": \"Continuous causal structure learning from incremental instances and feature spaces\",\n",
      "                \"eid\": \"2-s2.0-85170225909\",\n",
      "                \"link\": [\n",
      "                    {\n",
      "                        \"@_fa\": \"true\",\n",
      "                        \"@href\": \"https://api.elsevier.com/content/abstract/scopus_id/85170225909\",\n",
      "                        \"@ref\": \"self\"\n",
      "                    },\n",
      "                    {\n",
      "                        \"@_fa\": \"true\",\n",
      "                        \"@href\": \"https://api.elsevier.com/content/abstract/scopus_id/85170225909?field=author,affiliation\",\n",
      "                        \"@ref\": \"author-affiliation\"\n",
      "                    },\n",
      "                    {\n",
      "                        \"@_fa\": \"true\",\n",
      "                        \"@href\": \"https://www.scopus.com/inward/record.uri?partnerID=HzOxMe3b&scp=85170225909&origin=inward\",\n",
      "                        \"@ref\": \"scopus\"\n",
      "                    },\n",
      "                    {\n",
      "                        \"@_fa\": \"true\",\n",
      "                        \"@href\": \"https://www.scopus.com/inward/citedby.uri?partnerID=HzOxMe3b&scp=85170225909&origin=inward\",\n",
      "                        \"@ref\": \"scopus-citedby\"\n",
      "                    },\n",
      "                    {\n",
      "                        \"@_fa\": \"true\",\n",
      "                        \"@href\": \"https://api.elsevier.com/content/article/eid/1-s2.0-S1566253523002919\",\n",
      "                        \"@ref\": \"full-text\"\n",
      "                    }\n",
      "                ],\n",
      "                \"openaccess\": \"0\",\n",
      "                \"openaccessFlag\": false,\n",
      "                \"pii\": \"S1566253523002919\",\n",
      "                \"prism:aggregationType\": \"Journal\",\n",
      "                \"prism:coverDate\": \"2024-01-01\",\n",
      "                \"prism:coverDisplayDate\": \"January 2024\",\n",
      "                \"prism:doi\": \"10.1016/j.inffus.2023.101975\",\n",
      "                \"prism:issn\": \"15662535\",\n",
      "                \"prism:pageRange\": null,\n",
      "                \"prism:publicationName\": \"Information Fusion\",\n",
      "                \"prism:url\": \"https://api.elsevier.com/content/abstract/scopus_id/85170225909\",\n",
      "                \"prism:volume\": \"101\",\n",
      "                \"source-id\": \"26099\",\n",
      "                \"subtype\": \"ar\",\n",
      "                \"subtypeDescription\": \"Article\"\n",
      "            }\n",
      "        ],\n",
      "        \"link\": [\n",
      "            {\n",
      "                \"@_fa\": \"true\",\n",
      "                \"@href\": \"https://api.elsevier.com/content/search/scopus?start=0&count=25&query=DOI%2810.1016%2Fj.inffus.2023.101975%29\",\n",
      "                \"@ref\": \"self\",\n",
      "                \"@type\": \"application/json\"\n",
      "            },\n",
      "            {\n",
      "                \"@_fa\": \"true\",\n",
      "                \"@href\": \"https://api.elsevier.com/content/search/scopus?start=0&count=25&query=DOI%2810.1016%2Fj.inffus.2023.101975%29\",\n",
      "                \"@ref\": \"first\",\n",
      "                \"@type\": \"application/json\"\n",
      "            }\n",
      "        ],\n",
      "        \"opensearch:Query\": {\n",
      "            \"@role\": \"request\",\n",
      "            \"@searchTerms\": \"DOI(10.1016/j.inffus.2023.101975)\",\n",
      "            \"@startPage\": \"0\"\n",
      "        },\n",
      "        \"opensearch:itemsPerPage\": \"1\",\n",
      "        \"opensearch:startIndex\": \"0\",\n",
      "        \"opensearch:totalResults\": \"1\"\n",
      "    }\n",
      "}\n"
     ]
    },
    {
     "data": {
      "text/plain": [
       "<Response [200]>"
      ]
     },
     "execution_count": 29,
     "metadata": {},
     "output_type": "execute_result"
    }
   ],
   "source": [
    "scopus_apis('DOI(10.1016/j.inffus.2023.101975)', show_result=True)"
   ]
  }
 ],
 "metadata": {
  "kernelspec": {
   "display_name": "Python 3 (ipykernel)",
   "language": "python",
   "name": "python3"
  },
  "language_info": {
   "codemirror_mode": {
    "name": "ipython",
    "version": 3
   },
   "file_extension": ".py",
   "mimetype": "text/x-python",
   "name": "python",
   "nbconvert_exporter": "python",
   "pygments_lexer": "ipython3",
   "version": "3.10.7"
  }
 },
 "nbformat": 4,
 "nbformat_minor": 2
}
