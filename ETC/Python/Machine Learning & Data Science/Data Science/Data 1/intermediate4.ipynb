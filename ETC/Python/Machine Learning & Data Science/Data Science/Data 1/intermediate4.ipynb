{
 "cells": [
  {
   "cell_type": "markdown",
   "metadata": {},
   "source": [
    "# Basic while loop"
   ]
  },
  {
   "cell_type": "code",
   "execution_count": 1,
   "metadata": {},
   "outputs": [],
   "source": [
    "import pandas as pd\n",
    "import numpy as np"
   ]
  },
  {
   "cell_type": "markdown",
   "metadata": {},
   "source": [
    "### *Initialize offset"
   ]
  },
  {
   "cell_type": "code",
   "execution_count": 2,
   "metadata": {},
   "outputs": [],
   "source": [
    "offset=8"
   ]
  },
  {
   "cell_type": "markdown",
   "metadata": {},
   "source": [
    "### *Code a while loop that keeps running as long as offset is not equal to 0. Inside the while loop:\n",
    "### *Print out the sentence \"correcting...\".\n",
    "### *Next, decrease the value of offset by 1. You can do this with offset = offset - 1.\n",
    "### *Finally, still within your loop, print out offset so you can see how it changes."
   ]
  },
  {
   "cell_type": "code",
   "execution_count": 3,
   "metadata": {},
   "outputs": [
    {
     "name": "stdout",
     "output_type": "stream",
     "text": [
      "correcting...7\n",
      "correcting...6\n",
      "correcting...5\n",
      "correcting...4\n",
      "correcting...3\n",
      "correcting...2\n",
      "correcting...1\n",
      "correcting...0\n"
     ]
    }
   ],
   "source": [
    "while offset!=0:\n",
    "    offset-=1\n",
    "    print(\"correcting...\"+str(offset))"
   ]
  },
  {
   "cell_type": "markdown",
   "metadata": {},
   "source": [
    "# Add conditionals"
   ]
  },
  {
   "cell_type": "code",
   "execution_count": 6,
   "metadata": {},
   "outputs": [],
   "source": [
    "# Initialize offset"
   ]
  },
  {
   "cell_type": "code",
   "execution_count": 12,
   "metadata": {},
   "outputs": [],
   "source": [
    "offset = -6"
   ]
  },
  {
   "cell_type": "code",
   "execution_count": 8,
   "metadata": {},
   "outputs": [],
   "source": [
    "# Inside the while loop, complete the if-else statement:\n",
    "# If offset is greater than zero, you should decrease offset by 1.\n",
    "# Else, you should increase offset by 1."
   ]
  },
  {
   "cell_type": "code",
   "execution_count": 13,
   "metadata": {},
   "outputs": [
    {
     "name": "stdout",
     "output_type": "stream",
     "text": [
      "correcting...5\n",
      "correcting...4\n",
      "correcting...3\n",
      "correcting...2\n",
      "correcting...1\n",
      "correcting...0\n"
     ]
    }
   ],
   "source": [
    "while offset != 0:\n",
    "    if offset>0:\n",
    "        offset-=1\n",
    "    else :\n",
    "        offset+=1\n",
    "    print(\"correcting...\" + str(offset))"
   ]
  },
  {
   "cell_type": "markdown",
   "metadata": {},
   "source": [
    "# Loop over a list"
   ]
  },
  {
   "cell_type": "markdown",
   "metadata": {},
   "source": [
    "### areas list"
   ]
  },
  {
   "cell_type": "code",
   "execution_count": 16,
   "metadata": {},
   "outputs": [],
   "source": [
    "areas = [11.25, 18.0, 20.0, 10.75, 9.50]"
   ]
  },
  {
   "cell_type": "markdown",
   "metadata": {},
   "source": [
    "### Code the for loop"
   ]
  },
  {
   "cell_type": "code",
   "execution_count": 17,
   "metadata": {},
   "outputs": [
    {
     "name": "stdout",
     "output_type": "stream",
     "text": [
      "11.25\n",
      "18.0\n",
      "20.0\n",
      "10.75\n",
      "9.5\n"
     ]
    }
   ],
   "source": [
    "for a in areas:\n",
    "    print(a)"
   ]
  },
  {
   "cell_type": "markdown",
   "metadata": {},
   "source": [
    "### Change for loop to use enumerate() and update print(). \n",
    "### In this way, Update the print() statement so that on each run, a line of the form \"room x: y\" should be printed, \n",
    "### where x is the index of the list element and y is the actual list element, i.e. the area. \n",
    "### Make sure to print out this exact string, with the correct spacing."
   ]
  },
  {
   "cell_type": "code",
   "execution_count": 23,
   "metadata": {},
   "outputs": [],
   "source": [
    "areas = [11.25, 18.0, 20.0, 10.75, 9.50]"
   ]
  },
  {
   "cell_type": "code",
   "execution_count": 25,
   "metadata": {},
   "outputs": [
    {
     "name": "stdout",
     "output_type": "stream",
     "text": [
      "room1 :11.25\n",
      "room2 :18.0\n",
      "room3 :20.0\n",
      "room4 :10.75\n",
      "room5 :9.5\n"
     ]
    }
   ],
   "source": [
    "for x,y in enumerate(areas):\n",
    "    print(\"room\"+str(x+1)+\" :\"+ str(y))"
   ]
  },
  {
   "cell_type": "markdown",
   "metadata": {},
   "source": [
    "### Code the for loop. \n",
    "### In this stage, adapt the print() function in the for loop on the right so that \n",
    "### the first printout becomes \"room 1: 11.25\", \n",
    "### the second one \"room 2: 18.0\" and so on."
   ]
  },
  {
   "cell_type": "code",
   "execution_count": null,
   "metadata": {},
   "outputs": [],
   "source": [
    "for x ,y in enumerate(areas):\n",
    "    print(\"room\"+ str(x+1) + ' :' + str(y))"
   ]
  },
  {
   "cell_type": "markdown",
   "metadata": {},
   "source": [
    "# Loop over list of lists"
   ]
  },
  {
   "cell_type": "markdown",
   "metadata": {},
   "source": [
    "### *house list of lists"
   ]
  },
  {
   "cell_type": "code",
   "execution_count": 26,
   "metadata": {},
   "outputs": [],
   "source": [
    "house = [[\"hallway\", 11.25]   , \n",
    "         [\"kitchen\", 18.0]    , \n",
    "         [\"living room\", 20.0], \n",
    "         [\"bedroom\", 10.75]   , \n",
    "         [\"bathroom\", 9.50]]"
   ]
  },
  {
   "cell_type": "markdown",
   "metadata": {},
   "source": [
    "### Build a for loop with 2 methods. \n",
    "### Write a for loop that goes through each sublist of house and prints out \"the x is y sqm\", \n",
    "### where x is the name of the room and y is the area of the room."
   ]
  },
  {
   "cell_type": "code",
   "execution_count": 35,
   "metadata": {},
   "outputs": [
    {
     "name": "stdout",
     "output_type": "stream",
     "text": [
      "the hallway is11.25 sqm\n",
      "the kitchen is18.0 sqm\n",
      "the living room is20.0 sqm\n",
      "the bedroom is10.75 sqm\n",
      "the bathroom is9.5 sqm\n"
     ]
    }
   ],
   "source": [
    "for x in house:\n",
    "    for y,z in enumerate(x):\n",
    "        if y<1:\n",
    "            print(\"the \" + str(x[y])+ \" is\" + str(x[y+1])+\" sqm\")"
   ]
  },
  {
   "cell_type": "code",
   "execution_count": 46,
   "metadata": {},
   "outputs": [
    {
     "name": "stdout",
     "output_type": "stream",
     "text": [
      "the hallway is 11.25 sqm\n",
      "the kitchen is 18.0 sqm\n",
      "the living room is 20.0 sqm\n",
      "the bedroom is 10.75 sqm\n",
      "the bathroom is 9.5 sqm\n"
     ]
    }
   ],
   "source": [
    "for x in house:\n",
    "    print(\"the \" + str(x[0]) + \" is \" + str(x[1]) + \" sqm\")\n"
   ]
  },
  {
   "cell_type": "markdown",
   "metadata": {},
   "source": [
    "# Loop over dictionary"
   ]
  },
  {
   "cell_type": "markdown",
   "metadata": {},
   "source": [
    "### Definition of dictionary"
   ]
  },
  {
   "cell_type": "code",
   "execution_count": 39,
   "metadata": {},
   "outputs": [],
   "source": [
    "europe = {'spain':'madrid', 'france':'paris', 'germany':'berlin',\n",
    "          'norway':'oslo', 'italy':'rome', 'poland':'warsaw', 'austria':'vienna' }"
   ]
  },
  {
   "cell_type": "markdown",
   "metadata": {},
   "source": [
    "### Iterate over europe. \n",
    "### Write a for loop that goes through each key:value pair of europe. On each iteration, print below:\n",
    "\n",
    "#### the country is Key\n",
    "#### and the capital is Value\n",
    "\n",
    "### it should be printed out with one space between each pair."
   ]
  },
  {
   "cell_type": "code",
   "execution_count": 42,
   "metadata": {},
   "outputs": [
    {
     "name": "stdout",
     "output_type": "stream",
     "text": [
      "The country is spain\n",
      "and the ccapital is madrid\n",
      "\n",
      "The country is france\n",
      "and the ccapital is paris\n",
      "\n",
      "The country is germany\n",
      "and the ccapital is berlin\n",
      "\n",
      "The country is norway\n",
      "and the ccapital is oslo\n",
      "\n",
      "The country is italy\n",
      "and the ccapital is rome\n",
      "\n",
      "The country is poland\n",
      "and the ccapital is warsaw\n",
      "\n",
      "The country is austria\n",
      "and the ccapital is vienna\n",
      "\n"
     ]
    }
   ],
   "source": [
    "for k,v in europe.items():\n",
    "    print(\"The country is {}\".format(k)+ '\\n' +\"and the ccapital is {}\".format(v) + '\\n')"
   ]
  },
  {
   "cell_type": "markdown",
   "metadata": {},
   "source": [
    "# Loop over Numpy array"
   ]
  },
  {
   "cell_type": "markdown",
   "metadata": {},
   "source": [
    "# Import numpy as np"
   ]
  },
  {
   "cell_type": "code",
   "execution_count": 53,
   "metadata": {},
   "outputs": [],
   "source": [
    "import numpy as np"
   ]
  },
  {
   "cell_type": "code",
   "execution_count": 4,
   "metadata": {},
   "outputs": [],
   "source": [
    "np_height = np.array([74, 71, 72, 75, 75, 73])\n",
    "np_baseball = np.array([[ 74, 180], [ 71, 215], [ 72, 210], [ 75, 205], [ 75, 190], [ 73, 195]])"
   ]
  },
  {
   "cell_type": "markdown",
   "metadata": {},
   "source": [
    "### For loop over np_height. \n",
    "### Write a for loop that iterates over all elements in np_height and prints out \"x inches\" for each element, \n",
    "### where x is the value in the array."
   ]
  },
  {
   "cell_type": "code",
   "execution_count": 12,
   "metadata": {},
   "outputs": [
    {
     "name": "stdout",
     "output_type": "stream",
     "text": [
      "74 inches \n",
      "74 inches \n",
      "72 inches \n",
      "75 inches \n",
      "75 inches \n",
      "73 inches \n"
     ]
    }
   ],
   "source": [
    "for x in np_height:\n",
    "    print(str(x) + \" inches \")"
   ]
  },
  {
   "cell_type": "markdown",
   "metadata": {},
   "source": [
    "### For loop over np_baseball.\n",
    "### Write a for loop that visits every element of the np_baseball array and prints it out."
   ]
  },
  {
   "cell_type": "code",
   "execution_count": null,
   "metadata": {},
   "outputs": [],
   "source": [
    "for x in np.nditer(np_baseball):\n",
    "    print(x)"
   ]
  },
  {
   "cell_type": "markdown",
   "metadata": {},
   "source": [
    "# Loop Data Structures Part 2"
   ]
  },
  {
   "cell_type": "markdown",
   "metadata": {},
   "source": [
    "# Loop over DataFrame (1)"
   ]
  },
  {
   "cell_type": "code",
   "execution_count": null,
   "metadata": {},
   "outputs": [],
   "source": [
    "# import pandas as pd"
   ]
  },
  {
   "cell_type": "code",
   "execution_count": null,
   "metadata": {},
   "outputs": [],
   "source": [
    "import pandas as pd"
   ]
  },
  {
   "cell_type": "code",
   "execution_count": null,
   "metadata": {},
   "outputs": [],
   "source": [
    "cars = pd.read_csv('cars.csv', index_col = 0)"
   ]
  },
  {
   "cell_type": "code",
   "execution_count": null,
   "metadata": {},
   "outputs": [],
   "source": [
    "# Iterate over rows of cars. \n",
    "# Write a for loop that iterates over the rows of cars and on each iteration perform two print() calls: \n",
    "# one to print out the row label and one to print out all of the rows contents"
   ]
  },
  {
   "cell_type": "code",
   "execution_count": null,
   "metadata": {},
   "outputs": [],
   "source": [
    "for lab, row in cars.iterrows() :\n",
    "    print(lab)\n",
    "    print(row)"
   ]
  },
  {
   "cell_type": "markdown",
   "metadata": {},
   "source": [
    "# Add column (1)"
   ]
  },
  {
   "cell_type": "code",
   "execution_count": null,
   "metadata": {},
   "outputs": [],
   "source": [
    "# Code for loop that adds COUNTRY column. \n",
    "# Use a for loop to add a column, named COUNTRY, \n",
    "# that contains a uppercase version of the country names in the \"country\" column. \n",
    "# You can use the string method upper() for this."
   ]
  },
  {
   "cell_type": "code",
   "execution_count": null,
   "metadata": {},
   "outputs": [],
   "source": [
    "for lab, row in cars.iterrows():\n",
    "    cars.loc[lab, \"COUNTRY\"]= row[\"country\"].upper()"
   ]
  },
  {
   "cell_type": "code",
   "execution_count": null,
   "metadata": {},
   "outputs": [],
   "source": [
    "# Print cars"
   ]
  },
  {
   "cell_type": "code",
   "execution_count": null,
   "metadata": {},
   "outputs": [],
   "source": []
  },
  {
   "cell_type": "markdown",
   "metadata": {},
   "source": [
    "# Add column (2)"
   ]
  },
  {
   "cell_type": "code",
   "execution_count": null,
   "metadata": {},
   "outputs": [],
   "source": [
    "# Use .apply(str.upper). \n",
    "# Replace the for loop with a one-liner that uses .apply(str.upper). \n",
    "# The call give the same result: a column COUNTRY should be added to cars, containing an uppercase version of the country names."
   ]
  },
  {
   "cell_type": "code",
   "execution_count": null,
   "metadata": {},
   "outputs": [],
   "source": [
    "for lab, row in cars.iterrows() :\n",
    "    cars[\"COUNTRY\"] = cars[\"country\"].apply(str.upper)"
   ]
  }
 ],
 "metadata": {
  "kernelspec": {
   "display_name": "Python 3",
   "language": "python",
   "name": "python3"
  },
  "language_info": {
   "codemirror_mode": {
    "name": "ipython",
    "version": 3
   },
   "file_extension": ".py",
   "mimetype": "text/x-python",
   "name": "python",
   "nbconvert_exporter": "python",
   "pygments_lexer": "ipython3",
   "version": "3.7.6"
  }
 },
 "nbformat": 4,
 "nbformat_minor": 4
}
