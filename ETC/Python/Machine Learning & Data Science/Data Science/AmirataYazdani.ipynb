{
  "cells": [
    {
      "cell_type": "code",
      "execution_count": 491,
      "metadata": {
        "id": "lpOLJ5UTdUGm"
      },
      "outputs": [],
      "source": [
        "#1\n",
        "#Amirata Yazdani"
      ]
    },
    {
      "cell_type": "code",
      "execution_count": 492,
      "metadata": {
        "id": "A_Zy9OgVf8XZ"
      },
      "outputs": [],
      "source": [
        "#2\n",
        "import numpy as np"
      ]
    },
    {
      "cell_type": "code",
      "execution_count": 493,
      "metadata": {},
      "outputs": [],
      "source": [
        "#3\n",
        "import pandas as pd"
      ]
    },
    {
      "cell_type": "code",
      "execution_count": 494,
      "metadata": {},
      "outputs": [],
      "source": [
        "#4\n",
        "import matplotlib.pyplot as plt"
      ]
    },
    {
      "cell_type": "code",
      "execution_count": 495,
      "metadata": {
        "id": "2dh95XEzgs6C"
      },
      "outputs": [],
      "source": [
        "#5\n",
        "colors = ['m','k','y','b','r','gold','g','c','cyan','wheat']"
      ]
    },
    {
      "cell_type": "code",
      "execution_count": 496,
      "metadata": {
        "colab": {
          "base_uri": "https://localhost:8080/",
          "height": 328
        },
        "id": "WUsRlYh1hplc",
        "outputId": "660fa827-0700-4875-917a-6fc4280cc3ee"
      },
      "outputs": [],
      "source": [
        "#6\n",
        "summer_medals = pd.DataFrame(pd.read_csv('summer_2016_medals.csv'))"
      ]
    },
    {
      "cell_type": "code",
      "execution_count": 497,
      "metadata": {},
      "outputs": [
        {
          "name": "stdout",
          "output_type": "stream",
          "text": [
            "<class 'pandas.core.frame.DataFrame'>\n",
            "RangeIndex: 68 entries, 0 to 67\n",
            "Data columns (total 12 columns):\n",
            " #   Column      Non-Null Count  Dtype \n",
            "---  ------      --------------  ----- \n",
            " 0   ID          68 non-null     int64 \n",
            " 1   Unnamed: 0  68 non-null     int64 \n",
            " 2   Name S      68 non-null     object\n",
            " 3   Gender      68 non-null     object\n",
            " 4   Age         68 non-null     object\n",
            " 5   Height      68 non-null     int64 \n",
            " 6   Weight      68 non-null     int64 \n",
            " 7   Season      68 non-null     object\n",
            " 8   Country     68 non-null     object\n",
            " 9   Sport       68 non-null     object\n",
            " 10  Event       68 non-null     object\n",
            " 11  Medal       68 non-null     object\n",
            "dtypes: int64(4), object(8)\n",
            "memory usage: 6.5+ KB\n"
          ]
        }
      ],
      "source": [
        "#7\n",
        "summer_medals.info()"
      ]
    },
    {
      "cell_type": "code",
      "execution_count": 498,
      "metadata": {
        "id": "mh4DMwHnnUs_"
      },
      "outputs": [
        {
          "data": {
            "text/html": [
              "<div>\n",
              "<style scoped>\n",
              "    .dataframe tbody tr th:only-of-type {\n",
              "        vertical-align: middle;\n",
              "    }\n",
              "\n",
              "    .dataframe tbody tr th {\n",
              "        vertical-align: top;\n",
              "    }\n",
              "\n",
              "    .dataframe thead th {\n",
              "        text-align: right;\n",
              "    }\n",
              "</style>\n",
              "<table border=\"1\" class=\"dataframe\">\n",
              "  <thead>\n",
              "    <tr style=\"text-align: right;\">\n",
              "      <th></th>\n",
              "      <th>ID</th>\n",
              "      <th>Unnamed: 0</th>\n",
              "      <th>Height</th>\n",
              "      <th>Weight</th>\n",
              "    </tr>\n",
              "  </thead>\n",
              "  <tbody>\n",
              "    <tr>\n",
              "      <th>count</th>\n",
              "      <td>68.000000</td>\n",
              "      <td>68.000000</td>\n",
              "      <td>68.000000</td>\n",
              "      <td>68.000000</td>\n",
              "    </tr>\n",
              "    <tr>\n",
              "      <th>mean</th>\n",
              "      <td>67437.367647</td>\n",
              "      <td>134645.279412</td>\n",
              "      <td>180.308824</td>\n",
              "      <td>75.941176</td>\n",
              "    </tr>\n",
              "    <tr>\n",
              "      <th>std</th>\n",
              "      <td>66670.502608</td>\n",
              "      <td>133382.031855</td>\n",
              "      <td>14.787305</td>\n",
              "      <td>18.468919</td>\n",
              "    </tr>\n",
              "    <tr>\n",
              "      <th>min</th>\n",
              "      <td>62.000000</td>\n",
              "      <td>158.000000</td>\n",
              "      <td>151.000000</td>\n",
              "      <td>48.000000</td>\n",
              "    </tr>\n",
              "    <tr>\n",
              "      <th>25%</th>\n",
              "      <td>1017.000000</td>\n",
              "      <td>1847.000000</td>\n",
              "      <td>168.500000</td>\n",
              "      <td>61.000000</td>\n",
              "    </tr>\n",
              "    <tr>\n",
              "      <th>50%</th>\n",
              "      <td>67938.500000</td>\n",
              "      <td>135379.000000</td>\n",
              "      <td>180.500000</td>\n",
              "      <td>72.500000</td>\n",
              "    </tr>\n",
              "    <tr>\n",
              "      <th>75%</th>\n",
              "      <td>133402.000000</td>\n",
              "      <td>266669.000000</td>\n",
              "      <td>193.000000</td>\n",
              "      <td>90.000000</td>\n",
              "    </tr>\n",
              "    <tr>\n",
              "      <th>max</th>\n",
              "      <td>135205.000000</td>\n",
              "      <td>270281.000000</td>\n",
              "      <td>207.000000</td>\n",
              "      <td>125.000000</td>\n",
              "    </tr>\n",
              "  </tbody>\n",
              "</table>\n",
              "</div>"
            ],
            "text/plain": [
              "                  ID     Unnamed: 0      Height      Weight\n",
              "count      68.000000      68.000000   68.000000   68.000000\n",
              "mean    67437.367647  134645.279412  180.308824   75.941176\n",
              "std     66670.502608  133382.031855   14.787305   18.468919\n",
              "min        62.000000     158.000000  151.000000   48.000000\n",
              "25%      1017.000000    1847.000000  168.500000   61.000000\n",
              "50%     67938.500000  135379.000000  180.500000   72.500000\n",
              "75%    133402.000000  266669.000000  193.000000   90.000000\n",
              "max    135205.000000  270281.000000  207.000000  125.000000"
            ]
          },
          "execution_count": 498,
          "metadata": {},
          "output_type": "execute_result"
        }
      ],
      "source": [
        "#8\n",
        "summer_medals.describe()"
      ]
    },
    {
      "cell_type": "code",
      "execution_count": 499,
      "metadata": {
        "id": "uvOprxq6nbpa"
      },
      "outputs": [
        {
          "data": {
            "text/plain": [
              "(68, 12)"
            ]
          },
          "execution_count": 499,
          "metadata": {},
          "output_type": "execute_result"
        }
      ],
      "source": [
        "#9\n",
        "summer_medals.shape"
      ]
    },
    {
      "cell_type": "code",
      "execution_count": 500,
      "metadata": {
        "id": "cxwLimTup8TW"
      },
      "outputs": [
        {
          "data": {
            "text/html": [
              "<div>\n",
              "<style scoped>\n",
              "    .dataframe tbody tr th:only-of-type {\n",
              "        vertical-align: middle;\n",
              "    }\n",
              "\n",
              "    .dataframe tbody tr th {\n",
              "        vertical-align: top;\n",
              "    }\n",
              "\n",
              "    .dataframe thead th {\n",
              "        text-align: right;\n",
              "    }\n",
              "</style>\n",
              "<table border=\"1\" class=\"dataframe\">\n",
              "  <thead>\n",
              "    <tr style=\"text-align: right;\">\n",
              "      <th></th>\n",
              "      <th>Age</th>\n",
              "      <th>Age_int</th>\n",
              "    </tr>\n",
              "  </thead>\n",
              "  <tbody>\n",
              "    <tr>\n",
              "      <th>0</th>\n",
              "      <td>21Year</td>\n",
              "      <td>21</td>\n",
              "    </tr>\n",
              "    <tr>\n",
              "      <th>1</th>\n",
              "      <td>21Year</td>\n",
              "      <td>21</td>\n",
              "    </tr>\n",
              "    <tr>\n",
              "      <th>2</th>\n",
              "      <td>31Year</td>\n",
              "      <td>31</td>\n",
              "    </tr>\n",
              "    <tr>\n",
              "      <th>3</th>\n",
              "      <td>26Year</td>\n",
              "      <td>26</td>\n",
              "    </tr>\n",
              "    <tr>\n",
              "      <th>4</th>\n",
              "      <td>24Year</td>\n",
              "      <td>24</td>\n",
              "    </tr>\n",
              "    <tr>\n",
              "      <th>...</th>\n",
              "      <td>...</td>\n",
              "      <td>...</td>\n",
              "    </tr>\n",
              "    <tr>\n",
              "      <th>63</th>\n",
              "      <td>27Year</td>\n",
              "      <td>27</td>\n",
              "    </tr>\n",
              "    <tr>\n",
              "      <th>64</th>\n",
              "      <td>24Year</td>\n",
              "      <td>24</td>\n",
              "    </tr>\n",
              "    <tr>\n",
              "      <th>65</th>\n",
              "      <td>19Year</td>\n",
              "      <td>19</td>\n",
              "    </tr>\n",
              "    <tr>\n",
              "      <th>66</th>\n",
              "      <td>23Year</td>\n",
              "      <td>23</td>\n",
              "    </tr>\n",
              "    <tr>\n",
              "      <th>67</th>\n",
              "      <td>26Year</td>\n",
              "      <td>26</td>\n",
              "    </tr>\n",
              "  </tbody>\n",
              "</table>\n",
              "<p>68 rows × 2 columns</p>\n",
              "</div>"
            ],
            "text/plain": [
              "       Age  Age_int\n",
              "0   21Year       21\n",
              "1   21Year       21\n",
              "2   31Year       31\n",
              "3   26Year       26\n",
              "4   24Year       24\n",
              "..     ...      ...\n",
              "63  27Year       27\n",
              "64  24Year       24\n",
              "65  19Year       19\n",
              "66  23Year       23\n",
              "67  26Year       26\n",
              "\n",
              "[68 rows x 2 columns]"
            ]
          },
          "execution_count": 500,
          "metadata": {},
          "output_type": "execute_result"
        }
      ],
      "source": [
        "#10\n",
        "summer_medals['Age_int'] = summer_medals.loc[:,'Age'].str.strip('Year').astype('int')\n",
        "summer_medals.loc[:,['Age','Age_int']]\n"
      ]
    },
    {
      "cell_type": "code",
      "execution_count": 501,
      "metadata": {},
      "outputs": [
        {
          "data": {
            "text/html": [
              "<div>\n",
              "<style scoped>\n",
              "    .dataframe tbody tr th:only-of-type {\n",
              "        vertical-align: middle;\n",
              "    }\n",
              "\n",
              "    .dataframe tbody tr th {\n",
              "        vertical-align: top;\n",
              "    }\n",
              "\n",
              "    .dataframe thead th {\n",
              "        text-align: right;\n",
              "    }\n",
              "</style>\n",
              "<table border=\"1\" class=\"dataframe\">\n",
              "  <thead>\n",
              "    <tr style=\"text-align: right;\">\n",
              "      <th></th>\n",
              "      <th>Gender</th>\n",
              "    </tr>\n",
              "  </thead>\n",
              "  <tbody>\n",
              "    <tr>\n",
              "      <th>0</th>\n",
              "      <td>Male</td>\n",
              "    </tr>\n",
              "    <tr>\n",
              "      <th>1</th>\n",
              "      <td>Female</td>\n",
              "    </tr>\n",
              "    <tr>\n",
              "      <th>2</th>\n",
              "      <td>Male</td>\n",
              "    </tr>\n",
              "    <tr>\n",
              "      <th>3</th>\n",
              "      <td>Male</td>\n",
              "    </tr>\n",
              "    <tr>\n",
              "      <th>4</th>\n",
              "      <td>Male</td>\n",
              "    </tr>\n",
              "    <tr>\n",
              "      <th>...</th>\n",
              "      <td>...</td>\n",
              "    </tr>\n",
              "    <tr>\n",
              "      <th>63</th>\n",
              "      <td>Male</td>\n",
              "    </tr>\n",
              "    <tr>\n",
              "      <th>64</th>\n",
              "      <td>Male</td>\n",
              "    </tr>\n",
              "    <tr>\n",
              "      <th>65</th>\n",
              "      <td>Female</td>\n",
              "    </tr>\n",
              "    <tr>\n",
              "      <th>66</th>\n",
              "      <td>Female</td>\n",
              "    </tr>\n",
              "    <tr>\n",
              "      <th>67</th>\n",
              "      <td>Male</td>\n",
              "    </tr>\n",
              "  </tbody>\n",
              "</table>\n",
              "<p>68 rows × 1 columns</p>\n",
              "</div>"
            ],
            "text/plain": [
              "    Gender\n",
              "0     Male\n",
              "1   Female\n",
              "2     Male\n",
              "3     Male\n",
              "4     Male\n",
              "..     ...\n",
              "63    Male\n",
              "64    Male\n",
              "65  Female\n",
              "66  Female\n",
              "67    Male\n",
              "\n",
              "[68 rows x 1 columns]"
            ]
          },
          "execution_count": 501,
          "metadata": {},
          "output_type": "execute_result"
        }
      ],
      "source": [
        "#11\n",
        "summer_medals['Gender'] = summer_medals.loc[:, 'Gender'].str.title()\n",
        "summer_medals.loc[:, ['Gender']]\n"
      ]
    },
    {
      "cell_type": "code",
      "execution_count": 502,
      "metadata": {},
      "outputs": [],
      "source": [
        "#12 ???!\n",
        "summer_medals['Country'].astype('category')\n",
        "InAmerica = summer_medals.loc[summer_medals['Country'].isin(['USA', 'Peru', 'Brazil', 'Colombia', 'Bolivia'])]\n",
        "NotInAmerica = pd.concat([summer_medals, InAmerica]).drop_duplicates(keep=False)\n",
        "# NotInAmerica = summer_medals.loc[~summer_medals['Country'].isin(['USA', 'Peru', 'Brazil', 'Colombia', 'Bolivia'])]"
      ]
    },
    {
      "cell_type": "code",
      "execution_count": 503,
      "metadata": {},
      "outputs": [],
      "source": [
        "#13\n",
        "summer_medals[summer_medals.duplicated()]\n",
        "summer_medals.drop_duplicates(inplace=True)"
      ]
    },
    {
      "cell_type": "code",
      "execution_count": 504,
      "metadata": {},
      "outputs": [],
      "source": [
        "#14\n",
        "assert summer_medals['Age_int'].dtype=='int'\n",
        "assert set(summer_medals['Gender']) == {'Female', 'Male'}\n",
        "# ???!\n",
        "assert summer_medals[summer_medals.duplicated()].shape[0] == 0"
      ]
    },
    {
      "cell_type": "code",
      "execution_count": 505,
      "metadata": {},
      "outputs": [
        {
          "data": {
            "text/html": [
              "<div>\n",
              "<style scoped>\n",
              "    .dataframe tbody tr th:only-of-type {\n",
              "        vertical-align: middle;\n",
              "    }\n",
              "\n",
              "    .dataframe tbody tr th {\n",
              "        vertical-align: top;\n",
              "    }\n",
              "\n",
              "    .dataframe thead th {\n",
              "        text-align: right;\n",
              "    }\n",
              "</style>\n",
              "<table border=\"1\" class=\"dataframe\">\n",
              "  <thead>\n",
              "    <tr style=\"text-align: right;\">\n",
              "      <th></th>\n",
              "      <th>ID</th>\n",
              "      <th>Unnamed: 0</th>\n",
              "      <th>Name S</th>\n",
              "      <th>Gender</th>\n",
              "      <th>Age</th>\n",
              "      <th>Height</th>\n",
              "      <th>Weight</th>\n",
              "      <th>Season</th>\n",
              "      <th>Country</th>\n",
              "      <th>Sport</th>\n",
              "      <th>Event</th>\n",
              "      <th>Medal</th>\n",
              "      <th>Age_int</th>\n",
              "    </tr>\n",
              "  </thead>\n",
              "  <tbody>\n",
              "    <tr>\n",
              "      <th>0</th>\n",
              "      <td>62</td>\n",
              "      <td>158</td>\n",
              "      <td>Giovanni Abagnale</td>\n",
              "      <td>Male</td>\n",
              "      <td>21Year</td>\n",
              "      <td>198</td>\n",
              "      <td>90</td>\n",
              "      <td>Summer</td>\n",
              "      <td>Peru</td>\n",
              "      <td>Rowing</td>\n",
              "      <td>Rowing Men's Coxless Pairs</td>\n",
              "      <td>Bronze</td>\n",
              "      <td>21</td>\n",
              "    </tr>\n",
              "    <tr>\n",
              "      <th>1</th>\n",
              "      <td>65</td>\n",
              "      <td>161</td>\n",
              "      <td>Patimat Abakarova</td>\n",
              "      <td>Female</td>\n",
              "      <td>21Year</td>\n",
              "      <td>165</td>\n",
              "      <td>49</td>\n",
              "      <td>Summer</td>\n",
              "      <td>Peru</td>\n",
              "      <td>Taekwondo</td>\n",
              "      <td>Taekwondo Women's Flyweight</td>\n",
              "      <td>Bronze</td>\n",
              "      <td>21</td>\n",
              "    </tr>\n",
              "    <tr>\n",
              "      <th>2</th>\n",
              "      <td>73</td>\n",
              "      <td>175</td>\n",
              "      <td>Luc Abalo</td>\n",
              "      <td>Male</td>\n",
              "      <td>31Year</td>\n",
              "      <td>182</td>\n",
              "      <td>86</td>\n",
              "      <td>Summer</td>\n",
              "      <td>USA</td>\n",
              "      <td>Handball</td>\n",
              "      <td>Handball Men's Handball</td>\n",
              "      <td>Silver</td>\n",
              "      <td>31</td>\n",
              "    </tr>\n",
              "    <tr>\n",
              "      <th>3</th>\n",
              "      <td>250</td>\n",
              "      <td>450</td>\n",
              "      <td>Saeid Morad Abdevali</td>\n",
              "      <td>Male</td>\n",
              "      <td>26Year</td>\n",
              "      <td>170</td>\n",
              "      <td>80</td>\n",
              "      <td>Summer</td>\n",
              "      <td>USA</td>\n",
              "      <td>Wrestling</td>\n",
              "      <td>Wrestling Men's Middleweight, Greco-Roman</td>\n",
              "      <td>Bronze</td>\n",
              "      <td>26</td>\n",
              "    </tr>\n",
              "    <tr>\n",
              "      <th>4</th>\n",
              "      <td>455</td>\n",
              "      <td>794</td>\n",
              "      <td>Denis Mikhaylovich Ablyazin</td>\n",
              "      <td>Male</td>\n",
              "      <td>24Year</td>\n",
              "      <td>161</td>\n",
              "      <td>62</td>\n",
              "      <td>Summer</td>\n",
              "      <td>USA</td>\n",
              "      <td>Gymnastics</td>\n",
              "      <td>Gymnastics Men's Team All-Around</td>\n",
              "      <td>Silver</td>\n",
              "      <td>24</td>\n",
              "    </tr>\n",
              "  </tbody>\n",
              "</table>\n",
              "</div>"
            ],
            "text/plain": [
              "    ID  Unnamed: 0                       Name S  Gender     Age  Height  \\\n",
              "0   62         158            Giovanni Abagnale    Male  21Year     198   \n",
              "1   65         161            Patimat Abakarova  Female  21Year     165   \n",
              "2   73         175                    Luc Abalo    Male  31Year     182   \n",
              "3  250         450         Saeid Morad Abdevali    Male  26Year     170   \n",
              "4  455         794  Denis Mikhaylovich Ablyazin    Male  24Year     161   \n",
              "\n",
              "   Weight  Season Country       Sport  \\\n",
              "0      90  Summer    Peru      Rowing   \n",
              "1      49  Summer    Peru   Taekwondo   \n",
              "2      86  Summer     USA    Handball   \n",
              "3      80  Summer     USA   Wrestling   \n",
              "4      62  Summer     USA  Gymnastics   \n",
              "\n",
              "                                       Event   Medal  Age_int  \n",
              "0                 Rowing Men's Coxless Pairs  Bronze       21  \n",
              "1                Taekwondo Women's Flyweight  Bronze       21  \n",
              "2                    Handball Men's Handball  Silver       31  \n",
              "3  Wrestling Men's Middleweight, Greco-Roman  Bronze       26  \n",
              "4           Gymnastics Men's Team All-Around  Silver       24  "
            ]
          },
          "execution_count": 505,
          "metadata": {},
          "output_type": "execute_result"
        }
      ],
      "source": [
        "#15\n",
        "summer_medals.head()"
      ]
    },
    {
      "cell_type": "code",
      "execution_count": 506,
      "metadata": {},
      "outputs": [
        {
          "data": {
            "text/plain": [
              "set"
            ]
          },
          "execution_count": 506,
          "metadata": {},
          "output_type": "execute_result"
        }
      ],
      "source": [
        "#16 & #17\n",
        "group = set(summer_medals['Sport'])\n",
        "type(group)"
      ]
    },
    {
      "cell_type": "code",
      "execution_count": 507,
      "metadata": {},
      "outputs": [
        {
          "data": {
            "text/plain": [
              "numpy.ndarray"
            ]
          },
          "execution_count": 507,
          "metadata": {},
          "output_type": "execute_result"
        }
      ],
      "source": [
        "# OR\n",
        "group = summer_medals['Sport'].unique()\n",
        "type(group)"
      ]
    },
    {
      "cell_type": "code",
      "execution_count": 508,
      "metadata": {},
      "outputs": [],
      "source": [
        "#18\n",
        "sports = list(group)"
      ]
    },
    {
      "cell_type": "code",
      "execution_count": 509,
      "metadata": {},
      "outputs": [
        {
          "data": {
            "image/png": "[encoded data removed]",
            "text/plain": [
              "<Figure size 432x288 with 1 Axes>"
            ]
          },
          "metadata": {
            "needs_background": "light"
          },
          "output_type": "display_data"
        }
      ],
      "source": [
        "#19\n",
        "fig, ax = plt.subplots()\n",
        "def sport_plot(c, name):\n",
        "    row = summer_medals.loc[summer_medals['Sport'] == name]\n",
        "    ax.barh(name, row.loc[:, 'Weight'].mean(), color=c, label=name)\n",
        "[sport_plot(colors[i],j) for i , j in enumerate(sports)]\n",
        "ax.legend(bbox_to_anchor = (1.35, 1),loc=1)\n",
        "ax.set_xlabel('Weight')\n",
        "plt.show\n",
        "fig.savefig('Amirata Yazdani.pdf', format = 'pdf', dpi = 400, bbox_inches = 'tight')"
      ]
    },
    {
      "cell_type": "markdown",
      "metadata": {},
      "source": [
        "#20   tupel with ***\"4\"*** elements"
      ]
    },
    {
      "cell_type": "code",
      "execution_count": 510,
      "metadata": {},
      "outputs": [
        {
          "name": "stdout",
          "output_type": "stream",
          "text": [
            "My name is Amirata Yazdani,\n",
            "My email address is aliapg7899@gmail.com\n",
            "I am B.Sc. in Biosystem Mechanical Engineering\n"
          ]
        }
      ],
      "source": [
        "info = ('Amirata', 'Yazdani', 'aliapg7899@gmail.com', 'Biosystem Mechanical Engineering')\n",
        "print(f'My name is {info[0]} {info[1]},\\nMy email address is {info[2]}\\nI am B.Sc. in {info[3]}')"
      ]
    }
  ],
  "metadata": {
    "colab": {
      "collapsed_sections": [],
      "name": "AmirataYazdani.ipynb",
      "provenance": []
    },
    "kernelspec": {
      "display_name": "Python 3.10.7 64-bit",
      "language": "python",
      "name": "python3"
    },
    "language_info": {
      "codemirror_mode": {
        "name": "ipython",
        "version": 3
      },
      "file_extension": ".py",
      "mimetype": "text/x-python",
      "name": "python",
      "nbconvert_exporter": "python",
      "pygments_lexer": "ipython3",
      "version": "3.10.7 (tags/v3.10.7:6cc6b13, Sep  5 2022, 14:08:36) [MSC v.1933 64 bit (AMD64)]"
    },
    "vscode": {
      "interpreter": {
        "hash": "ac442c305a5d29ae0363d38b1ac55bfc2231dbf015c58376829617cefb4722cd"
      }
    }
  },
  "nbformat": 4,
  "nbformat_minor": 0
}
